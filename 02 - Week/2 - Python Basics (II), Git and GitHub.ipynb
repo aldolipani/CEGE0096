{
 "cells": [
  {
   "cell_type": "markdown",
   "metadata": {},
   "source": [
    "# Practical: Python Basics (II), Git and GitHub"
   ]
  },
  {
   "cell_type": "markdown",
   "metadata": {},
   "source": [
    "## Control Flow in Python (II) "
   ]
  },
  {
   "cell_type": "markdown",
   "metadata": {},
   "source": [
    "### Iteration Loops\n",
    "\n",
    "**While Loops**\n",
    "\n",
    "A `while` loop is used to execute code while a particular condition is\n",
    "true. Once the condition is no longer true the loop will terminate. \n",
    "An example of a simple program is given the **Fibonacci** series:"
   ]
  },
  {
   "cell_type": "code",
   "execution_count": null,
   "metadata": {},
   "outputs": [],
   "source": [
    "a = 0\n",
    "b = 1\n",
    "while b < 10:\n",
    "    print(b)\n",
    "    c = b\n",
    "    b = a + b\n",
    "    a = c"
   ]
  },
  {
   "cell_type": "markdown",
   "metadata": {},
   "source": [
    "After typing a column (:) and and pressed `enter` the indentation will appear automatically. \n",
    "They are ***very important*** as the code will not work without them.\n",
    "\n",
    "On running the code the following should be output: `1 1 2 3 5 8`\n",
    "\n",
    "**What does this code do?**\n",
    "\n",
    "**Lines 1 and 2:** The values 0 and 1 are assigned to variables a and b\n",
    "respectively.\n",
    "\n",
    "**Line 3:** This is a **while** loop. The while loop will execute as long\n",
    "as the condition `b < 10` is true. The `:` is part of the syntax of\n",
    "while loops (and other types of loop). The symbol `<` is a comparison\n",
    "operator meaning _less than_. Other comparison operators include `>`,\n",
    "`>=`, `<=`, `==` and `!=` (which means not equal to).\n",
    "\n",
    "**Line 4:** This line (and the next line) is ***indented (space or\n",
    "tab)***, which indicates that it is the body of the while loop. In other\n",
    "programming languages, brackets are used to enclose the body of loops\n",
    "but these are ***not required*** in Python. The command `print(b)`\n",
    "outputs the current value of `b` to the interpreter.\n",
    "\n",
    "**Line 5:** The value of `b` is assigned to a holding variable named `c`,\n",
    "allowing `a` and `b` to be updated.\n",
    "\n",
    "**Lines 6 to 7:** The value of variable `b` is assigned to a and the value\n",
    "of `a+b` is assigned to `b`. The loop then returns to **Line 4** and continues\n",
    "until `b` is no longer less than `10`.\n",
    "\n",
    "**Note:**  The following code produces the same results:"
   ]
  },
  {
   "cell_type": "code",
   "execution_count": null,
   "metadata": {},
   "outputs": [],
   "source": [
    "a, b = 0, 1\n",
    "while b < 10:\n",
    "    print(b)\n",
    "    a, b = b, a + b"
   ]
  },
  {
   "cell_type": "markdown",
   "metadata": {},
   "source": [
    "Note the simultaneous assignment and updating of a and b, which makes\n",
    "the use of a holder variable like c in the first example unnecessary.\n",
    "\n",
    "**For Loops**\n",
    "\n",
    "The `for` loop or is a simple concept, but is actually one of the most\n",
    "powerful tools in programming.\n",
    "\n",
    "If you have a large number of values that you want to do something to, it allows you to iterate over\n",
    "them one by one. Here we revisit the Fibonacci series but using the for loop:"
   ]
  },
  {
   "cell_type": "code",
   "execution_count": null,
   "metadata": {},
   "outputs": [],
   "source": [
    "last_n = 6\n",
    "a, b = 0, 1\n",
    "for n in range(last_n):\n",
    "    print(b)\n",
    "    a, b = b, a + b"
   ]
  },
  {
   "cell_type": "markdown",
   "metadata": {},
   "source": [
    "The main difference between this version of the code and the previous one is that when using the `while` loop the\n",
    "terminating condition is set on the value reached by the b variable, while in the `for` loop the condition is on the\n",
    "number of generated Fibonacci values.\n",
    "\n",
    "We used the `range` function to create a sequence of numbers between 0 and 9. The syntax for the `range`\n",
    "function is `range(start_value, stop_value, increment)`. For instance:"
   ]
  },
  {
   "cell_type": "code",
   "execution_count": null,
   "metadata": {},
   "outputs": [],
   "source": [
    "for n in range(1,10,2):\n",
    "    print(n)"
   ]
  },
  {
   "cell_type": "markdown",
   "metadata": {},
   "source": [
    "By default, `start_value` = 0 and `increment` = 1 so they can be omitted, as in the previous case."
   ]
  },
  {
   "cell_type": "markdown",
   "metadata": {
    "slideshow": {
     "slide_type": "slide"
    }
   },
   "source": [
    "## Exercise 6\n",
    "\n",
    "Transform the code below (from Exercise 3) in a way that, instead of asking the user to input an integer once,\n",
    "it keeps asking the user to enter an integer value as long as the inputted value is a number between 1 and 7."
   ]
  },
  {
   "cell_type": "code",
   "execution_count": null,
   "metadata": {},
   "outputs": [],
   "source": [
    "n = int(input('Please enter an integer: '))\n",
    "if n == 1:\n",
    "    print('Monday')\n",
    "elif n == 2:\n",
    "    print('Tuesday')\n",
    "elif n == 3:\n",
    "    print('Wednesday')\n",
    "elif n == 4:\n",
    "    print('Thursday')\n",
    "elif n == 5:\n",
    "    print('Friday')\n",
    "elif n == 6:\n",
    "    print('Saturday')\n",
    "elif n == 7:\n",
    "    print('Sunday')\n",
    "else:\n",
    "    print('The provided integer does not correspond to a day!')"
   ]
  },
  {
   "cell_type": "markdown",
   "metadata": {},
   "source": [
    "Write your solution here:"
   ]
  },
  {
   "cell_type": "code",
   "execution_count": null,
   "metadata": {},
   "outputs": [],
   "source": []
  },
  {
   "cell_type": "markdown",
   "metadata": {},
   "source": [
    "# Exercise 7\n",
    "\n",
    "How would you change the solution to Exercise 6, if the terminating condition is set to be equal to the first number\n",
    "the user entered? For example, if the user first enters 2 the code will ask the user 2 times in total, or if the users\n",
    "first enters 9 the code will ask the user 9 times in total.\n",
    "\n",
    "Write your solution here:"
   ]
  },
  {
   "cell_type": "code",
   "execution_count": null,
   "metadata": {},
   "outputs": [],
   "source": []
  },
  {
   "cell_type": "markdown",
   "metadata": {},
   "source": [
    "# Exercise 8\n",
    "\n",
    "Compute mean and variance for a number of inputs given by the user. Also the values needed to compute the mean and\n",
    "variance are inputted by the user.\n",
    "\n",
    "TIP: Remember how we computed the mean and variance in Exercise 5.\n",
    "\n",
    "Write your solution here:"
   ]
  },
  {
   "cell_type": "code",
   "execution_count": null,
   "metadata": {},
   "outputs": [],
   "source": []
  },
  {
   "cell_type": "markdown",
   "metadata": {},
   "source": [
    "# Functions\n",
    "\n",
    "Control flow allows you to iterate based on certain conditions being met. \n",
    "More often than not, you will want to complete a specific task or a set of tasks\n",
    "multiple times on different data. For example, you may wish to count the\n",
    "number of points belonging to a set of lines, or calculate the area of\n",
    "a set of polygons.\n",
    "\n",
    "The examples you have worked through so far are designed to be run once.\n",
    "For instance, in the case of the if statement example:"
   ]
  },
  {
   "cell_type": "code",
   "execution_count": null,
   "metadata": {},
   "outputs": [],
   "source": [
    "x = int(input('Please enter an integer: '))\n",
    "if x < 0:\n",
    "    x = 0\n",
    "    print('Negative changed to zero')\n",
    "elif x == 0:\n",
    "    print('Zero')\n",
    "elif x == 1:\n",
    "    print('Single')\n",
    "else:\n",
    "    print('More')"
   ]
  },
  {
   "cell_type": "markdown",
   "metadata": {},
   "source": [
    "Each time you want to check the value of an integer against the\n",
    "conditions you must run the entire code, which is a very inefficient way\n",
    "of doing things. Fortunately, we can automate this process using\n",
    "**functions**. The if statement can be easily converted into a function as\n",
    "follows:"
   ]
  },
  {
   "cell_type": "code",
   "execution_count": null,
   "metadata": {},
   "outputs": [],
   "source": [
    "def check_int(x):\n",
    "    if x < 0:\n",
    "        x = 0\n",
    "        print('Negative changed to zero')\n",
    "    elif x == 0:\n",
    "        print('Zero')\n",
    "    elif x == 1:\n",
    "        print('Single')\n",
    "    else:\n",
    "        print('More')\n",
    "    return x"
   ]
  },
  {
   "cell_type": "markdown",
   "metadata": {},
   "source": [
    "Here, we have added the line `def check_int():` which\n",
    "defines a function called `check_int`. `check_int` is a name\n",
    "that we have chosen, and could be any valid name. The brackets `()` are\n",
    "where **arguments** (values of **parameters**) are passed into the function. In\n",
    "this case we have one parameter. The remaining code is indented one level further to indicate that it is\n",
    "contained in the body of the function. The keyword `return` is used to\n",
    "return a value to the user. Remember, we follow the rule 1 function 1 `return`.\n",
    "The output of a function can be assigned to a variable for later use. Once defined, a function can be **called** as\n",
    "follows:"
   ]
  },
  {
   "cell_type": "code",
   "execution_count": null,
   "metadata": {},
   "outputs": [],
   "source": [
    "x = int(input('Please enter an integer: '))\n",
    "check_int(x)"
   ]
  },
  {
   "cell_type": "markdown",
   "metadata": {},
   "source": [
    "In this example, the output of `check_int(x)` is not assigned to\n",
    "anything so the returned value is printed in the console. However, you could\n",
    "assign it to another variable. The advantage of containing the code\n",
    "within a function is that we only need to write it explicitly once\n",
    "(**function definition**), after which it is dealt with internally via\n",
    "the **function call**. This makes it simple to repeat the procedures\n",
    "contained within the function multiple times.\n",
    "\n",
    "Let’s look at an example with some input parameters. Suppose we want to\n",
    "calculate the midpoint of a straight line. Given the two endpoints\n",
    "$p_1$ and $p_2$ and encoding the x and y coordinates of each as $x_1$,\n",
    "$y_1$, $x_2$, $y_2$, the coordinates of the midpoint $p_3$ are calculated as:\n",
    "\n",
    "$$p_3 = \\left(\\frac{x_1 + x_2}{2},\\frac{y_1 + y_2}{2}\\right)$$\n",
    "\n",
    "We can create a function to do this as follows:"
   ]
  },
  {
   "cell_type": "code",
   "execution_count": null,
   "metadata": {},
   "outputs": [],
   "source": [
    "def midpoint(x_1, y_1, x_2, y_2):\n",
    "    return (x_1+x_2)/2, (y_1+y_2)/2"
   ]
  },
  {
   "cell_type": "markdown",
   "metadata": {},
   "source": [
    "We can call the function as follows:"
   ]
  },
  {
   "cell_type": "code",
   "execution_count": null,
   "metadata": {},
   "outputs": [],
   "source": [
    "midpoint(0, 0, 5, 5)"
   ]
  },
  {
   "cell_type": "markdown",
   "metadata": {},
   "source": [
    "### Speeding things up\n",
    "\n",
    "Up to this point we have input arguments to functions manually each time\n",
    "we have called them. Often, we will want to apply a function to a\n",
    "collection of inputs. For example, we may want to calculate the\n",
    "midpoint of a series of points. This can be done easily by\n",
    "combining functions with control flow:"
   ]
  },
  {
   "cell_type": "code",
   "execution_count": null,
   "metadata": {},
   "outputs": [],
   "source": [
    "for x_1 in range(5):\n",
    "    print(midpoint(x_1, 4, 4, 4))"
   ]
  },
  {
   "cell_type": "markdown",
   "metadata": {},
   "source": [
    "# Exercise 9\n",
    "\n",
    "Write the solution to Exercise 8 as a function that returns mean and variance.\n",
    "\n",
    "Write your solution here:"
   ]
  },
  {
   "cell_type": "code",
   "execution_count": null,
   "metadata": {},
   "outputs": [],
   "source": []
  },
  {
   "cell_type": "markdown",
   "metadata": {},
   "source": [
    "# Program Planning\n",
    "\n",
    "During the lecture you learnt that to program a Python script as a standalone application (without Jupyter), \n",
    "you need to structure your code in a certain way. In particular, this code should include\n",
    "an `if __name__ == '__main__':` statement and a `main` function.\n",
    "\n",
    "For the following exercises you should not use the Jupyter notebook."
   ]
  },
  {
   "cell_type": "markdown",
   "metadata": {},
   "source": [
    "# Exercise 10\n",
    "\n",
    "Create a folder named `Exercise_10` in your computer and create a file named `main.py` using your favorite text editor\n",
    "(something like notepad). Use this file to do the basic program planning explained above and write in the main function\n",
    "the solution of Exercise 2.\n",
    "\n",
    "Here is my version, but feel free to use your version of the solution:"
   ]
  },
  {
   "cell_type": "code",
   "execution_count": null,
   "metadata": {},
   "outputs": [],
   "source": [
    "full_name = input('Please input your full name: ')\n",
    "print(len(full_name))"
   ]
  },
  {
   "cell_type": "markdown",
   "metadata": {},
   "source": [
    "To run this program follow these instructions:\n",
    "\n",
    "1. Open the Anaconda Prompt;\n",
    "2. Change from the base to the geospatial environment by running the command `activate geospatial`;\n",
    "2. Navigate to the folder `Exercise_10` (using the command cd);\n",
    "3. Once you are in the correct folder, run `python main.py`\n",
    "\n",
    "Congratulations, you have now written and run your first standalone program!"
   ]
  },
  {
   "cell_type": "markdown",
   "metadata": {},
   "source": [
    "# Version Control Software: Git\n",
    "\n",
    "Now that we have created our first program we want to make sure that our development will continue smoothly: we want to\n",
    "keep track of the changes done to the project, we want to share this project with our collaborators and make regular\n",
    "backups. To do this we use the Version Control Software, Git.\n",
    "\n",
    "But before using it we need to install it. To do this you need to run the command `conda install git` in your anaconda\n",
    "prompt (make sure to be in the `geospatial` environment). To check if we have correctly installed Git run\n",
    "`git --version`.\n",
    "\n",
    "Once we have installed it, we can now create a repository for the `Exercise_10` project by typing (from inside the\n",
    "folder):\n",
    "\n",
    "`$ git init`\n",
    "\n",
    "After the repository has been initialized you can check its status by typing:\n",
    "\n",
    "`$ git status`\n",
    "\n",
    "Before making our first commit. We want to add a remote to this repository. To do this we create a private repository in\n",
    "GitHub named `CEGE0096: 2nd Practical`. Then, add this remote repository to your local one using the command:\n",
    "\n",
    "`$ git remote add origin <url>`\n",
    "\n",
    "You can check if this remote has been added correctly by typing:\n",
    "\n",
    "`$ git remote -v`"
   ]
  },
  {
   "cell_type": "markdown",
   "metadata": {},
   "source": [
    "# Exercise 11\n",
    "\n",
    "Throughout the following exercise, please always check what is happening to your local repository\n",
    "(using `git status` and `git log`) and to your GitHub repository.\n",
    "\n",
    "Using the git repository created above, you should now:\n",
    "\n",
    "1. Track/Stage your `main.py` file (using `git add`);\n",
    "2. Commit your changes to your local repository writing an appropriate commit message (using `git commit -m \"message\"`);\n",
    "3. Push these changes to your remote repository by typing `git push origin master`."
   ]
  },
  {
   "cell_type": "markdown",
   "metadata": {},
   "source": [
    "# Exercise 12\n",
    "\n",
    "In the project used for Exercise 11, change your `main.py` in a way that now the code executes the program you have\n",
    "developed for `Exercise 6`. Then, commit and push your changes with an appropriate message."
   ]
  },
  {
   "cell_type": "markdown",
   "metadata": {},
   "source": [
    "# Exercise 13\n",
    "\n",
    "In the project used for Exercise 11, change your `main.py` in a way that your program now returns the n-th number of\n",
    "the Fibonacci series, where n is provided as a user input."
   ]
  }
 ],
 "metadata": {
  "kernelspec": {
   "display_name": "Python 3",
   "language": "python",
   "name": "python3"
  },
  "language_info": {
   "codemirror_mode": {
    "name": "ipython",
    "version": 3
   },
   "file_extension": ".py",
   "mimetype": "text/x-python",
   "name": "python",
   "nbconvert_exporter": "python",
   "pygments_lexer": "ipython3",
   "version": "3.7.3"
  }
 },
 "nbformat": 4,
 "nbformat_minor": 2
}