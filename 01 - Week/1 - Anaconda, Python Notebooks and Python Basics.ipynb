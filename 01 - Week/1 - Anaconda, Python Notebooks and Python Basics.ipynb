{
 "cells": [
  {
   "cell_type": "markdown",
   "metadata": {
    "collapsed": true
   },
   "source": [
    "# Practical: Python Notebooks and Python Basics"
   ]
  },
  {
   "cell_type": "markdown",
   "metadata": {},
   "source": [
    "In this tutorial, you will begin to learn the basics of programming\n",
    "using Python 3.8. Most of the content of this tutorial can be found at <http://docs.python.org/>. Some of\n",
    "the content has been changed/removed for brevity.\n",
    "\n",
    "There are **three short unassessed exercises** to complete during this practical.\n",
    "The exercises are straightforward, and are intended to familiarise you with the Python syntax.\n",
    "They also get you thinking about how you will solve problems using programming."
   ]
  },
  {
   "cell_type": "markdown",
   "metadata": {},
   "source": [
    "## Jupyter Notebooks"
   ]
  },
  {
   "cell_type": "markdown",
   "metadata": {},
   "source": [
    "You are currently running this Jupyter notebook on Google Colab. If you have followed the Anaconda handout\n",
    "and you wish to run this notebook in your machine you will need to download this document as a notebook file to your\n",
    "computer. You can download it from the menu file of this notebook. From your machine, start the **Anaconda-Navigator**\n",
    "application. Click the button labelled **Launch** under the **Jupyter Notebook** icon on the **Home** tab.\n",
    "Anaconda-Navigator will open your default browser and will display a web portal to Jupyter Notebook. You will be\n",
    "presented with your home directory. Navigate to the .ipynb file that you downloaded and click the file to run. This\n",
    "notebook will open in a new tab."
   ]
  },
  {
   "cell_type": "markdown",
   "metadata": {},
   "source": [
    "You are now ready to start coding. Jupyter notebooks consist of two types of cell:\n",
    "- **Markdown Cells** - contain formatted text and images to visually enhance your Python program. If you need to edit\n",
    "these cells (for example to make your own notes) double click on a cell. The formatting should change and the text will\n",
    "appear in markdown. Markdown is a system of formatting that uses character combinations to format text.\n",
    "Click [here](https://guides.github.com/features/mastering-markdown/) for a guide to writing markdown (ignoring the\n",
    "section on Github Flavored Markdown). To stop editing type **[shift]+[enter]**.\n",
    "\n",
    "- **Code Cells** - contain Python code. You can type directly into the cell to edit your code. To run the code in the\n",
    "cell type **[shift]+[enter]**. You will notice that the empty brackets in the left hand margin will be filled with a\n",
    "number. This number indicates the order in which the cells have been executed.  Try it in the first cell in the next\n",
    "section. If the cell returns output, this will be printed below the cell adjacent to Out[1]:\n",
    "    - To reset the program click `Kernel` on the Jupyter menu bar and click `Restart & Clear Output`.\n",
    "    - To run the program from the beginning click `Kernel` on the Jupyter menu bar and click `Restart & Run All`.\n",
    "    - To save the notebook click `File` on the Jupyter menu bar and click `Save and Checkpoint`.\n",
    "\n",
    "Take your time to familiarise with the Jupyter environment."
   ]
  },
  {
   "cell_type": "markdown",
   "metadata": {},
   "source": [
    "## Using Python as a Calculator"
   ]
  },
  {
   "cell_type": "markdown",
   "metadata": {},
   "source": [
    "One of the simplest things you can do with Python are numerical calculations.\n",
    "Type the following code `23 + 50` into the next code cell and press **[shift]+[enter]** to execute it."
   ]
  },
  {
   "cell_type": "code",
   "execution_count": null,
   "metadata": {},
   "outputs": [],
   "source": []
  },
  {
   "cell_type": "code",
   "execution_count": null,
   "metadata": {},
   "outputs": [],
   "source": [
    "32 * 23"
   ]
  },
  {
   "cell_type": "markdown",
   "metadata": {},
   "source": [
    "You can see that Python correctly interpreted the operations and outputted their resulting values. Incidentally,\n",
    "to use the previous output use the underscore character. To refer to another output, use the underscore followed by\n",
    "the number of the output."
   ]
  },
  {
   "cell_type": "code",
   "execution_count": null,
   "metadata": {},
   "outputs": [],
   "source": [
    "print(_)\n",
    "print(_1)"
   ]
  },
  {
   "cell_type": "markdown",
   "metadata": {},
   "source": [
    "The standard mathematical operators (`+`,`-`,`*`,`/`) can be used, as can brackets\n",
    "(parentheses). Python distinguishes between integer (e.g., 2) and floating\n",
    "point (e.g., 2.0) numbers."
   ]
  },
  {
   "cell_type": "code",
   "execution_count": null,
   "metadata": {},
   "outputs": [],
   "source": [
    "((2 * 3) + 10) / 5"
   ]
  },
  {
   "cell_type": "markdown",
   "metadata": {},
   "source": [
    "When performing an integer division Python will always return a floating point. To return an integer when performing\n",
    "integer division, use the `//` operator."
   ]
  },
  {
   "cell_type": "code",
   "execution_count": null,
   "metadata": {},
   "outputs": [],
   "source": [
    "5/2"
   ]
  },
  {
   "cell_type": "code",
   "execution_count": null,
   "metadata": {},
   "outputs": [],
   "source": [
    "5//2"
   ]
  },
  {
   "cell_type": "markdown",
   "metadata": {
    "pycharm": {
     "name": "#%% md\n"
    }
   },
   "source": [
    "Do you see the difference?"
   ]
  },
  {
   "cell_type": "code",
   "execution_count": null,
   "metadata": {
    "pycharm": {
     "name": "#%%\n"
    }
   },
   "outputs": [],
   "source": [
    "((2 * 3) + 10) // 5"
   ]
  },
  {
   "cell_type": "markdown",
   "metadata": {},
   "source": [
    "## Variables\n",
    "\n",
    "Often, we want to store values in ***variables***."
   ]
  },
  {
   "cell_type": "code",
   "execution_count": null,
   "metadata": {},
   "outputs": [],
   "source": [
    "x = 1\n",
    "x"
   ]
  },
  {
   "cell_type": "markdown",
   "metadata": {},
   "source": [
    "When you typed `x = 1` and pressed **[shift]+[enter]**, you simultaneously created a new\n",
    "**variable** called `x` and **assigned** the value 1 to it. Then, when\n",
    "you typed `x` again, the value of `x` was outputted by the interpreter. The\n",
    "value `1` is now stored in the variable `x` and will remain this way\n",
    "until it is changed. For instance:"
   ]
  },
  {
   "cell_type": "code",
   "execution_count": null,
   "metadata": {},
   "outputs": [],
   "source": [
    "print(x)\n",
    "x = 2\n",
    "x"
   ]
  },
  {
   "cell_type": "markdown",
   "metadata": {},
   "source": [
    "We can assign different variables simultaneously:"
   ]
  },
  {
   "cell_type": "code",
   "execution_count": null,
   "metadata": {},
   "outputs": [],
   "source": [
    "x = y = z = 3\n",
    "print(x)\n",
    "print(y)\n",
    "print(z)"
   ]
  },
  {
   "cell_type": "markdown",
   "metadata": {},
   "source": [
    "We can also use variables to create new variables:"
   ]
  },
  {
   "cell_type": "code",
   "execution_count": null,
   "metadata": {},
   "outputs": [],
   "source": [
    "width = 100\n",
    "height = 200\n",
    "area = width * height\n",
    "area"
   ]
  },
  {
   "cell_type": "markdown",
   "metadata": {},
   "source": [
    "## Strings\n",
    "\n",
    "String is the name for the text data type. A string in Python can be\n",
    "enclosed in either single or double quotation marks. Whichever type was\n",
    "not used to enclose the string can be used within the string. The\n",
    "**backslash** is used when ambiguous characters need to be used within\n",
    "a string. This is referred to as the **escaping** character e.g., an \"escaped apostrophe\", for instance:"
   ]
  },
  {
   "cell_type": "code",
   "execution_count": null,
   "metadata": {},
   "outputs": [],
   "source": [
    "print('Don\\'t mix up apostrophes and single quotes')\n",
    "print(\"In the last line I said \\\"Don't\\\"\")"
   ]
  },
  {
   "cell_type": "markdown",
   "metadata": {},
   "source": [
    "As with numbers, strings can be assigned to variables. Strings can be\n",
    "made to span several lines in a number of ways. The first is to use\n",
    "`\\n`, for instance:"
   ]
  },
  {
   "cell_type": "code",
   "execution_count": null,
   "metadata": {},
   "outputs": [],
   "source": [
    "print('First line\\nSecond line\\nThird line')"
   ]
  },
  {
   "cell_type": "markdown",
   "metadata": {},
   "source": [
    "Here, we have used the command print to interpret the line breaks and\n",
    "the spaces at the start of lines and output the text in a more readable\n",
    "format. We can also use three quotation marks (`“””`), which allows us to\n",
    "type freely, for example:"
   ]
  },
  {
   "cell_type": "code",
   "execution_count": null,
   "metadata": {},
   "outputs": [],
   "source": [
    "print (\"\"\"First line\n",
    "Second line\n",
    "Third line\"\"\")"
   ]
  },
  {
   "cell_type": "markdown",
   "metadata": {},
   "source": [
    "Note that the line breaks are not needed in this example. If you include\n",
    "the letter `r` before a string it becomes a **raw** string, in which characters are not escaped but are included as data."
   ]
  },
  {
   "cell_type": "code",
   "execution_count": null,
   "metadata": {},
   "outputs": [],
   "source": [
    "print(r'First line\\n Second line\\n third line')"
   ]
  },
  {
   "cell_type": "markdown",
   "metadata": {},
   "source": [
    "Strings can also be concatenated using the `+` operator or repeated\n",
    "using the `*` operator:"
   ]
  },
  {
   "cell_type": "code",
   "execution_count": null,
   "metadata": {},
   "outputs": [],
   "source": [
    "word_1 = 'Spam'\n",
    "word_2 = ', Spam'\n",
    "word_3 = ' and Spam'\n",
    "print(word_1 + word_2)\n",
    "print(word_1 + word_2 * 10 + word_3)"
   ]
  },
  {
   "cell_type": "markdown",
   "metadata": {},
   "source": [
    "**Warning**: Python was named after a group of comedians from the 1970's called Monty Python.\n",
    "The official documentation often uses comedic references to Monty Python shows. You may want to watch this\n",
    "[video](https://www.youtube.com/watch?v=zLih-WQwBSc) to find out why.\n",
    "\n",
    "Have a play around with this until it becomes familiar. You can access individual\n",
    "string elements (letters) using subscripts.\n",
    "In Python, the index of the first element is zero (this is not the case in all languages, for example *R*).\n",
    "Spaces and other characters are counted in the index. For instance:"
   ]
  },
  {
   "cell_type": "code",
   "execution_count": null,
   "metadata": {},
   "outputs": [],
   "source": [
    "print (word_1[0])\n",
    "print (word_1[1])\n",
    "print (word_1[2:3])\n",
    "print (word_1[0] + word_2[4])"
   ]
  },
  {
   "cell_type": "markdown",
   "metadata": {},
   "source": [
    "The syntax `[a:b]` accesses everything from element `a` to the position\n",
    "before element `b`, where `a` and `b` are integers. In the case above it\n",
    "returns the same as `word_2[2]` would. You can omit the index before or\n",
    "after the `:` to print everything up to or after a certain index. For\n",
    "instance:"
   ]
  },
  {
   "cell_type": "code",
   "execution_count": null,
   "metadata": {},
   "outputs": [],
   "source": [
    "print(word_2[:3])\n",
    "print(word_2[3:])"
   ]
  },
  {
   "cell_type": "markdown",
   "metadata": {},
   "source": [
    "Indices that are out of the range of the string return an ***empty\n",
    "string***. It is ***not possible*** to change part of a string by\n",
    "assigning a value to one of its indices. ***Negative indices***, i.e.\n",
    "`word_2[-1]` can be used to count back from the last character of the\n",
    "string. To get the length of a string, the `len` command can be used.\n",
    "For instance, `len(word_1)`.Try these yourself."
   ]
  },
  {
   "cell_type": "code",
   "execution_count": null,
   "metadata": {
    "pycharm": {
     "name": "#%%\n"
    }
   },
   "outputs": [],
   "source": []
  },
  {
   "cell_type": "markdown",
   "metadata": {},
   "source": [
    "## Exercise 1"
   ]
  },
  {
   "cell_type": "markdown",
   "metadata": {},
   "source": [
    "Find the error in this code:"
   ]
  },
  {
   "cell_type": "code",
   "execution_count": null,
   "metadata": {},
   "outputs": [],
   "source": [
    "primt('Spam') # first run the code to discover what error Python returns"
   ]
  },
  {
   "cell_type": "markdown",
   "metadata": {},
   "source": [
    "## Exercise 2"
   ]
  },
  {
   "cell_type": "markdown",
   "metadata": {},
   "source": [
    "Ask the user to input his full name and then print out its length (whitespaces included).\n",
    "\n",
    "TIP: You can use the `input` function and the just learnt `len` function."
   ]
  },
  {
   "cell_type": "code",
   "execution_count": null,
   "metadata": {},
   "outputs": [],
   "source": []
  },
  {
   "cell_type": "markdown",
   "metadata": {},
   "source": [
    "## Control flow in Python"
   ]
  },
  {
   "cell_type": "markdown",
   "metadata": {},
   "source": [
    "Now that you know the basics of how the Python interpreter works and how\n",
    "to deal with certain data types, it’s time to start working with some\n",
    "simple control flow."
   ]
  },
  {
   "cell_type": "markdown",
   "metadata": {},
   "source": [
    "### Conditional statements"
   ]
  },
  {
   "cell_type": "markdown",
   "metadata": {},
   "source": [
    "Conditional (if) statements are one of the most commonly used control flow methods\n",
    "in programming. The basic idea is to execute a command if a certain\n",
    "condition is true. These can be combined with `elif` (which stands for\n",
    "_else if_ ) and `else` to create a sequence of conditions and commands.\n",
    "For example:"
   ]
  },
  {
   "cell_type": "code",
   "execution_count": null,
   "metadata": {},
   "outputs": [],
   "source": [
    "x = int(input('Please enter an integer: '))\n",
    "if x < 0:\n",
    "    x = 0\n",
    "    print('Negative changed to zero')\n",
    "elif x == 0:\n",
    "    print('Zero')\n",
    "elif x == 1:\n",
    "    print('Single')\n",
    "else:\n",
    "    print('More')"
   ]
  },
  {
   "cell_type": "markdown",
   "metadata": {},
   "source": [
    "In this code, line 1 asks the user to input an integer using the\n",
    "keyboard. The function `int` converts a number or string to an integer.\n",
    "The function `input` asks for keyboard input from the\n",
    "user. When you run this code, the text “Please enter an integer:” will\n",
    "display, and the interpreter will wait for your input. When you enter an\n",
    "integer and press enter, one of the messages; “Negative changed to\n",
    "zero”, “Zero”, “Single” or “More” will be printed depending on the\n",
    "integer you input. If you input something that is not an integer, an\n",
    "error will occur. Try this a few times until you are sure what the code\n",
    "is doing."
   ]
  },
  {
   "cell_type": "markdown",
   "metadata": {},
   "source": [
    "## Exercise 3"
   ]
  },
  {
   "cell_type": "markdown",
   "metadata": {},
   "source": [
    "Find the error on this code:"
   ]
  },
  {
   "cell_type": "code",
   "execution_count": null,
   "metadata": {},
   "outputs": [],
   "source": [
    "n = int(input('Please enter an integer: '))\n",
    "if n == 1:\n",
    "    print('Monday')\n",
    "elif n == 2:\n",
    "    print('Tuesday')\n",
    "elif n == 3:\n",
    "print('Wednesday')\n",
    "elif n == 4:\n",
    "    print('Thursday')\n",
    "elif n == 5: \n",
    "    print('Friday')\n",
    "elif n == 6:\n",
    "    print('Saturday')\n",
    "else:\n",
    "    print('Sunday')"
   ]
  },
  {
   "cell_type": "markdown",
   "metadata": {},
   "source": [
    "Did you also spot the a logical error (a bug)? Can you fix it?"
   ]
  },
  {
   "cell_type": "markdown",
   "metadata": {},
   "source": [
    "## Exercise 4"
   ]
  },
  {
   "cell_type": "markdown",
   "metadata": {},
   "source": [
    "Ask the user to input 3 numbers and compute the mean and variance.\n",
    "\n",
    "TIP: The variance can be computed as\n",
    "$\\sigma = \\left[\\frac{1}{3}(a_1^2 + a_2^2 + a_3^2)\\right] - \\mu^2$,\n",
    "where $\\mu$ is the mean ($\\mu = \\frac{1}{3}(a_1 + a_2 + a_3)$).\n"
   ]
  },
  {
   "cell_type": "code",
   "execution_count": null,
   "metadata": {},
   "outputs": [],
   "source": []
  },
  {
   "cell_type": "markdown",
   "metadata": {},
   "source": [
    "## Exercise 5"
   ]
  },
  {
   "cell_type": "markdown",
   "metadata": {},
   "source": [
    "Like Exercise 4, but first ask the user about how many numbers should the mean and variance be computed on, 3, 4 or 5?"
   ]
  },
  {
   "cell_type": "code",
   "execution_count": null,
   "metadata": {},
   "outputs": [],
   "source": []
  }
 ],
 "metadata": {
  "kernelspec": {
   "display_name": "Python 3",
   "language": "python",
   "name": "python3"
  },
  "language_info": {
   "codemirror_mode": {
    "name": "ipython",
    "version": 3
   },
   "file_extension": ".py",
   "mimetype": "text/x-python",
   "name": "python",
   "nbconvert_exporter": "python",
   "pygments_lexer": "ipython3",
   "version": "3.8.5"
  }
 },
 "nbformat": 4,
 "nbformat_minor": 2
}