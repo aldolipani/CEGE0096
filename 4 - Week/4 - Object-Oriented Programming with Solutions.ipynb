{
 "cells": [
  {
   "cell_type": "markdown",
   "metadata": {},
   "source": [
    "# Practical: Object-Oriented Programming\n",
    "\n",
    "## Class Definition"
   ]
  },
  {
   "cell_type": "markdown",
   "metadata": {},
   "source": [
    "A `class` is a template for making objects, containing attributes and methods. Following, you find an example of a class\n",
    "with an attribute and a method:"
   ]
  },
  {
   "cell_type": "code",
   "execution_count": 1,
   "metadata": {
    "pycharm": {
     "name": "#%%\n"
    }
   },
   "outputs": [],
   "source": [
    "class Counter:\n",
    "    \n",
    "    def __init__(self, n = 0):\n",
    "        self.n = n\n",
    "        \n",
    "    def inc(self):\n",
    "        self.n = self.n + 1"
   ]
  },
  {
   "cell_type": "markdown",
   "metadata": {},
   "source": [
    "`__init__` is a special method called constructor. This is called every time you create an object:"
   ]
  },
  {
   "cell_type": "code",
   "execution_count": 2,
   "metadata": {},
   "outputs": [],
   "source": [
    "c = Counter()"
   ]
  },
  {
   "cell_type": "markdown",
   "metadata": {},
   "source": [
    "Here, we have first created a new object by invoking `Counter()` and then assigned it to the variable `c`. You can\n",
    "check that this is an object of the type `Counter` by using the function `type`:"
   ]
  },
  {
   "cell_type": "code",
   "execution_count": 3,
   "metadata": {},
   "outputs": [
    {
     "data": {
      "text/plain": "__main__.Counter"
     },
     "execution_count": 3,
     "metadata": {},
     "output_type": "execute_result"
    }
   ],
   "source": [
    "type(c)"
   ]
  },
  {
   "cell_type": "markdown",
   "metadata": {},
   "source": [
    "To access its attribute `n` use the dot notation:"
   ]
  },
  {
   "cell_type": "code",
   "execution_count": 4,
   "metadata": {},
   "outputs": [
    {
     "data": {
      "text/plain": "0"
     },
     "execution_count": 4,
     "metadata": {},
     "output_type": "execute_result"
    }
   ],
   "source": [
    "c.n"
   ]
  },
  {
   "cell_type": "markdown",
   "metadata": {},
   "source": [
    "You can create as many objects of the class `Counter` as you want. For example, here we create 10 `Counter` objects\n",
    "and append them to a `counter` list:"
   ]
  },
  {
   "cell_type": "code",
   "execution_count": 5,
   "metadata": {},
   "outputs": [
    {
     "name": "stdout",
     "output_type": "stream",
     "text": [
      "My count is 0\n",
      "My count is 1\n",
      "My count is 2\n",
      "My count is 3\n",
      "My count is 4\n",
      "My count is 5\n",
      "My count is 6\n",
      "My count is 7\n",
      "My count is 8\n",
      "My count is 9\n"
     ]
    }
   ],
   "source": [
    "counters = []\n",
    "for i in range(10):\n",
    "    counters.append(Counter(i))\n",
    "    \n",
    "for counter in counters:\n",
    "    print('My count is', counter.n)"
   ]
  },
  {
   "cell_type": "markdown",
   "metadata": {},
   "source": [
    "The class `Counter` has a method `inc`, which increments by one the attribute `n`. You can call this method by using\n",
    "the dot notation:"
   ]
  },
  {
   "cell_type": "code",
   "execution_count": 6,
   "metadata": {},
   "outputs": [
    {
     "name": "stdout",
     "output_type": "stream",
     "text": [
      "1\n"
     ]
    }
   ],
   "source": [
    "c.inc()\n",
    "print(c.n)"
   ]
  },
  {
   "cell_type": "markdown",
   "metadata": {},
   "source": [
    "What happens if you execute the previous code cell multiple times?\n",
    "\n",
    "You can do the same to the counters stored in the `counters` list like this:"
   ]
  },
  {
   "cell_type": "code",
   "execution_count": 7,
   "metadata": {},
   "outputs": [
    {
     "name": "stdout",
     "output_type": "stream",
     "text": [
      "1\n",
      "2\n",
      "3\n",
      "4\n",
      "5\n",
      "6\n",
      "7\n",
      "8\n",
      "9\n",
      "10\n"
     ]
    }
   ],
   "source": [
    "for counter in counters:\n",
    "    counter.inc()\n",
    "    print(counter.n)"
   ]
  },
  {
   "cell_type": "markdown",
   "metadata": {},
   "source": [
    "What happens if you execute the previous code cell multiple times?"
   ]
  },
  {
   "cell_type": "markdown",
   "metadata": {
    "pycharm": {
     "name": "#%% md\n"
    }
   },
   "source": [
    "# Exercise 21\n",
    "\n",
    "Create an class `TrafficLight` that has 3 Boolean attributes `red`, `orange`, and `green`, each representing the\n",
    "state of one light (on or off). When the traffic light is first created all lights are off. The traffic light has a\n",
    "method called `next_state` that makes the following transitions:\n",
    "\n",
    "1. From green to orange;\n",
    "2. From orange to red;\n",
    "3. From red to orange;\n",
    "4. From orange to green;\n",
    "5. Repeat from point 1.\n",
    "\n",
    "Make sure that only one light at the time is on. If no lights are on, turn the green light first. Also, implement\n",
    "a method `get_state` to return the state of the 3 lights (whether they are on or off) as a string."
   ]
  },
  {
   "cell_type": "code",
   "execution_count": 8,
   "metadata": {
    "pycharm": {
     "name": "#%%\n"
    }
   },
   "outputs": [],
   "source": [
    "# complete the code\n",
    "\n",
    "\n",
    "class TrafficLight:\n",
    "\n",
    "    def __init__(self):\n",
    "        self.green = False\n",
    "        self.orange = False\n",
    "        self.red = False\n",
    "        self.is_upward = False\n",
    "\n",
    "    def next_state(self):\n",
    "        if self.green:\n",
    "            self.green = False\n",
    "            self.orange = True\n",
    "        elif self.orange:\n",
    "            self.orange = False\n",
    "            if not self.is_upward:\n",
    "                self.red = True\n",
    "                self.is_upward = True\n",
    "            else:\n",
    "                self.green = True\n",
    "                self.is_upward = False\n",
    "        elif self.red:\n",
    "            self.red = False\n",
    "            self.orange = True\n",
    "        else:\n",
    "            self.green = True\n",
    "\n",
    "    def get_state(self):\n",
    "        res = ''\n",
    "        if self.green:\n",
    "            res = res + '\\033[1m\\033[92mO\\033[0m'\n",
    "        else:\n",
    "            res = res + 'O'\n",
    "        if self.orange:\n",
    "            res = res + '\\033[1m\\033[93mO\\033[0m'\n",
    "        else:\n",
    "            res = res + 'O'\n",
    "        if self.red:\n",
    "            res = res + '\\033[1m\\033[91mO\\033[0m'\n",
    "        else:\n",
    "            res = res + 'O'\n",
    "        return res"
   ]
  },
  {
   "cell_type": "markdown",
   "metadata": {},
   "source": [
    "Use this code to check whether your traffic light works correctly:"
   ]
  },
  {
   "cell_type": "code",
   "execution_count": 9,
   "metadata": {},
   "outputs": [
    {
     "name": "stdout",
     "output_type": "stream",
     "text": [
      "The light state is OOO\n",
      "The light state is \u001B[1m\u001B[92mO\u001B[0mOO\n",
      "The light state is O\u001B[1m\u001B[93mO\u001B[0mO\n",
      "The light state is OO\u001B[1m\u001B[91mO\u001B[0m\n",
      "The light state is O\u001B[1m\u001B[93mO\u001B[0mO\n",
      "The light state is \u001B[1m\u001B[92mO\u001B[0mOO\n",
      "The light state is O\u001B[1m\u001B[93mO\u001B[0mO\n",
      "The light state is OO\u001B[1m\u001B[91mO\u001B[0m\n",
      "The light state is O\u001B[1m\u001B[93mO\u001B[0mO\n",
      "The light state is \u001B[1m\u001B[92mO\u001B[0mOO\n",
      "The light state is O\u001B[1m\u001B[93mO\u001B[0mO\n"
     ]
    }
   ],
   "source": [
    "traffic_light = TrafficLight()\n",
    "\n",
    "print(\"The light state is\", traffic_light.get_state())\n",
    "for _ in range(10):\n",
    "    traffic_light.next_state()\n",
    "    print(\"The light state is\", traffic_light.get_state())"
   ]
  },
  {
   "cell_type": "markdown",
   "metadata": {},
   "source": [
    "## Inheritance\n",
    "\n",
    "In OOP, inheritance is the ability to create a child class from a parent class inheriting its attributes and methods.\n",
    "This enables hierarchical data structures and avoids code repetition.\n",
    "\n",
    "For example we can extend the abilities of the `Counter` class above by extending it like this:"
   ]
  },
  {
   "cell_type": "code",
   "execution_count": 10,
   "metadata": {},
   "outputs": [],
   "source": [
    "class TwoWayCounter(Counter):\n",
    "    \n",
    "    def __init__(self, n = 0):\n",
    "        super().__init__(n)\n",
    "        \n",
    "    def dec(self):\n",
    "        self.n = self.n - 1"
   ]
  },
  {
   "cell_type": "markdown",
   "metadata": {},
   "source": [
    "When you instantiate an object of the class `TwoWayCounter`, you will find that you can also use the methods of the\n",
    "class `Counter`:"
   ]
  },
  {
   "cell_type": "code",
   "execution_count": 11,
   "metadata": {},
   "outputs": [
    {
     "name": "stdout",
     "output_type": "stream",
     "text": [
      "This is my new state after a dec 1\n",
      "This is my new state after an inc 0\n"
     ]
    }
   ],
   "source": [
    "tc = TwoWayCounter()\n",
    "tc.inc()\n",
    "print('This is my new state after a dec', tc.n)\n",
    "tc.dec()\n",
    "print('This is my new state after an inc', tc.n)"
   ]
  },
  {
   "cell_type": "markdown",
   "metadata": {},
   "source": [
    "# Exercise 22\n",
    "\n",
    "Create a `ResettableTrafficLight` class, which extends the `TrafficLight` class created above. This new traffic light\n",
    "implements a method `reset`, which resets the state of the traffic light to all lights off."
   ]
  },
  {
   "cell_type": "code",
   "execution_count": 12,
   "metadata": {},
   "outputs": [],
   "source": [
    "# complete the code\n",
    "\n",
    "class ResettableTrafficLight(TrafficLight):\n",
    "\n",
    "    def reset(self):\n",
    "        self.green = False\n",
    "        self.orange = False\n",
    "        self.red = False\n",
    "        self.is_upward = False"
   ]
  },
  {
   "cell_type": "markdown",
   "metadata": {},
   "source": [
    "Use this code to check whether your traffic light works correctly:"
   ]
  },
  {
   "cell_type": "code",
   "execution_count": 13,
   "metadata": {},
   "outputs": [
    {
     "name": "stdout",
     "output_type": "stream",
     "text": [
      "The light state is OOO\n",
      "The light state is \u001B[1m\u001B[92mO\u001B[0mOO\n",
      "The light state is O\u001B[1m\u001B[93mO\u001B[0mO\n",
      "The light state is OO\u001B[1m\u001B[91mO\u001B[0m\n",
      "The light state is O\u001B[1m\u001B[93mO\u001B[0mO\n",
      "The light state is \u001B[1m\u001B[92mO\u001B[0mOO\n",
      "The light state is O\u001B[1m\u001B[93mO\u001B[0mO\n",
      "The light state is OO\u001B[1m\u001B[91mO\u001B[0m\n",
      "The light state is O\u001B[1m\u001B[93mO\u001B[0mO\n",
      "The light state is \u001B[1m\u001B[92mO\u001B[0mOO\n",
      "The light state is O\u001B[1m\u001B[93mO\u001B[0mO\n",
      "The light is now reset\n",
      "The light state is \u001B[1m\u001B[92mO\u001B[0mOO\n",
      "The light state is O\u001B[1m\u001B[93mO\u001B[0mO\n",
      "The light state is OO\u001B[1m\u001B[91mO\u001B[0m\n",
      "The light state is O\u001B[1m\u001B[93mO\u001B[0mO\n",
      "The light state is \u001B[1m\u001B[92mO\u001B[0mOO\n",
      "The light state is O\u001B[1m\u001B[93mO\u001B[0mO\n",
      "The light state is OO\u001B[1m\u001B[91mO\u001B[0m\n",
      "The light state is O\u001B[1m\u001B[93mO\u001B[0mO\n",
      "The light state is \u001B[1m\u001B[92mO\u001B[0mOO\n",
      "The light state is O\u001B[1m\u001B[93mO\u001B[0mO\n"
     ]
    }
   ],
   "source": [
    "traffic_light = ResettableTrafficLight()\n",
    "\n",
    "print('The light state is', traffic_light.get_state())\n",
    "for _ in range(10):\n",
    "    traffic_light.next_state()\n",
    "    print('The light state is', traffic_light.get_state())\n",
    "\n",
    "traffic_light.reset()\n",
    "print('The light is now reset')\n",
    "for _ in range(10):\n",
    "    traffic_light.next_state()\n",
    "    print('The light state is', traffic_light.get_state())"
   ]
  },
  {
   "cell_type": "markdown",
   "metadata": {},
   "source": [
    "## Polymorphism\n",
    "\n",
    "In OOP, polymorphism is the ability to override methods of a parent class in a child class, changing how methods work\n",
    "depending on the context.\n",
    "\n",
    "For example, let's define a `SkippableCounter` that allows the user to specify by how many steps the counter\n",
    "should increment:"
   ]
  },
  {
   "cell_type": "code",
   "execution_count": 14,
   "metadata": {},
   "outputs": [],
   "source": [
    "class SkippableCounter(Counter):\n",
    "    \n",
    "    def __init__(self, n = 0):\n",
    "        super().__init__(n)\n",
    "    \n",
    "    def inc(self, step = 1):\n",
    "        self.n = self.n + step"
   ]
  },
  {
   "cell_type": "code",
   "execution_count": 15,
   "metadata": {
    "pycharm": {
     "name": "#%%\n"
    }
   },
   "outputs": [
    {
     "name": "stdout",
     "output_type": "stream",
     "text": [
      "This is my new state after a inc 1\n",
      "This is my new state after an inc(10) 11\n"
     ]
    }
   ],
   "source": [
    "sc = SkippableCounter()\n",
    "sc.inc()\n",
    "print('This is my new state after a inc', sc.n)\n",
    "sc.inc(10)\n",
    "print('This is my new state after an inc(10)', sc.n)"
   ]
  },
  {
   "cell_type": "markdown",
   "metadata": {
    "pycharm": {
     "name": "#%% md\n"
    }
   },
   "source": [
    "By redefining the method `inc` in the `SkippableCounter` class we have redefined the original logic of the\n",
    "class `Counter`."
   ]
  },
  {
   "cell_type": "markdown",
   "metadata": {
    "pycharm": {
     "name": "#%% md\n"
    }
   },
   "source": [
    "# Exercise 23\n",
    "\n",
    "Create a `PrintableTrafficLight` extending the `TrafficLight`, which, every time the method `next_state` is called,\n",
    "prints out its new state to screen.\n",
    "\n",
    "TIP: you can call the same method defined in the parent class using `super()`."
   ]
  },
  {
   "cell_type": "code",
   "execution_count": 16,
   "metadata": {
    "pycharm": {
     "name": "#%%\n"
    }
   },
   "outputs": [],
   "source": [
    "# complete the code\n",
    "\n",
    "class PrintableTrafficLight(TrafficLight):\n",
    "\n",
    "    def next_state(self):\n",
    "        super().next_state()\n",
    "        print(\"The light state is\", super().get_state())"
   ]
  },
  {
   "cell_type": "markdown",
   "metadata": {},
   "source": [
    "Use this code to check whether your traffic light works correctly:"
   ]
  },
  {
   "cell_type": "code",
   "execution_count": 17,
   "metadata": {},
   "outputs": [
    {
     "name": "stdout",
     "output_type": "stream",
     "text": [
      "The light state is OOO\n",
      "The light state is \u001B[1m\u001B[92mO\u001B[0mOO\n",
      "The light state is O\u001B[1m\u001B[93mO\u001B[0mO\n",
      "The light state is OO\u001B[1m\u001B[91mO\u001B[0m\n",
      "The light state is O\u001B[1m\u001B[93mO\u001B[0mO\n",
      "The light state is \u001B[1m\u001B[92mO\u001B[0mOO\n",
      "The light state is O\u001B[1m\u001B[93mO\u001B[0mO\n",
      "The light state is OO\u001B[1m\u001B[91mO\u001B[0m\n",
      "The light state is O\u001B[1m\u001B[93mO\u001B[0mO\n",
      "The light state is \u001B[1m\u001B[92mO\u001B[0mOO\n",
      "The light state is O\u001B[1m\u001B[93mO\u001B[0mO\n"
     ]
    }
   ],
   "source": [
    "traffic_light = PrintableTrafficLight()\n",
    "\n",
    "print('The light state is', traffic_light.get_state())\n",
    "for _ in range(10):\n",
    "    traffic_light.next_state()"
   ]
  },
  {
   "cell_type": "markdown",
   "metadata": {},
   "source": [
    "## Encapsulation\n",
    "\n",
    "Encapsulation allows to control what is accessible from (or exposed to) the code using the object.\n",
    "\n",
    "For example, we could consider unsafe to allow the program to change the state of the counter by doing something\n",
    "like this:"
   ]
  },
  {
   "cell_type": "code",
   "execution_count": 18,
   "metadata": {},
   "outputs": [],
   "source": [
    "counter = Counter()\n",
    "counter.n = 'hello'"
   ]
  },
  {
   "cell_type": "markdown",
   "metadata": {},
   "source": [
    "What do you think this next instruction will produce?"
   ]
  },
  {
   "cell_type": "code",
   "execution_count": 19,
   "metadata": {},
   "outputs": [
    {
     "ename": "TypeError",
     "evalue": "can only concatenate str (not \"int\") to str",
     "output_type": "error",
     "traceback": [
      "\u001B[0;31m---------------------------------------------------------------------------\u001B[0m",
      "\u001B[0;31mTypeError\u001B[0m                                 Traceback (most recent call last)",
      "\u001B[0;32m<ipython-input-19-0793e9917779>\u001B[0m in \u001B[0;36m<module>\u001B[0;34m\u001B[0m\n\u001B[0;32m----> 1\u001B[0;31m \u001B[0mcounter\u001B[0m\u001B[0;34m.\u001B[0m\u001B[0minc\u001B[0m\u001B[0;34m(\u001B[0m\u001B[0;34m)\u001B[0m\u001B[0;34m\u001B[0m\u001B[0;34m\u001B[0m\u001B[0m\n\u001B[0m\u001B[1;32m      2\u001B[0m \u001B[0;34m\u001B[0m\u001B[0m\n",
      "\u001B[0;32m<ipython-input-1-ce2da848dabb>\u001B[0m in \u001B[0;36minc\u001B[0;34m(self)\u001B[0m\n\u001B[1;32m      5\u001B[0m \u001B[0;34m\u001B[0m\u001B[0m\n\u001B[1;32m      6\u001B[0m     \u001B[0;32mdef\u001B[0m \u001B[0minc\u001B[0m\u001B[0;34m(\u001B[0m\u001B[0mself\u001B[0m\u001B[0;34m)\u001B[0m\u001B[0;34m:\u001B[0m\u001B[0;34m\u001B[0m\u001B[0;34m\u001B[0m\u001B[0m\n\u001B[0;32m----> 7\u001B[0;31m         \u001B[0mself\u001B[0m\u001B[0;34m.\u001B[0m\u001B[0mn\u001B[0m \u001B[0;34m=\u001B[0m \u001B[0mself\u001B[0m\u001B[0;34m.\u001B[0m\u001B[0mn\u001B[0m \u001B[0;34m+\u001B[0m \u001B[0;36m1\u001B[0m\u001B[0;34m\u001B[0m\u001B[0;34m\u001B[0m\u001B[0m\n\u001B[0m\u001B[1;32m      8\u001B[0m \u001B[0;34m\u001B[0m\u001B[0m\n",
      "\u001B[0;31mTypeError\u001B[0m: can only concatenate str (not \"int\") to str"
     ]
    }
   ],
   "source": [
    "counter.inc()"
   ]
  },
  {
   "cell_type": "markdown",
   "metadata": {},
   "source": [
    "To avoid this we can redefine the class `Counter` by making `n` private. This is done by using the double underscore __\n",
    "notation. Moreover, we should also make sure we can read the state of the counter by developing a getter method:"
   ]
  },
  {
   "cell_type": "code",
   "execution_count": 20,
   "metadata": {},
   "outputs": [],
   "source": [
    "class Counter:\n",
    "    \n",
    "    def __init__(self, n = 0):\n",
    "        self.__n = n\n",
    "        \n",
    "    def inc(self):\n",
    "        self.__n = self.__n + 1\n",
    "        \n",
    "    def get_n(self):\n",
    "        return self.__n"
   ]
  },
  {
   "cell_type": "markdown",
   "metadata": {},
   "source": [
    "Check now that an operation like this is no longer possible:"
   ]
  },
  {
   "cell_type": "code",
   "execution_count": 21,
   "metadata": {},
   "outputs": [
    {
     "name": "stdout",
     "output_type": "stream",
     "text": [
      "This is my state 0\n",
      "This is my state 1\n"
     ]
    }
   ],
   "source": [
    "counter = Counter()\n",
    "counter.__n = 'hello'\n",
    "print('This is my state', counter.get_n())\n",
    "counter.inc()\n",
    "print('This is my state', counter.get_n())"
   ]
  },
  {
   "cell_type": "markdown",
   "metadata": {},
   "source": [
    "What has happened in the code above?"
   ]
  },
  {
   "cell_type": "markdown",
   "metadata": {
    "pycharm": {
     "name": "#%% md\n"
    }
   },
   "source": [
    "# Exercise 24\n",
    "\n",
    "Redefine the `TrafficLight` class by making the state of its lights private. Then, check that the extended\n",
    "classes `ResettableTrafficLight` and `PrintableTrafficLight` still work correctly; have they been affected by this\n",
    "change? If yes, change them appropriately."
   ]
  },
  {
   "cell_type": "code",
   "execution_count": 22,
   "metadata": {
    "pycharm": {
     "name": "#%%\n"
    }
   },
   "outputs": [],
   "source": [
    "# complete the code\n",
    "\n",
    "class TrafficLight:\n",
    "\n",
    "    def __init__(self):\n",
    "        self.__green = False\n",
    "        self.__orange = False\n",
    "        self.__red = False\n",
    "        self.is_upward = False\n",
    "\n",
    "    def next_state(self):\n",
    "        if self.__green:\n",
    "            self.__green = False\n",
    "            self.__orange = True\n",
    "        elif self.__orange:\n",
    "            self.__orange = False\n",
    "            if not self.is_upward:\n",
    "                self.__red = True\n",
    "                self.is_upward = True\n",
    "            else:\n",
    "                self.__green = True\n",
    "                self.is_upward = False\n",
    "        elif self.__red:\n",
    "            self.__red = False\n",
    "            self.__orange = True\n",
    "        else:\n",
    "            self.__green = True\n",
    "\n",
    "    def get_state(self):\n",
    "        res = ''\n",
    "        if self.__green:\n",
    "            res = res + '\\033[1m\\033[92mO\\033[0m'\n",
    "        else:\n",
    "            res = res + 'O'\n",
    "        if self.__orange:\n",
    "            res = res + '\\033[1m\\033[93mO\\033[0m'\n",
    "        else:\n",
    "            res = res + 'O'\n",
    "        if self.__red:\n",
    "            res = res + '\\033[1m\\033[91mO\\033[0m'\n",
    "        else:\n",
    "            res = res + 'O'\n",
    "        return res\n",
    "\n",
    "    def set_green(self, state):\n",
    "        self.__green = state\n",
    "\n",
    "    def set_orange(self, state):\n",
    "        self.__orange = state\n",
    "\n",
    "    def set_red(self, state):\n",
    "        self.__red = state\n",
    "\n",
    "\n",
    "class ResettableTrafficLight(TrafficLight):\n",
    "\n",
    "    def reset(self):\n",
    "        self.set_green(False)\n",
    "        self.set_orange(False)\n",
    "        self.set_red(False)\n",
    "        self.is_upward = False"
   ]
  },
  {
   "cell_type": "code",
   "execution_count": 23,
   "outputs": [
    {
     "name": "stdout",
     "output_type": "stream",
     "text": [
      "The light state is OOO\n",
      "The light state is \u001B[1m\u001B[92mO\u001B[0mOO\n",
      "The light state is O\u001B[1m\u001B[93mO\u001B[0mO\n",
      "The light state is OO\u001B[1m\u001B[91mO\u001B[0m\n",
      "The light state is O\u001B[1m\u001B[93mO\u001B[0mO\n",
      "The light state is \u001B[1m\u001B[92mO\u001B[0mOO\n",
      "The light state is O\u001B[1m\u001B[93mO\u001B[0mO\n",
      "The light state is OO\u001B[1m\u001B[91mO\u001B[0m\n",
      "The light state is O\u001B[1m\u001B[93mO\u001B[0mO\n",
      "The light state is \u001B[1m\u001B[92mO\u001B[0mOO\n",
      "The light state is O\u001B[1m\u001B[93mO\u001B[0mO\n"
     ]
    }
   ],
   "source": [
    "traffic_light = TrafficLight()\n",
    "\n",
    "print(\"The light state is\", traffic_light.get_state())\n",
    "for _ in range(10):\n",
    "    traffic_light.next_state()\n",
    "    print(\"The light state is\", traffic_light.get_state())"
   ],
   "metadata": {
    "collapsed": false,
    "pycharm": {
     "name": "#%%\n"
    }
   }
  },
  {
   "cell_type": "code",
   "execution_count": 24,
   "outputs": [
    {
     "name": "stdout",
     "output_type": "stream",
     "text": [
      "The light state is OOO\n",
      "The light state is \u001B[1m\u001B[92mO\u001B[0mOO\n",
      "The light state is O\u001B[1m\u001B[93mO\u001B[0mO\n",
      "The light state is OO\u001B[1m\u001B[91mO\u001B[0m\n",
      "The light state is O\u001B[1m\u001B[93mO\u001B[0mO\n",
      "The light state is \u001B[1m\u001B[92mO\u001B[0mOO\n",
      "The light state is O\u001B[1m\u001B[93mO\u001B[0mO\n",
      "The light state is OO\u001B[1m\u001B[91mO\u001B[0m\n",
      "The light state is O\u001B[1m\u001B[93mO\u001B[0mO\n",
      "The light state is \u001B[1m\u001B[92mO\u001B[0mOO\n",
      "The light state is O\u001B[1m\u001B[93mO\u001B[0mO\n",
      "The light is now reset\n",
      "The light state is \u001B[1m\u001B[92mO\u001B[0mOO\n",
      "The light state is O\u001B[1m\u001B[93mO\u001B[0mO\n",
      "The light state is OO\u001B[1m\u001B[91mO\u001B[0m\n",
      "The light state is O\u001B[1m\u001B[93mO\u001B[0mO\n",
      "The light state is \u001B[1m\u001B[92mO\u001B[0mOO\n",
      "The light state is O\u001B[1m\u001B[93mO\u001B[0mO\n",
      "The light state is OO\u001B[1m\u001B[91mO\u001B[0m\n",
      "The light state is O\u001B[1m\u001B[93mO\u001B[0mO\n",
      "The light state is \u001B[1m\u001B[92mO\u001B[0mOO\n",
      "The light state is O\u001B[1m\u001B[93mO\u001B[0mO\n"
     ]
    }
   ],
   "source": [
    "traffic_light = ResettableTrafficLight()\n",
    "\n",
    "print(\"The light state is\", traffic_light.get_state())\n",
    "for _ in range(10):\n",
    "    traffic_light.next_state()\n",
    "    print(\"The light state is\", traffic_light.get_state())\n",
    "\n",
    "traffic_light.reset()\n",
    "print(\"The light is now reset\")\n",
    "for _ in range(10):\n",
    "    traffic_light.next_state()\n",
    "    print(\"The light state is\", traffic_light.get_state())"
   ],
   "metadata": {
    "collapsed": false,
    "pycharm": {
     "name": "#%%\n"
    }
   }
  },
  {
   "cell_type": "code",
   "execution_count": 25,
   "outputs": [
    {
     "name": "stdout",
     "output_type": "stream",
     "text": [
      "The light state is OOO\n",
      "The light state is \u001B[1m\u001B[92mO\u001B[0mOO\n",
      "The light state is O\u001B[1m\u001B[93mO\u001B[0mO\n",
      "The light state is OO\u001B[1m\u001B[91mO\u001B[0m\n",
      "The light state is O\u001B[1m\u001B[93mO\u001B[0mO\n",
      "The light state is \u001B[1m\u001B[92mO\u001B[0mOO\n",
      "The light state is O\u001B[1m\u001B[93mO\u001B[0mO\n",
      "The light state is OO\u001B[1m\u001B[91mO\u001B[0m\n",
      "The light state is O\u001B[1m\u001B[93mO\u001B[0mO\n",
      "The light state is \u001B[1m\u001B[92mO\u001B[0mOO\n",
      "The light state is O\u001B[1m\u001B[93mO\u001B[0mO\n"
     ]
    }
   ],
   "source": [
    "traffic_light = PrintableTrafficLight()\n",
    "\n",
    "print(\"The light state is\", traffic_light.get_state())\n",
    "for _ in range(10):\n",
    "    traffic_light.next_state()"
   ],
   "metadata": {
    "collapsed": false,
    "pycharm": {
     "name": "#%%\n"
    }
   }
  },
  {
   "cell_type": "markdown",
   "metadata": {},
   "source": [
    "# In PyCharm"
   ]
  },
  {
   "cell_type": "markdown",
   "metadata": {
    "pycharm": {
     "name": "#%% md\n"
    }
   },
   "source": [
    "# Exercise 25\n",
    "\n",
    "In PyCharm, create a project named `Exercise_23` with a file named `main.py`. Use this file to do a basic program\n",
    "planning and write in the main function the solution to the following exercise.\n",
    "\n",
    "Create a program that given a sequence of 3 angles as input classifies which triangle can be built with them:\n",
    "Equilateral, Isosceles, Scalene, or None. Then, the program should print out how many of each type can be built.\n",
    "\n",
    "Your program should contain the classes: \n",
    "`TriangleClassifier`, `Triangle`, `Equilateral`, `Isosceles`, and `Scalene`. \n",
    "\n",
    "The input file is given by the file `input.csv` as generated by the following code:"
   ]
  },
  {
   "cell_type": "code",
   "execution_count": 26,
   "metadata": {},
   "outputs": [],
   "source": [
    "potential_triangles = []\n",
    "\n",
    "for i in range(17):\n",
    "    angles = [0, 0, 0]\n",
    "    for j in range(2):\n",
    "        angles[0] = (i+1)*10\n",
    "        if 180 % (i + 1) == 0:\n",
    "            angles[1] = 180/(i+1)/2 + j*5\n",
    "        else:\n",
    "            angles[1] = 55 + j*5\n",
    "    angles[2] = 180 - sum(angles)\n",
    "    potential_triangles.append(angles)\n",
    "\n",
    "potential_triangles.append([50, 50, 80])\n",
    "potential_triangles.append([60, 60, 60])\n",
    "potential_triangles.append([20, 20, 140])\n",
    "\n",
    "with open('input.csv', 'w') as f:\n",
    "    for angles in potential_triangles:\n",
    "        f.write(str(angles[0]) + ',' + str(angles[1]) +  ',' + str(angles[2]) + '\\n')"
   ]
  },
  {
   "cell_type": "markdown",
   "metadata": {
    "pycharm": {
     "name": "#%% md\n"
    }
   },
   "source": [
    "Activate version control to your project and make your first commit.\n",
    "\n",
    "Add also a remote to this repository. To do this, create a private repository in GitHub named `CEGE0096: 4th Practical`.\n",
    "Then, add this remote repository to your local one using the command in the PyCharm GUI. Finally, push the code to\n",
    "GitHub. You should now see a change in your GitHub repository."
   ]
  }
 ],
 "metadata": {
  "kernelspec": {
   "display_name": "Python 3",
   "language": "python",
   "name": "python3"
  },
  "language_info": {
   "codemirror_mode": {
    "name": "ipython",
    "version": 3
   },
   "file_extension": ".py",
   "mimetype": "text/x-python",
   "name": "python",
   "nbconvert_exporter": "python",
   "pygments_lexer": "ipython3",
   "version": "3.7.3"
  }
 },
 "nbformat": 4,
 "nbformat_minor": 2
}