{
 "cells": [
  {
   "cell_type": "markdown",
   "metadata": {},
   "source": [
    "# Algorithms\n",
    "\n",
    "## Complexity Analysis\n",
    "\n",
    "### Constant Time"
   ]
  },
  {
   "cell_type": "code",
   "execution_count": null,
   "metadata": {},
   "outputs": [],
   "source": [
    "def constant_example(xs):\n",
    "    return xs[0]\n",
    "    \n",
    "constant_example([16, 32, 64])"
   ]
  },
  {
   "cell_type": "markdown",
   "metadata": {},
   "source": [
    "This function has a constant complexity O(1) because it will only ever take a constant step size, regardless of the\n",
    "input size. A list of 10 elements and one of 10000 will require the same exact amount of time.\n",
    "\n",
    "We next practically observe this constant runtime, by counting the number of operations performed in the function and\n",
    "measuring how this value changes when we consider inputs of different size. We now create a function that counts the\n",
    "number of operations performed when the number of elements increases and we finally plot it.\n",
    "In this constant example the only operation is *print(numbers[0])*, so we increase it by 1."
   ]
  },
  {
   "cell_type": "code",
   "execution_count": null,
   "metadata": {},
   "outputs": [],
   "source": [
    "import matplotlib.pyplot as plt\n",
    "\n",
    "def constant_example_time(xs):\n",
    "    i = 0\n",
    "    res = xs[0]\n",
    "    i += 1\n",
    "    return res, i\n",
    "\n",
    "def plot_runtime(fn, n=10000, input_list=True):\n",
    "    runtime = []\n",
    "    for n in range(1, n+1):\n",
    "        if input_list:\n",
    "            xs = [0] * n\n",
    "        else:\n",
    "            xs = n\n",
    "        runtime.append(fn(xs)[1])\n",
    "\n",
    "    plt.plot(runtime)\n",
    "    plt.xlabel('Number of elements')\n",
    "    plt.ylabel('Operations required')\n",
    "\n",
    "plot_runtime(constant_example_time, 100)"
   ]
  },
  {
   "cell_type": "markdown",
   "metadata": {},
   "source": [
    "### Linear Time"
   ]
  },
  {
   "cell_type": "code",
   "execution_count": null,
   "metadata": {},
   "outputs": [],
   "source": [
    "def linear_example(xs):\n",
    "    res = []\n",
    "    for x in xs:\n",
    "        res.append(x)\n",
    "    return res\n",
    "        \n",
    "linear_example(range(10))"
   ]
  },
  {
   "cell_type": "markdown",
   "metadata": {},
   "source": [
    "This function runs in O(n) linear time. The number of operations scales linearly with the input data size $n$. For\n",
    "instance, a list of 10,000 elements will require 1,000 more operations with respect to one made up of 10 elements.\n",
    "\n",
    "We reuse the function which plots the runtime to observe how the number of operations performed practically changes\n",
    "when we increase the size of the input. In this case, we increase the *i* counter at each iteration of the for loop.\n",
    "\n",
    "We can see that the number of operations required by the function grows linearly with the number of elements in the\n",
    "list."
   ]
  },
  {
   "cell_type": "code",
   "execution_count": null,
   "metadata": {},
   "outputs": [],
   "source": [
    "def linear_example(xs):\n",
    "    i = 0\n",
    "    res = []\n",
    "    for x in xs:\n",
    "        res.append(x)\n",
    "        i +=1\n",
    "    return res, i\n",
    "\n",
    "plot_runtime(linear_example, n=100)"
   ]
  },
  {
   "cell_type": "markdown",
   "metadata": {},
   "source": [
    "Another example of linear complexity is given by the function which calculates the n-th Fibonacci number."
   ]
  },
  {
   "cell_type": "code",
   "execution_count": null,
   "metadata": {},
   "outputs": [],
   "source": [
    "def linear_fibonacci(n):\n",
    "    if n in {1, 2}:\n",
    "        return 1\n",
    "    f_n = f_1 = f_2 = 1\n",
    "    for _ in range(2, n):\n",
    "        f_n = f_1 + f_2\n",
    "        f_2, f_1 = f_1, f_n\n",
    "    return f_n\n",
    "\n",
    "linear_fibonacci(8)"
   ]
  },
  {
   "cell_type": "code",
   "execution_count": null,
   "outputs": [],
   "source": [
    "def linear_fibonacci(n):\n",
    "    i = 0\n",
    "    if n in {1, 2}:\n",
    "        return 1, i\n",
    "    f_n = f_1 = f_2 = 1\n",
    "    for _ in range(2, n):\n",
    "        f_n = f_1 + f_2\n",
    "        f_2, f_1 = f_1, f_n\n",
    "        i += 1\n",
    "    return f_n, i\n",
    "\n",
    "plot_runtime(linear_fibonacci, n=100, input_list=False)"
   ],
   "metadata": {
    "collapsed": false,
    "pycharm": {
     "name": "#%%\n"
    }
   }
  },
  {
   "cell_type": "markdown",
   "metadata": {},
   "source": [
    "However, the Fibonacci numbers have a closed form expression, known as Binet's formula, which tells us that the n-th\n",
    "Fibonacci number $f_n$ can be expressed as:\n",
    "\n",
    "$f_n = \\dfrac{\\varphi^n - (1 - \\varphi)^n}{\\sqrt{5}}$"
   ]
  },
  {
   "cell_type": "code",
   "execution_count": null,
   "metadata": {},
   "outputs": [],
   "source": [
    "def constant_fibonacci(n):\n",
    "    phi = (1 + 5**.5)/2\n",
    "    res = (phi**n - (1 - phi)**n)/5**.5\n",
    "    return int(res)\n",
    "\n",
    "constant_fibonacci(8)"
   ]
  },
  {
   "cell_type": "code",
   "execution_count": null,
   "outputs": [],
   "source": [
    "def constant_fibonacci(n):\n",
    "    i = 0\n",
    "    phi = (1 + 5**.5)/2\n",
    "    res = (phi**n - (1 - phi)**n)/5**.5\n",
    "    i += 1\n",
    "    return int(res), i\n",
    "\n",
    "plot_runtime(constant_fibonacci, n=100, input_list=False)"
   ],
   "metadata": {
    "collapsed": false,
    "pycharm": {
     "name": "#%%\n"
    }
   }
  },
  {
   "cell_type": "markdown",
   "metadata": {},
   "source": [
    "In this case, to retrieve the number of the Fibonacci sequence at the n-th iteration, the computational complexity\n",
    "is constant."
   ]
  },
  {
   "cell_type": "markdown",
   "metadata": {},
   "source": [
    "### Quadratic Time"
   ]
  },
  {
   "cell_type": "code",
   "execution_count": null,
   "metadata": {},
   "outputs": [],
   "source": [
    "def quadratic_example(xs):\n",
    "    for x_1 in xs:\n",
    "        for x_2 in xs:\n",
    "            print(x_1, x_2)\n",
    "\n",
    "quadratic_example([5, 4, 3, 2])"
   ]
  },
  {
   "cell_type": "markdown",
   "metadata": {},
   "source": [
    "This function, composed by two nested loops, will perform $n$ times $n$ assignments, resulting in a complexity of\n",
    "$O(n^2)$. A list of 10 items will then consist of 100 operations, while one of 10k will consist of 100 millions.\n",
    "\n",
    "We again modify the function to count the operations required and again plot it against the input size."
   ]
  },
  {
   "cell_type": "code",
   "execution_count": null,
   "metadata": {},
   "outputs": [],
   "source": [
    "def quadratic_example(xs):\n",
    "    i = 0\n",
    "    res = []\n",
    "    for x_1 in xs:\n",
    "        for x_2 in xs:\n",
    "            res.append((x_1, x_2))\n",
    "            i += 1\n",
    "    return res, i\n",
    "            \n",
    "plot_runtime(quadratic_example, n = 100)"
   ]
  },
  {
   "cell_type": "markdown",
   "metadata": {},
   "source": [
    "## Exercise 36\n",
    "\n",
    "What is the complexity of the function `exercise_36`? First compute it pen and paper, then rewrite the function in order\n",
    "to be able to plot its complexity using the `plot_runtime` function."
   ]
  },
  {
   "cell_type": "code",
   "execution_count": null,
   "metadata": {},
   "outputs": [],
   "source": [
    "def exercise_36(xs):\n",
    "    res = []\n",
    "    for x in xs:\n",
    "        res.append(x)\n",
    "        \n",
    "    for x in xs:\n",
    "        res.append(x)\n",
    "        \n",
    "    for x in xs:\n",
    "        res.append(x)\n",
    "        \n",
    "    for j in range(10):\n",
    "        res.append(j)\n",
    "    return res"
   ]
  },
  {
   "cell_type": "markdown",
   "metadata": {
    "hidden": true
   },
   "source": []
  },
  {
   "cell_type": "code",
   "execution_count": null,
   "metadata": {
    "hidden": true
   },
   "outputs": [],
   "source": []
  },
  {
   "cell_type": "markdown",
   "metadata": {},
   "source": [
    "## Exercise 37\n",
    "\n",
    "What is the complexity of the function `exercise_37`? First compute it pen and paper, then rewrite the function in order\n",
    "to be able to plot its complexity using the `plot_runtime` function."
   ]
  },
  {
   "cell_type": "code",
   "execution_count": null,
   "metadata": {},
   "outputs": [],
   "source": [
    "def exercise_37(xs):\n",
    "    res = [xs[0]]\n",
    "\n",
    "    midpoint = len(xs)/2\n",
    "    for x in xs[:midpoint]:\n",
    "        res.append(x)\n",
    "        \n",
    "    for j in range(10):\n",
    "        res.append(j)\n",
    "\n",
    "    return res"
   ]
  },
  {
   "cell_type": "markdown",
   "source": [],
   "metadata": {
    "collapsed": false,
    "pycharm": {
     "name": "#%% md\n"
    }
   }
  },
  {
   "cell_type": "code",
   "metadata": {
    "pycharm": {
     "name": "#%%\n"
    }
   },
   "source": [],
   "execution_count": null,
   "outputs": []
  },
  {
   "cell_type": "markdown",
   "metadata": {},
   "source": [
    "## Appendix"
   ]
  },
  {
   "cell_type": "markdown",
   "metadata": {},
   "source": [
    "Dictionaries in Python are an implementation of a hash table. They operate with keys and values, for example:"
   ]
  },
  {
   "cell_type": "code",
   "execution_count": null,
   "metadata": {},
   "outputs": [],
   "source": [
    "d = {'John':1, 'Mary':2}"
   ]
  },
  {
   "cell_type": "code",
   "execution_count": null,
   "metadata": {},
   "outputs": [],
   "source": [
    "d['John']"
   ]
  },
  {
   "cell_type": "markdown",
   "metadata": {},
   "source": [
    "Hash tables are efficient data structures, which allow to perform some operations in O(1) time, like accessing a given\n",
    "key. Refer to the table below for Big-O efficiencies of common dictionary operations:"
   ]
  },
  {
   "cell_type": "markdown",
   "metadata": {},
   "source": [
    "<table border=\"1\">\n",
    "<thead valign=\"bottom\">\n",
    "<tr class=\"row-odd\"><th class=\"head\">Operation</th>\n",
    "<th class=\"head\">Big-O Efficiency</th>\n",
    "</tr>\n",
    "</thead>\n",
    "<tbody valign=\"top\">\n",
    "<tr class=\"row-even\"><td>copy</td>\n",
    "<td>O(n)</td>\n",
    "</tr>\n",
    "<tr class=\"row-odd\"><td>get item</td>\n",
    "<td>O(1)</td>\n",
    "</tr>\n",
    "<tr class=\"row-even\"><td>set item</td>\n",
    "<td>O(1)</td>\n",
    "</tr>\n",
    "<tr class=\"row-odd\"><td>delete item</td>\n",
    "<td>O(1)</td>\n",
    "</tr>\n",
    "<tr class=\"row-even\"><td>contains (in)</td>\n",
    "<td>O(1)</td>\n",
    "</tr>\n",
    "<tr class=\"row-odd\"><td>iteration</td>\n",
    "<td>O(n)</td>\n",
    "</tr>\n",
    "</tbody>\n",
    "</table>"
   ]
  },
  {
   "cell_type": "markdown",
   "metadata": {},
   "source": [
    "# Searching"
   ]
  },
  {
   "cell_type": "markdown",
   "metadata": {},
   "source": [
    "In computer science, searching is the process of selecting a particular information from a collection based on a\n",
    "given criteria. It is identified by the sequence search, which aims to find an item within a sequence using a search\n",
    "key which identifies the item itself."
   ]
  },
  {
   "cell_type": "markdown",
   "metadata": {},
   "source": [
    "## Linear Search"
   ]
  },
  {
   "cell_type": "code",
   "execution_count": null,
   "metadata": {},
   "outputs": [],
   "source": [
    "def linear_search(xs, key):\n",
    "    for x in xs:\n",
    "        if x == key:\n",
    "            return True\n",
    "    return False"
   ]
  },
  {
   "cell_type": "code",
   "execution_count": null,
   "metadata": {},
   "outputs": [],
   "source": [
    "xs = [15, 2, 19, 22, 7, 13, 16, 5]\n",
    "\n",
    "key = 19\n",
    "linear_search(xs, 19)"
   ]
  },
  {
   "cell_type": "markdown",
   "metadata": {},
   "source": [
    "We can also use the operator \"in\" to perform a linear search:"
   ]
  },
  {
   "cell_type": "code",
   "execution_count": null,
   "metadata": {},
   "outputs": [],
   "source": [
    "key in xs"
   ]
  },
  {
   "cell_type": "markdown",
   "metadata": {},
   "source": [
    "If we know that the list is ordered, we only have to check until we find the element equal to the key or an element\n",
    "greater than it."
   ]
  },
  {
   "cell_type": "code",
   "execution_count": null,
   "metadata": {},
   "outputs": [],
   "source": [
    "def sorted_linear_search(xs, key) :\n",
    "    for x in xs:\n",
    "        if x == key:\n",
    "            return True\n",
    "        elif x > key:\n",
    "            return False\n",
    "    return False"
   ]
  },
  {
   "cell_type": "code",
   "execution_count": null,
   "metadata": {},
   "outputs": [],
   "source": [
    "xs.sort()\n",
    "sorted_linear_search(xs, 7)"
   ]
  },
  {
   "cell_type": "code",
   "execution_count": null,
   "metadata": {},
   "outputs": [],
   "source": [
    "sorted_linear_search(xs, 8)"
   ]
  },
  {
   "cell_type": "markdown",
   "metadata": {},
   "source": [
    "## Exercise 38\n",
    "\n",
    "Write a python function to search for the second largest element in a unsorted list."
   ]
  },
  {
   "cell_type": "code",
   "execution_count": null,
   "outputs": [],
   "source": [],
   "metadata": {
    "collapsed": false,
    "pycharm": {
     "name": "#%%\n"
    }
   }
  },
  {
   "cell_type": "markdown",
   "metadata": {},
   "source": [
    "## Exercise 39\n",
    "\n",
    "Write a python function which looks for the most frequent element in a list and derive and justify the algorithm\n",
    "complexity."
   ]
  },
  {
   "cell_type": "code",
   "execution_count": null,
   "metadata": {},
   "outputs": [],
   "source": []
  },
  {
   "cell_type": "markdown",
   "metadata": {},
   "source": [
    "## Binary Search"
   ]
  },
  {
   "cell_type": "markdown",
   "metadata": {},
   "source": [
    "In computer science, a binary search algorithm finds the position of a target value within a sorted array."
   ]
  },
  {
   "cell_type": "code",
   "execution_count": null,
   "metadata": {},
   "outputs": [],
   "source": [
    "def binary_search(xs, key):\n",
    "    low = 0\n",
    "    high = len(xs) - 1\n",
    "    # repeatedly subdivide the sequence in half until the key is found.\n",
    "    while low <= high:\n",
    "        # find the midpoint of the sequence.\n",
    "        mid = (high + low) // 2\n",
    "        # check if the midpoint coincide with the key\n",
    "        if xs[mid] == key:\n",
    "            return True\n",
    "        # or does the key precede the midpoint?\n",
    "        elif key < xs[mid]:\n",
    "            high = mid - 1\n",
    "        # or does it follow the midpoint?\n",
    "        else:\n",
    "            low = mid + 1\n",
    "    # if the sequence cannot be subdivided further, we're done.\n",
    "    return False"
   ]
  },
  {
   "cell_type": "code",
   "execution_count": null,
   "metadata": {},
   "outputs": [],
   "source": [
    "xs = [1, 3, 5, 8, 11, 25]\n",
    "binary_search(xs, 3)"
   ]
  },
  {
   "cell_type": "markdown",
   "metadata": {},
   "source": [
    "# Sorting\n",
    "\n",
    "## Bubble sort\n",
    "\n",
    "We use the Bubble sort algorithm to sort a sequence in ascending order. "
   ]
  },
  {
   "cell_type": "code",
   "execution_count": null,
   "metadata": {},
   "outputs": [],
   "source": [
    "def bubble_sort(xs):\n",
    "    n = len(xs)\n",
    "    # perform n-1 bubble operations on the sequence\n",
    "    for i in range(n - 1):\n",
    "        # bubble the largest item to the end.\n",
    "        for j in range(n-1-i):\n",
    "            if xs[j] > xs[j + 1]:\n",
    "                # swap the j and j+1 items.\n",
    "                xs[j], xs[j + 1] = xs[j + 1], xs[j]\n",
    "\n",
    "        print('bs -', i + 1, '-', xs)"
   ]
  },
  {
   "cell_type": "code",
   "execution_count": null,
   "metadata": {},
   "outputs": [],
   "source": [
    "xs = [3, 4, 15, 2, 5, 30, 7, 22, 19]\n",
    "\n",
    "bubble_sort(xs)"
   ]
  },
  {
   "cell_type": "markdown",
   "metadata": {},
   "source": [
    "## Exercise 40\n",
    "\n",
    "Implement the Bubble sort algorithm to sort a sequence in descending order."
   ]
  },
  {
   "cell_type": "code",
   "execution_count": null,
   "metadata": {},
   "outputs": [],
   "source": []
  },
  {
   "cell_type": "markdown",
   "metadata": {},
   "source": [
    "# Binary Tree"
   ]
  },
  {
   "cell_type": "code",
   "execution_count": null,
   "metadata": {},
   "outputs": [],
   "source": [
    "class Node:\n",
    "\n",
    "    def __init__(self, data):\n",
    "        self.left = None\n",
    "        self.right = None\n",
    "        self.data = data\n",
    "        \n",
    "    def preorder_traversal(self, root):\n",
    "        res = []\n",
    "        if root:\n",
    "            res.append(root.data)\n",
    "            res = res + self.preorder_traversal(root.left)\n",
    "            res = res + self.preorder_traversal(root.right)\n",
    "        return res\n",
    "\n",
    "    def inorder_traversal(self, root):\n",
    "        res = []\n",
    "        if root:\n",
    "            res = res + self.inorder_traversal(root.left)\n",
    "            res.append(root.data)\n",
    "            res = res + self.inorder_traversal(root.right)\n",
    "        return res\n",
    "\n",
    "    def postorder_traversal(self, root):\n",
    "        res = []\n",
    "        if root:\n",
    "            res = res + self.postorder_traversal(root.left)\n",
    "            res = res + self.postorder_traversal(root.right)\n",
    "            res.append(root.data)\n",
    "        return res"
   ]
  },
  {
   "cell_type": "markdown",
   "metadata": {},
   "source": [
    "In this exercise, we will experiment the different tree traversal algorithms performed on the next binary tree.\n",
    "\n",
    "![Binary Tree Example](https://upload.wikimedia.org/wikipedia/commons/thumb/d/da/Binary_search_tree.svg/1920px-Binary_search_tree.svg.png)\n",
    "\n",
    "We first construct the binary tree following the structure depicted in the image above."
   ]
  },
  {
   "cell_type": "code",
   "execution_count": null,
   "metadata": {},
   "outputs": [],
   "source": [
    "root = Node(8) \n",
    "root.left = Node(3) \n",
    "root.right = Node(10) \n",
    "root.left.left = Node(1) \n",
    "root.left.right = Node(6)\n",
    "root.right.right = Node(14)\n",
    "root.left.right.left = Node(4)\n",
    "root.left.right.right = Node(7)\n",
    "root.right.right.left = Node(13)"
   ]
  },
  {
   "cell_type": "markdown",
   "metadata": {},
   "source": [
    "We next perform the tree traversal according to the pre-order, in-order and post-order algorithms.\n",
    "\n",
    "Pre-order traversal (NLR)\n",
    "- Visit the root node (N)\n",
    "- Traverse the nodes in its left subtree (L)\n",
    "- Then, traverse the nodes in its right subtree (R)"
   ]
  },
  {
   "cell_type": "code",
   "execution_count": null,
   "metadata": {},
   "outputs": [],
   "source": [
    "root.preorder_traversal(root)"
   ]
  },
  {
   "attachments": {},
   "cell_type": "markdown",
   "metadata": {},
   "source": [
    "In-order traversal (NLR)\n",
    "- We first traverse the left subtree (L)\n",
    "- Then, traverse the node (N)\n",
    "- Finally, traverse the nodes in its right subtree (R)"
   ]
  },
  {
   "cell_type": "code",
   "execution_count": null,
   "metadata": {},
   "outputs": [],
   "source": [
    "root.inorder_traversal(root)"
   ]
  },
  {
   "attachments": {},
   "cell_type": "markdown",
   "metadata": {},
   "source": [
    "Post-order traversal (LRN)\n",
    "- Traverse the left subtree (L)\n",
    "- Traverse the right subtree (R)\n",
    "- Then, visit the node (N)\n"
   ]
  },
  {
   "cell_type": "code",
   "execution_count": null,
   "metadata": {
    "pycharm": {
     "name": "#%%\n"
    }
   },
   "outputs": [],
   "source": [
    "root.postorder_traversal(root) "
   ]
  },
  {
   "cell_type": "code",
   "execution_count": null,
   "outputs": [],
   "source": [],
   "metadata": {
    "collapsed": false,
    "pycharm": {
     "name": "#%%\n"
    }
   }
  }
 ],
 "metadata": {
  "kernelspec": {
   "display_name": "Python 3",
   "language": "python",
   "name": "python3"
  },
  "language_info": {
   "codemirror_mode": {
    "name": "ipython",
    "version": 3
   },
   "file_extension": ".py",
   "mimetype": "text/x-python",
   "name": "python",
   "nbconvert_exporter": "python",
   "pygments_lexer": "ipython3",
   "version": "3.8.5"
  },
  "varInspector": {
   "cols": {
    "lenName": 16,
    "lenType": 16,
    "lenVar": 40
   },
   "kernels_config": {
    "python": {
     "delete_cmd_postfix": "",
     "delete_cmd_prefix": "del ",
     "library": "var_list.py",
     "varRefreshCmd": "print(var_dic_list())"
    },
    "r": {
     "delete_cmd_postfix": ") ",
     "delete_cmd_prefix": "rm(",
     "library": "var_list.r",
     "varRefreshCmd": "cat(var_dic_list()) "
    }
   },
   "types_to_exclude": [
    "module",
    "function",
    "builtin_function_or_method",
    "instance",
    "_Feature"
   ],
   "window_display": false
  }
 },
 "nbformat": 4,
 "nbformat_minor": 4
}