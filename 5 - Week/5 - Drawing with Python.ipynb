{
 "cells": [
  {
   "cell_type": "markdown",
   "metadata": {},
   "source": [
    "# Practical: Drawing with Python"
   ]
  },
  {
   "cell_type": "markdown",
   "metadata": {},
   "source": [
    "**31st October 2019 – 11am to 1pm**\n",
    "\n",
    "**Christopher Ingold Building G20** "
   ]
  },
  {
   "cell_type": "markdown",
   "metadata": {},
   "source": [
    "## Intro to Matplotlib"
   ]
  },
  {
   "cell_type": "markdown",
   "metadata": {},
   "source": [
    "In order to start using Matplotlib you need to import it. Moreover, to extend the functionality of the jupyter notebook you need to use the magic command `matplotlib notebook`. This magic command will give you some extra functionalities, like zooming, panning, and saving the plot."
   ]
  },
  {
   "cell_type": "code",
   "execution_count": null,
   "metadata": {},
   "outputs": [],
   "source": [
    "%matplotlib notebook\n",
    "import matplotlib.pyplot as plt"
   ]
  },
  {
   "cell_type": "markdown",
   "metadata": {},
   "source": [
    "To generate a simple plot you can use the `plot` method of `pyplot`. This method accepts two parameters, the list of x-values and the list y-values:"
   ]
  },
  {
   "cell_type": "code",
   "execution_count": null,
   "metadata": {},
   "outputs": [],
   "source": [
    "plt.plot([1, 2, 3, 4], [0, 0, 1, 1])\n",
    "plt.show()"
   ]
  },
  {
   "cell_type": "markdown",
   "metadata": {},
   "source": [
    "Before continuing to the next code cell, make sure to close the previous plot otherwise the next `pyplot` command will be overlaid on top of the previous plot. This also a feature of the magic command.\n",
    "\n",
    "You can use the same method to draw a polygon by providing the coordinates defining the polygon:"
   ]
  },
  {
   "cell_type": "code",
   "execution_count": null,
   "metadata": {},
   "outputs": [],
   "source": [
    "plt.plot([1, 1, 2, 2, 1], [0, 1, 1, 0, 0])\n",
    "plt.show()"
   ]
  },
  {
   "cell_type": "markdown",
   "metadata": {},
   "source": [
    "The polygon provided in the previous code block defines a square. However, this does not look like a square. Does it? To make it look like a square you need to tell `matplotlib` to equalize its axes: "
   ]
  },
  {
   "cell_type": "code",
   "execution_count": null,
   "metadata": {},
   "outputs": [],
   "source": [
    "plt.plot([1, 1, 2, 2, 1], [0, 1, 1, 0, 0])\n",
    "plt.axis('equal')\n",
    "plt.show()"
   ]
  },
  {
   "cell_type": "markdown",
   "metadata": {},
   "source": [
    "If you want to draw a filled shape you just need to use `fill` instead of `plot`:"
   ]
  },
  {
   "cell_type": "code",
   "execution_count": null,
   "metadata": {},
   "outputs": [],
   "source": [
    "plt.fill([1, 1, 2, 2, 1], [0, 1, 1, 0, 0])\n",
    "plt.axis('equal')\n",
    "plt.show()"
   ]
  },
  {
   "cell_type": "markdown",
   "metadata": {},
   "source": [
    "To quickly format the style of your plot you can use format strings like `ro`. Where `r` stands for red and `o` for dots."
   ]
  },
  {
   "cell_type": "code",
   "execution_count": null,
   "metadata": {},
   "outputs": [],
   "source": [
    "plt.plot([1, 2, 3, 4], [1, 4, 9, 16], 'ro')\n",
    "plt.show()"
   ]
  },
  {
   "cell_type": "markdown",
   "metadata": {},
   "source": [
    "You can overlap plots by executing multiple `pyplot` methods one after the other:"
   ]
  },
  {
   "cell_type": "code",
   "execution_count": null,
   "metadata": {},
   "outputs": [],
   "source": [
    "plt.fill([1, 1, 2, 2, 1], [0, 1, 1, 0, 0], 'g')\n",
    "plt.plot(1.5, 0.5, 'ro')\n",
    "plt.axis('equal')\n",
    "plt.show()"
   ]
  },
  {
   "cell_type": "markdown",
   "metadata": {},
   "source": [
    "If you want to show a legend about your plot, you need to first label each component of your plot and then call the `legend` method:"
   ]
  },
  {
   "cell_type": "code",
   "execution_count": null,
   "metadata": {},
   "outputs": [],
   "source": [
    "plt.fill([1, 1, 2, 2, 1], [0, 1, 1, 0, 0], label=\"square\")\n",
    "plt.plot(1.5, 0.5, 'ro', label='point')\n",
    "plt.axis('equal')\n",
    "plt.legend()\n",
    "plt.show()"
   ]
  },
  {
   "cell_type": "markdown",
   "metadata": {},
   "source": [
    "# Plotter Helper Object\n",
    "\n",
    "This is the plotter helper object that I have provided to you in the project template. As you can see, it implements the same commands you have already seen above."
   ]
  },
  {
   "cell_type": "code",
   "execution_count": null,
   "metadata": {},
   "outputs": [],
   "source": [
    "from collections import OrderedDict\n",
    "\n",
    "class Plotter:\n",
    "\n",
    "    def __init__(self):\n",
    "        plt.figure()\n",
    "\n",
    "    def add_polygon(self, xs, ys):\n",
    "        plt.fill(xs, ys, 'lightgray', label='Polygon')\n",
    "\n",
    "    def add_point(self, x, y, kind=None):\n",
    "        if kind == \"outside\":\n",
    "            plt.plot(x, y, \"ro\", label='Outside')\n",
    "        elif kind == \"boundary\":\n",
    "            plt.plot(x, y, \"bo\", label='Boundary')\n",
    "        elif kind == \"inside\":\n",
    "            plt.plot(x, y, \"go\", label='Inside')\n",
    "        else:\n",
    "            plt.plot(x, y, \"ko\", label='Unclassified')\n",
    "\n",
    "    def show(self):\n",
    "        handles, labels = plt.gca().get_legend_handles_labels()\n",
    "        by_label = OrderedDict(zip(labels, handles))\n",
    "        plt.legend(by_label.values(), by_label.keys())\n",
    "        plt.show()"
   ]
  },
  {
   "cell_type": "markdown",
   "metadata": {},
   "source": [
    "To use this plot, you first need to create a `Plotter` object. Then, you can draw a polygon by providing its coordinate using the `add_polygon` method. Finally, you need to call the method show."
   ]
  },
  {
   "cell_type": "code",
   "execution_count": null,
   "metadata": {},
   "outputs": [],
   "source": [
    "plotter = Plotter()\n",
    "plotter.add_polygon([1, 1, 2, 2, 1], [0, 1, 1, 0, 0])\n",
    "plotter.show()"
   ]
  },
  {
   "cell_type": "markdown",
   "metadata": {},
   "source": [
    "You can add a point by using the `add_point` method:"
   ]
  },
  {
   "cell_type": "code",
   "execution_count": null,
   "metadata": {},
   "outputs": [],
   "source": [
    "plotter = Plotter()\n",
    "plotter.add_polygon([1, 1, 2, 2, 1], [0, 1, 1, 0, 0])\n",
    "plotter.add_point(1.5, 0.5)\n",
    "plotter.show()"
   ]
  },
  {
   "cell_type": "markdown",
   "metadata": {},
   "source": [
    "The point added is considered as an unclassified point. If you want to change the label to this point, you can pass a third parameter to the method `add_point`:"
   ]
  },
  {
   "cell_type": "code",
   "execution_count": null,
   "metadata": {},
   "outputs": [],
   "source": [
    "plotter = Plotter()\n",
    "plotter.add_polygon([1, 1, 2, 2, 1], [0, 1, 1, 0, 0])\n",
    "plotter.add_point(1.5, 0.5, \"inside\")\n",
    "plotter.show()"
   ]
  },
  {
   "cell_type": "markdown",
   "metadata": {},
   "source": [
    "# Exercise 26\n",
    "\n",
    "Draw a trapezoid and 3 points (1 inside, 1 outside and 1 on the border) using a `Plotter` object:"
   ]
  },
  {
   "cell_type": "code",
   "execution_count": null,
   "metadata": {},
   "outputs": [],
   "source": []
  }
 ],
 "metadata": {
  "kernelspec": {
   "display_name": "Python 3",
   "language": "python",
   "name": "python3"
  },
  "language_info": {
   "codemirror_mode": {
    "name": "ipython",
    "version": 3
   },
   "file_extension": ".py",
   "mimetype": "text/x-python",
   "name": "python",
   "nbconvert_exporter": "python",
   "pygments_lexer": "ipython3",
   "version": "3.7.3"
  }
 },
 "nbformat": 4,
 "nbformat_minor": 2
}
