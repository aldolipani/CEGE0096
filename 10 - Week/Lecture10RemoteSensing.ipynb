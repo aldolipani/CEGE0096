{
 "cells": [
  {
   "cell_type": "markdown",
   "id": "43ab2e57-c672-483c-a74d-a4a16c681690",
   "metadata": {},
   "source": [
    "# Remote Sensing Practical using Google Earth Engine\n",
    "\n",
    "Run this notebook in a new environment by running the following in the terminal:\n",
    "\n",
    "```\n",
    "conda create --name remote-sensing\n",
    "\n",
    "conda activate remote-sensing\n",
    "\n",
    "pip install jupyter\n",
    "pip install matplotlib\n",
    "pip install ee\n",
    "pip install earthengine-api\n",
    "pip install folium\n",
    "\n",
    "jupyter lab\n",
    "```"
   ]
  },
  {
   "cell_type": "markdown",
   "id": "4a69cfb0-d9be-4392-a4b4-d09631024f41",
   "metadata": {},
   "source": [
    "### Import relevant libraries"
   ]
  },
  {
   "cell_type": "code",
   "execution_count": 141,
   "id": "97e64d2b-bb54-4c61-9ebf-9c1f19254a88",
   "metadata": {},
   "outputs": [],
   "source": [
    "from IPython.display import Image\n",
    "import matplotlib.pyplot as plt\n",
    "import folium\n",
    "import numpy as np"
   ]
  },
  {
   "cell_type": "markdown",
   "id": "d28856ca-165e-4021-9b57-935aa9e1f0e4",
   "metadata": {},
   "source": [
    "### Authenticate Google Earth Engine\n",
    "But first, create a GEE account if you don't have one already: https://earthengine.google.com/"
   ]
  },
  {
   "cell_type": "code",
   "execution_count": 2,
   "id": "7039e065-b29f-4673-905e-31a87bddfcf5",
   "metadata": {},
   "outputs": [
    {
     "data": {
      "text/html": [
       "<p>To authorize access needed by Earth Engine, open the following\n",
       "        URL in a web browser and follow the instructions:</p>\n",
       "        <p><a href=https://code.earthengine.google.com/client-auth?scopes=https%3A//www.googleapis.com/auth/earthengine%20https%3A//www.googleapis.com/auth/devstorage.full_control&request_id=ZXSZiQTF7UrHJmcRjD3Ib2_9UpQ4uzkZ2oC6vYsHqck&tc=kcH546xqXBV3dcgM6yBsDy1WaevFoyoVUiudW3U3Rr8&cc=0se8XNNVmjCIeizntWStijofRG83J-DdDJb4Ll9nfcg>https://code.earthengine.google.com/client-auth?scopes=https%3A//www.googleapis.com/auth/earthengine%20https%3A//www.googleapis.com/auth/devstorage.full_control&request_id=ZXSZiQTF7UrHJmcRjD3Ib2_9UpQ4uzkZ2oC6vYsHqck&tc=kcH546xqXBV3dcgM6yBsDy1WaevFoyoVUiudW3U3Rr8&cc=0se8XNNVmjCIeizntWStijofRG83J-DdDJb4Ll9nfcg</a></p>\n",
       "        <p>The authorization workflow will generate a code, which you should paste in the box below.</p>\n",
       "        "
      ],
      "text/plain": [
       "<IPython.core.display.HTML object>"
      ]
     },
     "metadata": {},
     "output_type": "display_data"
    },
    {
     "name": "stdin",
     "output_type": "stream",
     "text": [
      "Enter verification code:  4/1AfJohXl4o4hlVj1l3L1lVfD6U0x3sLUG8hVw5cKPobleoQQHkaOw6_tGtT0\n"
     ]
    },
    {
     "name": "stdout",
     "output_type": "stream",
     "text": [
      "\n",
      "Successfully saved authorization token.\n"
     ]
    }
   ],
   "source": [
    "import ee\n",
    "\n",
    "# Trigger the authentication flow.\n",
    "ee.Authenticate()\n",
    "\n",
    "# Initialize the library.\n",
    "ee.Initialize()"
   ]
  },
  {
   "cell_type": "markdown",
   "id": "4796755b-aeda-4056-b918-531eca279de6",
   "metadata": {},
   "source": [
    "# Part 1 - Download and Display a Multispectral Image 🛰️"
   ]
  },
  {
   "cell_type": "markdown",
   "id": "15a19380-5c90-4dec-8d8f-76bc89bed578",
   "metadata": {},
   "source": [
    "### Define area of interest\n",
    "* Use Google Maps to get the point coordinate of somewhere in central London\n",
    "* Note that Google Maps default is (lat,lon) but for GEE we need to use (lon,lat)"
   ]
  },
  {
   "cell_type": "code",
   "execution_count": 3,
   "id": "4ba66e2b-ed90-4bbd-8040-dad9fe8037bf",
   "metadata": {},
   "outputs": [],
   "source": [
    "london_coords = (51.51353, -0.11206) # latitude, longitude\n",
    "\n",
    "# Create a point\n",
    "london_point = ee.Geometry.Point(london_coords[::-1]) # longitude, latitude\n",
    "\n",
    "# Create a 10km buffer around the point, and get a bounding box\n",
    "london = london_point.buffer(10000).bounds()"
   ]
  },
  {
   "cell_type": "markdown",
   "id": "37171c2e-633c-4179-bc55-270779e97470",
   "metadata": {},
   "source": [
    "### Download a multispectral image for the area\n",
    "* In Google Earth Engine, data is organised in collections; each collection many images (from different places and different time periods). We are usually interested in one (or a few) images in the collection only\n",
    "* Use the Search bar in Google Earth Engine to find your preferred provider (Landsat, Sentinel...). We'll use Landsat 9, Collection 2, Tier 1, TOA Reflectance which is `LANDSAT/LC09/C02/T1_TOA`\n",
    "* TOA indicates that the data was top-of-atmosphere calibrated, meaning the atmospheric noise was removed\n",
    "* We can narrow down a collection using filters, such as `filterBounds()`, `filterDate`, filter by cloud coverage, etc\n",
    "* Once we define the criteria, we can get a random image from the subset of images that satisfy the criteria. Alternatively, we can extract the least cloudy image"
   ]
  },
  {
   "cell_type": "code",
   "execution_count": 4,
   "id": "197ab301-8f8c-4b13-bda5-2d1b7e4d88b3",
   "metadata": {},
   "outputs": [],
   "source": [
    "# First, define your collection\n",
    "l9_collection = ee.ImageCollection('LANDSAT/LC09/C02/T1_TOA')\n",
    "\n",
    "# Then, load a single representative image from the collection\n",
    "l9_img = ee.Image(\n",
    "    l9_collection\n",
    "    .filterBounds(london) # get only those images that contain our boundary for London\n",
    "    .filterDate('2023-01-01', '2023-12-31') # get images from 2023\n",
    "    .filter( ee.Filter.lt('CLOUD_COVER', 10) )\n",
    "    .sort('CLOUD_COVER') # sort in ascending order by cloud cover\n",
    "    .first() # get the first image only (least cloudy)\n",
    "    .clip(london) # clip to the London area extent\n",
    ")"
   ]
  },
  {
   "cell_type": "markdown",
   "id": "da997e33-013d-41ec-a058-de093e0e1619",
   "metadata": {},
   "source": [
    "### List all available bands\n",
    "Use Google Earth Engine GUI (Description and Band tabs) to learn what each band is\n",
    "\n",
    "For Landsat 9,\n",
    "* B2 = Blue\n",
    "* B3 = Green\n",
    "* B4 = Red\n",
    "* B5 = Near infrared (NIR)\n",
    "* B6 and B7 are shortwave infrared (SWIR)"
   ]
  },
  {
   "cell_type": "code",
   "execution_count": 5,
   "id": "67b3cbb3-968c-418c-939f-aa93756d58e6",
   "metadata": {},
   "outputs": [
    {
     "data": {
      "text/plain": [
       "['B1',\n",
       " 'B2',\n",
       " 'B3',\n",
       " 'B4',\n",
       " 'B5',\n",
       " 'B6',\n",
       " 'B7',\n",
       " 'B8',\n",
       " 'B9',\n",
       " 'B10',\n",
       " 'B11',\n",
       " 'QA_PIXEL',\n",
       " 'QA_RADSAT',\n",
       " 'SAA',\n",
       " 'SZA',\n",
       " 'VAA',\n",
       " 'VZA']"
      ]
     },
     "execution_count": 5,
     "metadata": {},
     "output_type": "execute_result"
    }
   ],
   "source": [
    "l9_img.bandNames().getInfo()"
   ]
  },
  {
   "cell_type": "markdown",
   "id": "ff2eeac5-6cb4-4a4f-8b60-72664cf81750",
   "metadata": {},
   "source": [
    "### Create a true-color composite image and show on map\n",
    "* We can combine red, green, and blue band balues to create a true-colour composite image\n",
    "* Use `folium` to place the raster image on an interactive map"
   ]
  },
  {
   "cell_type": "code",
   "execution_count": 6,
   "id": "6f8826f8-8234-44c3-81d0-84d645368a6f",
   "metadata": {},
   "outputs": [],
   "source": [
    "# Define a method for displaying Earth Engine image tiles to folium map\n",
    "# Adapted from https://developers.google.com/earth-engine/tutorials/community/detecting-changes-in-sentinel-1-imagery-pt-1\n",
    "def add_ee_layer(self, ee_image_object, vis_params):\n",
    "    map_id_dict = ee.Image(ee_image_object).getMapId(vis_params)\n",
    "    folium.raster_layers.TileLayer(\n",
    "        tiles = map_id_dict['tile_fetcher'].url_format,\n",
    "        attr = 'Map Data &copy; <a href=\"https://earthengine.google.com/\">Google Earth Engine</a>',\n",
    "        overlay = True\n",
    "    ).add_to(self)\n",
    "\n",
    "# Add EE drawing method to folium\n",
    "folium.Map.add_ee_layer = add_ee_layer"
   ]
  },
  {
   "cell_type": "code",
   "execution_count": 7,
   "id": "9e71b19a-09ae-4096-b4db-8510e29bbd51",
   "metadata": {},
   "outputs": [],
   "source": [
    "red = l9_img.select('B4')\n",
    "green = l9_img.select('B3')\n",
    "blue = l9_img.select('B2')\n",
    "\n",
    "rgb_img = ee.Image.rgb(red, green, blue)"
   ]
  },
  {
   "cell_type": "code",
   "execution_count": 8,
   "id": "fa538f7f-06c8-4d07-b534-83912725392c",
   "metadata": {},
   "outputs": [
    {
     "data": {
      "text/html": [
       "<div style=\"width:100%;\"><div style=\"position:relative;width:100%;height:0;padding-bottom:60%;\"><span style=\"color:#565656\">Make this Notebook Trusted to load map: File -> Trust Notebook</span><iframe srcdoc=\"&lt;!DOCTYPE html&gt;\n",
       "&lt;html&gt;\n",
       "&lt;head&gt;\n",
       "    \n",
       "    &lt;meta http-equiv=&quot;content-type&quot; content=&quot;text/html; charset=UTF-8&quot; /&gt;\n",
       "    \n",
       "        &lt;script&gt;\n",
       "            L_NO_TOUCH = false;\n",
       "            L_DISABLE_3D = false;\n",
       "        &lt;/script&gt;\n",
       "    \n",
       "    &lt;style&gt;html, body {width: 100%;height: 100%;margin: 0;padding: 0;}&lt;/style&gt;\n",
       "    &lt;style&gt;#map {position:absolute;top:0;bottom:0;right:0;left:0;}&lt;/style&gt;\n",
       "    &lt;script src=&quot;https://cdn.jsdelivr.net/npm/leaflet@1.9.3/dist/leaflet.js&quot;&gt;&lt;/script&gt;\n",
       "    &lt;script src=&quot;https://code.jquery.com/jquery-3.7.1.min.js&quot;&gt;&lt;/script&gt;\n",
       "    &lt;script src=&quot;https://cdn.jsdelivr.net/npm/bootstrap@5.2.2/dist/js/bootstrap.bundle.min.js&quot;&gt;&lt;/script&gt;\n",
       "    &lt;script src=&quot;https://cdnjs.cloudflare.com/ajax/libs/Leaflet.awesome-markers/2.0.2/leaflet.awesome-markers.js&quot;&gt;&lt;/script&gt;\n",
       "    &lt;link rel=&quot;stylesheet&quot; href=&quot;https://cdn.jsdelivr.net/npm/leaflet@1.9.3/dist/leaflet.css&quot;/&gt;\n",
       "    &lt;link rel=&quot;stylesheet&quot; href=&quot;https://cdn.jsdelivr.net/npm/bootstrap@5.2.2/dist/css/bootstrap.min.css&quot;/&gt;\n",
       "    &lt;link rel=&quot;stylesheet&quot; href=&quot;https://netdna.bootstrapcdn.com/bootstrap/3.0.0/css/bootstrap.min.css&quot;/&gt;\n",
       "    &lt;link rel=&quot;stylesheet&quot; href=&quot;https://cdn.jsdelivr.net/npm/@fortawesome/fontawesome-free@6.2.0/css/all.min.css&quot;/&gt;\n",
       "    &lt;link rel=&quot;stylesheet&quot; href=&quot;https://cdnjs.cloudflare.com/ajax/libs/Leaflet.awesome-markers/2.0.2/leaflet.awesome-markers.css&quot;/&gt;\n",
       "    &lt;link rel=&quot;stylesheet&quot; href=&quot;https://cdn.jsdelivr.net/gh/python-visualization/folium/folium/templates/leaflet.awesome.rotate.min.css&quot;/&gt;\n",
       "    \n",
       "            &lt;meta name=&quot;viewport&quot; content=&quot;width=device-width,\n",
       "                initial-scale=1.0, maximum-scale=1.0, user-scalable=no&quot; /&gt;\n",
       "            &lt;style&gt;\n",
       "                #map_4988b8f9c4512fa3c3b393b2b09b22af {\n",
       "                    position: relative;\n",
       "                    width: 100.0%;\n",
       "                    height: 100.0%;\n",
       "                    left: 0.0%;\n",
       "                    top: 0.0%;\n",
       "                }\n",
       "                .leaflet-container { font-size: 1rem; }\n",
       "            &lt;/style&gt;\n",
       "        \n",
       "&lt;/head&gt;\n",
       "&lt;body&gt;\n",
       "    \n",
       "    \n",
       "            &lt;div class=&quot;folium-map&quot; id=&quot;map_4988b8f9c4512fa3c3b393b2b09b22af&quot; &gt;&lt;/div&gt;\n",
       "        \n",
       "&lt;/body&gt;\n",
       "&lt;script&gt;\n",
       "    \n",
       "    \n",
       "            var map_4988b8f9c4512fa3c3b393b2b09b22af = L.map(\n",
       "                &quot;map_4988b8f9c4512fa3c3b393b2b09b22af&quot;,\n",
       "                {\n",
       "                    center: [51.51353, -0.11206],\n",
       "                    crs: L.CRS.EPSG3857,\n",
       "                    zoom: 11,\n",
       "                    zoomControl: true,\n",
       "                    preferCanvas: false,\n",
       "                }\n",
       "            );\n",
       "\n",
       "            \n",
       "\n",
       "        \n",
       "    \n",
       "            var tile_layer_7c13946c718c4774e4b4a9ba783a2ea5 = L.tileLayer(\n",
       "                &quot;https://{s}.tile.openstreetmap.org/{z}/{x}/{y}.png&quot;,\n",
       "                {&quot;attribution&quot;: &quot;Data by \\u0026copy; \\u003ca target=\\&quot;_blank\\&quot; href=\\&quot;http://openstreetmap.org\\&quot;\\u003eOpenStreetMap\\u003c/a\\u003e, under \\u003ca target=\\&quot;_blank\\&quot; href=\\&quot;http://www.openstreetmap.org/copyright\\&quot;\\u003eODbL\\u003c/a\\u003e.&quot;, &quot;detectRetina&quot;: false, &quot;maxNativeZoom&quot;: 18, &quot;maxZoom&quot;: 18, &quot;minZoom&quot;: 0, &quot;noWrap&quot;: false, &quot;opacity&quot;: 1, &quot;subdomains&quot;: &quot;abc&quot;, &quot;tms&quot;: false}\n",
       "            );\n",
       "        \n",
       "    \n",
       "                tile_layer_7c13946c718c4774e4b4a9ba783a2ea5.addTo(map_4988b8f9c4512fa3c3b393b2b09b22af);\n",
       "    \n",
       "            var tile_layer_7f045c604ca1837c02c1c1b2f7fac13d = L.tileLayer(\n",
       "                &quot;https://earthengine.googleapis.com/v1/projects/earthengine-legacy/maps/556b5926a8ff9985a69495251fe3ead2-281411423da64aa3ca4dbd7b319f648c/tiles/{z}/{x}/{y}&quot;,\n",
       "                {&quot;attribution&quot;: &quot;Map Data \\u0026copy; \\u003ca href=\\&quot;https://earthengine.google.com/\\&quot;\\u003eGoogle Earth Engine\\u003c/a\\u003e&quot;, &quot;detectRetina&quot;: false, &quot;maxNativeZoom&quot;: 18, &quot;maxZoom&quot;: 18, &quot;minZoom&quot;: 0, &quot;noWrap&quot;: false, &quot;opacity&quot;: 1, &quot;subdomains&quot;: &quot;abc&quot;, &quot;tms&quot;: false}\n",
       "            );\n",
       "        \n",
       "    \n",
       "                tile_layer_7f045c604ca1837c02c1c1b2f7fac13d.addTo(map_4988b8f9c4512fa3c3b393b2b09b22af);\n",
       "&lt;/script&gt;\n",
       "&lt;/html&gt;\" style=\"position:absolute;width:100%;height:100%;left:0;top:0;border:none !important;\" allowfullscreen webkitallowfullscreen mozallowfullscreen></iframe></div></div>"
      ],
      "text/plain": [
       "<folium.folium.Map at 0x11f632f10>"
      ]
     },
     "execution_count": 8,
     "metadata": {},
     "output_type": "execute_result"
    }
   ],
   "source": [
    "# Create the map object\n",
    "m1 = folium.Map(location=london_coords, zoom_start=11)\n",
    "\n",
    "# Add the layer\n",
    "m1.add_ee_layer(rgb_img, {\n",
    "    'min': 0,\n",
    "    'max': 0.25\n",
    "})\n",
    "\n",
    "# Display the map\n",
    "m1"
   ]
  },
  {
   "cell_type": "markdown",
   "id": "5439087f-bfe7-48ff-a56c-168b4266fc0f",
   "metadata": {},
   "source": [
    "### Excercise 1 🗺️\n",
    "\n",
    "Create a true-colour composite layer for a place of your choice (not London) using a Sentinel collection. Display it in a Folium map"
   ]
  },
  {
   "cell_type": "code",
   "execution_count": null,
   "id": "40280003-576b-4fd9-a522-686b61c9d915",
   "metadata": {},
   "outputs": [],
   "source": []
  },
  {
   "cell_type": "code",
   "execution_count": null,
   "id": "1805ec80-ae0d-43fa-a95a-3ed2699548c5",
   "metadata": {},
   "outputs": [],
   "source": []
  },
  {
   "cell_type": "markdown",
   "id": "92eab88e-1f36-4839-a317-46d94e7c7aea",
   "metadata": {},
   "source": [
    "# Part 2. Calculating Normalised Difference Vegetation Index 🌳\n",
    "\n",
    "Remember the formula for NDVI is: \n",
    "\n",
    "`NDVI = (NIR - Red) / (NIR + Red)`\n",
    "\n",
    "And in Landsat 9 imagery, NIR is band B5, and Red is Band B4"
   ]
  },
  {
   "cell_type": "code",
   "execution_count": 9,
   "id": "bdd597b5-139e-4b8f-a3f1-ccc4300ff406",
   "metadata": {},
   "outputs": [],
   "source": [
    "nir = l9_img.select('B5')"
   ]
  },
  {
   "cell_type": "code",
   "execution_count": 10,
   "id": "1a0f07c2-d45e-4461-ae1d-d05441a62691",
   "metadata": {},
   "outputs": [],
   "source": [
    "ndvi = nir.subtract(red).divide( nir.add(red) )\n",
    "ndvi_img = ee.Image(ndvi)"
   ]
  },
  {
   "cell_type": "code",
   "execution_count": 13,
   "id": "a7f83569-c01c-4d3d-95ad-ba9f3f2cce29",
   "metadata": {},
   "outputs": [
    {
     "data": {
      "text/html": [
       "<div style=\"width:100%;\"><div style=\"position:relative;width:100%;height:0;padding-bottom:60%;\"><span style=\"color:#565656\">Make this Notebook Trusted to load map: File -> Trust Notebook</span><iframe srcdoc=\"&lt;!DOCTYPE html&gt;\n",
       "&lt;html&gt;\n",
       "&lt;head&gt;\n",
       "    \n",
       "    &lt;meta http-equiv=&quot;content-type&quot; content=&quot;text/html; charset=UTF-8&quot; /&gt;\n",
       "    \n",
       "        &lt;script&gt;\n",
       "            L_NO_TOUCH = false;\n",
       "            L_DISABLE_3D = false;\n",
       "        &lt;/script&gt;\n",
       "    \n",
       "    &lt;style&gt;html, body {width: 100%;height: 100%;margin: 0;padding: 0;}&lt;/style&gt;\n",
       "    &lt;style&gt;#map {position:absolute;top:0;bottom:0;right:0;left:0;}&lt;/style&gt;\n",
       "    &lt;script src=&quot;https://cdn.jsdelivr.net/npm/leaflet@1.9.3/dist/leaflet.js&quot;&gt;&lt;/script&gt;\n",
       "    &lt;script src=&quot;https://code.jquery.com/jquery-3.7.1.min.js&quot;&gt;&lt;/script&gt;\n",
       "    &lt;script src=&quot;https://cdn.jsdelivr.net/npm/bootstrap@5.2.2/dist/js/bootstrap.bundle.min.js&quot;&gt;&lt;/script&gt;\n",
       "    &lt;script src=&quot;https://cdnjs.cloudflare.com/ajax/libs/Leaflet.awesome-markers/2.0.2/leaflet.awesome-markers.js&quot;&gt;&lt;/script&gt;\n",
       "    &lt;link rel=&quot;stylesheet&quot; href=&quot;https://cdn.jsdelivr.net/npm/leaflet@1.9.3/dist/leaflet.css&quot;/&gt;\n",
       "    &lt;link rel=&quot;stylesheet&quot; href=&quot;https://cdn.jsdelivr.net/npm/bootstrap@5.2.2/dist/css/bootstrap.min.css&quot;/&gt;\n",
       "    &lt;link rel=&quot;stylesheet&quot; href=&quot;https://netdna.bootstrapcdn.com/bootstrap/3.0.0/css/bootstrap.min.css&quot;/&gt;\n",
       "    &lt;link rel=&quot;stylesheet&quot; href=&quot;https://cdn.jsdelivr.net/npm/@fortawesome/fontawesome-free@6.2.0/css/all.min.css&quot;/&gt;\n",
       "    &lt;link rel=&quot;stylesheet&quot; href=&quot;https://cdnjs.cloudflare.com/ajax/libs/Leaflet.awesome-markers/2.0.2/leaflet.awesome-markers.css&quot;/&gt;\n",
       "    &lt;link rel=&quot;stylesheet&quot; href=&quot;https://cdn.jsdelivr.net/gh/python-visualization/folium/folium/templates/leaflet.awesome.rotate.min.css&quot;/&gt;\n",
       "    \n",
       "            &lt;meta name=&quot;viewport&quot; content=&quot;width=device-width,\n",
       "                initial-scale=1.0, maximum-scale=1.0, user-scalable=no&quot; /&gt;\n",
       "            &lt;style&gt;\n",
       "                #map_42f0878edc8f4f5a96044a85a2ecd669 {\n",
       "                    position: relative;\n",
       "                    width: 100.0%;\n",
       "                    height: 100.0%;\n",
       "                    left: 0.0%;\n",
       "                    top: 0.0%;\n",
       "                }\n",
       "                .leaflet-container { font-size: 1rem; }\n",
       "            &lt;/style&gt;\n",
       "        \n",
       "&lt;/head&gt;\n",
       "&lt;body&gt;\n",
       "    \n",
       "    \n",
       "            &lt;div class=&quot;folium-map&quot; id=&quot;map_42f0878edc8f4f5a96044a85a2ecd669&quot; &gt;&lt;/div&gt;\n",
       "        \n",
       "&lt;/body&gt;\n",
       "&lt;script&gt;\n",
       "    \n",
       "    \n",
       "            var map_42f0878edc8f4f5a96044a85a2ecd669 = L.map(\n",
       "                &quot;map_42f0878edc8f4f5a96044a85a2ecd669&quot;,\n",
       "                {\n",
       "                    center: [51.51353, -0.11206],\n",
       "                    crs: L.CRS.EPSG3857,\n",
       "                    zoom: 11,\n",
       "                    zoomControl: true,\n",
       "                    preferCanvas: false,\n",
       "                }\n",
       "            );\n",
       "\n",
       "            \n",
       "\n",
       "        \n",
       "    \n",
       "            var tile_layer_045b11aeda6e07c6da834ab333e0ee1e = L.tileLayer(\n",
       "                &quot;https://{s}.tile.openstreetmap.org/{z}/{x}/{y}.png&quot;,\n",
       "                {&quot;attribution&quot;: &quot;Data by \\u0026copy; \\u003ca target=\\&quot;_blank\\&quot; href=\\&quot;http://openstreetmap.org\\&quot;\\u003eOpenStreetMap\\u003c/a\\u003e, under \\u003ca target=\\&quot;_blank\\&quot; href=\\&quot;http://www.openstreetmap.org/copyright\\&quot;\\u003eODbL\\u003c/a\\u003e.&quot;, &quot;detectRetina&quot;: false, &quot;maxNativeZoom&quot;: 18, &quot;maxZoom&quot;: 18, &quot;minZoom&quot;: 0, &quot;noWrap&quot;: false, &quot;opacity&quot;: 1, &quot;subdomains&quot;: &quot;abc&quot;, &quot;tms&quot;: false}\n",
       "            );\n",
       "        \n",
       "    \n",
       "                tile_layer_045b11aeda6e07c6da834ab333e0ee1e.addTo(map_42f0878edc8f4f5a96044a85a2ecd669);\n",
       "    \n",
       "            var tile_layer_0b101ab54b9a69521dc8a83a2cce67c5 = L.tileLayer(\n",
       "                &quot;https://earthengine.googleapis.com/v1/projects/earthengine-legacy/maps/a11acc32fc370a097650ee3ec8a55328-b830a8a8f46f2940281bb7f6f242ee32/tiles/{z}/{x}/{y}&quot;,\n",
       "                {&quot;attribution&quot;: &quot;Map Data \\u0026copy; \\u003ca href=\\&quot;https://earthengine.google.com/\\&quot;\\u003eGoogle Earth Engine\\u003c/a\\u003e&quot;, &quot;detectRetina&quot;: false, &quot;maxNativeZoom&quot;: 18, &quot;maxZoom&quot;: 18, &quot;minZoom&quot;: 0, &quot;noWrap&quot;: false, &quot;opacity&quot;: 1, &quot;subdomains&quot;: &quot;abc&quot;, &quot;tms&quot;: false}\n",
       "            );\n",
       "        \n",
       "    \n",
       "                tile_layer_0b101ab54b9a69521dc8a83a2cce67c5.addTo(map_42f0878edc8f4f5a96044a85a2ecd669);\n",
       "&lt;/script&gt;\n",
       "&lt;/html&gt;\" style=\"position:absolute;width:100%;height:100%;left:0;top:0;border:none !important;\" allowfullscreen webkitallowfullscreen mozallowfullscreen></iframe></div></div>"
      ],
      "text/plain": [
       "<folium.folium.Map at 0x11f622c10>"
      ]
     },
     "execution_count": 13,
     "metadata": {},
     "output_type": "execute_result"
    }
   ],
   "source": [
    "m2 = folium.Map(location=london_coords, zoom_start=11)\n",
    "\n",
    "m2.add_ee_layer(ndvi_img, {\n",
    "    'min': -1,\n",
    "    'max': 1,\n",
    "    'palette': ['blue', 'white', 'green']\n",
    "})\n",
    "\n",
    "# Display the map\n",
    "m2"
   ]
  },
  {
   "cell_type": "markdown",
   "id": "c3f38ea3-7c14-4de2-ad57-c2f622b590a5",
   "metadata": {},
   "source": [
    "#### Let's now create a mask to only show pixels with high NDVI\n",
    "* This should give us a raster layer of parks and other green areas\n",
    "* Try changing the default (0.45) value"
   ]
  },
  {
   "cell_type": "code",
   "execution_count": 14,
   "id": "8e5f66b2-aa2c-43fd-9407-81977e1e54fc",
   "metadata": {},
   "outputs": [
    {
     "data": {
      "text/html": [
       "<div style=\"width:100%;\"><div style=\"position:relative;width:100%;height:0;padding-bottom:60%;\"><span style=\"color:#565656\">Make this Notebook Trusted to load map: File -> Trust Notebook</span><iframe srcdoc=\"&lt;!DOCTYPE html&gt;\n",
       "&lt;html&gt;\n",
       "&lt;head&gt;\n",
       "    \n",
       "    &lt;meta http-equiv=&quot;content-type&quot; content=&quot;text/html; charset=UTF-8&quot; /&gt;\n",
       "    \n",
       "        &lt;script&gt;\n",
       "            L_NO_TOUCH = false;\n",
       "            L_DISABLE_3D = false;\n",
       "        &lt;/script&gt;\n",
       "    \n",
       "    &lt;style&gt;html, body {width: 100%;height: 100%;margin: 0;padding: 0;}&lt;/style&gt;\n",
       "    &lt;style&gt;#map {position:absolute;top:0;bottom:0;right:0;left:0;}&lt;/style&gt;\n",
       "    &lt;script src=&quot;https://cdn.jsdelivr.net/npm/leaflet@1.9.3/dist/leaflet.js&quot;&gt;&lt;/script&gt;\n",
       "    &lt;script src=&quot;https://code.jquery.com/jquery-3.7.1.min.js&quot;&gt;&lt;/script&gt;\n",
       "    &lt;script src=&quot;https://cdn.jsdelivr.net/npm/bootstrap@5.2.2/dist/js/bootstrap.bundle.min.js&quot;&gt;&lt;/script&gt;\n",
       "    &lt;script src=&quot;https://cdnjs.cloudflare.com/ajax/libs/Leaflet.awesome-markers/2.0.2/leaflet.awesome-markers.js&quot;&gt;&lt;/script&gt;\n",
       "    &lt;link rel=&quot;stylesheet&quot; href=&quot;https://cdn.jsdelivr.net/npm/leaflet@1.9.3/dist/leaflet.css&quot;/&gt;\n",
       "    &lt;link rel=&quot;stylesheet&quot; href=&quot;https://cdn.jsdelivr.net/npm/bootstrap@5.2.2/dist/css/bootstrap.min.css&quot;/&gt;\n",
       "    &lt;link rel=&quot;stylesheet&quot; href=&quot;https://netdna.bootstrapcdn.com/bootstrap/3.0.0/css/bootstrap.min.css&quot;/&gt;\n",
       "    &lt;link rel=&quot;stylesheet&quot; href=&quot;https://cdn.jsdelivr.net/npm/@fortawesome/fontawesome-free@6.2.0/css/all.min.css&quot;/&gt;\n",
       "    &lt;link rel=&quot;stylesheet&quot; href=&quot;https://cdnjs.cloudflare.com/ajax/libs/Leaflet.awesome-markers/2.0.2/leaflet.awesome-markers.css&quot;/&gt;\n",
       "    &lt;link rel=&quot;stylesheet&quot; href=&quot;https://cdn.jsdelivr.net/gh/python-visualization/folium/folium/templates/leaflet.awesome.rotate.min.css&quot;/&gt;\n",
       "    \n",
       "            &lt;meta name=&quot;viewport&quot; content=&quot;width=device-width,\n",
       "                initial-scale=1.0, maximum-scale=1.0, user-scalable=no&quot; /&gt;\n",
       "            &lt;style&gt;\n",
       "                #map_a6ac21a28e64cd82852329de5b3771e2 {\n",
       "                    position: relative;\n",
       "                    width: 100.0%;\n",
       "                    height: 100.0%;\n",
       "                    left: 0.0%;\n",
       "                    top: 0.0%;\n",
       "                }\n",
       "                .leaflet-container { font-size: 1rem; }\n",
       "            &lt;/style&gt;\n",
       "        \n",
       "&lt;/head&gt;\n",
       "&lt;body&gt;\n",
       "    \n",
       "    \n",
       "            &lt;div class=&quot;folium-map&quot; id=&quot;map_a6ac21a28e64cd82852329de5b3771e2&quot; &gt;&lt;/div&gt;\n",
       "        \n",
       "&lt;/body&gt;\n",
       "&lt;script&gt;\n",
       "    \n",
       "    \n",
       "            var map_a6ac21a28e64cd82852329de5b3771e2 = L.map(\n",
       "                &quot;map_a6ac21a28e64cd82852329de5b3771e2&quot;,\n",
       "                {\n",
       "                    center: [51.51353, -0.11206],\n",
       "                    crs: L.CRS.EPSG3857,\n",
       "                    zoom: 11,\n",
       "                    zoomControl: true,\n",
       "                    preferCanvas: false,\n",
       "                }\n",
       "            );\n",
       "\n",
       "            \n",
       "\n",
       "        \n",
       "    \n",
       "            var tile_layer_4e7d265f3ec5b9070ae71530873d1dbc = L.tileLayer(\n",
       "                &quot;https://{s}.tile.openstreetmap.org/{z}/{x}/{y}.png&quot;,\n",
       "                {&quot;attribution&quot;: &quot;Data by \\u0026copy; \\u003ca target=\\&quot;_blank\\&quot; href=\\&quot;http://openstreetmap.org\\&quot;\\u003eOpenStreetMap\\u003c/a\\u003e, under \\u003ca target=\\&quot;_blank\\&quot; href=\\&quot;http://www.openstreetmap.org/copyright\\&quot;\\u003eODbL\\u003c/a\\u003e.&quot;, &quot;detectRetina&quot;: false, &quot;maxNativeZoom&quot;: 18, &quot;maxZoom&quot;: 18, &quot;minZoom&quot;: 0, &quot;noWrap&quot;: false, &quot;opacity&quot;: 1, &quot;subdomains&quot;: &quot;abc&quot;, &quot;tms&quot;: false}\n",
       "            );\n",
       "        \n",
       "    \n",
       "                tile_layer_4e7d265f3ec5b9070ae71530873d1dbc.addTo(map_a6ac21a28e64cd82852329de5b3771e2);\n",
       "    \n",
       "            var tile_layer_9b6ef38d1e13c3039a2122f063cc1bbf = L.tileLayer(\n",
       "                &quot;https://earthengine.googleapis.com/v1/projects/earthengine-legacy/maps/3bd8b00a0bfe3f2110e9d7a87c4850fe-2542fa4eb86b5a4d7459694eb6cf0bdd/tiles/{z}/{x}/{y}&quot;,\n",
       "                {&quot;attribution&quot;: &quot;Map Data \\u0026copy; \\u003ca href=\\&quot;https://earthengine.google.com/\\&quot;\\u003eGoogle Earth Engine\\u003c/a\\u003e&quot;, &quot;detectRetina&quot;: false, &quot;maxNativeZoom&quot;: 18, &quot;maxZoom&quot;: 18, &quot;minZoom&quot;: 0, &quot;noWrap&quot;: false, &quot;opacity&quot;: 1, &quot;subdomains&quot;: &quot;abc&quot;, &quot;tms&quot;: false}\n",
       "            );\n",
       "        \n",
       "    \n",
       "                tile_layer_9b6ef38d1e13c3039a2122f063cc1bbf.addTo(map_a6ac21a28e64cd82852329de5b3771e2);\n",
       "&lt;/script&gt;\n",
       "&lt;/html&gt;\" style=\"position:absolute;width:100%;height:100%;left:0;top:0;border:none !important;\" allowfullscreen webkitallowfullscreen mozallowfullscreen></iframe></div></div>"
      ],
      "text/plain": [
       "<folium.folium.Map at 0x11f603b50>"
      ]
     },
     "execution_count": 14,
     "metadata": {},
     "output_type": "execute_result"
    }
   ],
   "source": [
    "ndvi_img_mask = ndvi_img.mask(ndvi_img.gt(0.45))\n",
    "\n",
    "m3 = folium.Map(location=london_coords, zoom_start=11)\n",
    "\n",
    "m3.add_ee_layer(ndvi_img_mask, {\n",
    "    'min': -1,\n",
    "    'max': 1,\n",
    "    'palette': ['green']\n",
    "})\n",
    "\n",
    "m3"
   ]
  },
  {
   "cell_type": "markdown",
   "id": "c0f82084-d590-4a39-955f-f83fbb7aa476",
   "metadata": {},
   "source": [
    "### Exercise 2 💧\n",
    "\n",
    "Create a *Normalised Difference Water Index* for your study area from Exercise 1, and plot it in a folium map"
   ]
  },
  {
   "cell_type": "code",
   "execution_count": null,
   "id": "270b45ba-8484-4f0e-b30c-ae85ea7f5ad4",
   "metadata": {},
   "outputs": [],
   "source": []
  },
  {
   "cell_type": "code",
   "execution_count": null,
   "id": "45be326b-537d-430e-bfd1-dec5008771c1",
   "metadata": {},
   "outputs": [],
   "source": []
  },
  {
   "cell_type": "markdown",
   "id": "31972378-614a-465f-80ec-e0493e238506",
   "metadata": {},
   "source": [
    "# Part 3 - Change Detection using Simple Difference 🕵️‍♀️\n",
    "\n",
    "Let's take two images, the least cloudy one from Jan-March 2023 and the least cloudy one from June-Aug 2023, and detect changes in NDVI using simple difference between the index values."
   ]
  },
  {
   "cell_type": "code",
   "execution_count": 70,
   "id": "8b29665d-9b64-41a8-b239-a6968dd1dfaa",
   "metadata": {},
   "outputs": [],
   "source": [
    "l9_img_2022 = ee.Image(\n",
    "    l9_collection\n",
    "    .filterBounds(london) # get only those images that contain our boundary for London\n",
    "    .filterDate('2022-05-01', '2023-09-30') # get images from summer 2022\n",
    "    .sort('CLOUD_COVER') # sort in ascending order by cloud cover\n",
    "    .first() # get the first image only (least cloudy)\n",
    "    .clip(london) # clip to the London area extent\n",
    ")\n",
    "\n",
    "l9_img_2023 = ee.Image(\n",
    "    l9_collection\n",
    "    .filterBounds(london) # get only those images that contain our boundary for London\n",
    "    .filterDate('2023-05-01', '2023-09-30') # get images from summer 2023\n",
    "    .sort('CLOUD_COVER') # sort in ascending order by cloud cover\n",
    "    .first() # get the first image only (least cloudy)\n",
    "    .clip(london) # clip to the London area extent\n",
    ")"
   ]
  },
  {
   "cell_type": "markdown",
   "id": "5f473523-23d7-4a7f-9428-3444a5f55a7c",
   "metadata": {},
   "source": [
    "### Let's see which images we got\n",
    "* Display cloud cover and dates for both images"
   ]
  },
  {
   "cell_type": "code",
   "execution_count": 203,
   "id": "6e967144-e440-4784-b1f6-e2ed89acc0d1",
   "metadata": {},
   "outputs": [],
   "source": [
    "def get_img_info(img):\n",
    "    return (\n",
    "        'Image from '\n",
    "        + img.date().format('Y-M-d').getInfo()\n",
    "        + ' with the cloud cover of '\n",
    "        + str(img.get('CLOUD_COVER').getInfo())\n",
    "        + '%'\n",
    "    )"
   ]
  },
  {
   "cell_type": "code",
   "execution_count": 204,
   "id": "3f676bb4-df02-4cf1-9c7b-75e008b4bccc",
   "metadata": {},
   "outputs": [
    {
     "data": {
      "text/plain": [
       "'Image from 2022-8-10 with the cloud cover of 0.03%'"
      ]
     },
     "execution_count": 204,
     "metadata": {},
     "output_type": "execute_result"
    }
   ],
   "source": [
    "get_img_info(l9_img_2022)"
   ]
  },
  {
   "cell_type": "code",
   "execution_count": 205,
   "id": "d09c504c-2a1c-4e6e-a6d6-d3ea78a684fe",
   "metadata": {},
   "outputs": [
    {
     "data": {
      "text/plain": [
       "'Image from 2023-9-7 with the cloud cover of 0.26%'"
      ]
     },
     "execution_count": 205,
     "metadata": {},
     "output_type": "execute_result"
    }
   ],
   "source": [
    "get_img_info(l9_img_2023)"
   ]
  },
  {
   "cell_type": "code",
   "execution_count": 110,
   "id": "8152522f-985f-4c80-b776-cb8220709f56",
   "metadata": {},
   "outputs": [],
   "source": [
    "# Calculate NDVI indices using a built-in function\n",
    "ndvi_2022 = l9_img_2022.normalizedDifference(['B5', 'B4'])\n",
    "ndvi_2023 = l9_img_2023.normalizedDifference(['B5', 'B4'])\n",
    "\n",
    "# Subtract the two\n",
    "ndvi_diff = ndvi_2023.subtract(ndvi_2022)"
   ]
  },
  {
   "cell_type": "code",
   "execution_count": 206,
   "id": "aea7fac9-8131-4601-95e0-3dae67f55440",
   "metadata": {},
   "outputs": [],
   "source": [
    "# Let's get a sample of the NDVI difference values into a 1D numpy array\n",
    "values_2d = np.array(\n",
    "    ndvi_diff.sampleRectangle(\n",
    "        region=london_point.buffer(2000)\n",
    "    )\n",
    "    .getInfo()\n",
    "    ['properties']\n",
    "    ['nd']\n",
    ")\n",
    "\n",
    "values_1d = values_2d.reshape(-1)"
   ]
  },
  {
   "cell_type": "code",
   "execution_count": 207,
   "id": "b2956cf1-825f-4128-b54b-f381cc91ecf5",
   "metadata": {},
   "outputs": [
    {
     "data": {
      "text/plain": [
       "(array([1.000e+00, 0.000e+00, 0.000e+00, 1.000e+00, 1.000e+00, 2.000e+00,\n",
       "        1.000e+00, 2.000e+00, 1.000e+00, 3.000e+00, 5.000e+00, 8.000e+00,\n",
       "        1.100e+01, 1.200e+01, 3.300e+01, 3.900e+01, 6.000e+01, 7.900e+01,\n",
       "        1.280e+02, 1.810e+02, 2.440e+02, 3.460e+02, 5.450e+02, 7.410e+02,\n",
       "        1.068e+03, 1.584e+03, 2.332e+03, 2.870e+03, 2.650e+03, 1.847e+03,\n",
       "        1.149e+03, 7.760e+02, 5.030e+02, 3.290e+02, 2.090e+02, 1.320e+02,\n",
       "        7.900e+01, 4.200e+01, 2.900e+01, 1.700e+01, 1.000e+01, 8.000e+00,\n",
       "        7.000e+00, 2.000e+00, 0.000e+00, 1.000e+00, 1.000e+00, 0.000e+00,\n",
       "        0.000e+00, 1.000e+00]),\n",
       " array([-0.65402448, -0.63054072, -0.60705695, -0.58357319, -0.56008943,\n",
       "        -0.53660566, -0.5131219 , -0.48963813, -0.46615437, -0.44267061,\n",
       "        -0.41918684, -0.39570308, -0.37221931, -0.34873555, -0.32525179,\n",
       "        -0.30176802, -0.27828426, -0.25480049, -0.23131673, -0.20783297,\n",
       "        -0.1843492 , -0.16086544, -0.13738168, -0.11389791, -0.09041415,\n",
       "        -0.06693038, -0.04344662, -0.01996286,  0.00352091,  0.02700467,\n",
       "         0.05048844,  0.0739722 ,  0.09745596,  0.12093973,  0.14442349,\n",
       "         0.16790726,  0.19139102,  0.21487478,  0.23835855,  0.26184231,\n",
       "         0.28532608,  0.30880984,  0.3322936 ,  0.35577737,  0.37926113,\n",
       "         0.4027449 ,  0.42622866,  0.44971242,  0.47319619,  0.49667995,\n",
       "         0.52016371]),\n",
       " <BarContainer object of 50 artists>)"
      ]
     },
     "execution_count": 207,
     "metadata": {},
     "output_type": "execute_result"
    },
    {
     "data": {
      "image/png": "[encoded data removed]",
      "text/plain": [
       "<Figure size 640x480 with 1 Axes>"
      ]
     },
     "metadata": {},
     "output_type": "display_data"
    }
   ],
   "source": [
    "plt.hist(values_1d, bins=50)"
   ]
  },
  {
   "cell_type": "markdown",
   "id": "4572658b-be2e-40e4-8cc2-1ee1a71e5431",
   "metadata": {},
   "source": [
    "* We can see the difference values are more or less normally distributed around 0\n",
    "* Let's plot values of 0.2+ in blue to signify areas with more vegetation in 2023\n",
    "* Let's plot values of less than 0.2 in red to represent areas with less vegetation in 2023"
   ]
  },
  {
   "cell_type": "code",
   "execution_count": 216,
   "id": "49bed227-e317-4464-a9bd-6599a2203d26",
   "metadata": {},
   "outputs": [
    {
     "data": {
      "text/html": [
       "<div style=\"width:100%;\"><div style=\"position:relative;width:100%;height:0;padding-bottom:60%;\"><span style=\"color:#565656\">Make this Notebook Trusted to load map: File -> Trust Notebook</span><iframe srcdoc=\"&lt;!DOCTYPE html&gt;\n",
       "&lt;html&gt;\n",
       "&lt;head&gt;\n",
       "    \n",
       "    &lt;meta http-equiv=&quot;content-type&quot; content=&quot;text/html; charset=UTF-8&quot; /&gt;\n",
       "    \n",
       "        &lt;script&gt;\n",
       "            L_NO_TOUCH = false;\n",
       "            L_DISABLE_3D = false;\n",
       "        &lt;/script&gt;\n",
       "    \n",
       "    &lt;style&gt;html, body {width: 100%;height: 100%;margin: 0;padding: 0;}&lt;/style&gt;\n",
       "    &lt;style&gt;#map {position:absolute;top:0;bottom:0;right:0;left:0;}&lt;/style&gt;\n",
       "    &lt;script src=&quot;https://cdn.jsdelivr.net/npm/leaflet@1.9.3/dist/leaflet.js&quot;&gt;&lt;/script&gt;\n",
       "    &lt;script src=&quot;https://code.jquery.com/jquery-3.7.1.min.js&quot;&gt;&lt;/script&gt;\n",
       "    &lt;script src=&quot;https://cdn.jsdelivr.net/npm/bootstrap@5.2.2/dist/js/bootstrap.bundle.min.js&quot;&gt;&lt;/script&gt;\n",
       "    &lt;script src=&quot;https://cdnjs.cloudflare.com/ajax/libs/Leaflet.awesome-markers/2.0.2/leaflet.awesome-markers.js&quot;&gt;&lt;/script&gt;\n",
       "    &lt;link rel=&quot;stylesheet&quot; href=&quot;https://cdn.jsdelivr.net/npm/leaflet@1.9.3/dist/leaflet.css&quot;/&gt;\n",
       "    &lt;link rel=&quot;stylesheet&quot; href=&quot;https://cdn.jsdelivr.net/npm/bootstrap@5.2.2/dist/css/bootstrap.min.css&quot;/&gt;\n",
       "    &lt;link rel=&quot;stylesheet&quot; href=&quot;https://netdna.bootstrapcdn.com/bootstrap/3.0.0/css/bootstrap.min.css&quot;/&gt;\n",
       "    &lt;link rel=&quot;stylesheet&quot; href=&quot;https://cdn.jsdelivr.net/npm/@fortawesome/fontawesome-free@6.2.0/css/all.min.css&quot;/&gt;\n",
       "    &lt;link rel=&quot;stylesheet&quot; href=&quot;https://cdnjs.cloudflare.com/ajax/libs/Leaflet.awesome-markers/2.0.2/leaflet.awesome-markers.css&quot;/&gt;\n",
       "    &lt;link rel=&quot;stylesheet&quot; href=&quot;https://cdn.jsdelivr.net/gh/python-visualization/folium/folium/templates/leaflet.awesome.rotate.min.css&quot;/&gt;\n",
       "    \n",
       "            &lt;meta name=&quot;viewport&quot; content=&quot;width=device-width,\n",
       "                initial-scale=1.0, maximum-scale=1.0, user-scalable=no&quot; /&gt;\n",
       "            &lt;style&gt;\n",
       "                #map_35133916eb11cb4980ac2415446fd55c {\n",
       "                    position: relative;\n",
       "                    width: 100.0%;\n",
       "                    height: 100.0%;\n",
       "                    left: 0.0%;\n",
       "                    top: 0.0%;\n",
       "                }\n",
       "                .leaflet-container { font-size: 1rem; }\n",
       "            &lt;/style&gt;\n",
       "        \n",
       "&lt;/head&gt;\n",
       "&lt;body&gt;\n",
       "    \n",
       "    \n",
       "            &lt;div class=&quot;folium-map&quot; id=&quot;map_35133916eb11cb4980ac2415446fd55c&quot; &gt;&lt;/div&gt;\n",
       "        \n",
       "&lt;/body&gt;\n",
       "&lt;script&gt;\n",
       "    \n",
       "    \n",
       "            var map_35133916eb11cb4980ac2415446fd55c = L.map(\n",
       "                &quot;map_35133916eb11cb4980ac2415446fd55c&quot;,\n",
       "                {\n",
       "                    center: [51.51353, -0.11206],\n",
       "                    crs: L.CRS.EPSG3857,\n",
       "                    zoom: 11,\n",
       "                    zoomControl: true,\n",
       "                    preferCanvas: false,\n",
       "                }\n",
       "            );\n",
       "\n",
       "            \n",
       "\n",
       "        \n",
       "    \n",
       "            var tile_layer_20bf1f6d0c0fa68402e9c3b38f694c64 = L.tileLayer(\n",
       "                &quot;https://{s}.tile.openstreetmap.org/{z}/{x}/{y}.png&quot;,\n",
       "                {&quot;attribution&quot;: &quot;Data by \\u0026copy; \\u003ca target=\\&quot;_blank\\&quot; href=\\&quot;http://openstreetmap.org\\&quot;\\u003eOpenStreetMap\\u003c/a\\u003e, under \\u003ca target=\\&quot;_blank\\&quot; href=\\&quot;http://www.openstreetmap.org/copyright\\&quot;\\u003eODbL\\u003c/a\\u003e.&quot;, &quot;detectRetina&quot;: false, &quot;maxNativeZoom&quot;: 18, &quot;maxZoom&quot;: 18, &quot;minZoom&quot;: 0, &quot;noWrap&quot;: false, &quot;opacity&quot;: 1, &quot;subdomains&quot;: &quot;abc&quot;, &quot;tms&quot;: false}\n",
       "            );\n",
       "        \n",
       "    \n",
       "                tile_layer_20bf1f6d0c0fa68402e9c3b38f694c64.addTo(map_35133916eb11cb4980ac2415446fd55c);\n",
       "    \n",
       "            var tile_layer_c492a3123677d8296bcc7d514a114199 = L.tileLayer(\n",
       "                &quot;https://earthengine.googleapis.com/v1/projects/earthengine-legacy/maps/dbd61c7453814b6dcae74d3b236ee918-b56ed8cad96d863498665f73609dc34d/tiles/{z}/{x}/{y}&quot;,\n",
       "                {&quot;attribution&quot;: &quot;Map Data \\u0026copy; \\u003ca href=\\&quot;https://earthengine.google.com/\\&quot;\\u003eGoogle Earth Engine\\u003c/a\\u003e&quot;, &quot;detectRetina&quot;: false, &quot;maxNativeZoom&quot;: 18, &quot;maxZoom&quot;: 18, &quot;minZoom&quot;: 0, &quot;noWrap&quot;: false, &quot;opacity&quot;: 1, &quot;subdomains&quot;: &quot;abc&quot;, &quot;tms&quot;: false}\n",
       "            );\n",
       "        \n",
       "    \n",
       "                tile_layer_c492a3123677d8296bcc7d514a114199.addTo(map_35133916eb11cb4980ac2415446fd55c);\n",
       "    \n",
       "            var tile_layer_4c0cd005a3c8555521e13ed8bab1d5f7 = L.tileLayer(\n",
       "                &quot;https://earthengine.googleapis.com/v1/projects/earthengine-legacy/maps/214c693155ea419da9c6d633f98644be-27fdb1f576faa99d05956730e1c551d8/tiles/{z}/{x}/{y}&quot;,\n",
       "                {&quot;attribution&quot;: &quot;Map Data \\u0026copy; \\u003ca href=\\&quot;https://earthengine.google.com/\\&quot;\\u003eGoogle Earth Engine\\u003c/a\\u003e&quot;, &quot;detectRetina&quot;: false, &quot;maxNativeZoom&quot;: 18, &quot;maxZoom&quot;: 18, &quot;minZoom&quot;: 0, &quot;noWrap&quot;: false, &quot;opacity&quot;: 1, &quot;subdomains&quot;: &quot;abc&quot;, &quot;tms&quot;: false}\n",
       "            );\n",
       "        \n",
       "    \n",
       "                tile_layer_4c0cd005a3c8555521e13ed8bab1d5f7.addTo(map_35133916eb11cb4980ac2415446fd55c);\n",
       "&lt;/script&gt;\n",
       "&lt;/html&gt;\" style=\"position:absolute;width:100%;height:100%;left:0;top:0;border:none !important;\" allowfullscreen webkitallowfullscreen mozallowfullscreen></iframe></div></div>"
      ],
      "text/plain": [
       "<folium.folium.Map at 0x121b240d0>"
      ]
     },
     "execution_count": 216,
     "metadata": {},
     "output_type": "execute_result"
    }
   ],
   "source": [
    "m4 = folium.Map(location=london_coords, zoom_start=11)\n",
    "\n",
    "# Create a general vegetation mask - let's consider 2023 NDVI values of 0.3+ as vegetation\n",
    "veg_mask = ndvi_2023.gt(0.3)\n",
    "\n",
    "# Increased vegetation mask\n",
    "veg_increase_mask = ndvi_diff.gt(0.2)\n",
    "\n",
    "# Decreased vegetation mask\n",
    "veg_decrease_mask = ndvi_diff.lt(-0.2)\n",
    "\n",
    "# Let's plot these in different colours\n",
    "m4.add_ee_layer(\n",
    "    ndvi_diff.updateMask(veg_mask).updateMask(veg_increase_mask),\n",
    "    {'palette': ['red'] }\n",
    ")\n",
    "\n",
    "m4.add_ee_layer(\n",
    "    ndvi_diff.updateMask(veg_mask).updateMask(veg_decrease_mask),\n",
    "    {'palette': ['blue'] }\n",
    ")\n",
    "\n",
    "m4"
   ]
  },
  {
   "cell_type": "markdown",
   "id": "d45aba5d-bfe1-44aa-b3bd-179684bfd8ea",
   "metadata": {},
   "source": [
    "### Exercise 3\n",
    "\n",
    "Create a simple difference map for the NDWI values for the two time periods for your area of choice"
   ]
  },
  {
   "cell_type": "code",
   "execution_count": null,
   "id": "c0edeb41-40a0-4efa-af37-ff5b8ab8bf74",
   "metadata": {},
   "outputs": [],
   "source": []
  }
 ],
 "metadata": {
  "kernelspec": {
   "display_name": "Python 3 (ipykernel)",
   "language": "python",
   "name": "python3"
  },
  "language_info": {
   "codemirror_mode": {
    "name": "ipython",
    "version": 3
   },
   "file_extension": ".py",
   "mimetype": "text/x-python",
   "name": "python",
   "nbconvert_exporter": "python",
   "pygments_lexer": "ipython3",
   "version": "3.11.3"
  }
 },
 "nbformat": 4,
 "nbformat_minor": 5
}
