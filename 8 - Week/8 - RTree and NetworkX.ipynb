{
 "cells": [
  {
   "cell_type": "markdown",
   "metadata": {},
   "source": [
    "# Practical: RTree and NetworkX"
   ]
  },
  {
   "cell_type": "markdown",
   "metadata": {},
   "source": [
    "In this practical we will be looking at the various methods for reading geospatial information represented by a\n",
    "graph network.\n",
    "\n",
    "In this practical we shall be working on Ordnance Survey Mastermap Integrated Transport Network data that covers the\n",
    "island of Mersea in Essex. The OS data has been downloaded from Edina Digimap and has been cleaned up in QGIS.\n",
    "You must use this data in accordance with the Educational User Licence that you agreed to when you signed up to Edina\n",
    "Digimap.\n",
    "\n",
    "All OS data is © Crown copyright and database rights 2018 Ordnance Survey."
   ]
  },
  {
   "cell_type": "markdown",
   "metadata": {},
   "source": [
    "## RTree\n",
    "\n",
    "Rtree is a ctypes Python wrapper of libspatialindex that provides a number of advanced spatial indexing features for\n",
    "the spatially curious Python user.\n",
    "\n",
    "To use rtree, we need to import the object index:"
   ]
  },
  {
   "cell_type": "code",
   "execution_count": null,
   "metadata": {},
   "outputs": [],
   "source": [
    "from rtree import index"
   ]
  },
  {
   "cell_type": "markdown",
   "metadata": {},
   "source": [
    "After importing the index module, we build an index using its default constructor:"
   ]
  },
  {
   "cell_type": "code",
   "execution_count": null,
   "metadata": {},
   "outputs": [],
   "source": [
    "idx = index.Index()"
   ]
  },
  {
   "cell_type": "markdown",
   "metadata": {},
   "source": [
    "After instantiating the index, we create a bounding box that we insert into the index:"
   ]
  },
  {
   "cell_type": "code",
   "execution_count": null,
   "metadata": {},
   "outputs": [],
   "source": [
    "br = (0.0, 0.0, 1.0, 1.0)"
   ]
  },
  {
   "cell_type": "markdown",
   "metadata": {},
   "source": [
    "We now insert this entry into the index:"
   ]
  },
  {
   "cell_type": "code",
   "execution_count": null,
   "metadata": {},
   "outputs": [],
   "source": [
    "idx.insert(0, br)"
   ]
  },
  {
   "cell_type": "markdown",
   "metadata": {},
   "source": [
    "We also add 10,000 squares of length 0.99 into the index:"
   ]
  },
  {
   "cell_type": "code",
   "execution_count": null,
   "metadata": {},
   "outputs": [],
   "source": [
    "for i in range(100):\n",
    "    for j in range(100):\n",
    "        idx.insert(i*100 + j, (i, j, i+0.99, j+0.99))"
   ]
  },
  {
   "cell_type": "markdown",
   "metadata": {},
   "source": [
    "We can query the index using `intersection`. This will return the indexed entries that cross or are contained\n",
    "within the given query window."
   ]
  },
  {
   "cell_type": "code",
   "execution_count": null,
   "metadata": {},
   "outputs": [],
   "source": [
    "for i in idx.intersection((1.0, 1.0, 2.0, 2.0)):\n",
    "    print(i)"
   ]
  },
  {
   "cell_type": "markdown",
   "metadata": {},
   "source": [
    "We can query the index using nearest. This will return the nearest indexed entries to the given query point.\n",
    "If multiple items are of equal distance to the bounds, both are returned:"
   ]
  },
  {
   "cell_type": "code",
   "execution_count": null,
   "metadata": {},
   "outputs": [],
   "source": [
    "for i in idx.nearest((0.8, 0.8), 1):\n",
    "    print(i)"
   ]
  },
  {
   "cell_type": "markdown",
   "metadata": {
    "pycharm": {
     "name": "#%% md\n"
    }
   },
   "source": [
    "Note that if an object with the same id is added, the first object will not be replaced by the second one.\n",
    "If you need unique ids then you should handle them yourself, for example using a set."
   ]
  },
  {
   "cell_type": "markdown",
   "metadata": {},
   "source": [
    "# Exercise 33\n",
    "\n",
    "Create a Polygon using Shapely and index their Minimum Bounding Rectangles, then query the index using a point using\n",
    "the intersection method."
   ]
  },
  {
   "cell_type": "code",
   "execution_count": null,
   "metadata": {},
   "outputs": [],
   "source": []
  },
  {
   "cell_type": "markdown",
   "metadata": {},
   "source": [
    "## Introduction to NetworkX\n",
    "\n",
    "NetworkX is a Python package for the creation, manipulation, and study of the structure, dynamics, and functions of\n",
    "complex networks.\n",
    "\n",
    "We can import `networkx` like this:"
   ]
  },
  {
   "cell_type": "code",
   "execution_count": null,
   "metadata": {},
   "outputs": [],
   "source": [
    "import networkx as nx"
   ]
  },
  {
   "cell_type": "markdown",
   "metadata": {},
   "source": [
    "We start creating a small graph consisting of 5 nodes and 4 edges. Nodes can either be added individually (`add_node`)\n",
    "or from a list (`add_nodes_from`)."
   ]
  },
  {
   "cell_type": "code",
   "execution_count": null,
   "metadata": {},
   "outputs": [],
   "source": [
    "g = nx.Graph()"
   ]
  },
  {
   "cell_type": "markdown",
   "metadata": {},
   "source": [
    "We add a node:"
   ]
  },
  {
   "cell_type": "code",
   "execution_count": null,
   "metadata": {},
   "outputs": [],
   "source": [
    "g.add_node(1)"
   ]
  },
  {
   "cell_type": "markdown",
   "metadata": {},
   "source": [
    "Or multiple nodes by using a list:"
   ]
  },
  {
   "cell_type": "code",
   "execution_count": null,
   "metadata": {},
   "outputs": [],
   "source": [
    "g.add_nodes_from([2, 3, 4, 5])"
   ]
  },
  {
   "cell_type": "markdown",
   "metadata": {},
   "source": [
    "We can then access the nodes via `nodes`:"
   ]
  },
  {
   "cell_type": "code",
   "execution_count": null,
   "metadata": {},
   "outputs": [],
   "source": [
    "g.nodes"
   ]
  },
  {
   "cell_type": "markdown",
   "metadata": {},
   "source": [
    "We have the option to add attributes to nodes. In this example, we iterate through the nodes in the graph and apply a\n",
    "value `green` to a `color` attribute key. Then assign a `red` to the `color` attribute in Node 1."
   ]
  },
  {
   "cell_type": "code",
   "execution_count": null,
   "metadata": {},
   "outputs": [],
   "source": [
    "for node in g.nodes:\n",
    "    g.nodes[node]['color'] = 'green'\n",
    "\n",
    "g.nodes[1]['color'] = 'red'"
   ]
  },
  {
   "cell_type": "markdown",
   "metadata": {},
   "source": [
    "We can display the nodes using `draw`. Before using the `draw` method, generate a list of colors that corresponds to\n",
    "the node `color` attributes.\n",
    "\n",
    "Note: The standard method for obtaining a value from a dictionary is `dictionary[key]`. An alternative method is to\n",
    "use the `.get` method which allows for a default value if the key does not exist."
   ]
  },
  {
   "cell_type": "code",
   "execution_count": null,
   "metadata": {},
   "outputs": [],
   "source": [
    "node_colors = []\n",
    "for node in g.nodes:\n",
    "    node_colors.append(g.nodes[node].get('color','blue'))\n",
    "    \n",
    "nx.draw(g, with_labels=True, node_color=node_colors)"
   ]
  },
  {
   "cell_type": "markdown",
   "metadata": {},
   "source": [
    "Nodes are only one part of a graph. Edges are the connections between nodes. We can add edges by specifying the two\n",
    "nodes that the edge connects. Attributes can be added at the same time as the edges are created."
   ]
  },
  {
   "cell_type": "code",
   "execution_count": null,
   "metadata": {},
   "outputs": [],
   "source": [
    "g.add_edge(0, 1, color='blue')\n",
    "g.add_edges_from([(0,2), (0,3), (0,4), (0,5)], color='purple')"
   ]
  },
  {
   "cell_type": "markdown",
   "metadata": {},
   "source": [
    "We can now draw the graph with the edges connected. Note that an `edge_colors` list can be generated in much the same\n",
    "way a `node_colors` list."
   ]
  },
  {
   "cell_type": "code",
   "execution_count": null,
   "metadata": {},
   "outputs": [],
   "source": [
    "node_colors = []\n",
    "for node in g.nodes:\n",
    "    node_colors.append(g.nodes[node].get('color','blue'))\n",
    "    \n",
    "edge_colors = []\n",
    "for u, v in g.edges:\n",
    "    edge_colors.append(g.edges[u, v].get('color', 'black'))\n",
    "\n",
    "nx.draw(g, with_labels=True, node_color=node_colors, edge_color=edge_colors)"
   ]
  },
  {
   "cell_type": "markdown",
   "metadata": {},
   "source": [
    "To avoid repeating code every time we need to draw a graph, let's define a function for creating the color lists\n",
    "`node_colors` and `edge_colors`."
   ]
  },
  {
   "cell_type": "code",
   "execution_count": null,
   "metadata": {},
   "outputs": [],
   "source": [
    "def obtain_colors(graph, default_node='blue', default_edge='black'):\n",
    "    node_colors = []\n",
    "    for node in graph.nodes:\n",
    "        node_colors.append(graph.nodes[node].get('color', default_node))\n",
    "    edge_colors = []\n",
    "    for u, v in graph.edges:\n",
    "        edge_colors.append(graph.edges[u, v].get('color', default_edge))\n",
    "    return node_colors, edge_colors"
   ]
  },
  {
   "cell_type": "markdown",
   "metadata": {},
   "source": [
    "Graphs can be joined together in networkx using the `compose` function.\n",
    "\n",
    "To demonstrate `compose` let's make a new graph `h` with its own color scheme."
   ]
  },
  {
   "cell_type": "code",
   "execution_count": null,
   "metadata": {},
   "outputs": [],
   "source": [
    "h = nx.Graph()\n",
    "\n",
    "h.add_edges_from([(1, 6), (1, 7), (1, 8), (1, 9)], color='purple')\n",
    "for node in h.nodes:\n",
    "    h.nodes[node]['color'] = 'grey'\n",
    "\n",
    "h.nodes[1]['color']  = 'pink'"
   ]
  },
  {
   "cell_type": "markdown",
   "metadata": {},
   "source": [
    "We now display this new graph."
   ]
  },
  {
   "cell_type": "code",
   "execution_count": null,
   "metadata": {},
   "outputs": [],
   "source": [
    "node_colors_2, edge_colors_2 = obtain_colors(h)\n",
    "\n",
    "nx.draw(h, with_labels=True, node_color=node_colors_2, edge_color=edge_colors_2)"
   ]
  },
  {
   "cell_type": "markdown",
   "metadata": {},
   "source": [
    "Now let's combine the 2 graphs together using compose. We first draw the graph `gh`, where the attributes of `h`\n",
    "override the attributes of `g`:"
   ]
  },
  {
   "cell_type": "code",
   "execution_count": null,
   "metadata": {},
   "outputs": [],
   "source": [
    "gh = nx.compose(g, h)\n",
    "\n",
    "node_colors_gh, edge_colors_gh = obtain_colors(gh)\n",
    "nx.draw(gh, with_labels=True, node_color=node_colors_gh, edge_color=edge_colors_gh)"
   ]
  },
  {
   "cell_type": "markdown",
   "metadata": {},
   "source": [
    "We now draw the graph hg with `g` overriding `h`. Note how Node 1 is pink in `gh` and red in `hg`:"
   ]
  },
  {
   "cell_type": "code",
   "execution_count": null,
   "metadata": {},
   "outputs": [],
   "source": [
    "hg = nx.compose(h, g)\n",
    "\n",
    "node_colors_hg, edge_colors_hg = obtain_colors(hg)\n",
    "nx.draw(hg, with_labels=True, node_color=node_colors_hg, edge_color=edge_colors_hg)"
   ]
  },
  {
   "cell_type": "markdown",
   "metadata": {},
   "source": [
    "In `networkx` you can create graphs of a certain shape using built-in functions. We can add a rectangular grid or a\n",
    "hexagon graph using the code below."
   ]
  },
  {
   "cell_type": "code",
   "execution_count": null,
   "metadata": {},
   "outputs": [],
   "source": [
    "m = nx.grid_2d_graph(3,3)\n",
    "nx.draw(m, with_labels=True)"
   ]
  },
  {
   "cell_type": "markdown",
   "metadata": {},
   "source": [
    "We can also build a graph with the shape of hexagons:"
   ]
  },
  {
   "cell_type": "code",
   "execution_count": null,
   "metadata": {},
   "outputs": [],
   "source": [
    "n = nx.hexagonal_lattice_graph(3, 3, with_positions=True)\n",
    "\n",
    "pos = {}\n",
    "for node in n.nodes:\n",
    "    pos[node] = n.nodes[node]['pos']\n",
    "\n",
    "nx.draw(n, pos=pos)"
   ]
  },
  {
   "cell_type": "markdown",
   "metadata": {},
   "source": [
    "The Dijkstra algorithm can be used to find the shortest distance between two nodes. The algorithm returns a list of\n",
    "nodes starting with the start node specified.\n",
    "\n",
    "For the purposes of this exercise we shall be creating a rectangular grid using the functions below.\n",
    "This rectangular grid differs from the built-in grid in that the node id is an integer rather than a tuple pair."
   ]
  },
  {
   "cell_type": "code",
   "execution_count": null,
   "metadata": {},
   "outputs": [],
   "source": [
    "def get_node_id(r, c, w):\n",
    "    return w * r + c \n",
    "\n",
    "def make_2d_grid(h, w):\n",
    "    pos = {} # contains a co-ordinate positions to assist drawing\n",
    "    g = nx.Graph()\n",
    "    for r in range(h):\n",
    "        for c in range(w):\n",
    "            if c != w-1: \n",
    "                g.add_edge(get_node_id(r, c, w), get_node_id(r, c+1, w), weight=1.0, length=1.0, color='black')\n",
    "            if r != h-1: \n",
    "                g.add_edge(get_node_id(r, c, w), get_node_id(r+1, c, w), weight=1.0, length=1.0, color='black')\n",
    "            pos[get_node_id(r, c, w)]= (-1 + (c * 2 / w), 1 - (r * 2 / h))\n",
    "            g.nodes[get_node_id(r, c, w)]['color'] = 'red'\n",
    "    return g, pos"
   ]
  },
  {
   "cell_type": "markdown",
   "metadata": {},
   "source": [
    "Using the `make_2d_grid function` create a 3x3 grid 'r' and its associated position information (`pos`).\n",
    "This will improve the visual layout of the plotted graph."
   ]
  },
  {
   "cell_type": "code",
   "execution_count": null,
   "metadata": {},
   "outputs": [],
   "source": [
    "r, pos = make_2d_grid(3,3)\n",
    "\n",
    "node_colors, edge_colors = obtain_colors(r)\n",
    "\n",
    "nx.draw(r, pos=pos, with_labels=True, font_weight='bold', edge_color=edge_colors, node_color=node_colors, font_color='white')"
   ]
  },
  {
   "cell_type": "markdown",
   "metadata": {},
   "source": [
    "We can use the `dijkstra_path` method to calculate to shortest path between the nodes 3 and 8. When calculating the\n",
    "shortest path the `weight` attribute is passed to the `weight` keyword argument."
   ]
  },
  {
   "cell_type": "code",
   "execution_count": null,
   "metadata": {},
   "outputs": [],
   "source": [
    "path = nx.dijkstra_path(r, source=3, target=8, weight=\"weight\")\n",
    "path"
   ]
  },
  {
   "cell_type": "markdown",
   "metadata": {},
   "source": [
    "Does the returned path connect nodes 3 and 8?\n",
    "\n",
    "Next we define a function to color the found path."
   ]
  },
  {
   "cell_type": "code",
   "execution_count": null,
   "metadata": {},
   "outputs": [],
   "source": [
    "def color_path(g, path, color='blue'):\n",
    "    res = g.copy()\n",
    "    first = path[0]\n",
    "    for node in path[1:]:\n",
    "        res.edges[first, node]['color'] = color\n",
    "        first = node\n",
    "    return res"
   ]
  },
  {
   "cell_type": "markdown",
   "metadata": {},
   "source": [
    "We then use the function to apply the colors to the graph and plot:"
   ]
  },
  {
   "cell_type": "code",
   "execution_count": null,
   "metadata": {},
   "outputs": [],
   "source": [
    "r_new = color_path(r, path)\n",
    "node_colors, edge_colors = obtain_colors(r_new)\n",
    "\n",
    "nx.draw(r_new, pos=pos, with_labels=True, font_weight='bold', edge_color=edge_colors, node_color=node_colors, font_color='white')"
   ]
  },
  {
   "cell_type": "markdown",
   "metadata": {},
   "source": [
    "A Digraph is a graph in which the edges are directed from a start node to an end node. \n",
    "\n",
    "We use the `to_directed` method on the rectangular grid `r` created in the previous code cells to create a new\n",
    "digraph `d`."
   ]
  },
  {
   "cell_type": "code",
   "execution_count": null,
   "metadata": {},
   "outputs": [],
   "source": [
    "d = r.to_directed()\n",
    "\n",
    "node_colors, edge_colors = obtain_colors(d)\n",
    "nx.draw(d, pos=pos, with_labels=True, font_weight='bold', edge_color=edge_colors, font_color='white')"
   ]
  },
  {
   "cell_type": "markdown",
   "metadata": {},
   "source": [
    "We use the `remove_edge` method to remove an edge in a specified direction. Then, we plot this again. Notice that now\n",
    "there is only one arrow on the edge connecting nodes 4 and 5."
   ]
  },
  {
   "cell_type": "code",
   "execution_count": null,
   "metadata": {},
   "outputs": [],
   "source": [
    "d.remove_edge(4,5) "
   ]
  },
  {
   "cell_type": "code",
   "execution_count": null,
   "metadata": {},
   "outputs": [],
   "source": [
    "node_colors, edge_colors = obtain_colors(d)\n",
    "\n",
    "nx.draw(d, pos=pos, with_labels=True, font_weight='bold', edge_color=edge_colors, font_color='white')"
   ]
  },
  {
   "cell_type": "markdown",
   "metadata": {},
   "source": [
    "Now we recalculate the shortest path using this new grid:"
   ]
  },
  {
   "cell_type": "code",
   "execution_count": null,
   "metadata": {},
   "outputs": [],
   "source": [
    "path_1 = nx.dijkstra_path(d, source=3, target=8, weight=\"weight\")\n",
    "path_1"
   ]
  },
  {
   "cell_type": "markdown",
   "metadata": {},
   "source": [
    "We now color the graph and path. However, the previously defined function `obtain_colors` is no longer ideal because\n",
    "the opposing edge remains of the original colour."
   ]
  },
  {
   "cell_type": "code",
   "execution_count": null,
   "metadata": {},
   "outputs": [],
   "source": [
    "d_1 = color_path(d, path_1)\n",
    "\n",
    "node_colors, edge_colors = obtain_colors(d_1)\n",
    "\n",
    "nx.draw(d_1, pos=pos, with_labels=True, font_weight='bold', edge_color=edge_colors, node_color=node_colors, font_color='white')"
   ]
  },
  {
   "cell_type": "markdown",
   "metadata": {},
   "source": [
    "# Exercise 34\n",
    "\n",
    "Create a 5 by 5 hexagonal graph, then compute and color the shortest path from node 2 to node 20. "
   ]
  },
  {
   "cell_type": "code",
   "execution_count": null,
   "metadata": {},
   "outputs": [],
   "source": []
  },
  {
   "cell_type": "markdown",
   "metadata": {},
   "source": [
    "## Network Analysis of Integrated Traffic Network\n",
    "\n",
    "For the final step we shall perform a Dijkstra Analysis on the road network of Mersea Island.\n",
    "\n",
    "The ITN data has been extracted form a GML file that is downloadable from Edina Digimap. Having been cleaned up it has\n",
    "been saved as a JSON file for convenient reading in this exercise. Open the JSON file in a text editor to view the\n",
    "information that has been extracted.\n",
    "\n",
    "The information has been divided up into four sections:\n",
    "\n",
    "- `roadlinks` - a dictionary of roadlinks indexed by feature ID containing:\n",
    "   - 'start' - the feature ID of the start node;\n",
    "   - 'end' - the feature ID of the end node;\n",
    "   - 'natureOfRoad' - e.g. Single Carriageway;\n",
    "   - 'descriptiveTerm' - e.g. Local Street;\n",
    "   - 'length' - the length of the roadlink between nodes;\n",
    "   - 'coords' - a linestring of BNG coordinates from start node to end node.\n",
    "- `roadnodes` - a dictionary of roadnodes indexed by feature ID containing:\n",
    "    - 'coords' - the BNG coordinate of the node;\n",
    "- `road` - a dictionary of \"roads\" indexed by feature ID containing:\n",
    "    - 'Primary' - True if the road is a primary route;\n",
    "    - 'roadName' - the name of the road e.g. \"M25\" or \"Gower Street\";\n",
    "    - 'links' - the feature IDs of roadlinks that make up the road.\n",
    "- `routeinfo` - a dictionary of oneway route indexed by feature ID\n",
    "    - 'oneway' - a list of tuples containing feature ID of roadlinks and a direction indicator;\n",
    "    - A `'+'` indicates that the direction of permitted travel is from start node to end node of the roadlink;\n",
    "    - A `'-'` indicates that the direction of permitted travel is from end node to start node of the roadlink."
   ]
  },
  {
   "cell_type": "code",
   "execution_count": null,
   "metadata": {},
   "outputs": [],
   "source": [
    "import os\n",
    "import json \n",
    "\n",
    "mersea_itn_json = os.path.join('8 - Material', 'itn', 'mersea_itn.json')\n",
    "with open(mersea_itn_json, 'r') as f:\n",
    "    mersea_itn=json.load(f)"
   ]
  },
  {
   "cell_type": "markdown",
   "metadata": {},
   "source": [
    "We now create the graph from the dictionary loaded from the JSON file. For this exercise we shall be creating a\n",
    "simple undirected graph. Any parallel edge will be overwritten as the graph is built up."
   ]
  },
  {
   "cell_type": "code",
   "execution_count": null,
   "metadata": {},
   "outputs": [],
   "source": [
    "g = nx.Graph()\n",
    "road_links = mersea_itn['roadlinks']\n",
    "for link in road_links:\n",
    "    g.add_edge(road_links[link]['start'], road_links[link]['end'], fid = link, weight = road_links[link]['length'])"
   ]
  },
  {
   "cell_type": "markdown",
   "metadata": {},
   "source": [
    "We now inspect the graph. \n",
    "\n",
    "Note: This plot is unlikely to be meaningful."
   ]
  },
  {
   "cell_type": "code",
   "execution_count": null,
   "metadata": {},
   "outputs": [],
   "source": [
    "nx.draw(g, node_size=1)"
   ]
  },
  {
   "cell_type": "markdown",
   "metadata": {},
   "source": [
    "We shall now find the shortest path between two random nodes on this island road network."
   ]
  },
  {
   "cell_type": "code",
   "execution_count": null,
   "metadata": {},
   "outputs": [],
   "source": [
    "start = 'osgb5000005124619786'\n",
    "end = 'osgb4000000029329827'\n",
    "\n",
    "path = nx.dijkstra_path(g, source=start, target=end, weight='weight')\n",
    "path"
   ]
  },
  {
   "cell_type": "markdown",
   "metadata": {},
   "source": [
    "We will use the `color_path` function that we created earlier to color the graph network and then plot it:"
   ]
  },
  {
   "cell_type": "code",
   "execution_count": null,
   "metadata": {},
   "outputs": [],
   "source": [
    "g_1 = color_path(g, path, 'red')\n",
    "\n",
    "node_colors, edge_colors = obtain_colors(g_1)\n",
    "\n",
    "nx.draw(g_1, node_size=1, edge_color=edge_colors, node_color=node_colors)"
   ]
  },
  {
   "cell_type": "markdown",
   "metadata": {},
   "source": [
    "The final step of this part is to create a GeoDataFrame of the shortest path and then display it on top of a raster.\n",
    "We shall be using the following packages and a background map of Mersea island."
   ]
  },
  {
   "cell_type": "code",
   "execution_count": null,
   "metadata": {},
   "outputs": [],
   "source": [
    "import rasterio\n",
    "import numpy as np\n",
    "import geopandas as gpd\n",
    "import matplotlib.pyplot as plt\n",
    "from cartopy import crs\n",
    "from shapely.geometry import LineString\n",
    "\n",
    "mersea_background = os.path.join('8 - Material', 'oml', 'oml-raster_2683809.tif')"
   ]
  },
  {
   "cell_type": "markdown",
   "metadata": {},
   "source": [
    "The first step is to iterate through each of the nodes on the calculated shortest path. We assign the first node to the\n",
    "variable `first_node`. Then, starting with the second node, we find the `fid` of road link that connects the\n",
    "`first_node` and `node`. Knowing the roadlink `fid`, we can find the coordinates and make a `shapely` LineString object.\n",
    "The final step of each iteration is to set `first_node` so that it can be used in the next iteration.\n",
    "\n",
    "On each iteration we append the feature id and the geometry to two lists `links` and `geom` which are used to build\n",
    "the `path_gpd` GeoDataFrame."
   ]
  },
  {
   "cell_type": "code",
   "execution_count": null,
   "metadata": {},
   "outputs": [],
   "source": [
    "links = [] # this list will be used to populate the feature id (fid) column\n",
    "geom  = [] # this list will be used to populate the geometry column\n",
    "\n",
    "first_node = path[0]\n",
    "for node in path[1:]:\n",
    "    link_fid = g.edges[first_node, node]['fid']\n",
    "    links.append(link_fid)\n",
    "    geom.append(LineString(road_links[link_fid]['coords']))\n",
    "    first_node = node\n",
    "\n",
    "shortest_path_gpd = gpd.GeoDataFrame({'fid': links, 'geometry': geom})"
   ]
  },
  {
   "cell_type": "markdown",
   "metadata": {},
   "source": [
    "Let's now check how this route looks like:"
   ]
  },
  {
   "cell_type": "code",
   "execution_count": null,
   "metadata": {},
   "outputs": [],
   "source": [
    "shortest_path_gpd.plot()"
   ]
  },
  {
   "cell_type": "markdown",
   "metadata": {},
   "source": [
    "In order to view the route, load the background map and apply the colormap to the array."
   ]
  },
  {
   "cell_type": "code",
   "execution_count": null,
   "metadata": {},
   "outputs": [],
   "source": [
    "background = rasterio.open(mersea_background)\n",
    "back_array = background.read(1)\n",
    "palette = np.array([value for key, value in background.colormap(1).items()])\n",
    "background_image = palette[back_array]\n",
    "bounds = background.bounds\n",
    "extent = [bounds.left, bounds.right, bounds.bottom,  bounds.top]\n",
    "display_extent = [bounds.left+200, bounds.right-200, bounds.bottom+600, bounds.top-600]"
   ]
  },
  {
   "cell_type": "code",
   "execution_count": null,
   "metadata": {},
   "outputs": [],
   "source": [
    "fig = plt.figure(figsize=(3,3), dpi=300)\n",
    "ax = fig.add_subplot(1,1,1, projection=crs.OSGB())\n",
    "\n",
    "ax.imshow(background_image, origin='upper', extent=extent, zorder=0)\n",
    "\n",
    "shortest_path_gpd.plot(ax=ax, edgecolor='blue', linewidth=0.5, zorder=2)\n",
    "\n",
    "ax.set_extent(display_extent, crs=crs.OSGB())"
   ]
  },
  {
   "cell_type": "markdown",
   "metadata": {},
   "source": [
    "# Exercise 35\n",
    "\n",
    "Compute and show the shortest path between the most southerly location and the most northerly location in the\n",
    "Mersea Island."
   ]
  },
  {
   "cell_type": "code",
   "execution_count": null,
   "metadata": {},
   "outputs": [],
   "source": []
  }
 ],
 "metadata": {
  "kernelspec": {
   "display_name": "Python 3",
   "language": "python",
   "name": "python3"
  },
  "language_info": {
   "codemirror_mode": {
    "name": "ipython",
    "version": 3
   },
   "file_extension": ".py",
   "mimetype": "text/x-python",
   "name": "python",
   "nbconvert_exporter": "python",
   "pygments_lexer": "ipython3",
   "version": "3.8.5"
  }
 },
 "nbformat": 4,
 "nbformat_minor": 2
}