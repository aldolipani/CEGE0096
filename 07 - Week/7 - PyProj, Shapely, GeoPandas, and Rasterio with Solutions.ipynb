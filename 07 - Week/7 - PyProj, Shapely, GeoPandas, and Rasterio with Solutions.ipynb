{
 "cells": [
  {
   "cell_type": "markdown",
   "metadata": {},
   "source": [
    "# Practical: PyProj, Shapely, GeoPandas, and Rasterio"
   ]
  },
  {
   "cell_type": "markdown",
   "metadata": {},
   "source": [
    "## PyProj\n",
    "\n",
    "PyProj is a python interface to PROJ, a cartographic projections and coordinate transformations library.\n",
    "Using PyProj we can import a Coordinate Reference System object (CRS) which will allow us to get a reference\n",
    "system in various way."
   ]
  },
  {
   "cell_type": "code",
   "execution_count": 1,
   "metadata": {},
   "outputs": [],
   "source": [
    "from pyproj import CRS"
   ]
  },
  {
   "cell_type": "markdown",
   "metadata": {},
   "source": [
    "For example to get the WGS 84, we can use its EPSG id:"
   ]
  },
  {
   "cell_type": "code",
   "execution_count": 2,
   "metadata": {},
   "outputs": [
    {
     "data": {
      "text/plain": "<Geographic 2D CRS: EPSG:4326>\nName: WGS 84\nAxis Info [ellipsoidal]:\n- Lat[north]: Geodetic latitude (degree)\n- Lon[east]: Geodetic longitude (degree)\nArea of Use:\n- name: World.\n- bounds: (-180.0, -90.0, 180.0, 90.0)\nDatum: World Geodetic System 1984\n- Ellipsoid: WGS 84\n- Prime Meridian: Greenwich"
     },
     "execution_count": 2,
     "metadata": {},
     "output_type": "execute_result"
    }
   ],
   "source": [
    "crs = CRS.from_epsg(4326)\n",
    "crs"
   ]
  },
  {
   "cell_type": "markdown",
   "metadata": {},
   "source": [
    "Or, using its full string:"
   ]
  },
  {
   "cell_type": "code",
   "execution_count": 3,
   "metadata": {},
   "outputs": [
    {
     "data": {
      "text/plain": "<Geographic 2D CRS: EPSG:4326>\nName: WGS 84\nAxis Info [ellipsoidal]:\n- Lat[north]: Geodetic latitude (degree)\n- Lon[east]: Geodetic longitude (degree)\nArea of Use:\n- name: World.\n- bounds: (-180.0, -90.0, 180.0, 90.0)\nDatum: World Geodetic System 1984\n- Ellipsoid: WGS 84\n- Prime Meridian: Greenwich"
     },
     "execution_count": 3,
     "metadata": {},
     "output_type": "execute_result"
    }
   ],
   "source": [
    "CRS.from_string(\"epsg:4326\")"
   ]
  },
  {
   "cell_type": "markdown",
   "metadata": {},
   "source": [
    "To transform coordinates from a CRS to another CRS we can use the Transform object of PyProj."
   ]
  },
  {
   "cell_type": "code",
   "execution_count": 4,
   "metadata": {},
   "outputs": [],
   "source": [
    "from pyproj import Transformer"
   ]
  },
  {
   "cell_type": "markdown",
   "metadata": {},
   "source": [
    "Once imported we can define a transformer object in different ways. For example, using CRS objects:"
   ]
  },
  {
   "cell_type": "code",
   "execution_count": 5,
   "metadata": {},
   "outputs": [],
   "source": [
    "wsg84 = CRS.from_epsg(4326)\n",
    "osgb36 = CRS.from_epsg(27700)\n",
    "transformer = Transformer.from_crs(wsg84, osgb36)"
   ]
  },
  {
   "cell_type": "markdown",
   "metadata": {},
   "source": [
    "Or, by using EPSG ids:"
   ]
  },
  {
   "cell_type": "code",
   "execution_count": 6,
   "metadata": {},
   "outputs": [],
   "source": [
    "transformer = Transformer.from_crs(4326, 27700)"
   ]
  },
  {
   "cell_type": "markdown",
   "metadata": {},
   "source": [
    "Or, by using EPSG strings:"
   ]
  },
  {
   "cell_type": "code",
   "execution_count": 7,
   "metadata": {},
   "outputs": [],
   "source": [
    "transformer = Transformer.from_crs(\"EPSG:4326\", \"EPSG:27700\")"
   ]
  },
  {
   "cell_type": "markdown",
   "metadata": {},
   "source": [
    "The `Transfomer` class implements a `transfom` method that allows the transformation of the coordinates in the first\n",
    "CRS to the second CRS:"
   ]
  },
  {
   "cell_type": "code",
   "execution_count": 8,
   "metadata": {},
   "outputs": [
    {
     "data": {
      "text/plain": "(547765.8625470925, 180864.8198432314)"
     },
     "execution_count": 8,
     "metadata": {},
     "output_type": "execute_result"
    }
   ],
   "source": [
    "transformer.transform(51.5074, 0.1278)"
   ]
  },
  {
   "cell_type": "markdown",
   "metadata": {},
   "source": [
    "## Shapely\n",
    "\n",
    "Shapely is a Python library for the manipulation and analysis of planar geometric objects. \n"
   ]
  },
  {
   "cell_type": "markdown",
   "metadata": {},
   "source": [
    "### Points\n",
    "\n",
    "With Shapely we can easily create points. \n",
    "\n",
    "To create a point object in Shapely we first need to import its class from the geometry module:"
   ]
  },
  {
   "cell_type": "code",
   "execution_count": 9,
   "metadata": {},
   "outputs": [],
   "source": [
    "from shapely.geometry import Point"
   ]
  },
  {
   "cell_type": "markdown",
   "metadata": {},
   "source": [
    "To create a point we need to pass to its constructor a pair of coordinate values:"
   ]
  },
  {
   "cell_type": "code",
   "execution_count": 10,
   "metadata": {},
   "outputs": [],
   "source": [
    "pt1 = Point(0, 0)"
   ]
  },
  {
   "cell_type": "markdown",
   "metadata": {},
   "source": [
    "To get the coordinates of a point object we can use the `xy` attribute. \n",
    "This will return a tuple containing the x and y coordinates of the point as two arrays of length 1."
   ]
  },
  {
   "cell_type": "code",
   "execution_count": 11,
   "metadata": {},
   "outputs": [
    {
     "data": {
      "text/plain": "(array('d', [0.0]), array('d', [0.0]))"
     },
     "execution_count": 11,
     "metadata": {},
     "output_type": "execute_result"
    }
   ],
   "source": [
    "pt1.xy"
   ]
  },
  {
   "cell_type": "markdown",
   "metadata": {},
   "source": [
    "Given two points, we can compute their distance using the `distance` method available in every instance of\n",
    "the `Geometry`  class and its children classes. The Point class is a child of the `Geometry` class."
   ]
  },
  {
   "cell_type": "code",
   "execution_count": 12,
   "metadata": {},
   "outputs": [
    {
     "data": {
      "text/plain": "1.4142135623730951"
     },
     "execution_count": 12,
     "metadata": {},
     "output_type": "execute_result"
    }
   ],
   "source": [
    "pt2 = Point(1, 1)\n",
    "pt1.distance(pt2)"
   ]
  },
  {
   "cell_type": "markdown",
   "metadata": {},
   "source": [
    "### LineString\n",
    "\n",
    "`LineString`s are used to represent a series of segments all connect to each other. \n",
    "\n",
    "In order to use `LineString`s we first need to import the `LineString` class from the geometry module of Shapely:"
   ]
  },
  {
   "cell_type": "code",
   "execution_count": 13,
   "metadata": {},
   "outputs": [],
   "source": [
    "from shapely.geometry import LineString"
   ]
  },
  {
   "cell_type": "markdown",
   "metadata": {},
   "source": [
    "If we want to create a segment, we just need to pass a list of two pair of coordinates to the `LineString` constructor:"
   ]
  },
  {
   "cell_type": "code",
   "execution_count": 14,
   "metadata": {},
   "outputs": [
    {
     "data": {
      "text/plain": "<shapely.geometry.linestring.LineString at 0x7fe09b18d5b0>",
      "image/svg+xml": "<svg xmlns=\"http://www.w3.org/2000/svg\" xmlns:xlink=\"http://www.w3.org/1999/xlink\" width=\"100.0\" height=\"100.0\" viewBox=\"-0.04 -0.04 1.08 1.08\" preserveAspectRatio=\"xMinYMin meet\"><g transform=\"matrix(1,0,0,-1,0,1.0)\"><polyline fill=\"none\" stroke=\"#66cc99\" stroke-width=\"0.0216\" points=\"0.0,0.0 1.0,1.0\" opacity=\"0.8\" /></g></svg>"
     },
     "execution_count": 14,
     "metadata": {},
     "output_type": "execute_result"
    }
   ],
   "source": [
    "line = LineString([(0, 0), (1, 1)])\n",
    "line"
   ]
  },
  {
   "cell_type": "markdown",
   "metadata": {},
   "source": [
    "Or, we can pass a list of points:"
   ]
  },
  {
   "cell_type": "code",
   "execution_count": 15,
   "metadata": {},
   "outputs": [
    {
     "data": {
      "text/plain": "<shapely.geometry.linestring.LineString at 0x7fe09b18d070>",
      "image/svg+xml": "<svg xmlns=\"http://www.w3.org/2000/svg\" xmlns:xlink=\"http://www.w3.org/1999/xlink\" width=\"100.0\" height=\"100.0\" viewBox=\"-0.04 -0.04 1.08 1.08\" preserveAspectRatio=\"xMinYMin meet\"><g transform=\"matrix(1,0,0,-1,0,1.0)\"><polyline fill=\"none\" stroke=\"#66cc99\" stroke-width=\"0.0216\" points=\"0.0,0.0 1.0,1.0\" opacity=\"0.8\" /></g></svg>"
     },
     "execution_count": 15,
     "metadata": {},
     "output_type": "execute_result"
    }
   ],
   "source": [
    "line = LineString([pt1, pt2])\n",
    "line"
   ]
  },
  {
   "cell_type": "markdown",
   "metadata": {},
   "source": [
    "To get the coordinates of this line, like for the point object, we can use the `xy` attribute. However, this time the\n",
    "returning arrays of x and y values will have length 2:"
   ]
  },
  {
   "cell_type": "code",
   "execution_count": 16,
   "metadata": {},
   "outputs": [
    {
     "data": {
      "text/plain": "(array('d', [0.0, 1.0]), array('d', [0.0, 1.0]))"
     },
     "execution_count": 16,
     "metadata": {},
     "output_type": "execute_result"
    }
   ],
   "source": [
    "line.xy"
   ]
  },
  {
   "cell_type": "markdown",
   "metadata": {},
   "source": [
    "Also LineStrings, as any geometric object, implements the distance operator. Following a non trivial example of the\n",
    "distance between a point and a line:"
   ]
  },
  {
   "cell_type": "code",
   "execution_count": 17,
   "metadata": {},
   "outputs": [
    {
     "data": {
      "text/plain": "0.07071067811865474"
     },
     "execution_count": 17,
     "metadata": {},
     "output_type": "execute_result"
    }
   ],
   "source": [
    "pt3 = Point(0.4, 0.5)\n",
    "line.distance(pt3)"
   ]
  },
  {
   "cell_type": "markdown",
   "metadata": {},
   "source": [
    "Think about how you would compute this distance manually.\n",
    "\n",
    "We can create more complex `LineString`s by passing a longer list of points to the `LineString` constructor:"
   ]
  },
  {
   "cell_type": "code",
   "execution_count": 18,
   "metadata": {},
   "outputs": [
    {
     "data": {
      "text/plain": "<shapely.geometry.linestring.LineString at 0x7fe09b194850>",
      "image/svg+xml": "<svg xmlns=\"http://www.w3.org/2000/svg\" xmlns:xlink=\"http://www.w3.org/1999/xlink\" width=\"100.0\" height=\"100.0\" viewBox=\"-0.04 -0.04 1.08 1.08\" preserveAspectRatio=\"xMinYMin meet\"><g transform=\"matrix(1,0,0,-1,0,1.0)\"><polyline fill=\"none\" stroke=\"#66cc99\" stroke-width=\"0.0216\" points=\"0.0,0.0 1.0,1.0 1.0,0.0 0.6,0.4\" opacity=\"0.8\" /></g></svg>"
     },
     "execution_count": 18,
     "metadata": {},
     "output_type": "execute_result"
    }
   ],
   "source": [
    "line = LineString([pt1, pt2, (1, 0), (0.6, 0.4)])\n",
    "line"
   ]
  },
  {
   "cell_type": "markdown",
   "metadata": {},
   "source": [
    "## Polygon\n",
    "\n",
    "In Shapely we can also define polygons. "
   ]
  },
  {
   "cell_type": "code",
   "execution_count": 19,
   "metadata": {},
   "outputs": [],
   "source": [
    "from shapely.geometry import Polygon"
   ]
  },
  {
   "cell_type": "markdown",
   "metadata": {},
   "source": [
    "To create a polygon we can pass the same list of coordinates passed to create the previous more complex `LineString`:"
   ]
  },
  {
   "cell_type": "code",
   "execution_count": 20,
   "metadata": {},
   "outputs": [
    {
     "data": {
      "text/plain": "<shapely.geometry.polygon.Polygon at 0x7fe09b194fa0>",
      "image/svg+xml": "<svg xmlns=\"http://www.w3.org/2000/svg\" xmlns:xlink=\"http://www.w3.org/1999/xlink\" width=\"100.0\" height=\"100.0\" viewBox=\"-0.04 -0.04 1.08 1.08\" preserveAspectRatio=\"xMinYMin meet\"><g transform=\"matrix(1,0,0,-1,0,1.0)\"><path fill-rule=\"evenodd\" fill=\"#66cc99\" stroke=\"#555555\" stroke-width=\"0.0216\" opacity=\"0.6\" d=\"M 0.0,0.0 L 1.0,1.0 L 1.0,0.0 L 0.6,0.4 L 0.0,0.0 z\" /></g></svg>"
     },
     "execution_count": 20,
     "metadata": {},
     "output_type": "execute_result"
    }
   ],
   "source": [
    "polygon = Polygon([(0, 0), (1, 1), (1, 0), (0.6, 0.4)])\n",
    "polygon"
   ]
  },
  {
   "cell_type": "markdown",
   "metadata": {},
   "source": [
    "This will create a polygon with an external `LineString` defining its perimeter. To get this `LineString` back, we\n",
    "need to use the `exterior` attribute:"
   ]
  },
  {
   "cell_type": "code",
   "execution_count": 21,
   "metadata": {},
   "outputs": [
    {
     "data": {
      "text/plain": "<shapely.geometry.polygon.LinearRing at 0x7fe09551b220>",
      "image/svg+xml": "<svg xmlns=\"http://www.w3.org/2000/svg\" xmlns:xlink=\"http://www.w3.org/1999/xlink\" width=\"100.0\" height=\"100.0\" viewBox=\"-0.04 -0.04 1.08 1.08\" preserveAspectRatio=\"xMinYMin meet\"><g transform=\"matrix(1,0,0,-1,0,1.0)\"><polyline fill=\"none\" stroke=\"#66cc99\" stroke-width=\"0.0216\" points=\"0.0,0.0 1.0,1.0 1.0,0.0 0.6,0.4 0.0,0.0\" opacity=\"0.8\" /></g></svg>"
     },
     "execution_count": 21,
     "metadata": {},
     "output_type": "execute_result"
    }
   ],
   "source": [
    "polygon.exterior"
   ]
  },
  {
   "cell_type": "markdown",
   "metadata": {},
   "source": [
    "If we want to get the coordinates of this `LineString`, we can use the attribute `xy`:"
   ]
  },
  {
   "cell_type": "code",
   "execution_count": 22,
   "metadata": {},
   "outputs": [
    {
     "data": {
      "text/plain": "(array('d', [0.0, 1.0, 1.0, 0.6, 0.0]), array('d', [0.0, 1.0, 0.0, 0.4, 0.0]))"
     },
     "execution_count": 22,
     "metadata": {},
     "output_type": "execute_result"
    }
   ],
   "source": [
    "polygon.exterior.xy"
   ]
  },
  {
   "cell_type": "markdown",
   "metadata": {},
   "source": [
    "If we now compare the points we have used to construct the polygon and this exterior `LineString`, we can observe\n",
    "that there is an additional point. This point is added automatically by the `Polygon` constructor in order to assure\n",
    "that the `LineString` is close."
   ]
  },
  {
   "cell_type": "markdown",
   "metadata": {},
   "source": [
    "### Plotting Shapely Shapes with Matplotlib\n",
    "\n",
    "To plot Shapely shapes using Matplotlib we first need to import the object `matplotlib.pyplot`:"
   ]
  },
  {
   "cell_type": "code",
   "execution_count": 23,
   "metadata": {},
   "outputs": [],
   "source": [
    "import matplotlib.pyplot as plt"
   ]
  },
  {
   "cell_type": "markdown",
   "metadata": {},
   "source": [
    "Then, we need to extract the coordinates from a Shapely object we wish to plot in Matplotlib:"
   ]
  },
  {
   "cell_type": "code",
   "execution_count": 24,
   "metadata": {},
   "outputs": [],
   "source": [
    "x, y = polygon.exterior.xy"
   ]
  },
  {
   "cell_type": "markdown",
   "metadata": {},
   "source": [
    "At this point, we have all we need to plot in Matplotlib. We can now pass these coordinates to the `fill` method\n",
    "of `plt`. Remember that we use `fill` because we are plotting a polygon. Use `plot` if you want to plot just\n",
    "its perimeter."
   ]
  },
  {
   "cell_type": "code",
   "execution_count": 25,
   "metadata": {},
   "outputs": [
    {
     "data": {
      "text/plain": "<Figure size 432x288 with 1 Axes>",
      "image/png": "[encoded data removed]"
     },
     "metadata": {
      "needs_background": "light"
     },
     "output_type": "display_data"
    }
   ],
   "source": [
    "plt.fill(x, y)\n",
    "plt.show()"
   ]
  },
  {
   "cell_type": "markdown",
   "metadata": {},
   "source": [
    "### Attributes and Methods of Geometric Objects\n",
    "\n",
    "Any geometric objects of Shapely provides a series of methods that are useful to compute various geometric\n",
    "properties. These methods are all defined by the parent `Geometry` class. However, their behavior changes based\n",
    "on their specific class.\n",
    "\n",
    "For example, to compute the length of a shape:"
   ]
  },
  {
   "cell_type": "code",
   "execution_count": 26,
   "metadata": {},
   "outputs": [
    {
     "data": {
      "text/plain": "(0.0, 2.979898987322333, 3.701009242415131)"
     },
     "execution_count": 26,
     "metadata": {},
     "output_type": "execute_result"
    }
   ],
   "source": [
    "pt1.length, line.length, polygon.length"
   ]
  },
  {
   "cell_type": "markdown",
   "metadata": {},
   "source": [
    "To compute the area of a shape:"
   ]
  },
  {
   "cell_type": "code",
   "execution_count": 27,
   "metadata": {},
   "outputs": [
    {
     "data": {
      "text/plain": "(0.0, 0.0, 0.3)"
     },
     "execution_count": 27,
     "metadata": {},
     "output_type": "execute_result"
    }
   ],
   "source": [
    "pt1.area, line.area, polygon.area"
   ]
  },
  {
   "cell_type": "markdown",
   "metadata": {},
   "source": [
    "To get the geometric type of an object:"
   ]
  },
  {
   "cell_type": "code",
   "execution_count": 28,
   "metadata": {},
   "outputs": [
    {
     "data": {
      "text/plain": "('Point', 'LineString', 'Polygon')"
     },
     "execution_count": 28,
     "metadata": {},
     "output_type": "execute_result"
    }
   ],
   "source": [
    "pt1.geom_type, line.geom_type, polygon.geom_type"
   ]
  },
  {
   "cell_type": "markdown",
   "metadata": {},
   "source": [
    "To compute the distance between two objects:"
   ]
  },
  {
   "cell_type": "code",
   "execution_count": 29,
   "metadata": {},
   "outputs": [
    {
     "data": {
      "text/plain": "(0.07071067811865474, 0.0)"
     },
     "execution_count": 29,
     "metadata": {},
     "output_type": "execute_result"
    }
   ],
   "source": [
    "pt3.distance(line), line.distance(polygon)"
   ]
  },
  {
   "cell_type": "markdown",
   "metadata": {},
   "source": [
    "To compute the distance from the two furthest points of the objects:"
   ]
  },
  {
   "cell_type": "code",
   "execution_count": 30,
   "metadata": {},
   "outputs": [
    {
     "data": {
      "text/plain": "(0.7810249675906654, 0.0)"
     },
     "execution_count": 30,
     "metadata": {},
     "output_type": "execute_result"
    }
   ],
   "source": [
    "pt3.hausdorff_distance(line), line.hausdorff_distance(polygon)"
   ]
  },
  {
   "cell_type": "markdown",
   "metadata": {},
   "source": [
    "### Topological Relationships\n",
    "\n",
    "Using Shapely we can easily identify if two objects are touching (their contact point is at their border) or one\n",
    "object is contained in the other one.\n",
    "\n",
    "To check if two shapes are touching:"
   ]
  },
  {
   "cell_type": "code",
   "execution_count": 31,
   "metadata": {},
   "outputs": [
    {
     "data": {
      "text/plain": "True"
     },
     "execution_count": 31,
     "metadata": {},
     "output_type": "execute_result"
    }
   ],
   "source": [
    "polygon.touches(pt1)"
   ]
  },
  {
   "cell_type": "markdown",
   "metadata": {},
   "source": [
    "To verify this, let's plot these two objects:"
   ]
  },
  {
   "cell_type": "code",
   "execution_count": 32,
   "metadata": {},
   "outputs": [
    {
     "data": {
      "text/plain": "<Figure size 432x288 with 1 Axes>",
      "image/png": "[encoded data removed]"
     },
     "metadata": {
      "needs_background": "light"
     },
     "output_type": "display_data"
    }
   ],
   "source": [
    "x, y = polygon.exterior.xy\n",
    "plt.fill(x, y)\n",
    "x, y = pt1.xy\n",
    "plt.plot(x, y, 'ro')\n",
    "plt.show()"
   ]
  },
  {
   "cell_type": "markdown",
   "metadata": {},
   "source": [
    "However, if we check whether the point is contained by the object we get:"
   ]
  },
  {
   "cell_type": "code",
   "execution_count": 33,
   "metadata": {},
   "outputs": [
    {
     "data": {
      "text/plain": "False"
     },
     "execution_count": 33,
     "metadata": {},
     "output_type": "execute_result"
    }
   ],
   "source": [
    "polygon.contains(pt1)"
   ]
  },
  {
   "cell_type": "markdown",
   "metadata": {},
   "source": [
    "Looking at the previous plot, this is clearly correct since the point is on the border of the polygon."
   ]
  },
  {
   "cell_type": "markdown",
   "metadata": {},
   "source": [
    "### Geometric Operations\n",
    "\n",
    "A buffering operation returns a polygon around an object that is offset by a given distance. \n",
    "\n",
    "Following some examples:"
   ]
  },
  {
   "cell_type": "code",
   "execution_count": 34,
   "metadata": {},
   "outputs": [
    {
     "data": {
      "text/plain": "<shapely.geometry.polygon.Polygon at 0x7fe09c0abb80>",
      "image/svg+xml": "<svg xmlns=\"http://www.w3.org/2000/svg\" xmlns:xlink=\"http://www.w3.org/1999/xlink\" width=\"100.0\" height=\"100.0\" viewBox=\"-1.08 -1.08 2.16 2.16\" preserveAspectRatio=\"xMinYMin meet\"><g transform=\"matrix(1,0,0,-1,0,0.0)\"><path fill-rule=\"evenodd\" fill=\"#66cc99\" stroke=\"#555555\" stroke-width=\"0.0432\" opacity=\"0.6\" d=\"M 1.0,0.0 L 0.9951847266721969,-0.0980171403295605 L 0.9807852804032304,-0.19509032201612808 L 0.9569403357322089,-0.2902846772544621 L 0.923879532511287,-0.3826834323650894 L 0.8819212643483553,-0.4713967368259972 L 0.8314696123025456,-0.5555702330196017 L 0.7730104533627374,-0.6343932841636449 L 0.7071067811865481,-0.707106781186547 L 0.6343932841636463,-0.7730104533627363 L 0.5555702330196032,-0.8314696123025447 L 0.4713967368259986,-0.8819212643483545 L 0.38268343236509084,-0.9238795325112863 L 0.29028467725446355,-0.9569403357322085 L 0.19509032201612964,-0.9807852804032302 L 0.09801714032956209,-0.9951847266721967 L 1.6155445744325867e-15,-1.0 L -0.09801714032955888,-0.995184726672197 L -0.19509032201612647,-0.9807852804032308 L -0.2902846772544605,-0.9569403357322095 L -0.38268343236508784,-0.9238795325112875 L -0.4713967368259957,-0.881921264348356 L -0.5555702330196004,-0.8314696123025465 L -0.6343932841636439,-0.7730104533627382 L -0.7071067811865461,-0.7071067811865489 L -0.7730104533627358,-0.6343932841636468 L -0.8314696123025443,-0.5555702330196036 L -0.8819212643483543,-0.47139673682599903 L -0.9238795325112862,-0.3826834323650911 L -0.9569403357322085,-0.2902846772544636 L -0.9807852804032302,-0.19509032201612947 L -0.9951847266721968,-0.09801714032956171 L -1.0,-1.0106430996148606e-15 L -0.9951847266721969,0.0980171403295597 L -0.9807852804032307,0.1950903220161275 L -0.956940335732209,0.2902846772544617 L -0.923879532511287,0.3826834323650892 L -0.8819212643483553,0.47139673682599725 L -0.8314696123025455,0.555570233019602 L -0.7730104533627371,0.6343932841636453 L -0.7071067811865477,0.7071067811865475 L -0.6343932841636459,0.7730104533627367 L -0.555570233019603,0.8314696123025447 L -0.47139673682599864,0.8819212643483545 L -0.38268343236509117,0.9238795325112862 L -0.2902846772544641,0.9569403357322084 L -0.1950903220161304,0.98078528040323 L -0.0980171403295631,0.9951847266721966 L -2.848232278972479e-15,1.0 L 0.09801714032955744,0.9951847266721972 L 0.1950903220161248,0.9807852804032311 L 0.29028467725445867,0.9569403357322099 L 0.3826834323650859,0.9238795325112884 L 0.47139673682599365,0.8819212643483572 L 0.5555702330195982,0.831469612302548 L 0.6343932841636415,0.7730104533627402 L 0.7071067811865436,0.7071067811865515 L 0.7730104533627332,0.63439328416365 L 0.8314696123025418,0.5555702330196074 L 0.8819212643483519,0.4713967368260034 L 0.9238795325112841,0.3826834323650961 L 0.9569403357322068,0.29028467725446927 L 0.980785280403229,0.1950903220161357 L 0.9951847266721962,0.09801714032956847 L 1.0,8.238535137130597e-15 L 1.0,0.0 z\" /></g></svg>"
     },
     "execution_count": 34,
     "metadata": {},
     "output_type": "execute_result"
    }
   ],
   "source": [
    "pt1.buffer(1)"
   ]
  },
  {
   "cell_type": "code",
   "execution_count": 35,
   "metadata": {},
   "outputs": [
    {
     "data": {
      "text/plain": "<shapely.geometry.polygon.Polygon at 0x7fe09c0abac0>",
      "image/svg+xml": "<svg xmlns=\"http://www.w3.org/2000/svg\" xmlns:xlink=\"http://www.w3.org/1999/xlink\" width=\"100.0\" height=\"100.0\" viewBox=\"-1.12 -1.12 3.24 3.24\" preserveAspectRatio=\"xMinYMin meet\"><g transform=\"matrix(1,0,0,-1,0,1.0)\"><path fill-rule=\"evenodd\" fill=\"#66cc99\" stroke=\"#555555\" stroke-width=\"0.06480000000000001\" opacity=\"0.6\" d=\"M 0.29289321881345254,1.7071067811865475 L 0.36560671583635473,1.773010453362737 L 0.44442976698039804,1.8314696123025453 L 0.5286032631740023,1.881921264348355 L 0.6173165676349103,1.9238795325112867 L 0.7097153227455377,1.956940335732209 L 0.8049096779838718,1.9807852804032304 L 0.9019828596704393,1.995184726672197 L 1.0,2.0 L 1.0980171403295609,1.9951847266721967 L 1.1950903220161284,1.9807852804032304 L 1.2902846772544623,1.956940335732209 L 1.3826834323650898,1.9238795325112867 L 1.471396736825998,1.881921264348355 L 1.5555702330196026,1.831469612302545 L 1.6343932841636457,1.7730104533627367 L 1.707106781186548,1.7071067811865472 L 1.7730104533627373,1.634393284163645 L 1.8314696123025456,1.5555702330196017 L 1.8819212643483554,1.471396736825997 L 1.923879532511287,1.382683432365089 L 1.956940335732209,1.2902846772544614 L 1.9807852804032307,1.195090322016127 L 1.9951847266721972,1.0980171403295593 L 2.0,1.0 L 2.0,0.0 L 1.995184726672197,-0.0980171403295606 L 1.9807852804032304,-0.19509032201612825 L 1.9569403357322088,-0.29028467725446233 L 1.9238795325112867,-0.3826834323650898 L 1.881921264348355,-0.47139673682599764 L 1.8314696123025453,-0.5555702330196022 L 1.7730104533627369,-0.6343932841636455 L 1.7071067811865475,-0.7071067811865475 L 1.6343932841636457,-0.7730104533627369 L 1.5555702330196022,-0.8314696123025451 L 1.471396736825998,-0.8819212643483549 L 1.3826834323650898,-0.9238795325112867 L 1.2902846772544623,-0.9569403357322089 L 1.1950903220161282,-0.9807852804032304 L 1.0980171403295604,-0.9951847266721969 L 0.9999999999999997,-1.0 L 0.9019828596704389,-0.9951847266721968 L 0.8049096779838711,-0.9807852804032303 L 0.709715322745537,-0.9569403357322086 L 0.6173165676349095,-0.9238795325112864 L 0.5286032631740015,-0.8819212643483546 L 0.49999999999999994,-0.8647771281738245 L 0.4713967368259966,-0.8819212643483556 L 0.3826834323650888,-0.9238795325112872 L 0.29028467725446144,-0.9569403357322092 L 0.19509032201612744,-0.9807852804032307 L 0.09801714032955988,-0.9951847266721969 L -6.049014748177263e-16,-1.0 L -0.09801714032956109,-0.9951847266721968 L -0.19509032201612864,-0.9807852804032304 L -0.2902846772544626,-0.9569403357322088 L -0.3826834323650899,-0.9238795325112867 L -0.4713967368259977,-0.881921264348355 L -0.555570233019602,-0.8314696123025455 L -0.6343932841636453,-0.7730104533627371 L -0.7071067811865475,-0.7071067811865476 L -0.7730104533627367,-0.6343932841636458 L -0.8314696123025448,-0.5555702330196028 L -0.8819212643483547,-0.4713967368259982 L -0.9238795325112865,-0.3826834323650903 L -0.9569403357322086,-0.2902846772544632 L -0.9807852804032302,-0.19509032201612947 L -0.9951847266721967,-0.09801714032956216 L -1.0,-1.8988215193149856e-15 L -0.9951847266721972,0.09801714032955837 L -0.980785280403231,0.19509032201612575 L -0.9569403357322097,0.2902846772544596 L -0.923879532511288,0.3826834323650868 L -0.8819212643483567,0.4713967368259945 L -0.8314696123025475,0.555570233019599 L -0.7730104533627397,0.6343932841636423 L -0.7071067811865508,0.7071067811865442 L 0.29289321881345254,1.7071067811865475 z\" /></g></svg>"
     },
     "execution_count": 35,
     "metadata": {},
     "output_type": "execute_result"
    }
   ],
   "source": [
    "line.buffer(1)"
   ]
  },
  {
   "cell_type": "code",
   "execution_count": 36,
   "metadata": {},
   "outputs": [
    {
     "data": {
      "text/plain": "<shapely.geometry.polygon.Polygon at 0x7fe09b18d3a0>",
      "image/svg+xml": "<svg xmlns=\"http://www.w3.org/2000/svg\" xmlns:xlink=\"http://www.w3.org/1999/xlink\" width=\"100.0\" height=\"100.0\" viewBox=\"-1.1199999610966849 -1.12 3.239999961096685 3.24\" preserveAspectRatio=\"xMinYMin meet\"><g transform=\"matrix(1,0,0,-1,0,1.0)\"><path fill-rule=\"evenodd\" fill=\"#66cc99\" stroke=\"#555555\" stroke-width=\"0.06480000000000001\" opacity=\"0.6\" d=\"M 0.49998561196546965,-0.8647685043178059 L 0.4705047398072629,-0.8823974670288327 L 0.38178128095909847,-0.9242527000280983 L 0.2893836687566095,-0.9572131905991292 L 0.19420111127189404,-0.9809617364508982 L 0.09714961809027678,-0.9952697884015738 L -0.0008368151027552014,-0.9999996498701806 L -0.09881519502767248,-0.9951058020289315 L -0.1958426059072841,-0.9806353418633474 L -0.2909852838172581,-0.9567275289244006 L -0.383327602961839,-0.9236124451346088 L -0.471980887393431,-0.8816087805457188 L -0.5560919633745782,-0.8311207663572164 L -0.6348513700768824,-0.7726342847114055 L -0.7075011495994399,-0.706712192703275 L -0.7733421413379039,-0.6339889056055361 L -0.8317407105052567,-0.555164291438319 L -0.882134846050943,-0.47099693564043416 L -0.9240395692937438,-0.3822968406610661 L -0.9570516012172607,-0.28991763072893184 L -0.9808532435112988,-0.19474833681796813 L -0.9952154360091219,-0.09770484086867635 L -0.9999999610966848,0.00027893839652250743 L -0.9951607738792371,0.09826003323873798 L -0.9807444453041617,0.19529550175319507 L -0.9568897139755568,0.2904515024711992 L -0.9238261509737734,0.38281228138211915 L -0.881871950529298,0.47148898488687013 L -0.8314308678129025,0.5556282138695657 L -0.7729883333118874,0.6344202365654097 L -0.7071067811865475,0.7071067811865475 L 0.29289321881345254,1.7071067811865475 L 0.36560671583635473,1.773010453362737 L 0.44442976698039804,1.8314696123025453 L 0.5286032631740023,1.881921264348355 L 0.6173165676349103,1.9238795325112867 L 0.7097153227455377,1.956940335732209 L 0.8049096779838718,1.9807852804032304 L 0.9019828596704393,1.995184726672197 L 1.0,2.0 L 1.0980171403295609,1.9951847266721967 L 1.1950903220161284,1.9807852804032304 L 1.2902846772544623,1.956940335732209 L 1.3826834323650898,1.9238795325112867 L 1.471396736825998,1.881921264348355 L 1.5555702330196026,1.831469612302545 L 1.6343932841636457,1.7730104533627367 L 1.707106781186548,1.7071067811865472 L 1.7730104533627373,1.634393284163645 L 1.8314696123025456,1.5555702330196017 L 1.8819212643483554,1.471396736825997 L 1.923879532511287,1.382683432365089 L 1.956940335732209,1.2902846772544614 L 1.9807852804032307,1.195090322016127 L 1.9951847266721972,1.0980171403295593 L 2.0,1.0 L 2.0,0.0 L 1.995184726672197,-0.0980171403295606 L 1.9807852804032304,-0.19509032201612825 L 1.9569403357322088,-0.29028467725446233 L 1.9238795325112867,-0.3826834323650898 L 1.881921264348355,-0.47139673682599764 L 1.8314696123025453,-0.5555702330196022 L 1.7730104533627369,-0.6343932841636455 L 1.7071067811865475,-0.7071067811865475 L 1.6343932841636457,-0.7730104533627369 L 1.5555702330196022,-0.8314696123025451 L 1.471396736825998,-0.8819212643483549 L 1.3826834323650898,-0.9238795325112867 L 1.2902846772544623,-0.9569403357322089 L 1.1950903220161282,-0.9807852804032304 L 1.0980171403295604,-0.9951847266721969 L 0.9999999999999997,-1.0 L 0.9019828596704389,-0.9951847266721968 L 0.8049096779838711,-0.9807852804032303 L 0.709715322745537,-0.9569403357322086 L 0.6173165676349095,-0.9238795325112864 L 0.5286032631740015,-0.8819212643483546 L 0.49998561196546965,-0.8647685043178059 z\" /></g></svg>"
     },
     "execution_count": 36,
     "metadata": {},
     "output_type": "execute_result"
    }
   ],
   "source": [
    "polygon.buffer(1)"
   ]
  },
  {
   "cell_type": "markdown",
   "metadata": {},
   "source": [
    "We can also perform set operations over polygons.\n",
    "\n",
    "For example we can compute the intersection of a buffered point and a polygon:"
   ]
  },
  {
   "cell_type": "code",
   "execution_count": 37,
   "metadata": {},
   "outputs": [
    {
     "data": {
      "text/plain": "<shapely.geometry.polygon.Polygon at 0x7fe09b194df0>",
      "image/svg+xml": "<svg xmlns=\"http://www.w3.org/2000/svg\" xmlns:xlink=\"http://www.w3.org/1999/xlink\" width=\"100.0\" height=\"100.0\" viewBox=\"-0.04 -0.04 1.08 0.7871067811865474\" preserveAspectRatio=\"xMinYMin meet\"><g transform=\"matrix(1,0,0,-1,0,0.7071067811865474)\"><path fill-rule=\"evenodd\" fill=\"#66cc99\" stroke=\"#555555\" stroke-width=\"0.0216\" opacity=\"0.6\" d=\"M 0.7071067811865474,0.7071067811865474 L 0.7730104533627332,0.63439328416365 L 0.8314696123025418,0.5555702330196074 L 0.8819212643483519,0.4713967368260034 L 0.9238795325112841,0.3826834323650961 L 0.9569403357322068,0.29028467725446927 L 0.980785280403229,0.1950903220161357 L 0.9951847266721962,0.09801714032956847 L 1.0,8.238535137130597e-15 L 1.0,0.0 L 0.6,0.4 L 0.0,0.0 L 0.7071067811865474,0.7071067811865474 z\" /></g></svg>"
     },
     "execution_count": 37,
     "metadata": {},
     "output_type": "execute_result"
    }
   ],
   "source": [
    "pt1.buffer(1).intersection(polygon)"
   ]
  },
  {
   "cell_type": "markdown",
   "metadata": {},
   "source": [
    "### Using PyProj on Shapes\n",
    "\n",
    "To calculate the geodesic length of a Shapely geometry we can use PyProj. To do this we first need to import the\n",
    "Geod class of pyproj:"
   ]
  },
  {
   "cell_type": "code",
   "execution_count": 38,
   "metadata": {},
   "outputs": [],
   "source": [
    "from pyproj import Geod"
   ]
  },
  {
   "cell_type": "markdown",
   "metadata": {},
   "source": [
    "Then, let's define two points, one with coordinates centered in London and one with coordinates centered in\n",
    "Brighton both using the WSG 84 CRS:"
   ]
  },
  {
   "cell_type": "code",
   "execution_count": 39,
   "metadata": {},
   "outputs": [],
   "source": [
    "london = Point(51.5074, 0.1278) \n",
    "brighton = Point(50.8225, 0.1372)"
   ]
  },
  {
   "cell_type": "markdown",
   "metadata": {},
   "source": [
    "We then define a `LineString` between these two points:"
   ]
  },
  {
   "cell_type": "code",
   "execution_count": 40,
   "metadata": {},
   "outputs": [],
   "source": [
    "line = LineString([Point(51.5074, 0.1278), Point(50.8225, 0.1372)])"
   ]
  },
  {
   "cell_type": "markdown",
   "metadata": {},
   "source": [
    "Finally, we construct a Geod object with the WGS 84 CRS as a parameter, then use the `geometry_length` method to\n",
    "compute their distance on this geode:"
   ]
  },
  {
   "cell_type": "code",
   "execution_count": 41,
   "metadata": {},
   "outputs": [
    {
     "data": {
      "text/plain": "76249.60127116507"
     },
     "execution_count": 41,
     "metadata": {},
     "output_type": "execute_result"
    }
   ],
   "source": [
    "geod = Geod(ellps=\"WGS84\")\n",
    "geod.geometry_length(line)"
   ]
  },
  {
   "cell_type": "markdown",
   "metadata": {},
   "source": [
    "# Exercise 30\n",
    "\n",
    "Use Shapely to solve the Point-In-Polygon problem. \n",
    "\n",
    "To solve this exercise you need: \n",
    "1. to download the CSV file describing the polygon used for the assignment;\n",
    "2. define a polygon shape using Shapely;\n",
    "3. get a point from the user;\n",
    "3. test whether this point is inside, outside, or on the border of the polygon, and; \n",
    "4. plot the solution."
   ]
  },
  {
   "cell_type": "code",
   "execution_count": 42,
   "metadata": {},
   "outputs": [
    {
     "data": {
      "text/plain": "<shapely.geometry.polygon.Polygon at 0x7fe09b18d430>",
      "image/svg+xml": "<svg xmlns=\"http://www.w3.org/2000/svg\" xmlns:xlink=\"http://www.w3.org/1999/xlink\" width=\"100.0\" height=\"100.0\" viewBox=\"-0.28 -0.28 4.5600000000000005 7.5600000000000005\" preserveAspectRatio=\"xMinYMin meet\"><g transform=\"matrix(1,0,0,-1,0,7.0)\"><path fill-rule=\"evenodd\" fill=\"#66cc99\" stroke=\"#555555\" stroke-width=\"0.1512\" opacity=\"0.6\" d=\"M 0.0,1.0 L 0.0,6.0 L 1.0,7.0 L 3.0,7.0 L 4.0,6.0 L 4.0,4.0 L 3.0,4.0 L 3.0,5.0 L 2.0,6.0 L 1.0,5.0 L 1.0,2.0 L 2.0,1.0 L 3.0,2.0 L 2.0,2.0 L 2.0,3.0 L 4.0,3.0 L 4.0,1.0 L 3.0,0.0 L 1.0,0.0 L 0.0,1.0 z\" /></g></svg>"
     },
     "execution_count": 42,
     "metadata": {},
     "output_type": "execute_result"
    }
   ],
   "source": [
    "import os\n",
    "import pandas as pd\n",
    "\n",
    "df = pd.read_csv(os.path.join('7 - Material', 'polygon.csv'))\n",
    "\n",
    "polygon = Polygon(df[['x','y']].values)\n",
    "\n",
    "polygon"
   ]
  },
  {
   "cell_type": "code",
   "execution_count": 43,
   "outputs": [
    {
     "name": "stdout",
     "output_type": "stream",
     "text": [
      "Please input the coordinate of the point you want to test:\n",
      "The point is inside the polygon.\n"
     ]
    }
   ],
   "source": [
    "print('Please input the coordinate of the point you want to test:')\n",
    "x = float(input('x:'))\n",
    "y = float(input('y:'))\n",
    "\n",
    "point = Point(x, y)\n",
    "\n",
    "if point.touches(polygon):\n",
    "    print('The point is on the border of the polygon.')\n",
    "elif point.within(polygon):\n",
    "    print('The point is inside the polygon.')\n",
    "else:\n",
    "    print('The point is outside the polygon.')"
   ],
   "metadata": {
    "collapsed": false,
    "pycharm": {
     "name": "#%%\n"
    }
   }
  },
  {
   "cell_type": "markdown",
   "metadata": {},
   "source": [
    "## GeoPandas\n",
    "\n",
    "GeoPandas is an open source project to make working with geospatial data in Python easier.\n",
    "\n",
    "Note that if we want to use the plotting functionality of GeoPandas also the package descartes needs to be installed.\n",
    "\n",
    "GeoPandas is usually imported like this:"
   ]
  },
  {
   "cell_type": "code",
   "execution_count": 44,
   "metadata": {},
   "outputs": [],
   "source": [
    "import geopandas as gpd"
   ]
  },
  {
   "cell_type": "markdown",
   "metadata": {},
   "source": [
    "GeoPandas extends the datatypes used by Pandas to allow spatial operations on geometric types. It extends DataFrame\n",
    "into GeoDataFrame and Series into GeoSeries.\n",
    "\n",
    "In the following we will work on a dataset of the GeoPandas package. We will now load the Natural Earth in Low\n",
    "Resolution dataset:"
   ]
  },
  {
   "cell_type": "code",
   "execution_count": 45,
   "metadata": {},
   "outputs": [],
   "source": [
    "world = gpd.read_file(gpd.datasets.get_path('naturalearth_lowres'))"
   ]
  },
  {
   "cell_type": "markdown",
   "metadata": {},
   "source": [
    "On this dataset we can perform all the Pandas operations we have learned in the previous practical, like:"
   ]
  },
  {
   "cell_type": "code",
   "execution_count": 46,
   "metadata": {},
   "outputs": [
    {
     "data": {
      "text/plain": "     pop_est      continent                      name iso_a3  gdp_md_est  \\\n0     920938        Oceania                      Fiji    FJI      8374.0   \n1   53950935         Africa                  Tanzania    TZA    150600.0   \n2     603253         Africa                 W. Sahara    ESH       906.5   \n3   35623680  North America                    Canada    CAN   1674000.0   \n4  326625791  North America  United States of America    USA  18560000.0   \n\n                                            geometry  \n0  MULTIPOLYGON (((180.00000 -16.06713, 180.00000...  \n1  POLYGON ((33.90371 -0.95000, 34.07262 -1.05982...  \n2  POLYGON ((-8.66559 27.65643, -8.66512 27.58948...  \n3  MULTIPOLYGON (((-122.84000 49.00000, -122.9742...  \n4  MULTIPOLYGON (((-122.84000 49.00000, -120.0000...  ",
      "text/html": "<div>\n<style scoped>\n    .dataframe tbody tr th:only-of-type {\n        vertical-align: middle;\n    }\n\n    .dataframe tbody tr th {\n        vertical-align: top;\n    }\n\n    .dataframe thead th {\n        text-align: right;\n    }\n</style>\n<table border=\"1\" class=\"dataframe\">\n  <thead>\n    <tr style=\"text-align: right;\">\n      <th></th>\n      <th>pop_est</th>\n      <th>continent</th>\n      <th>name</th>\n      <th>iso_a3</th>\n      <th>gdp_md_est</th>\n      <th>geometry</th>\n    </tr>\n  </thead>\n  <tbody>\n    <tr>\n      <th>0</th>\n      <td>920938</td>\n      <td>Oceania</td>\n      <td>Fiji</td>\n      <td>FJI</td>\n      <td>8374.0</td>\n      <td>MULTIPOLYGON (((180.00000 -16.06713, 180.00000...</td>\n    </tr>\n    <tr>\n      <th>1</th>\n      <td>53950935</td>\n      <td>Africa</td>\n      <td>Tanzania</td>\n      <td>TZA</td>\n      <td>150600.0</td>\n      <td>POLYGON ((33.90371 -0.95000, 34.07262 -1.05982...</td>\n    </tr>\n    <tr>\n      <th>2</th>\n      <td>603253</td>\n      <td>Africa</td>\n      <td>W. Sahara</td>\n      <td>ESH</td>\n      <td>906.5</td>\n      <td>POLYGON ((-8.66559 27.65643, -8.66512 27.58948...</td>\n    </tr>\n    <tr>\n      <th>3</th>\n      <td>35623680</td>\n      <td>North America</td>\n      <td>Canada</td>\n      <td>CAN</td>\n      <td>1674000.0</td>\n      <td>MULTIPOLYGON (((-122.84000 49.00000, -122.9742...</td>\n    </tr>\n    <tr>\n      <th>4</th>\n      <td>326625791</td>\n      <td>North America</td>\n      <td>United States of America</td>\n      <td>USA</td>\n      <td>18560000.0</td>\n      <td>MULTIPOLYGON (((-122.84000 49.00000, -120.0000...</td>\n    </tr>\n  </tbody>\n</table>\n</div>"
     },
     "execution_count": 46,
     "metadata": {},
     "output_type": "execute_result"
    }
   ],
   "source": [
    "world.head()"
   ]
  },
  {
   "cell_type": "markdown",
   "metadata": {},
   "source": [
    "To get the type of each Series:"
   ]
  },
  {
   "cell_type": "code",
   "execution_count": 47,
   "metadata": {},
   "outputs": [
    {
     "data": {
      "text/plain": "pop_est          int64\ncontinent       object\nname            object\niso_a3          object\ngdp_md_est     float64\ngeometry      geometry\ndtype: object"
     },
     "execution_count": 47,
     "metadata": {},
     "output_type": "execute_result"
    }
   ],
   "source": [
    "world.dtypes"
   ]
  },
  {
   "cell_type": "markdown",
   "metadata": {},
   "source": [
    "Here, we observe that this GeoDataFrame contains a \"geometry\" GeoSeries containing Shapely geometry objects.\n",
    "GeoPandas supports any kind of Shapely geometry object.\n",
    "\n",
    "A GeoDataFrame needs always to have a GeoSeries indicated as geometry. This is the GeoSeries on which\n",
    "GeoPandas will perform the geospatial operations when called on a DataFrame. To know which column in the\n",
    "GeoDataFrame is the column indicated as geometry we can type:"
   ]
  },
  {
   "cell_type": "code",
   "execution_count": 48,
   "metadata": {},
   "outputs": [
    {
     "data": {
      "text/plain": "'geometry'"
     },
     "execution_count": 48,
     "metadata": {},
     "output_type": "execute_result"
    }
   ],
   "source": [
    "world.geometry.name"
   ]
  },
  {
   "cell_type": "markdown",
   "metadata": {},
   "source": [
    "To set another column as the geometry one, we need to type:"
   ]
  },
  {
   "cell_type": "code",
   "execution_count": 49,
   "metadata": {},
   "outputs": [],
   "source": [
    "world = world.set_geometry('geometry')"
   ]
  },
  {
   "cell_type": "markdown",
   "metadata": {},
   "source": [
    "Any geospatial operation performed on a DataFrame will be always executed on the geometry GeoSeries.\n",
    "For example, when calling plot, GeoPandas will plot the content of the GeoSeries indicated as geometry:"
   ]
  },
  {
   "cell_type": "code",
   "execution_count": 50,
   "metadata": {},
   "outputs": [
    {
     "data": {
      "text/plain": "<AxesSubplot:>"
     },
     "execution_count": 50,
     "metadata": {},
     "output_type": "execute_result"
    },
    {
     "data": {
      "text/plain": "<Figure size 432x288 with 1 Axes>",
      "image/png": "[encoded data removed]"
     },
     "metadata": {
      "needs_background": "light"
     },
     "output_type": "display_data"
    }
   ],
   "source": [
    "world.plot()"
   ]
  },
  {
   "cell_type": "markdown",
   "metadata": {},
   "source": [
    "To get the current CRS of this GeoDataFrame we can use the `crs` attribute:"
   ]
  },
  {
   "cell_type": "code",
   "execution_count": 51,
   "metadata": {},
   "outputs": [
    {
     "data": {
      "text/plain": "<Geographic 2D CRS: EPSG:4326>\nName: WGS 84\nAxis Info [ellipsoidal]:\n- Lat[north]: Geodetic latitude (degree)\n- Lon[east]: Geodetic longitude (degree)\nArea of Use:\n- name: World.\n- bounds: (-180.0, -90.0, 180.0, 90.0)\nDatum: World Geodetic System 1984\n- Ellipsoid: WGS 84\n- Prime Meridian: Greenwich"
     },
     "execution_count": 51,
     "metadata": {},
     "output_type": "execute_result"
    }
   ],
   "source": [
    "world.crs"
   ]
  },
  {
   "cell_type": "markdown",
   "metadata": {},
   "source": [
    "Let's now select and plot the United Kingdom shape:"
   ]
  },
  {
   "cell_type": "code",
   "execution_count": 52,
   "metadata": {},
   "outputs": [
    {
     "data": {
      "text/plain": "<AxesSubplot:>"
     },
     "execution_count": 52,
     "metadata": {},
     "output_type": "execute_result"
    },
    {
     "data": {
      "text/plain": "<Figure size 432x288 with 1 Axes>",
      "image/png": "[encoded data removed]"
     },
     "metadata": {
      "needs_background": "light"
     },
     "output_type": "display_data"
    }
   ],
   "source": [
    "world[world.name == 'United Kingdom'].plot()"
   ]
  },
  {
   "cell_type": "markdown",
   "metadata": {},
   "source": [
    "Does it look like what you expect?\n",
    "\n",
    "To change CRS to the British National Grid we can use the `to_crs` method with the appropriate OSPG id:"
   ]
  },
  {
   "cell_type": "code",
   "execution_count": 53,
   "metadata": {},
   "outputs": [
    {
     "data": {
      "text/plain": "<AxesSubplot:>"
     },
     "execution_count": 53,
     "metadata": {},
     "output_type": "execute_result"
    },
    {
     "data": {
      "text/plain": "<Figure size 432x288 with 1 Axes>",
      "image/png": "[encoded data removed]"
     },
     "metadata": {
      "needs_background": "light"
     },
     "output_type": "display_data"
    }
   ],
   "source": [
    "world.to_crs(27700)[world.name == 'United Kingdom'].plot()"
   ]
  },
  {
   "cell_type": "markdown",
   "metadata": {},
   "source": [
    "We can compute the area of each polygon:"
   ]
  },
  {
   "cell_type": "code",
   "execution_count": 54,
   "metadata": {},
   "outputs": [
    {
     "name": "stderr",
     "output_type": "stream",
     "text": [
      "<ipython-input-54-9478eff3370a>:1: UserWarning: Geometry is in a geographic CRS. Results from 'area' are likely incorrect. Use 'GeoSeries.to_crs()' to re-project geometries to a projected CRS before this operation.\n",
      "\n",
      "  world.area\n"
     ]
    },
    {
     "data": {
      "text/plain": "0         1.639511\n1        76.301964\n2         8.603984\n3      1712.995228\n4      1122.281921\n          ...     \n172       8.604719\n173       1.479321\n174       1.231641\n175       0.639000\n176      51.196106\nLength: 177, dtype: float64"
     },
     "execution_count": 54,
     "metadata": {},
     "output_type": "execute_result"
    }
   ],
   "source": [
    "world.area"
   ]
  },
  {
   "cell_type": "markdown",
   "metadata": {},
   "source": [
    "Or, their bounds:"
   ]
  },
  {
   "cell_type": "code",
   "execution_count": 55,
   "metadata": {},
   "outputs": [
    {
     "data": {
      "text/plain": "           minx       miny        maxx       maxy\n0   -180.000000 -18.287990  180.000000 -16.020882\n1     29.339998 -11.720938   40.316590  -0.950000\n2    -17.063423  20.999752   -8.665124  27.656426\n3   -140.997780  41.675105  -52.648099  83.233240\n4   -171.791111  18.916190  -66.964660  71.357764\n..          ...        ...         ...        ...\n172   18.829825  42.245224   22.986019  46.171730\n173   18.450017  41.877551   20.339800  43.523840\n174   20.070700  41.847110   21.775050  43.272050\n175  -61.950000  10.000000  -60.895000  10.890000\n176   23.886980   3.509172   35.298007  12.248008\n\n[177 rows x 4 columns]",
      "text/html": "<div>\n<style scoped>\n    .dataframe tbody tr th:only-of-type {\n        vertical-align: middle;\n    }\n\n    .dataframe tbody tr th {\n        vertical-align: top;\n    }\n\n    .dataframe thead th {\n        text-align: right;\n    }\n</style>\n<table border=\"1\" class=\"dataframe\">\n  <thead>\n    <tr style=\"text-align: right;\">\n      <th></th>\n      <th>minx</th>\n      <th>miny</th>\n      <th>maxx</th>\n      <th>maxy</th>\n    </tr>\n  </thead>\n  <tbody>\n    <tr>\n      <th>0</th>\n      <td>-180.000000</td>\n      <td>-18.287990</td>\n      <td>180.000000</td>\n      <td>-16.020882</td>\n    </tr>\n    <tr>\n      <th>1</th>\n      <td>29.339998</td>\n      <td>-11.720938</td>\n      <td>40.316590</td>\n      <td>-0.950000</td>\n    </tr>\n    <tr>\n      <th>2</th>\n      <td>-17.063423</td>\n      <td>20.999752</td>\n      <td>-8.665124</td>\n      <td>27.656426</td>\n    </tr>\n    <tr>\n      <th>3</th>\n      <td>-140.997780</td>\n      <td>41.675105</td>\n      <td>-52.648099</td>\n      <td>83.233240</td>\n    </tr>\n    <tr>\n      <th>4</th>\n      <td>-171.791111</td>\n      <td>18.916190</td>\n      <td>-66.964660</td>\n      <td>71.357764</td>\n    </tr>\n    <tr>\n      <th>...</th>\n      <td>...</td>\n      <td>...</td>\n      <td>...</td>\n      <td>...</td>\n    </tr>\n    <tr>\n      <th>172</th>\n      <td>18.829825</td>\n      <td>42.245224</td>\n      <td>22.986019</td>\n      <td>46.171730</td>\n    </tr>\n    <tr>\n      <th>173</th>\n      <td>18.450017</td>\n      <td>41.877551</td>\n      <td>20.339800</td>\n      <td>43.523840</td>\n    </tr>\n    <tr>\n      <th>174</th>\n      <td>20.070700</td>\n      <td>41.847110</td>\n      <td>21.775050</td>\n      <td>43.272050</td>\n    </tr>\n    <tr>\n      <th>175</th>\n      <td>-61.950000</td>\n      <td>10.000000</td>\n      <td>-60.895000</td>\n      <td>10.890000</td>\n    </tr>\n    <tr>\n      <th>176</th>\n      <td>23.886980</td>\n      <td>3.509172</td>\n      <td>35.298007</td>\n      <td>12.248008</td>\n    </tr>\n  </tbody>\n</table>\n<p>177 rows × 4 columns</p>\n</div>"
     },
     "execution_count": 55,
     "metadata": {},
     "output_type": "execute_result"
    }
   ],
   "source": [
    "world.bounds"
   ]
  },
  {
   "cell_type": "markdown",
   "metadata": {},
   "source": [
    "Or, their total bound:"
   ]
  },
  {
   "cell_type": "code",
   "execution_count": 56,
   "metadata": {},
   "outputs": [
    {
     "data": {
      "text/plain": "array([-180.     ,  -90.     ,  180.     ,   83.64513])"
     },
     "execution_count": 56,
     "metadata": {},
     "output_type": "execute_result"
    }
   ],
   "source": [
    "world.total_bounds"
   ]
  },
  {
   "cell_type": "markdown",
   "metadata": {},
   "source": [
    "Or, compute the centroid (point) of each entry:"
   ]
  },
  {
   "cell_type": "code",
   "execution_count": 57,
   "metadata": {},
   "outputs": [
    {
     "name": "stderr",
     "output_type": "stream",
     "text": [
      "<ipython-input-57-ac2d28d6c1d7>:1: UserWarning: Geometry is in a geographic CRS. Results from 'centroid' are likely incorrect. Use 'GeoSeries.to_crs()' to re-project geometries to a projected CRS before this operation.\n",
      "\n",
      "  world.centroid\n"
     ]
    },
    {
     "data": {
      "text/plain": "0      POINT (163.85316 -17.31631)\n1        POINT (34.75299 -6.25773)\n2       POINT (-12.13783 24.29117)\n3       POINT (-98.14238 61.46908)\n4      POINT (-112.59944 45.70563)\n                  ...             \n172      POINT (20.81965 44.23304)\n173      POINT (19.28618 42.78904)\n174      POINT (20.89536 42.57937)\n175     POINT (-61.33037 10.42824)\n176       POINT (30.19862 7.29289)\nLength: 177, dtype: geometry"
     },
     "execution_count": 57,
     "metadata": {},
     "output_type": "execute_result"
    }
   ],
   "source": [
    "world.centroid"
   ]
  },
  {
   "cell_type": "markdown",
   "metadata": {},
   "source": [
    "Or, to compute the representative point of each entry:"
   ]
  },
  {
   "cell_type": "code",
   "execution_count": 58,
   "metadata": {},
   "outputs": [
    {
     "data": {
      "text/plain": "0      POINT (177.97595 -17.93762)\n1        POINT (34.14207 -6.20783)\n2       POINT (-12.57202 24.23056)\n3      POINT (-110.24381 56.70192)\n4       POINT (-99.31483 37.23675)\n                  ...             \n172      POINT (21.01348 44.13670)\n173      POINT (19.39622 42.75050)\n174      POINT (20.91367 42.51393)\n175     POINT (-61.29035 10.56250)\n176       POINT (28.97007 8.02715)\nLength: 177, dtype: geometry"
     },
     "execution_count": 58,
     "metadata": {},
     "output_type": "execute_result"
    }
   ],
   "source": [
    "world.representative_point()"
   ]
  },
  {
   "cell_type": "markdown",
   "metadata": {},
   "source": [
    "Or, return the geometric type of each entry:"
   ]
  },
  {
   "cell_type": "code",
   "execution_count": 59,
   "metadata": {},
   "outputs": [
    {
     "data": {
      "text/plain": "0      MultiPolygon\n1           Polygon\n2           Polygon\n3      MultiPolygon\n4      MultiPolygon\n           ...     \n172         Polygon\n173         Polygon\n174         Polygon\n175         Polygon\n176         Polygon\nLength: 177, dtype: object"
     },
     "execution_count": 59,
     "metadata": {},
     "output_type": "execute_result"
    }
   ],
   "source": [
    "world.geom_type"
   ]
  },
  {
   "cell_type": "markdown",
   "metadata": {},
   "source": [
    "Or, compute the distance between a point and each entry of the GeoDataFrame:"
   ]
  },
  {
   "cell_type": "code",
   "execution_count": 60,
   "metadata": {},
   "outputs": [
    {
     "name": "stderr",
     "output_type": "stream",
     "text": [
      "<ipython-input-60-c821bdb96e75>:3: UserWarning: Geometry is in a geographic CRS. Results from 'distance' are likely incorrect. Use 'GeoSeries.to_crs()' to re-project geometries to a projected CRS before this operation.\n",
      "\n",
      "  world.distance(pt0)\n"
     ]
    },
    {
     "data": {
      "text/plain": "0      178.168877\n1       29.683081\n2       24.940040\n3       70.661667\n4       80.574034\n          ...    \n172     47.363500\n173     46.124002\n174     46.645831\n175     61.768004\n176     25.394636\nLength: 177, dtype: float64"
     },
     "execution_count": 60,
     "metadata": {},
     "output_type": "execute_result"
    }
   ],
   "source": [
    "pt0 = Point(0, 0)\n",
    "\n",
    "world.distance(pt0)"
   ]
  },
  {
   "cell_type": "markdown",
   "metadata": {},
   "source": [
    "# Exercise 31\n",
    "\n",
    "Like Exercise 30, but this time use GeoPandas to test every point provided in the CSV file of the assignment."
   ]
  },
  {
   "cell_type": "code",
   "execution_count": 61,
   "metadata": {},
   "outputs": [
    {
     "data": {
      "text/plain": "<shapely.geometry.polygon.Polygon at 0x7fe09c186340>",
      "image/svg+xml": "<svg xmlns=\"http://www.w3.org/2000/svg\" xmlns:xlink=\"http://www.w3.org/1999/xlink\" width=\"100.0\" height=\"100.0\" viewBox=\"-0.28 -0.28 4.5600000000000005 7.5600000000000005\" preserveAspectRatio=\"xMinYMin meet\"><g transform=\"matrix(1,0,0,-1,0,7.0)\"><path fill-rule=\"evenodd\" fill=\"#66cc99\" stroke=\"#555555\" stroke-width=\"0.1512\" opacity=\"0.6\" d=\"M 0.0,1.0 L 0.0,6.0 L 1.0,7.0 L 3.0,7.0 L 4.0,6.0 L 4.0,4.0 L 3.0,4.0 L 3.0,5.0 L 2.0,6.0 L 1.0,5.0 L 1.0,2.0 L 2.0,1.0 L 3.0,2.0 L 2.0,2.0 L 2.0,3.0 L 4.0,3.0 L 4.0,1.0 L 3.0,0.0 L 1.0,0.0 L 0.0,1.0 z\" /></g></svg>"
     },
     "execution_count": 61,
     "metadata": {},
     "output_type": "execute_result"
    }
   ],
   "source": [
    "polygon = Polygon(df[['x','y']].values)\n",
    "\n",
    "polygon"
   ]
  },
  {
   "cell_type": "code",
   "execution_count": 62,
   "outputs": [
    {
     "data": {
      "text/plain": "     id    x    y                   geometry\n0     1  1.0 -0.5   POINT (1.00000 -0.50000)\n1     2  4.0  3.5    POINT (4.00000 3.50000)\n2     3 -0.5  4.5   POINT (-0.50000 4.50000)\n3     4  3.0  7.5    POINT (3.00000 7.50000)\n4     5  1.0  6.5    POINT (1.00000 6.50000)\n..  ...  ...  ...                        ...\n95   96  0.0  6.0    POINT (0.00000 6.00000)\n96   97  0.0  2.0    POINT (0.00000 2.00000)\n97   98 -0.5 -1.0  POINT (-0.50000 -1.00000)\n98   99  5.0  4.0    POINT (5.00000 4.00000)\n99  100  4.5  2.0    POINT (4.50000 2.00000)\n\n[100 rows x 4 columns]",
      "text/html": "<div>\n<style scoped>\n    .dataframe tbody tr th:only-of-type {\n        vertical-align: middle;\n    }\n\n    .dataframe tbody tr th {\n        vertical-align: top;\n    }\n\n    .dataframe thead th {\n        text-align: right;\n    }\n</style>\n<table border=\"1\" class=\"dataframe\">\n  <thead>\n    <tr style=\"text-align: right;\">\n      <th></th>\n      <th>id</th>\n      <th>x</th>\n      <th>y</th>\n      <th>geometry</th>\n    </tr>\n  </thead>\n  <tbody>\n    <tr>\n      <th>0</th>\n      <td>1</td>\n      <td>1.0</td>\n      <td>-0.5</td>\n      <td>POINT (1.00000 -0.50000)</td>\n    </tr>\n    <tr>\n      <th>1</th>\n      <td>2</td>\n      <td>4.0</td>\n      <td>3.5</td>\n      <td>POINT (4.00000 3.50000)</td>\n    </tr>\n    <tr>\n      <th>2</th>\n      <td>3</td>\n      <td>-0.5</td>\n      <td>4.5</td>\n      <td>POINT (-0.50000 4.50000)</td>\n    </tr>\n    <tr>\n      <th>3</th>\n      <td>4</td>\n      <td>3.0</td>\n      <td>7.5</td>\n      <td>POINT (3.00000 7.50000)</td>\n    </tr>\n    <tr>\n      <th>4</th>\n      <td>5</td>\n      <td>1.0</td>\n      <td>6.5</td>\n      <td>POINT (1.00000 6.50000)</td>\n    </tr>\n    <tr>\n      <th>...</th>\n      <td>...</td>\n      <td>...</td>\n      <td>...</td>\n      <td>...</td>\n    </tr>\n    <tr>\n      <th>95</th>\n      <td>96</td>\n      <td>0.0</td>\n      <td>6.0</td>\n      <td>POINT (0.00000 6.00000)</td>\n    </tr>\n    <tr>\n      <th>96</th>\n      <td>97</td>\n      <td>0.0</td>\n      <td>2.0</td>\n      <td>POINT (0.00000 2.00000)</td>\n    </tr>\n    <tr>\n      <th>97</th>\n      <td>98</td>\n      <td>-0.5</td>\n      <td>-1.0</td>\n      <td>POINT (-0.50000 -1.00000)</td>\n    </tr>\n    <tr>\n      <th>98</th>\n      <td>99</td>\n      <td>5.0</td>\n      <td>4.0</td>\n      <td>POINT (5.00000 4.00000)</td>\n    </tr>\n    <tr>\n      <th>99</th>\n      <td>100</td>\n      <td>4.5</td>\n      <td>2.0</td>\n      <td>POINT (4.50000 2.00000)</td>\n    </tr>\n  </tbody>\n</table>\n<p>100 rows × 4 columns</p>\n</div>"
     },
     "execution_count": 62,
     "metadata": {},
     "output_type": "execute_result"
    }
   ],
   "source": [
    "points = pd.read_csv(os.path.join('7 - Material', 'input.csv'))\n",
    "points = gpd.GeoDataFrame(points, geometry=gpd.points_from_xy(points.x, points.y))\n",
    "points"
   ],
   "metadata": {
    "collapsed": false,
    "pycharm": {
     "name": "#%%\n"
    }
   }
  },
  {
   "cell_type": "code",
   "execution_count": 63,
   "outputs": [
    {
     "data": {
      "text/plain": "     id    x    y                   geometry classification\n0     1  1.0 -0.5   POINT (1.00000 -0.50000)        outside\n1     2  4.0  3.5    POINT (4.00000 3.50000)        outside\n2     3 -0.5  4.5   POINT (-0.50000 4.50000)        outside\n3     4  3.0  7.5    POINT (3.00000 7.50000)        outside\n4     5  1.0  6.5    POINT (1.00000 6.50000)         inside\n..  ...  ...  ...                        ...            ...\n95   96  0.0  6.0    POINT (0.00000 6.00000)       boundary\n96   97  0.0  2.0    POINT (0.00000 2.00000)       boundary\n97   98 -0.5 -1.0  POINT (-0.50000 -1.00000)        outside\n98   99  5.0  4.0    POINT (5.00000 4.00000)        outside\n99  100  4.5  2.0    POINT (4.50000 2.00000)        outside\n\n[100 rows x 5 columns]",
      "text/html": "<div>\n<style scoped>\n    .dataframe tbody tr th:only-of-type {\n        vertical-align: middle;\n    }\n\n    .dataframe tbody tr th {\n        vertical-align: top;\n    }\n\n    .dataframe thead th {\n        text-align: right;\n    }\n</style>\n<table border=\"1\" class=\"dataframe\">\n  <thead>\n    <tr style=\"text-align: right;\">\n      <th></th>\n      <th>id</th>\n      <th>x</th>\n      <th>y</th>\n      <th>geometry</th>\n      <th>classification</th>\n    </tr>\n  </thead>\n  <tbody>\n    <tr>\n      <th>0</th>\n      <td>1</td>\n      <td>1.0</td>\n      <td>-0.5</td>\n      <td>POINT (1.00000 -0.50000)</td>\n      <td>outside</td>\n    </tr>\n    <tr>\n      <th>1</th>\n      <td>2</td>\n      <td>4.0</td>\n      <td>3.5</td>\n      <td>POINT (4.00000 3.50000)</td>\n      <td>outside</td>\n    </tr>\n    <tr>\n      <th>2</th>\n      <td>3</td>\n      <td>-0.5</td>\n      <td>4.5</td>\n      <td>POINT (-0.50000 4.50000)</td>\n      <td>outside</td>\n    </tr>\n    <tr>\n      <th>3</th>\n      <td>4</td>\n      <td>3.0</td>\n      <td>7.5</td>\n      <td>POINT (3.00000 7.50000)</td>\n      <td>outside</td>\n    </tr>\n    <tr>\n      <th>4</th>\n      <td>5</td>\n      <td>1.0</td>\n      <td>6.5</td>\n      <td>POINT (1.00000 6.50000)</td>\n      <td>inside</td>\n    </tr>\n    <tr>\n      <th>...</th>\n      <td>...</td>\n      <td>...</td>\n      <td>...</td>\n      <td>...</td>\n      <td>...</td>\n    </tr>\n    <tr>\n      <th>95</th>\n      <td>96</td>\n      <td>0.0</td>\n      <td>6.0</td>\n      <td>POINT (0.00000 6.00000)</td>\n      <td>boundary</td>\n    </tr>\n    <tr>\n      <th>96</th>\n      <td>97</td>\n      <td>0.0</td>\n      <td>2.0</td>\n      <td>POINT (0.00000 2.00000)</td>\n      <td>boundary</td>\n    </tr>\n    <tr>\n      <th>97</th>\n      <td>98</td>\n      <td>-0.5</td>\n      <td>-1.0</td>\n      <td>POINT (-0.50000 -1.00000)</td>\n      <td>outside</td>\n    </tr>\n    <tr>\n      <th>98</th>\n      <td>99</td>\n      <td>5.0</td>\n      <td>4.0</td>\n      <td>POINT (5.00000 4.00000)</td>\n      <td>outside</td>\n    </tr>\n    <tr>\n      <th>99</th>\n      <td>100</td>\n      <td>4.5</td>\n      <td>2.0</td>\n      <td>POINT (4.50000 2.00000)</td>\n      <td>outside</td>\n    </tr>\n  </tbody>\n</table>\n<p>100 rows × 5 columns</p>\n</div>"
     },
     "execution_count": 63,
     "metadata": {},
     "output_type": "execute_result"
    }
   ],
   "source": [
    "points['classification'] = 'outside'\n",
    "points.loc[points.touches(polygon), 'classification'] = 'boundary'\n",
    "points.loc[points.within(polygon), 'classification'] = 'inside'\n",
    "\n",
    "points"
   ],
   "metadata": {
    "collapsed": false,
    "pycharm": {
     "name": "#%%\n"
    }
   }
  },
  {
   "cell_type": "markdown",
   "metadata": {},
   "source": [
    "## Rasterio\n",
    "\n",
    "Rasterio is a library that allows you to work with raster data. Rasterio can manipulate various raster file formats\n",
    "and provides a Python API based on NumPy arrays.\n",
    "\n",
    "Rasterio is usually imported like this:"
   ]
  },
  {
   "cell_type": "code",
   "execution_count": 64,
   "metadata": {},
   "outputs": [],
   "source": [
    "import rasterio"
   ]
  },
  {
   "cell_type": "markdown",
   "metadata": {},
   "source": [
    "In order to use Rasterio we need to load a GeoTiff. We will use the GeoTiff downloaded from Digimap representing the\n",
    "Land Cover of UK sampled in 2015. More details about this dataset can be found at\n",
    "this [link](https://digimap.edina.ac.uk/webhelp/environment/environmentdigimaphelp.htm#data_information/lcm2015.htm).\n",
    "\n",
    "We can load this raster file like this:"
   ]
  },
  {
   "cell_type": "code",
   "execution_count": 65,
   "metadata": {},
   "outputs": [],
   "source": [
    "dataset = rasterio.open(os.path.join('7 - Material', 'land_cover_map_2015_uk.tif'))"
   ]
  },
  {
   "cell_type": "markdown",
   "metadata": {},
   "source": [
    "To know which CRS is currently in use:"
   ]
  },
  {
   "cell_type": "code",
   "execution_count": 66,
   "metadata": {},
   "outputs": [
    {
     "data": {
      "text/plain": "CRS.from_epsg(27700)"
     },
     "execution_count": 66,
     "metadata": {},
     "output_type": "execute_result"
    }
   ],
   "source": [
    "dataset.crs"
   ]
  },
  {
   "cell_type": "markdown",
   "metadata": {},
   "source": [
    "To quickly have a look at this raster data we can use the method show:"
   ]
  },
  {
   "cell_type": "code",
   "execution_count": 67,
   "metadata": {},
   "outputs": [
    {
     "data": {
      "text/plain": "<Figure size 432x288 with 1 Axes>",
      "image/png": "[encoded data removed]"
     },
     "metadata": {
      "needs_background": "light"
     },
     "output_type": "display_data"
    },
    {
     "data": {
      "text/plain": "<AxesSubplot:>"
     },
     "execution_count": 67,
     "metadata": {},
     "output_type": "execute_result"
    }
   ],
   "source": [
    "from rasterio import plot\n",
    "\n",
    "rasterio.plot.show(dataset)"
   ]
  },
  {
   "cell_type": "markdown",
   "metadata": {},
   "source": [
    "Raster data are stored in layers. To know how many layers this dataset contains, we can use the count attribute of\n",
    "the dataset:"
   ]
  },
  {
   "cell_type": "code",
   "execution_count": 68,
   "metadata": {},
   "outputs": [
    {
     "data": {
      "text/plain": "1"
     },
     "execution_count": 68,
     "metadata": {},
     "output_type": "execute_result"
    }
   ],
   "source": [
    "dataset.count"
   ]
  },
  {
   "cell_type": "markdown",
   "metadata": {},
   "source": [
    "To know how wide is this raster in pixels:"
   ]
  },
  {
   "cell_type": "code",
   "execution_count": 69,
   "metadata": {},
   "outputs": [
    {
     "data": {
      "text/plain": "700"
     },
     "execution_count": 69,
     "metadata": {},
     "output_type": "execute_result"
    }
   ],
   "source": [
    "dataset.width"
   ]
  },
  {
   "cell_type": "markdown",
   "metadata": {},
   "source": [
    "To know how tall is this raster in pixels:"
   ]
  },
  {
   "cell_type": "code",
   "execution_count": 70,
   "metadata": {},
   "outputs": [
    {
     "data": {
      "text/plain": "1300"
     },
     "execution_count": 70,
     "metadata": {},
     "output_type": "execute_result"
    }
   ],
   "source": [
    "dataset.height"
   ]
  },
  {
   "cell_type": "markdown",
   "metadata": {},
   "source": [
    "To know the data type of this raster:"
   ]
  },
  {
   "cell_type": "code",
   "execution_count": 71,
   "metadata": {},
   "outputs": [
    {
     "data": {
      "text/plain": "('uint8',)"
     },
     "execution_count": 71,
     "metadata": {},
     "output_type": "execute_result"
    }
   ],
   "source": [
    "dataset.dtypes"
   ]
  },
  {
   "cell_type": "markdown",
   "metadata": {},
   "source": [
    "To know the bounds in the current CRS: "
   ]
  },
  {
   "cell_type": "code",
   "execution_count": 72,
   "metadata": {},
   "outputs": [
    {
     "data": {
      "text/plain": "BoundingBox(left=0.0, bottom=0.0, right=700000.0, top=1300000.0)"
     },
     "execution_count": 72,
     "metadata": {},
     "output_type": "execute_result"
    }
   ],
   "source": [
    "dataset.bounds"
   ]
  },
  {
   "cell_type": "markdown",
   "metadata": {},
   "source": [
    "To access the value of this raster as a NumPy array, we can use the `read` method. Because a raster dataset can\n",
    "have multiple bands (layers) we need to pass as a parameter the id of the layer we want to read:"
   ]
  },
  {
   "cell_type": "code",
   "execution_count": 73,
   "metadata": {},
   "outputs": [
    {
     "data": {
      "text/plain": "array([[0, 0, 0, ..., 0, 0, 0],\n       [0, 0, 0, ..., 0, 0, 0],\n       [0, 0, 0, ..., 0, 0, 0],\n       ...,\n       [0, 0, 0, ..., 0, 0, 0],\n       [0, 0, 0, ..., 0, 0, 0],\n       [0, 0, 0, ..., 0, 0, 0]], dtype=uint8)"
     },
     "execution_count": 73,
     "metadata": {},
     "output_type": "execute_result"
    }
   ],
   "source": [
    "dataset.read(1)"
   ]
  },
  {
   "cell_type": "markdown",
   "metadata": {},
   "source": [
    "# Exercise 32\n",
    "\n",
    "Estimate the area (in $m^2$) of each land cover value for the UK."
   ]
  },
  {
   "cell_type": "code",
   "execution_count": 74,
   "metadata": {},
   "outputs": [
    {
     "name": "stdout",
     "output_type": "stream",
     "text": [
      "1 6232000000.0 m^2\n",
      "2 14561000000.0 m^2\n",
      "3 62353000000.0 m^2\n",
      "4 74761000000.0 m^2\n",
      "5 290000000.0 m^2\n",
      "6 587000000.0 m^2\n",
      "7 21533000000.0 m^2\n",
      "8 115000000.0 m^2\n",
      "9 9652000000.0 m^2\n",
      "10 16259000000.0 m^2\n",
      "11 8685000000.0 m^2\n",
      "12 1536000000.0 m^2\n",
      "13 3360000000.0 m^2\n",
      "14 1594000000.0 m^2\n",
      "15 904000000.0 m^2\n",
      "16 751000000.0 m^2\n",
      "17 749000000.0 m^2\n",
      "18 3376000000.0 m^2\n",
      "19 642000000.0 m^2\n",
      "20 3138000000.0 m^2\n",
      "21 11586000000.0 m^2\n"
     ]
    }
   ],
   "source": [
    "import numpy as np\n",
    "\n",
    "matrix = dataset.read(1)\n",
    "\n",
    "land_covers, counts = np.unique(matrix, return_counts=True)\n",
    "\n",
    "for n in range(len(land_covers)):\n",
    "    if n != 0:\n",
    "        print(land_covers[n], counts[n] * dataset.transform[0]**2, 'm^2')"
   ]
  },
  {
   "cell_type": "code",
   "execution_count": 74,
   "outputs": [],
   "source": [],
   "metadata": {
    "collapsed": false,
    "pycharm": {
     "name": "#%%\n"
    }
   }
  }
 ],
 "metadata": {
  "kernelspec": {
   "display_name": "Python 3",
   "language": "python",
   "name": "python3"
  },
  "language_info": {
   "codemirror_mode": {
    "name": "ipython",
    "version": 3
   },
   "file_extension": ".py",
   "mimetype": "text/x-python",
   "name": "python",
   "nbconvert_exporter": "python",
   "pygments_lexer": "ipython3",
   "version": "3.6.9"
  }
 },
 "nbformat": 4,
 "nbformat_minor": 2
}