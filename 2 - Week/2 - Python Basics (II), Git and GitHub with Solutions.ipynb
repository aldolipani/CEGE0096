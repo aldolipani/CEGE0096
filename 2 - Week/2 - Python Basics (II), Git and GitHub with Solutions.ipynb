{
  "cells": [
    {
      "metadata": {},
      "cell_type": "markdown",
      "source": "# Practical: Python Basics (II), Git and GitHub"
    },
    {
      "metadata": {},
      "cell_type": "markdown",
      "source": "**10th October 2019 – 11am to 1pm**\n\n**Christopher Ingold Building G20** "
    },
    {
      "metadata": {},
      "cell_type": "markdown",
      "source": "## Control Flow in Python (II) "
    },
    {
      "metadata": {},
      "cell_type": "markdown",
      "source": "### Iteration Loops\n\n**While Loops**\n\nA `while` loop is used to execute code while a particular condition is\ntrue. Once the condition is no longer true the loop will terminate. \nAn example of a simple program is given the **Fibonacci** series:"
    },
    {
      "metadata": {
        "trusted": true
      },
      "cell_type": "code",
      "source": "a = 0\nb = 1\nwhile b < 10:\n    print(b)\n    c = b\n    b = a + b\n    a = c",
      "execution_count": 1,
      "outputs": [
        {
          "output_type": "stream",
          "text": "1\n1\n2\n3\n5\n8\n",
          "name": "stdout"
        }
      ]
    },
    {
      "metadata": {},
      "cell_type": "markdown",
      "source": "After typing a column (:) and and pressed `enter` the indentation will appear automatically. \nThey are ***very important*** as the code will not work without them.\n\nOn running the code the following should be output: `1 1 2 3 5 8`\n\n**What does this code do?**\n\n**Lines 1 and 2:** The values 0 and 1 are assigned to variables a and b\nrespectively.\n\n**Line 3:** This is a **while** loop. The while loop will execute as long\nas the condition `b < 10` is true. The `:` is part of the syntax of\nwhile loops (and other types of loop). The symbol `<` is a comparison\noperator meaning _less than_. Other comparison operators include `>`,\n`>=`, `<=`, `==` and `!=` (which means not equal to).\n\n**Line 4:** This line (and the next line) is ***indented (space or\ntab)***, which indicates that it is the body of the while loop. In other\nprogramming languages, brackets are used to enclose the body of loops\nbut these are ***not required*** in Python. The command `print(b)`\noutputs the current value of `b` to the interpreter.\n\n**Line 5:** The value of `b` is assigned to a holding variable named `c`,\nallowing `a` and `b` to be updated.\n\n**Lines 6 to 7:** The value of variable `b` is assigned to a and the value\nof `a+b` is assigned to `b`. The loop then returns to **Line 4** and continues\nuntil `b` is no longer less than `10`.\n\n**Note:**  The following code produces the same results:"
    },
    {
      "metadata": {
        "trusted": true
      },
      "cell_type": "code",
      "source": "a, b = 0, 1\nwhile b < 10:\n    print(b)\n    a, b = b, a + b",
      "execution_count": 2,
      "outputs": [
        {
          "output_type": "stream",
          "text": "1\n1\n2\n3\n5\n8\n",
          "name": "stdout"
        }
      ]
    },
    {
      "metadata": {},
      "cell_type": "markdown",
      "source": "Note the simultaneous assignment and updating of a and b, which makes\nthe use of a holder variable like c in the first example unnecessary.\n\n**For Loops**\n\nThe `for` loop or is a simple concept, but is actually one of the most\npowerful tools in programming.\n\nIf you have a large number of values that you want to do something to, it allows you to iterate over\nthem one by one. Here we revist the Fibonacci series but using the for loop:"
    },
    {
      "metadata": {
        "trusted": true,
        "scrolled": true
      },
      "cell_type": "code",
      "source": "last_n = 6\na, b = 0, 1\nfor n in range(last_n):\n    print(b)\n    a, b = b, a + b",
      "execution_count": 3,
      "outputs": [
        {
          "output_type": "stream",
          "text": "1\n1\n2\n3\n5\n8\n",
          "name": "stdout"
        }
      ]
    },
    {
      "metadata": {},
      "cell_type": "markdown",
      "source": "The main difference between this version of the code and the previous one is that when using the `while` loop the terminating condition is set on the value riched by the b variable, while in the `for` loop the condition is on the number of generated Fibonacci values. \n\nWe used the `range` function to create a sequence of numbers between 0 and 9. The syntax for the `range`\nfunction is `range(start_value, stop_value, increment)`. For instance:"
    },
    {
      "metadata": {
        "trusted": true
      },
      "cell_type": "code",
      "source": "for n in range(1,10,2):\n    print(n)",
      "execution_count": 4,
      "outputs": [
        {
          "output_type": "stream",
          "text": "1\n3\n5\n7\n9\n",
          "name": "stdout"
        }
      ]
    },
    {
      "metadata": {},
      "cell_type": "markdown",
      "source": "By default, `start_value` = 0 and `increment` = 1 so they can be omitted, as in\nthe previous case."
    },
    {
      "metadata": {
        "slideshow": {
          "slide_type": "slide"
        }
      },
      "cell_type": "markdown",
      "source": "## Exercise 6\n\nTransform the code below (from Exercise 3) in a way that, instead of asking the user to input an integer once, it keeps asking the user to enter an integer value as long as the inputted value is a number between 1 and 7."
    },
    {
      "metadata": {
        "trusted": true
      },
      "cell_type": "code",
      "source": "n = int(input(\"Please enter an integer: \"))\nif n == 1:\n    print(\"Monday\")\nelif n == 2:\n    print(\"Tuesday\")\nelif n == 3:\n    print(\"Wednesday\")\nelif n == 4:\n    print(\"Thursday\")\nelif n == 5: \n    print(\"Friday\")\nelif n == 6:\n    print(\"Saturday\")\nelif n == 7:\n    print(\"Sunday\")\nelse:\n    print(\"The provided integer does not correspond to a day!\")",
      "execution_count": 5,
      "outputs": [
        {
          "output_type": "stream",
          "name": "stdout",
          "text": "Please enter an integer: 3\nWednesday\n"
        }
      ]
    },
    {
      "metadata": {},
      "cell_type": "markdown",
      "source": "Write your solution here:"
    },
    {
      "metadata": {
        "trusted": true
      },
      "cell_type": "code",
      "source": "n = int(input(\"Please enter an integer: \"))\n    \nwhile n >= 1 and n <= 7:\n    if n == 1:\n        print(\"Monday\")\n    elif n == 2:\n        print(\"Tuesday\")\n    elif n == 3:\n        print(\"Wednesday\")\n    elif n == 4:\n        print(\"Thursday\")\n    elif n == 5: \n        print(\"Friday\")\n    elif n == 6:\n        print(\"Saturday\")\n    elif n == 7:\n        print(\"Sunday\")\n    \n    n = int(input(\"Please enter an integer: \"))\n    \nprint(\"The provided integer does not correspond to a day!\")",
      "execution_count": 6,
      "outputs": [
        {
          "output_type": "stream",
          "name": "stdout",
          "text": "Please enter an integer: 3\nWednesday\nPlease enter an integer: 1\nMonday\nPlease enter an integer: 2\nTuesday\nPlease enter an integer: 8\nThe provided integer does not correspond to a day!\n"
        }
      ]
    },
    {
      "metadata": {},
      "cell_type": "markdown",
      "source": "# Exercise 7\n\nHow would you change the solution to Exercise 6, if the terminating condition is set to be equal to the first number the user entered? For example, if the user first enters 2 the code will ask the user 2 times in total, or if the users first enters 9 the code will ask the user 9 times in total.\n\nWrite your solution here:"
    },
    {
      "metadata": {
        "trusted": true
      },
      "cell_type": "code",
      "source": "n = int(input(\"Please enter an integer: \"))\n\nfor i in range(n, 0, -1):\n    if n == 1:\n        print(\"Monday\")\n    elif n == 2:\n        print(\"Tuesday\")\n    elif n == 3:\n        print(\"Wednesday\")\n    elif n == 4:\n        print(\"Thursday\")\n    elif n == 5: \n        print(\"Friday\")\n    elif n == 6:\n        print(\"Saturday\")\n    elif n == 7:\n        print(\"Sunday\")\n    else:\n        print(\"The provided integer does not correspond to a day!\")\n    if i > 1:\n        n = int(input(\"Please enter an integer: \"))",
      "execution_count": 7,
      "outputs": [
        {
          "output_type": "stream",
          "name": "stdout",
          "text": "Please enter an integer: 3\nWednesday\nPlease enter an integer: 1\nMonday\nPlease enter an integer: 2\nTuesday\n"
        }
      ]
    },
    {
      "metadata": {},
      "cell_type": "markdown",
      "source": "# Exercise 8\n\nCompute mean and variance for a number of inputs given by the user. Also the values needed to compute the mean and variance are inputted by the user.\n\nTIP: Remember how we computed the mean and variace in Exercise 5.\n\nWrite your solution here:"
    },
    {
      "metadata": {
        "trusted": true
      },
      "cell_type": "code",
      "source": "num = 0.0 # variable initialization\nsquared_num = 0.0\n\nn = int(input(\"Number of inputs: \"))\n\nfor i in range(n): \n    a = float(input(\"Insert value number \" + str(i + 1) + \": \"))\n    num = num + a\n    squared_num = squared_num + a**2\n\nmean = num/n\nvariance = squared_num/n - mean**2\n\nprint(\"The mean is\", mean, \"and the variance is\", variance)",
      "execution_count": 8,
      "outputs": [
        {
          "output_type": "stream",
          "name": "stdout",
          "text": "Number of inputs: 5\nInsert value number 1: 1\nInsert value number 2: 2\nInsert value number 3: 3\nInsert value number 4: 4\nInsert value number 5: 5\nThe mean is 3.0 and the variance is 2.0\n"
        }
      ]
    },
    {
      "metadata": {},
      "cell_type": "markdown",
      "source": "### Functions\n\nControl flow allows you to iterate based on certain conditions being met. \nMore often than not, you will want to complete a specific task or a set of tasks\nmultiple times on different data. For example, you may wish to count the\nnumber of points belonging to a set of lines, or calculate the area of\na set of polygons.\n\nThe examples you have worked through so far are designed to be run once.\nFor instance, in the case of the if statement example:"
    },
    {
      "metadata": {
        "trusted": true
      },
      "cell_type": "code",
      "source": "x = int(input(\"Please enter an integer: \"))\nif x < 0:\n    x = 0\n    print('Negative changed to zero')\nelif x == 0:\n    print('Zero')\nelif x == 1:\n    print('Single')\nelse:\n    print('More')",
      "execution_count": 9,
      "outputs": [
        {
          "output_type": "stream",
          "name": "stdout",
          "text": "Please enter an integer: 1\nSingle\n"
        }
      ]
    },
    {
      "metadata": {},
      "cell_type": "markdown",
      "source": "Each time you want to check the value of an integer against the\nconditions you must run the entire code, which is a very inefficient way\nof doing things. Fortunately, we can automate this process using\n**functions**. The if statement can be easily converted to a function as\nfollows:"
    },
    {
      "metadata": {
        "trusted": true
      },
      "cell_type": "code",
      "source": "def check_int(x):\n    result = \"\"\n    if x < 0:\n        x = 0\n        result = 'Negative changed to zero'\n    elif x == 0:\n        result = 'Zero'\n    elif x == 1:\n        result = 'Single'\n    else:\n        result = 'More'\n    return result",
      "execution_count": 10,
      "outputs": []
    },
    {
      "metadata": {},
      "cell_type": "markdown",
      "source": "Here, we have added the line `def check_int():` which\ndefines a function called `check_int`. `check_int` is a name\nthat we have chosen, and could be any valid name. The brackets `()` are\nwhere **arguments** (values of **parameters**) are passed into the function. In\nthis case we have one parameter. The remaining code is indented one level further to indicate that it is\ncontained in the body of the function. The only other change is to\nreplace `print` with assignments to a `result` variable. The keyword `return` is used to\nreturn a value to the user. Remeber, we follow the rule 1 function 1 `return`. \nThe output of a function can be assigned to a variable for later use. Once defined, a function can be **called** as\nfollows:"
    },
    {
      "metadata": {
        "trusted": true
      },
      "cell_type": "code",
      "source": "x = int(input(\"Please enter an integer: \"))\ncheck_int(x)",
      "execution_count": 11,
      "outputs": [
        {
          "output_type": "stream",
          "name": "stdout",
          "text": "Please enter an integer: 1\n"
        },
        {
          "output_type": "execute_result",
          "execution_count": 11,
          "data": {
            "text/plain": "'Single'"
          },
          "metadata": {}
        }
      ]
    },
    {
      "metadata": {},
      "cell_type": "markdown",
      "source": "In this example, the output of `check_int(x)` is not assigned to\nanything so the returned value is printed in the console. However, you could\nassign it to another variable. The advantage of containing the code\nwithin a function is that we only need to write it explicitly once\n(**function definition**), after which it is dealt with internally via\nthe **function call**. This makes it simple to repeat the procedures\ncontained within the function multiple times.\n\nLet’s look at an example with some input parameters. Suppose we want to\ncalculate the midpoint of a straight line. Given the two endpoints\n`p1` and `p2` and encoding the x and y coordinates of each as `x1`,\n`y1`, `x2`, `y2`, the coordinates of the midpoint `p3` are calculated as:\n\n$$p_3 = \\left(\\frac{x_1 + x_2}{2},\\frac{y_1 + y_2}{2}\\right)$$\n\nWe can create a function to do this as follows:"
    },
    {
      "metadata": {
        "trusted": true
      },
      "cell_type": "code",
      "source": "def midpoint(x1, y1, x2, y2):\n    return (x1+x2)/2, (y1+y2)/2",
      "execution_count": 12,
      "outputs": []
    },
    {
      "metadata": {},
      "cell_type": "markdown",
      "source": "We can call the function as follows:"
    },
    {
      "metadata": {
        "trusted": true
      },
      "cell_type": "code",
      "source": "print(midpoint(0,0,5,5))",
      "execution_count": 13,
      "outputs": [
        {
          "output_type": "stream",
          "text": "(2.5, 2.5)\n",
          "name": "stdout"
        }
      ]
    },
    {
      "metadata": {},
      "cell_type": "markdown",
      "source": "### Speeding things up\n\nUp to this point we have input arguments to functions manually each time\nwe have called them. Often, we will want to apply a function to a\ncollection of inputs. For example, we may want to calculate the\nmidpoint of a series of points. This can be done easily by\ncombining functions with control flow:"
    },
    {
      "metadata": {
        "trusted": true
      },
      "cell_type": "code",
      "source": "for x1 in range(5):\n    print(midpoint(x1, 4, 4, 4))",
      "execution_count": 14,
      "outputs": [
        {
          "output_type": "stream",
          "text": "(2.0, 4.0)\n(2.5, 4.0)\n(3.0, 4.0)\n(3.5, 4.0)\n(4.0, 4.0)\n",
          "name": "stdout"
        }
      ]
    },
    {
      "metadata": {},
      "cell_type": "markdown",
      "source": "# Exercise 9\n\nWrite the solution to Exercise 8 as a function that returns mean and variance.\n\nWrite your solution here:"
    },
    {
      "metadata": {
        "trusted": true
      },
      "cell_type": "code",
      "source": "def mean_variance(n):\n    num = 0.0 # variable initialization\n    squared_num = 0.0\n\n    for i in range(n): \n        a = float(input(\"Insert value number \" + str(i + 1) + \": \"))\n        num = num + a\n        squared_num = squared_num + a**2\n\n    mean = num/n\n    variance = squared_num/n - mean**2\n\n    return mean, variance\n\nn = int(input(\"Number of inputs: \"))\nmean, variance = mean_variance(n)\nprint(\"The mean is\", mean, \"and the variance is\", variance)",
      "execution_count": 15,
      "outputs": [
        {
          "output_type": "stream",
          "name": "stdout",
          "text": "Number of inputs: 5\nInsert value number 1: 1\nInsert value number 2: 2\nInsert value number 3: 3\nInsert value number 4: 4\nInsert value number 5: 5\nThe mean is 3.0 and the variance is 2.0\n"
        }
      ]
    },
    {
      "metadata": {},
      "cell_type": "markdown",
      "source": "# Program Planning\n\nDuring the lecture you learnt that to program a Python script as a standalone application (without Jupyter), \nyou need to structure your code in a certain way. In particular, this code should include an `if __name__ == '__main__':` statement and a `main` function. \n\nFor the following exercises you should not use the Jupyter notebook."
    },
    {
      "metadata": {},
      "cell_type": "markdown",
      "source": "# Exercise 10\n\nCreate a folder named `Exercise_10` in your computer and create a file named `main.py` using your favorite text editor (something like notepad). Use this file to do the basic program planning explained above and write in the main function the solution of Exercise 2. \n\nHere is my version, but feel free to use your version of the solution:"
    },
    {
      "metadata": {
        "trusted": true
      },
      "cell_type": "code",
      "source": "full_name = input(\"Please input your full name: \")\nprint(len(full_name))",
      "execution_count": 16,
      "outputs": [
        {
          "output_type": "stream",
          "name": "stdout",
          "text": "Please input your full name: Aldo Lipani\n11\n"
        }
      ]
    },
    {
      "metadata": {},
      "cell_type": "markdown",
      "source": "To run this program follow these instructions:\n\n1. Open the Anaconda Prompt;\n2. Change from the base to the geospatial environment by runnig the command `source activate geospatial` or `activate geospatial`;\n2. Navigate to the folder `Exercise_10` (using the command cd);\n3. Once you are in the correct folder, run `python main.py`\n\nCongratulations, you have now written and run your first standalone program!"
    },
    {
      "metadata": {},
      "cell_type": "markdown",
      "source": "# Version Control Software: Git\n\nNow that we have created our first program we want to make sure that our development will continue smoothly: we want to keep track of the changes done to the project, we want to share this project with our collaborators and make regular backups. To do this we use the Version Control Software, Git. \n\nBut before using it we need to install it. To do this you need to run the command `conda install git` in your anaconda prompt (make sure to be in the `geospatial` environment). To check if we have correctly installed Git run `git --version`.\n\nOnce we have installed it, we can now create a repository for the `Exercise_10` project by typing (from insidie the folder):\n\n`$ git init`\n\nAfter the repository has been initialized you can check its status by typing:\n\n`$ git status`\n\nBefore making our first commit. We want to add a remote to this repository. To do this we create a private repository in GitHub named `CEGE0096: 2nd Practical`. Then, add this remote repository to your local one using the command:\n\n`$ git remote add origin <url>`\n\nYou can check if this remote has been added correctly by typing:\n\n`$ git remote -v`"
    },
    {
      "metadata": {},
      "cell_type": "markdown",
      "source": "# Exercise 11\n\nThroughout this exercise always check what is happening to your local repository (using `git status` and `git log`) and to your GitHub repository. \n\nUsing the git repository created above, you should now:\n\n1. Track/Stage your `main.py` file (using `git add`);\n2. Commit your changes to your local repository writing an appropriate commit message (using `git commit -m \"message\"`);\n3. Push these changes to your remote repository by typing `git push origin master`.\n\n"
    },
    {
      "metadata": {},
      "cell_type": "markdown",
      "source": "# Exercise 12\n\nIn the project used for Exercise 11, change your `main.py` in a way that now the code executes the program you have developed for `Exercise 6`. Then, commit and push your changes with an appropriate message."
    },
    {
      "metadata": {},
      "cell_type": "markdown",
      "source": "# Exercise 13\n\nIn the project used for Exercise 11, change your `main.py` in a way that your program now returns the n-th number of the Fibonacci series, where n is provided as a user input."
    }
  ],
  "metadata": {
    "kernelspec": {
      "name": "python3",
      "display_name": "Python 3",
      "language": "python"
    },
    "language_info": {
      "mimetype": "text/x-python",
      "nbconvert_exporter": "python",
      "name": "python",
      "file_extension": ".py",
      "version": "3.5.4",
      "pygments_lexer": "ipython3",
      "codemirror_mode": {
        "version": 3,
        "name": "ipython"
      }
    }
  },
  "nbformat": 4,
  "nbformat_minor": 2
}