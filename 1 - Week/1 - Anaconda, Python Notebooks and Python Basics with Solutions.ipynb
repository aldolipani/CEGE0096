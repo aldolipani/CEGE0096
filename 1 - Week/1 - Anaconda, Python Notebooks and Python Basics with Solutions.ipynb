{
 "cells": [
  {
   "cell_type": "markdown",
   "metadata": {
    "collapsed": true
   },
   "source": [
    "# Practical: Python Notebooks and Python Basics"
   ]
  },
  {
   "cell_type": "markdown",
   "metadata": {},
   "source": [
    "In this tutorial, you will begin to learn the basics of programming\n",
    "using Python 3.6.x. Most of the content of this tutorial is derived from the online Python v3.6.x\n",
    "documentation, which can be found at <http://docs.python.org/>. Some of\n",
    "the content has been changed/removed for brevity.\n",
    "\n",
    "There are **three short unassessed exercises** to complete during this practical.\n",
    "The exercises are straightforward, and are intended to familiarise you with the Python syntax.\n",
    "They also get you thinking about how you will solve problems using programming."
   ]
  },
  {
   "cell_type": "markdown",
   "metadata": {},
   "source": [
    "## Jupyter Notebooks"
   ]
  },
  {
   "cell_type": "markdown",
   "metadata": {},
   "source": [
    "You are currently running this Jupyter notebook on the Microsoft Azure cloud. If you wish to run this notebook in your machine you will need to download this document as a notebook file to your computer. You can downlod it from the menu file of this notebook. From your machine, start the **Anaconda-Navigator** application. Click the button labelled **Launch** under the **Jupyter Notebook** icon on the **Home** tab. Anaconda-Navigator will open your default browser and will display a web portal to Jupyter Notebook. You will be presented with your home directory. Navigate to the .ipynb file that you downloaded and click the file to run. This notebook will open in a new tab. "
   ]
  },
  {
   "cell_type": "markdown",
   "metadata": {},
   "source": [
    "You are now ready to start coding. Jupyter notebooks consist of two types of cell:\n",
    "- **Markdown Cells** - contain formatted text and images to visually enhance your Python program. If you need to edit these cells (for example to make your own notes) double click on a cell.  The formatting should change and the text will appear in markdown.  Markdown is a system of formatting that uses character combinations to format text. Click [here](https://guides.github.com/features/mastering-markdown/) for a guide to writing markdown (ignoring the seciton on Github Flavored Markdown). To stop editting type **[shift]+[enter]**. \n",
    "\n",
    "- **Code Cells** - contain Python code. You can type directly into the cell to edit your code. To run the code in the cell type **[shift]+[enter]**. You will notice that the empty brackets in the left hand margin will be filled with a number. This number indicates the order in which the cells have been executed.  Try it in the first cell in the next section. If the cell returns output, this will be printed below the cell adjacent to Out[1]:\n",
    "    - To reset the program click `Kernel` on the Jupyter menu bar and click `Restart & Clear Output`.\n",
    "    - To run the program from the beginning click `Kernel` on the Jupyter menu bar and click `Restart & Run All`.\n",
    "    - To save the notebook click `File` on the Jupyter menu bar and click `Save and Checkpoint`."
   ]
  },
  {
   "cell_type": "markdown",
   "metadata": {},
   "source": [
    "At some stage, so take time to familiarise yourself with the Jupyter environment."
   ]
  },
  {
   "cell_type": "markdown",
   "metadata": {},
   "source": [
    "## Using Python as a Calculator"
   ]
  },
  {
   "cell_type": "markdown",
   "metadata": {},
   "source": [
    "One of the simplest things you can do with Python is a numerical calculation.\n",
    "Type the following code into the interpreter and press **[shift]+[enter]**:"
   ]
  },
  {
   "cell_type": "code",
   "execution_count": null,
   "metadata": {},
   "outputs": [],
   "source": [
    "23 + 50"
   ]
  },
  {
   "cell_type": "code",
   "execution_count": null,
   "metadata": {},
   "outputs": [],
   "source": [
    "32 * 23"
   ]
  },
  {
   "cell_type": "markdown",
   "metadata": {},
   "source": [
    "You can see that Python interpreted the sum and outputed the value. Incidentally, to use the previous output use the underscore character.  To refer to another output, use the underscore followed by the number of the output."
   ]
  },
  {
   "cell_type": "code",
   "execution_count": null,
   "metadata": {},
   "outputs": [],
   "source": [
    "print(_)\n",
    "print(_1)"
   ]
  },
  {
   "cell_type": "markdown",
   "metadata": {},
   "source": [
    "The standard mathematical operators (`+`,`-`,`*`,`/`) can be used, as can brackets\n",
    "(parentheses). Python distinguishes between integer (e.g. 2) and floating\n",
    "point (e.g. 2.0) numbers."
   ]
  },
  {
   "cell_type": "code",
   "execution_count": null,
   "metadata": {},
   "outputs": [],
   "source": [
    "((2 * 3) + 10) / 5"
   ]
  },
  {
   "cell_type": "markdown",
   "metadata": {},
   "source": [
    "One of the major differences between Python 2 and Python 3 is how Python handled integer division. In Python 2, dividing an integer by integer would return an integer representing the floor of the result. In Python 3, integer division will always return a floating point. To return an integer when performing integer division, use `//` operator."
   ]
  },
  {
   "cell_type": "code",
   "execution_count": null,
   "metadata": {},
   "outputs": [],
   "source": [
    "5/2"
   ]
  },
  {
   "cell_type": "code",
   "execution_count": null,
   "metadata": {},
   "outputs": [],
   "source": [
    "5//2"
   ]
  },
  {
   "cell_type": "code",
   "execution_count": null,
   "metadata": {},
   "outputs": [],
   "source": [
    "((2 * 3) + 10) // 5"
   ]
  },
  {
   "cell_type": "markdown",
   "metadata": {},
   "source": [
    "## Variables\n",
    "\n",
    "Often, we want to store the numbers or objects as ***variables***."
   ]
  },
  {
   "cell_type": "code",
   "execution_count": null,
   "metadata": {},
   "outputs": [],
   "source": [
    "x = 1\n",
    "x"
   ]
  },
  {
   "cell_type": "markdown",
   "metadata": {},
   "source": [
    "When you typed `x=1` and pressed **[shift]+[enter]**, you simultaneously created a new\n",
    "**variable** called `x` and **assigned** the value 1 to it. Then, when\n",
    "you typed `x` again, the value of `x` was output by the interpreter. The\n",
    "value `1` is now stored in the variable `x` and will remain this way\n",
    "until it is changed. For instance:"
   ]
  },
  {
   "cell_type": "code",
   "execution_count": null,
   "metadata": {},
   "outputs": [],
   "source": [
    "print(x)\n",
    "x = 2\n",
    "x"
   ]
  },
  {
   "cell_type": "markdown",
   "metadata": {},
   "source": [
    "We can assign different variables simultaneously:"
   ]
  },
  {
   "cell_type": "code",
   "execution_count": null,
   "metadata": {},
   "outputs": [],
   "source": [
    "x = y = z = 3\n",
    "print(x)\n",
    "print(y)\n",
    "print(z)"
   ]
  },
  {
   "cell_type": "markdown",
   "metadata": {},
   "source": [
    "We can also use variables to create new variables:"
   ]
  },
  {
   "cell_type": "code",
   "execution_count": null,
   "metadata": {},
   "outputs": [],
   "source": [
    "width = 100\n",
    "height = 200\n",
    "area = width * height\n",
    "area"
   ]
  },
  {
   "cell_type": "markdown",
   "metadata": {},
   "source": [
    "## Strings\n",
    "\n",
    "String is the name for the text data type. A string in Python can be\n",
    "enclosed in either single or double quotation marks. Whichever type was\n",
    "not used to enclose the string can be used within the string. The\n",
    "**backslash** is used when ambiguous characters need to be used within\n",
    "a string.  This is referred to as **escaped** character e.g. an \"escaped apostrophe\", for instance:"
   ]
  },
  {
   "cell_type": "code",
   "execution_count": null,
   "metadata": {},
   "outputs": [],
   "source": [
    "print('Don\\'t mix up apostrophes and single quotes')\n",
    "print(\"In the last line I said \\\"Don't\\\"\")"
   ]
  },
  {
   "cell_type": "markdown",
   "metadata": {},
   "source": [
    "As with numbers, strings can be assigned to variables. Strings can be\n",
    "made to span several lines in a number of ways. The first is to use\n",
    "`\\n`, for instance:"
   ]
  },
  {
   "cell_type": "code",
   "execution_count": null,
   "metadata": {},
   "outputs": [],
   "source": [
    "print(\"First line\\nSecond line\\nThird line\")"
   ]
  },
  {
   "cell_type": "markdown",
   "metadata": {},
   "source": [
    "Here, we have used the command print to interpret the line breaks and\n",
    "the spaces at the start of lines and output the text in a more readable\n",
    "format. We can also use three quotation marks (`“””`), which allows us to\n",
    "type freely, for example:"
   ]
  },
  {
   "cell_type": "code",
   "execution_count": null,
   "metadata": {},
   "outputs": [],
   "source": [
    "print (\"\"\"First line\n",
    "Second line\n",
    "Third line\"\"\")"
   ]
  },
  {
   "cell_type": "markdown",
   "metadata": {},
   "source": [
    "Note that the line breaks are not needed in this example. If you include\n",
    "the letter `r` before a string it becomes a **raw** string, in which characters are not escaped but are included as data."
   ]
  },
  {
   "cell_type": "code",
   "execution_count": null,
   "metadata": {},
   "outputs": [],
   "source": [
    "print(r\"First line\\n Second line\\n third line\")"
   ]
  },
  {
   "cell_type": "markdown",
   "metadata": {},
   "source": [
    "Strings can also be concatenated using the `+` operator or repeated\n",
    "using the `*` operator:"
   ]
  },
  {
   "cell_type": "code",
   "execution_count": null,
   "metadata": {},
   "outputs": [],
   "source": [
    "word1 = \"Spam\"\n",
    "word2 = \", Spam\"\n",
    "word3 = \" and Spam\"\n",
    "print(word1 + word2)\n",
    "print(word1 + word2*10+ word3) "
   ]
  },
  {
   "cell_type": "markdown",
   "metadata": {},
   "source": [
    "**Warning**: Python was named after a group of comedians from the 1970's called Monty Python.\n",
    "The official documentation often uses comedic references to Monty Python shows. You may want to watch this [video](https://www.youtube.com/watch?v=zLih-WQwBSc) to find out why.\n",
    "\n",
    "Have a play around with this until it becomes familiar. You can access individual\n",
    "string elements (letters) using subscripts. \n",
    "In Python, the index of the first element is zero (this is not the case in all languages, for example *R*). Spaces and other characters are counted in the index. For instance:"
   ]
  },
  {
   "cell_type": "code",
   "execution_count": null,
   "metadata": {},
   "outputs": [],
   "source": [
    "print (word1[0])\n",
    "print (word1[1])\n",
    "print (word1[2:3])\n",
    "print (word1[0] + word2[4])"
   ]
  },
  {
   "cell_type": "markdown",
   "metadata": {},
   "source": [
    "The syntax `[a:b]` accesses everything from element `a` to the position\n",
    "before element `b`, where `a` and `b` are integers. In the case above it\n",
    "returns the same as `word2[2]` would. You can omit the index before or\n",
    "after the `:` to print everything up to or after a certain index. For\n",
    "instance:"
   ]
  },
  {
   "cell_type": "code",
   "execution_count": null,
   "metadata": {},
   "outputs": [],
   "source": [
    "print(word2[:3])\n",
    "print(word2[3:])"
   ]
  },
  {
   "cell_type": "markdown",
   "metadata": {},
   "source": [
    "Indices that are out of the range of the string return an ***empty\n",
    "string***. It is ***not possible*** to change part of a string by\n",
    "assigning a value to one of its indices. ***Negative indices***, i.e.\n",
    "`word2[-1]` can be used to count back from the last character of the\n",
    "string. To get the length of a string, the `len` command can be used.\n",
    "For instance, `len(word1)`.Try these yourself."
   ]
  },
  {
   "cell_type": "markdown",
   "metadata": {},
   "source": [
    "## Exercise 1"
   ]
  },
  {
   "cell_type": "markdown",
   "metadata": {},
   "source": [
    "Find the error in this code:"
   ]
  },
  {
   "cell_type": "code",
   "execution_count": null,
   "metadata": {},
   "outputs": [],
   "source": [
    "primt(\"Spam\") # first run the code to discover what error Python returns"
   ]
  },
  {
   "cell_type": "code",
   "execution_count": 1,
   "metadata": {},
   "outputs": [
    {
     "name": "stdout",
     "output_type": "stream",
     "text": [
      "Spam\n"
     ]
    }
   ],
   "source": [
    "print(\"Spam\") # first run the code to discover what error Python returns"
   ]
  },
  {
   "cell_type": "markdown",
   "metadata": {},
   "source": [
    "## Exercise 2"
   ]
  },
  {
   "cell_type": "markdown",
   "metadata": {},
   "source": [
    "Ask the user to input his full name and then print out its length (whitespaces included).\n",
    "\n",
    "TIP: You can use the `input` function and the just learnt `len` function."
   ]
  },
  {
   "cell_type": "code",
   "execution_count": 3,
   "metadata": {},
   "outputs": [
    {
     "name": "stdout",
     "output_type": "stream",
     "text": [
      "Please input your full name: Aldo Lipani\n",
      "11\n"
     ]
    }
   ],
   "source": [
    "full_name = input(\"Please input your full name: \")\n",
    "print(len(full_name))"
   ]
  },
  {
   "cell_type": "markdown",
   "metadata": {},
   "source": [
    "## Control flow in Python"
   ]
  },
  {
   "cell_type": "markdown",
   "metadata": {},
   "source": [
    "Now that you know the basics of how the Python interpreter works and how\n",
    "to deal with certain data types, it’s time to start working with some\n",
    "simple control flow."
   ]
  },
  {
   "cell_type": "markdown",
   "metadata": {},
   "source": [
    "### Conditional statements"
   ]
  },
  {
   "cell_type": "markdown",
   "metadata": {},
   "source": [
    "Conditional (if) statements are one of the most commonly used control flow methods\n",
    "in programming. The basic idea is to execute a command if a certain\n",
    "condition is true. These can be combined with `elif` (which stands for\n",
    "_else if_ ) and `else` to create a sequence of conditions and commands.\n",
    "For example:"
   ]
  },
  {
   "cell_type": "code",
   "execution_count": null,
   "metadata": {},
   "outputs": [],
   "source": [
    "x = int(input(\"Please enter an integer: \"))\n",
    "if x < 0:\n",
    "    x = 0\n",
    "    print('Negative changed to zero')\n",
    "elif x == 0:\n",
    "    print('Zero')\n",
    "elif x == 1:\n",
    "    print('Single')\n",
    "else:\n",
    "    print('More')"
   ]
  },
  {
   "cell_type": "markdown",
   "metadata": {},
   "source": [
    "In this code, line 1 asks the user to input an integer using the\n",
    "keyboard. The function `int` converts a number or string to an integer.\n",
    "The function `input` asks for keyboard input from the\n",
    "user. When you run this code, the text “Please enter an integer:” will\n",
    "display, and the interpreter will wait for your input. When you enter an\n",
    "integer and press enter, one of the messages; “Negative changed to\n",
    "zero”, “Zero”, “Single” or “More” will be printed depending on the\n",
    "integer you input. If you input something that is not an integer, an\n",
    "error will occur. Try this a few times until you are sure what the code\n",
    "is doing."
   ]
  },
  {
   "cell_type": "markdown",
   "metadata": {},
   "source": [
    "## Exercise 3"
   ]
  },
  {
   "cell_type": "markdown",
   "metadata": {},
   "source": [
    "Find the error on this code:"
   ]
  },
  {
   "cell_type": "code",
   "execution_count": null,
   "metadata": {},
   "outputs": [],
   "source": [
    "n = int(input(\"Please enter an integer: \"))\n",
    "if n == 1:\n",
    "    print(\"Monday\")\n",
    "elif n == 2:\n",
    "    print(\"Tuesday\")\n",
    "elif n == 3:\n",
    "print(\"Wednesday\")\n",
    "elif n == 4:\n",
    "    print(\"Thursday\")\n",
    "elif n == 5: \n",
    "    print(\"Friday\")\n",
    "elif n == 6:\n",
    "    print(\"Saturday\")\n",
    "else:\n",
    "    print(\"Sunday\")"
   ]
  },
  {
   "cell_type": "code",
   "execution_count": 5,
   "metadata": {},
   "outputs": [
    {
     "name": "stdout",
     "output_type": "stream",
     "text": [
      "Please enter an integer: 8\n",
      "The provided integer does not correspond to a day!\n"
     ]
    }
   ],
   "source": [
    "n = int(input(\"Please enter an integer: \"))\n",
    "if n == 1:\n",
    "    print(\"Monday\")\n",
    "elif n == 2:\n",
    "    print(\"Tuesday\")\n",
    "elif n == 3:\n",
    "    print(\"Wednesday\")\n",
    "elif n == 4:\n",
    "    print(\"Thursday\")\n",
    "elif n == 5: \n",
    "    print(\"Friday\")\n",
    "elif n == 6:\n",
    "    print(\"Saturday\")\n",
    "elif n == 7:\n",
    "    print(\"Sunday\")\n",
    "else:\n",
    "    print(\"The provided integer does not correspond to a day!\")"
   ]
  },
  {
   "cell_type": "markdown",
   "metadata": {},
   "source": [
    "Did you also spot the a logical error (a bug)? Can you fix it?"
   ]
  },
  {
   "cell_type": "markdown",
   "metadata": {},
   "source": [
    "## Exercise 4"
   ]
  },
  {
   "cell_type": "markdown",
   "metadata": {},
   "source": [
    "Ask the user to input 3 numbers and compute the mean and variance.\n",
    "\n",
    "TIP: The variance can be computed as $\\sigma = \\frac{1}{3}(a_1^2 + a_2^2 + a_3^2) - \\mu^2$, where $\\mu$ is the mean ($\\mu = \\frac{1}{3}(a_1 + a_2 + a_3)$). \n"
   ]
  },
  {
   "cell_type": "code",
   "execution_count": 10,
   "metadata": {},
   "outputs": [
    {
     "name": "stdout",
     "output_type": "stream",
     "text": [
      "Insert 1st value: 1\n",
      "Insert 2nd value: 2\n",
      "Insert 3rd value: 3\n",
      "The mean is 2.0 and the variance is 0.666666666666667\n"
     ]
    }
   ],
   "source": [
    "# first version\n",
    "a1 = float(input(\"Insert 1st value: \"))\n",
    "a2 = float(input(\"Insert 2nd value: \"))\n",
    "a3 = float(input(\"Insert 3rd value: \"))\n",
    "         \n",
    "mean = (a1 + a2 + a3)/3\n",
    "variance = (a1**2 + a2**2 + a3**2)/3 - mean**2\n",
    "           \n",
    "print(\"The mean is\", mean, \"and the variance is\", variance)"
   ]
  },
  {
   "cell_type": "code",
   "execution_count": 11,
   "metadata": {},
   "outputs": [
    {
     "name": "stdout",
     "output_type": "stream",
     "text": [
      "Insert 1st value:1\n",
      "Insert 2nd value:2\n",
      "Insert 3rd value:3\n",
      "The mean is 2.0 and the variance is 0.666666666666667\n"
     ]
    }
   ],
   "source": [
    "## second version (cumulative version)\n",
    "num = 0.0 # variable initialization\n",
    "squared_num = 0.0\n",
    "\n",
    "a = float(input(\"Insert 1st value: \"))\n",
    "num = num + a\n",
    "squared_num = squared_num + a**2\n",
    "a = float(input(\"Insert 2nd value: \"))\n",
    "num = num + a\n",
    "squared_num = squared_num + a**2\n",
    "a = float(input(\"Insert 3rd value: \"))\n",
    "num = num + a\n",
    "squared_num = squared_num + a**2\n",
    "\n",
    "mean = num/3\n",
    "variance = squared_num/3 - mean**2\n",
    "\n",
    "print(\"The mean is\", mean, \"and the variance is\", variance)"
   ]
  },
  {
   "cell_type": "markdown",
   "metadata": {},
   "source": [
    "## Exercise 5"
   ]
  },
  {
   "cell_type": "markdown",
   "metadata": {},
   "source": [
    "Like Exercise 4, but first ask the user to tell you on how many numbers should the mean and variance be computed, 3, 4 or 5?"
   ]
  },
  {
   "cell_type": "code",
   "execution_count": 15,
   "metadata": {},
   "outputs": [
    {
     "name": "stdout",
     "output_type": "stream",
     "text": [
      "Number of inputs: 4\n",
      "Insert 1st value: 1\n",
      "Insert 2nd value: 2\n",
      "Insert 3rd value: 3\n",
      "Insert 4th value: 4\n",
      "The mean is 2.5 and the variance is 1.25\n"
     ]
    }
   ],
   "source": [
    "# first version (the same logic to compute mean and variance is repeated)\n",
    "n = int(input(\"Number of inputs: \"))\n",
    "\n",
    "if n == 3:\n",
    "    a1 = float(input(\"Insert 1st value: \"))\n",
    "    a2 = float(input(\"Insert 2nd value: \"))\n",
    "    a3 = float(input(\"Insert 3rd value: \"))\n",
    "    \n",
    "    mean = (a1 + a2 + a3)/3\n",
    "    variance = (a1**2 + a2**2 + a3**2)/3 - mean**2\n",
    "           \n",
    "    print(\"The mean is\", mean, \"and the variance is\", variance)\n",
    "elif n == 4:\n",
    "    a1 = float(input(\"Insert 1st value: \"))\n",
    "    a2 = float(input(\"Insert 2nd value: \"))\n",
    "    a3 = float(input(\"Insert 3rd value: \"))\n",
    "    a4 = float(input(\"Insert 4th value: \"))\n",
    "    \n",
    "    mean = (a1 + a2 + a3 + a4)/4\n",
    "    variance = (a1**2 + a2**2 + a3**2 + a4**2)/4 - mean**2\n",
    "           \n",
    "    print(\"The mean is\", mean, \"and the variance is\", variance)\n",
    "elif n == 5:\n",
    "    a1 = float(input(\"Insert 1st value: \"))\n",
    "    a2 = float(input(\"Insert 2nd value: \"))\n",
    "    a3 = float(input(\"Insert 3rd value: \"))\n",
    "    a4 = float(input(\"Insert 4th value: \"))\n",
    "    a5 = float(input(\"Insert 5th value: \"))\n",
    "    \n",
    "    mean = (a1 + a2 + a3 + a4 + a5)/5\n",
    "    variance = (a1**2 + a2**2 + a3**2 + a4**2 + a5**2)/5 - mean**2\n",
    "    \n",
    "    print(\"The mean is\", mean, \"and the variance is\", variance)\n",
    "else:\n",
    "    print(\"Number of inputs not allowed!\")"
   ]
  },
  {
   "cell_type": "code",
   "execution_count": 17,
   "metadata": {},
   "outputs": [
    {
     "name": "stdout",
     "output_type": "stream",
     "text": [
      "Number of inputs: 4\n",
      "Insert 1st value: 1\n",
      "Insert 2nd value: 2\n",
      "Insert 3rd value: 3\n",
      "Insert 4th value: 4\n",
      "The mean is 2.5 and the variance is 1.25\n"
     ]
    }
   ],
   "source": [
    "# second version (cumulative version)\n",
    "num = 0.0 # variable initialization\n",
    "squared_num = 0.0\n",
    "\n",
    "n = int(input(\"Number of inputs: \"))\n",
    "\n",
    "if n < 3 or n > 5:\n",
    "    print(\"Number of inputs not allowed!\")\n",
    "\n",
    "a = float(input(\"Insert 1st value: \"))\n",
    "num = num + a\n",
    "squared_num = squared_num + a**2\n",
    "a = float(input(\"Insert 2nd value: \"))\n",
    "num = num + a\n",
    "squared_num = squared_num + a**2\n",
    "a = float(input(\"Insert 3rd value: \"))\n",
    "num = num + a\n",
    "squared_num = squared_num + a**2\n",
    "if n > 3:\n",
    "    a = float(input(\"Insert 4th value: \"))\n",
    "    num = num + a\n",
    "    squared_num = squared_num + a**2\n",
    "if n > 4:\n",
    "    a = float(input(\"Insert 5th value: \"))\n",
    "    num = num + a\n",
    "    squared_num = squared_num + a**2\n",
    "\n",
    "mean = num/n\n",
    "variance = squared_num/n - mean**2\n",
    "\n",
    "print(\"The mean is\", mean, \"and the variance is\", variance)"
   ]
  }
 ],
 "metadata": {
  "kernelspec": {
   "display_name": "Python 3",
   "language": "python",
   "name": "python3"
  },
  "language_info": {
   "codemirror_mode": {
    "name": "ipython",
    "version": 3
   },
   "file_extension": ".py",
   "mimetype": "text/x-python",
   "name": "python",
   "nbconvert_exporter": "python",
   "pygments_lexer": "ipython3",
   "version": "3.7.3"
  }
 },
 "nbformat": 4,
 "nbformat_minor": 2
}
