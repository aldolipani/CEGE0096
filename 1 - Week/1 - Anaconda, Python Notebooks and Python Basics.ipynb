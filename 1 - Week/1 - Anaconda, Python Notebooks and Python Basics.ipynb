{
  "cells": [
    {
      "metadata": {
        "collapsed": true,
        "trusted": false
      },
      "cell_type": "markdown",
      "source": "# Practical: Python Notebooks and Python Basics"
    },
    {
      "metadata": {},
      "cell_type": "markdown",
      "source": "In this tutorial, you will begin to learn the basics of programming\nusing Python 3.6.x. Most of the content of this tutorial is derived from the online Python v3.6.x\ndocumentation, which can be found at <http://docs.python.org/>. Some of\nthe content has been changed/removed for brevity.\n\nThere are **three short unassessed exercises** to complete during this practical.\nThe exercises are straightforward, and are intended to familiarise you with the Python syntax.\nThey also get you thinking about how you will solve problems using programming."
    },
    {
      "metadata": {},
      "cell_type": "markdown",
      "source": "## Jupyter Notebooks"
    },
    {
      "metadata": {},
      "cell_type": "markdown",
      "source": "You are currently running this Jupyter notebook on the Microsoft Azure cloud. If you wish to run this notebook in your machine you will need to download this document as a notebook file to your computer. You can downlod it from the menu file of this notebook. From your machine, start the **Anaconda-Navigator** application. Click the button labelled **Launch** under the **Jupyter Notebook** icon on the **Home** tab. Anaconda-Navigator will open your default browser and will display a web portal to Jupyter Notebook. You will be presented with your home directory. Navigate to the .ipynb file that you downloaded and click the file to run. This notebook will open in a new tab. "
    },
    {
      "metadata": {},
      "cell_type": "markdown",
      "source": "You are now ready to start coding. Jupyter notebooks consist of two types of cell:\n- **Markdown Cells** - contain formatted text and images to visually enhance your Python program. If you need to edit these cells (for example to make your own notes) double click on a cell.  The formatting should change and the text will appear in markdown.  Markdown is a system of formatting that uses character combinations to format text. Click [here](https://guides.github.com/features/mastering-markdown/) for a guide to writing markdown (ignoring the seciton on Github Flavored Markdown). To stop editting type **[shift]+[enter]**. \n\n- **Code Cells** - contain Python code. You can type directly into the cell to edit your code. To run the code in the cell type **[shift]+[enter]**. You will notice that the empty brackets in the left hand margin will be filled with a number. This number indicates the order in which the cells have been executed.  Try it in the first cell in the next section. If the cell returns output, this will be printed below the cell adjacent to Out[1]:\n    - To reset the program click `Kernel` on the Jupyter menu bar and click `Restart & Clear Output`.\n    - To run the program from the beginning click `Kernel` on the Jupyter menu bar and click `Restart & Run All`.\n    - To save the notebook click `File` on the Jupyter menu bar and click `Save and Checkpoint`."
    },
    {
      "metadata": {},
      "cell_type": "markdown",
      "source": "At some stage, so take time to familiarise yourself with the Jupyter environment."
    },
    {
      "metadata": {},
      "cell_type": "markdown",
      "source": "## Using Python as a Calculator"
    },
    {
      "metadata": {},
      "cell_type": "markdown",
      "source": "One of the simplest things you can do with Python is a numerical calculation.\nType the following code into the interpreter and press **[shift]+[enter]**:"
    },
    {
      "metadata": {
        "trusted": true
      },
      "cell_type": "code",
      "source": "23 + 50",
      "execution_count": null,
      "outputs": []
    },
    {
      "metadata": {
        "trusted": true
      },
      "cell_type": "code",
      "source": "32 * 23",
      "execution_count": null,
      "outputs": []
    },
    {
      "metadata": {},
      "cell_type": "markdown",
      "source": "You can see that Python interpreted the sum and outputed the value. Incidentally, to use the previous output use the underscore character.  To refer to another output, use the underscore followed by the number of the output."
    },
    {
      "metadata": {
        "trusted": true
      },
      "cell_type": "code",
      "source": "print(_)\nprint(_1)",
      "execution_count": null,
      "outputs": []
    },
    {
      "metadata": {},
      "cell_type": "markdown",
      "source": "The standard mathematical operators (`+`,`-`,`*`,`/`) can be used, as can brackets\n(parentheses). Python distinguishes between integer (e.g. 2) and floating\npoint (e.g. 2.0) numbers."
    },
    {
      "metadata": {
        "trusted": true
      },
      "cell_type": "code",
      "source": "((2 * 3) + 10) / 5",
      "execution_count": null,
      "outputs": []
    },
    {
      "metadata": {},
      "cell_type": "markdown",
      "source": "One of the major differences between Python 2 and Python 3 is how Python handled integer division. In Python 2, dividing an integer by integer would return an integer representing the floor of the result. In Python 3, integer division will always return a floating point. To return an integer when performing integer division, use `//` operator."
    },
    {
      "metadata": {
        "trusted": true
      },
      "cell_type": "code",
      "source": "5/2",
      "execution_count": null,
      "outputs": []
    },
    {
      "metadata": {
        "trusted": true
      },
      "cell_type": "code",
      "source": "5//2",
      "execution_count": null,
      "outputs": []
    },
    {
      "metadata": {
        "trusted": true
      },
      "cell_type": "code",
      "source": "((2 * 3) + 10) // 5",
      "execution_count": null,
      "outputs": []
    },
    {
      "metadata": {},
      "cell_type": "markdown",
      "source": "## Variables\n\nOften, we want to store the numbers or objects as ***variables***."
    },
    {
      "metadata": {
        "trusted": true
      },
      "cell_type": "code",
      "source": "x = 1\nx",
      "execution_count": null,
      "outputs": []
    },
    {
      "metadata": {},
      "cell_type": "markdown",
      "source": "When you typed `x=1` and pressed **[shift]+[enter]**, you simultaneously created a new\n**variable** called `x` and **assigned** the value 1 to it. Then, when\nyou typed `x` again, the value of `x` was output by the interpreter. The\nvalue `1` is now stored in the variable `x` and will remain this way\nuntil it is changed. For instance:"
    },
    {
      "metadata": {
        "trusted": true
      },
      "cell_type": "code",
      "source": "print(x)\nx = 2\nx",
      "execution_count": null,
      "outputs": []
    },
    {
      "metadata": {},
      "cell_type": "markdown",
      "source": "We can assign different variables simultaneously:"
    },
    {
      "metadata": {
        "trusted": true
      },
      "cell_type": "code",
      "source": "x = y = z = 3\nprint(x)\nprint(y)\nprint(z)",
      "execution_count": null,
      "outputs": []
    },
    {
      "metadata": {},
      "cell_type": "markdown",
      "source": "We can also use variables to create new variables:"
    },
    {
      "metadata": {
        "trusted": true
      },
      "cell_type": "code",
      "source": "width = 100\nheight = 200\narea = width * height\narea",
      "execution_count": null,
      "outputs": []
    },
    {
      "metadata": {},
      "cell_type": "markdown",
      "source": "## Strings\n\nString is the name for the text data type. A string in Python can be\nenclosed in either single or double quotation marks. Whichever type was\nnot used to enclose the string can be used within the string. The\n**backslash** is used when ambiguous characters need to be used within\na string.  This is referred to as **escaped** character e.g. an \"escaped apostrophe\", for instance:"
    },
    {
      "metadata": {
        "trusted": true
      },
      "cell_type": "code",
      "source": "print('Don\\'t mix up apostrophes and single quotes')\nprint(\"In the last line I said \\\"Don't\\\"\")",
      "execution_count": null,
      "outputs": []
    },
    {
      "metadata": {},
      "cell_type": "markdown",
      "source": "As with numbers, strings can be assigned to variables. Strings can be\nmade to span several lines in a number of ways. The first is to use\n`\\n`, for instance:"
    },
    {
      "metadata": {
        "trusted": true
      },
      "cell_type": "code",
      "source": "print(\"First line\\nSecond line\\nThird line\")",
      "execution_count": null,
      "outputs": []
    },
    {
      "metadata": {},
      "cell_type": "markdown",
      "source": "Here, we have used the command print to interpret the line breaks and\nthe spaces at the start of lines and output the text in a more readable\nformat. We can also use three quotation marks (`“””`), which allows us to\ntype freely, for example:"
    },
    {
      "metadata": {
        "trusted": true
      },
      "cell_type": "code",
      "source": "print (\"\"\"First line\nSecond line\nThird line\"\"\")",
      "execution_count": null,
      "outputs": []
    },
    {
      "metadata": {},
      "cell_type": "markdown",
      "source": "Note that the line breaks are not needed in this example. If you include\nthe letter `r` before a string it becomes a **raw** string, in which characters are not escaped but are included as data."
    },
    {
      "metadata": {
        "trusted": true
      },
      "cell_type": "code",
      "source": "print(r\"First line\\n Second line\\n third line\")",
      "execution_count": null,
      "outputs": []
    },
    {
      "metadata": {},
      "cell_type": "markdown",
      "source": "Strings can also be concatenated using the `+` operator or repeated\nusing the `*` operator:"
    },
    {
      "metadata": {
        "trusted": true
      },
      "cell_type": "code",
      "source": "word1 = \"Spam\"\nword2 = \", Spam\"\nword3 = \" and Spam\"\nprint(word1 + word2)\nprint(word1 + word2*10+ word3) ",
      "execution_count": null,
      "outputs": []
    },
    {
      "metadata": {},
      "cell_type": "markdown",
      "source": "**Warning**: Python was named after a group of comedians from the 1970's called Monty Python.\nThe official documentation often uses comedic references to Monty Python shows. You may want to watch this [video](https://www.youtube.com/watch?v=zLih-WQwBSc) to find out why.\n\nHave a play around with this until it becomes familiar. You can access individual\nstring elements (letters) using subscripts. \nIn Python, the index of the first element is zero (this is not the case in all languages, for example *R*). Spaces and other characters are counted in the index. For instance:"
    },
    {
      "metadata": {
        "trusted": true
      },
      "cell_type": "code",
      "source": "print (word1[0])\nprint (word1[1])\nprint (word1[2:3])\nprint (word1[0] + word2[4])",
      "execution_count": null,
      "outputs": []
    },
    {
      "metadata": {},
      "cell_type": "markdown",
      "source": "The syntax `[a:b]` accesses everything from element `a` to the position\nbefore element `b`, where `a` and `b` are integers. In the case above it\nreturns the same as `word2[2]` would. You can omit the index before or\nafter the `:` to print everything up to or after a certain index. For\ninstance:"
    },
    {
      "metadata": {
        "trusted": true
      },
      "cell_type": "code",
      "source": "print(word2[:3])\nprint(word2[3:])",
      "execution_count": null,
      "outputs": []
    },
    {
      "metadata": {},
      "cell_type": "markdown",
      "source": "Indices that are out of the range of the string return an ***empty\nstring***. It is ***not possible*** to change part of a string by\nassigning a value to one of its indices. ***Negative indices***, i.e.\n`word2[-1]` can be used to count back from the last character of the\nstring. To get the length of a string, the `len` command can be used.\nFor instance, `len(word1)`.Try these yourself."
    },
    {
      "metadata": {},
      "cell_type": "markdown",
      "source": "## Exercise 1"
    },
    {
      "metadata": {},
      "cell_type": "markdown",
      "source": "Find the error in this code:"
    },
    {
      "metadata": {
        "trusted": true
      },
      "cell_type": "code",
      "source": "primt(\"Spam\") # first run the code to discover what error Python returns",
      "execution_count": null,
      "outputs": []
    },
    {
      "metadata": {},
      "cell_type": "markdown",
      "source": "## Exercise 2"
    },
    {
      "metadata": {},
      "cell_type": "markdown",
      "source": "Ask the user to input his full name and then print out its length (whitespaces included).\n\nTIP: You can use the `input` function and the just learnt `len` function."
    },
    {
      "metadata": {
        "trusted": true
      },
      "cell_type": "code",
      "source": "# write your code here",
      "execution_count": null,
      "outputs": []
    },
    {
      "metadata": {},
      "cell_type": "markdown",
      "source": "## Control flow in Python"
    },
    {
      "metadata": {},
      "cell_type": "markdown",
      "source": "Now that you know the basics of how the Python interpreter works and how\nto deal with certain data types, it’s time to start working with some\nsimple control flow."
    },
    {
      "metadata": {},
      "cell_type": "markdown",
      "source": "### Conditional statements"
    },
    {
      "metadata": {},
      "cell_type": "markdown",
      "source": "Conditional (if) statements are one of the most commonly used control flow methods\nin programming. The basic idea is to execute a command if a certain\ncondition is true. These can be combined with `elif` (which stands for\n_else if_ ) and `else` to create a sequence of conditions and commands.\nFor example:"
    },
    {
      "metadata": {
        "trusted": true
      },
      "cell_type": "code",
      "source": "x = int(input(\"Please enter an integer: \"))\nif x < 0:\n    x = 0\n    print('Negative changed to zero')\nelif x == 0:\n    print('Zero')\nelif x == 1:\n    print('Single')\nelse:\n    print('More')",
      "execution_count": null,
      "outputs": []
    },
    {
      "metadata": {},
      "cell_type": "markdown",
      "source": "In this code, line 1 asks the user to input an integer using the\nkeyboard. The function `int` converts a number or string to an integer.\nThe function `input` asks for keyboard input from the\nuser. When you run this code, the text “Please enter an integer:” will\ndisplay, and the interpreter will wait for your input. When you enter an\ninteger and press enter, one of the messages; “Negative changed to\nzero”, “Zero”, “Single” or “More” will be printed depending on the\ninteger you input. If you input something that is not an integer, an\nerror will occur. Try this a few times until you are sure what the code\nis doing."
    },
    {
      "metadata": {},
      "cell_type": "markdown",
      "source": "## Exercise 3"
    },
    {
      "metadata": {},
      "cell_type": "markdown",
      "source": "Find the error on this code:"
    },
    {
      "metadata": {
        "trusted": true
      },
      "cell_type": "code",
      "source": "n = int(input(\"Please enter an integer: \"))\nif n == 1:\n    print(\"Monday\")\nelif n == 2:\n    print(\"Tuesday\")\nelif n == 3:\nprint(\"Wednesday\")\nelif n == 4:\n    print(\"Thursday\")\nelif n == 5: \n    print(\"Friday\")\nelif n == 6:\n    print(\"Saturday\")\nelse:\n    print(\"Sunday\")",
      "execution_count": null,
      "outputs": []
    },
    {
      "metadata": {},
      "cell_type": "markdown",
      "source": "Did you also spot the a logical error (a bug)? Can you fix it?"
    },
    {
      "metadata": {},
      "cell_type": "markdown",
      "source": "## Exercise 4"
    },
    {
      "metadata": {},
      "cell_type": "markdown",
      "source": "Ask the user to input 3 numbers and compute the mean and variance.\n\nTIP: The variance can be computed as $\\sigma = \\left[\\frac{1}{3}(a_1^2 + a_2^2 + a_3^2)\\right]^2 - \\mu^2$, where $\\mu$ is the mean ($\\mu = \\frac{1}{3}(a_1 + a_2 + a_3)$). \n"
    },
    {
      "metadata": {
        "trusted": true
      },
      "cell_type": "code",
      "source": "",
      "execution_count": null,
      "outputs": []
    },
    {
      "metadata": {},
      "cell_type": "markdown",
      "source": "## Exercise 5"
    },
    {
      "metadata": {},
      "cell_type": "markdown",
      "source": "Like Exercise 4, but first ask the user to tell you on how many numbers should the mean and variance be computed, 3, 4 or 5?"
    },
    {
      "metadata": {
        "trusted": true
      },
      "cell_type": "code",
      "source": "",
      "execution_count": null,
      "outputs": []
    }
  ],
  "metadata": {
    "kernelspec": {
      "name": "python36",
      "display_name": "Python 3.6",
      "language": "python"
    },
    "language_info": {
      "mimetype": "text/x-python",
      "nbconvert_exporter": "python",
      "name": "python",
      "pygments_lexer": "ipython3",
      "version": "3.6.6",
      "file_extension": ".py",
      "codemirror_mode": {
        "version": 3,
        "name": "ipython"
      }
    }
  },
  "nbformat": 4,
  "nbformat_minor": 2
}