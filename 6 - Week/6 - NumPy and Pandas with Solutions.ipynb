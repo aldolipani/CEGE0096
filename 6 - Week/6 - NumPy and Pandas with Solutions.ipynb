{
 "cells": [
  {
   "cell_type": "markdown",
   "metadata": {},
   "source": [
    "# Practical: NumPy and Pandas"
   ]
  },
  {
   "cell_type": "markdown",
   "metadata": {},
   "source": [
    "**14th November 2019 – 11am to 1pm**\n",
    "\n",
    "**Christopher Ingold Building G20** "
   ]
  },
  {
   "cell_type": "markdown",
   "metadata": {},
   "source": [
    "## Intro to NumPy\n",
    "\n",
    "NumPy is a Python library for scientific computing. It provides high-performance multidimensional data structure called arrays. NumPy is usually imported like this:"
   ]
  },
  {
   "cell_type": "code",
   "execution_count": 1,
   "metadata": {},
   "outputs": [],
   "source": [
    "import numpy as np"
   ]
  },
  {
   "cell_type": "markdown",
   "metadata": {},
   "source": [
    "### Arrays\n",
    "\n",
    "A NumPy array is a tensor of values all of the same type. The number of dimensions is the rank of the array, the shape of an array is a tuple of integers giving the size of the array along each dimension.\n",
    "\n",
    "We can create a NumPy array (aka a vector) from Python lists:"
   ]
  },
  {
   "cell_type": "code",
   "execution_count": 2,
   "metadata": {},
   "outputs": [
    {
     "data": {
      "text/plain": [
       "array([1, 2, 3, 4])"
      ]
     },
     "execution_count": 2,
     "metadata": {},
     "output_type": "execute_result"
    }
   ],
   "source": [
    "a = np.array([1, 2, 3, 4])\n",
    "a"
   ]
  },
  {
   "cell_type": "markdown",
   "metadata": {},
   "source": [
    "The previous code cell has created a NumPy array of rank 1. To check that this is a NumPy array we can use the function `type`:"
   ]
  },
  {
   "cell_type": "code",
   "execution_count": 3,
   "metadata": {},
   "outputs": [
    {
     "data": {
      "text/plain": [
       "numpy.ndarray"
      ]
     },
     "execution_count": 3,
     "metadata": {},
     "output_type": "execute_result"
    }
   ],
   "source": [
    "type(a)"
   ]
  },
  {
   "cell_type": "markdown",
   "metadata": {},
   "source": [
    "If we are given an array and we need to know its shape, we can use its attribute `shape`:"
   ]
  },
  {
   "cell_type": "code",
   "execution_count": 4,
   "metadata": {},
   "outputs": [
    {
     "data": {
      "text/plain": [
       "(4,)"
      ]
     },
     "execution_count": 4,
     "metadata": {},
     "output_type": "execute_result"
    }
   ],
   "source": [
    "a.shape"
   ]
  },
  {
   "cell_type": "markdown",
   "metadata": {},
   "source": [
    "What shape returns is a tuple containing the length of each dimension. In this case, we have only one dimension of size 4.\n",
    "\n",
    "To access the values of a one-dimensional array we can do like we do when using Python lists:"
   ]
  },
  {
   "cell_type": "code",
   "execution_count": 5,
   "metadata": {},
   "outputs": [
    {
     "data": {
      "text/plain": [
       "1"
      ]
     },
     "execution_count": 5,
     "metadata": {},
     "output_type": "execute_result"
    }
   ],
   "source": [
    "a[0]"
   ]
  },
  {
   "cell_type": "markdown",
   "metadata": {},
   "source": [
    "Let's now create a 2-dimensional array (aka a matrix in math):"
   ]
  },
  {
   "cell_type": "code",
   "execution_count": 6,
   "metadata": {},
   "outputs": [
    {
     "data": {
      "text/plain": [
       "array([[1, 2, 3, 4],\n",
       "       [5, 6, 7, 8]])"
      ]
     },
     "execution_count": 6,
     "metadata": {},
     "output_type": "execute_result"
    }
   ],
   "source": [
    "a2 = np.array([[1, 2, 3, 4], [5, 6, 7, 8]])\n",
    "a2"
   ]
  },
  {
   "cell_type": "markdown",
   "metadata": {},
   "source": [
    "Now we use shape to get the length of the dimensions:"
   ]
  },
  {
   "cell_type": "code",
   "execution_count": 7,
   "metadata": {},
   "outputs": [
    {
     "data": {
      "text/plain": [
       "(2, 4)"
      ]
     },
     "execution_count": 7,
     "metadata": {},
     "output_type": "execute_result"
    }
   ],
   "source": [
    "a2.shape"
   ]
  },
  {
   "cell_type": "markdown",
   "metadata": {},
   "source": [
    "This is a matrix (with rank 2) with 2 rows and 4 columns.\n",
    "\n",
    "To access the individual values of this matrix we can do like this:"
   ]
  },
  {
   "cell_type": "code",
   "execution_count": 8,
   "metadata": {},
   "outputs": [
    {
     "data": {
      "text/plain": [
       "1"
      ]
     },
     "execution_count": 8,
     "metadata": {},
     "output_type": "execute_result"
    }
   ],
   "source": [
    "a2[0, 0]"
   ]
  },
  {
   "cell_type": "markdown",
   "metadata": {},
   "source": [
    "This will access the value positioned at the first row and first column. Try to access other locations until you get and error.\n",
    "\n",
    "NumPy also provides some handy functions to create commonly used tensors when developing scientific applications. To use these functions we just need to give a tuple as a parameter defining the size of each dimensions. \n",
    "\n",
    "For example, use zeros to create a tensor filled with zeros:"
   ]
  },
  {
   "cell_type": "code",
   "execution_count": 9,
   "metadata": {},
   "outputs": [
    {
     "data": {
      "text/plain": [
       "array([[0., 0., 0., 0.],\n",
       "       [0., 0., 0., 0.],\n",
       "       [0., 0., 0., 0.],\n",
       "       [0., 0., 0., 0.]])"
      ]
     },
     "execution_count": 9,
     "metadata": {},
     "output_type": "execute_result"
    }
   ],
   "source": [
    "np.zeros((4, 4))"
   ]
  },
  {
   "cell_type": "markdown",
   "metadata": {},
   "source": [
    "Use ones to create a tensor filled with ones:"
   ]
  },
  {
   "cell_type": "code",
   "execution_count": 10,
   "metadata": {},
   "outputs": [
    {
     "data": {
      "text/plain": [
       "array([[1., 1., 1., 1.],\n",
       "       [1., 1., 1., 1.],\n",
       "       [1., 1., 1., 1.],\n",
       "       [1., 1., 1., 1.]])"
      ]
     },
     "execution_count": 10,
     "metadata": {},
     "output_type": "execute_result"
    }
   ],
   "source": [
    "np.ones((4, 4))"
   ]
  },
  {
   "cell_type": "markdown",
   "metadata": {},
   "source": [
    "Use random.random to create a tensor filled with random values $\\in [0,1]$:"
   ]
  },
  {
   "cell_type": "code",
   "execution_count": 11,
   "metadata": {},
   "outputs": [
    {
     "data": {
      "text/plain": [
       "array([[0.67228889, 0.82460082, 0.02825465, 0.61296301],\n",
       "       [0.1664574 , 0.51560881, 0.78779685, 0.4968349 ],\n",
       "       [0.60106714, 0.26886472, 0.4403512 , 0.89450168],\n",
       "       [0.93282136, 0.39633049, 0.79247472, 0.10917855]])"
      ]
     },
     "execution_count": 11,
     "metadata": {},
     "output_type": "execute_result"
    }
   ],
   "source": [
    "np.random.random((4, 4))"
   ]
  },
  {
   "cell_type": "markdown",
   "metadata": {},
   "source": [
    "To create a matrix containing a given value, we can either use the method full and provide the given value, or create a tensor of ones and multiplying it by the given value, or create a tensor of zeros and sum the given value:"
   ]
  },
  {
   "cell_type": "code",
   "execution_count": 12,
   "metadata": {},
   "outputs": [
    {
     "data": {
      "text/plain": [
       "array([[3, 3, 3, 3],\n",
       "       [3, 3, 3, 3],\n",
       "       [3, 3, 3, 3],\n",
       "       [3, 3, 3, 3]])"
      ]
     },
     "execution_count": 12,
     "metadata": {},
     "output_type": "execute_result"
    }
   ],
   "source": [
    "np.full((4, 4), 3)"
   ]
  },
  {
   "cell_type": "code",
   "execution_count": 13,
   "metadata": {},
   "outputs": [
    {
     "data": {
      "text/plain": [
       "array([[3., 3., 3., 3.],\n",
       "       [3., 3., 3., 3.],\n",
       "       [3., 3., 3., 3.],\n",
       "       [3., 3., 3., 3.]])"
      ]
     },
     "execution_count": 13,
     "metadata": {},
     "output_type": "execute_result"
    }
   ],
   "source": [
    "np.ones((4, 4)) * 3"
   ]
  },
  {
   "cell_type": "code",
   "execution_count": 14,
   "metadata": {},
   "outputs": [
    {
     "data": {
      "text/plain": [
       "array([[3., 3., 3., 3.],\n",
       "       [3., 3., 3., 3.],\n",
       "       [3., 3., 3., 3.],\n",
       "       [3., 3., 3., 3.]])"
      ]
     },
     "execution_count": 14,
     "metadata": {},
     "output_type": "execute_result"
    }
   ],
   "source": [
    "np.zeros((4, 4)) + 3"
   ]
  },
  {
   "cell_type": "markdown",
   "metadata": {},
   "source": [
    "The two code cells above also demonstrate that in NumPy we can easily do arithmetic operations between tensors and scalars.\n",
    "\n",
    "To create a matrix with the diagonal full with ones (aka the identity matrix), we can use the method eye like this:"
   ]
  },
  {
   "cell_type": "code",
   "execution_count": 15,
   "metadata": {},
   "outputs": [
    {
     "data": {
      "text/plain": [
       "array([[1., 0., 0., 0.],\n",
       "       [0., 1., 0., 0.],\n",
       "       [0., 0., 1., 0.],\n",
       "       [0., 0., 0., 1.]])"
      ]
     },
     "execution_count": 15,
     "metadata": {},
     "output_type": "execute_result"
    }
   ],
   "source": [
    "np.eye(4)"
   ]
  },
  {
   "cell_type": "markdown",
   "metadata": {},
   "source": [
    "### Array Selection\n",
    "\n",
    "We can select a part of a tensor using the slicing operator of Python. However, in NumPy the range operator can be used with multi-dimensional tensors:"
   ]
  },
  {
   "cell_type": "code",
   "execution_count": 16,
   "metadata": {},
   "outputs": [
    {
     "data": {
      "text/plain": [
       "array([[ 1,  2,  3,  4],\n",
       "       [ 5,  6,  7,  8],\n",
       "       [ 9, 10, 11, 12]])"
      ]
     },
     "execution_count": 16,
     "metadata": {},
     "output_type": "execute_result"
    }
   ],
   "source": [
    "a = np.array([[1, 2, 3, 4], [5, 6, 7, 8], [9, 10, 11, 12]])\n",
    "a"
   ]
  },
  {
   "cell_type": "markdown",
   "metadata": {},
   "source": [
    "For example, to select only the 2x2 matrix on the top right, we can do:"
   ]
  },
  {
   "cell_type": "code",
   "execution_count": 17,
   "metadata": {},
   "outputs": [
    {
     "data": {
      "text/plain": [
       "array([[3, 4],\n",
       "       [7, 8]])"
      ]
     },
     "execution_count": 17,
     "metadata": {},
     "output_type": "execute_result"
    }
   ],
   "source": [
    "a[:2, 2:]"
   ]
  },
  {
   "cell_type": "markdown",
   "metadata": {},
   "source": [
    "If we want to select the last row:"
   ]
  },
  {
   "cell_type": "code",
   "execution_count": 18,
   "metadata": {},
   "outputs": [
    {
     "data": {
      "text/plain": [
       "array([[ 9, 10, 11, 12]])"
      ]
     },
     "execution_count": 18,
     "metadata": {},
     "output_type": "execute_result"
    }
   ],
   "source": [
    "a[2:]"
   ]
  },
  {
   "cell_type": "markdown",
   "metadata": {},
   "source": [
    "If we want to select the last two columns:"
   ]
  },
  {
   "cell_type": "code",
   "execution_count": 19,
   "metadata": {},
   "outputs": [
    {
     "data": {
      "text/plain": [
       "array([[ 3,  4],\n",
       "       [ 7,  8],\n",
       "       [11, 12]])"
      ]
     },
     "execution_count": 19,
     "metadata": {},
     "output_type": "execute_result"
    }
   ],
   "source": [
    "a[:,2:]"
   ]
  },
  {
   "cell_type": "markdown",
   "metadata": {},
   "source": [
    "We can also use a list of integers to extract only the coordinates we want, for example if we want to extract only the values of the 4 corners of the matrix `a`:"
   ]
  },
  {
   "cell_type": "code",
   "execution_count": 20,
   "metadata": {},
   "outputs": [
    {
     "data": {
      "text/plain": [
       "array([ 1,  4,  9, 12])"
      ]
     },
     "execution_count": 20,
     "metadata": {},
     "output_type": "execute_result"
    }
   ],
   "source": [
    "a[[0, 0, 2, 2],[0, 3, 0, 3]]"
   ]
  },
  {
   "cell_type": "markdown",
   "metadata": {},
   "source": [
    "### Arithmetic Operators with Arrays\n",
    "\n",
    "To sum a scalar to a matrix:"
   ]
  },
  {
   "cell_type": "code",
   "execution_count": 21,
   "metadata": {},
   "outputs": [
    {
     "data": {
      "text/plain": [
       "array([[4., 3., 3., 3.],\n",
       "       [3., 4., 3., 3.],\n",
       "       [3., 3., 4., 3.],\n",
       "       [3., 3., 3., 4.]])"
      ]
     },
     "execution_count": 21,
     "metadata": {},
     "output_type": "execute_result"
    }
   ],
   "source": [
    "a = np.eye(4) \n",
    "a + 3"
   ]
  },
  {
   "cell_type": "markdown",
   "metadata": {},
   "source": [
    "To subtract a scalar:"
   ]
  },
  {
   "cell_type": "code",
   "execution_count": 22,
   "metadata": {},
   "outputs": [
    {
     "data": {
      "text/plain": [
       "array([[-4., -5., -5., -5.],\n",
       "       [-5., -4., -5., -5.],\n",
       "       [-5., -5., -4., -5.],\n",
       "       [-5., -5., -5., -4.]])"
      ]
     },
     "execution_count": 22,
     "metadata": {},
     "output_type": "execute_result"
    }
   ],
   "source": [
    "a - 5"
   ]
  },
  {
   "cell_type": "markdown",
   "metadata": {},
   "source": [
    "To multiply a scalar to a matrix:"
   ]
  },
  {
   "cell_type": "code",
   "execution_count": 23,
   "metadata": {},
   "outputs": [
    {
     "data": {
      "text/plain": [
       "array([[3., 0., 0., 0.],\n",
       "       [0., 3., 0., 0.],\n",
       "       [0., 0., 3., 0.],\n",
       "       [0., 0., 0., 3.]])"
      ]
     },
     "execution_count": 23,
     "metadata": {},
     "output_type": "execute_result"
    }
   ],
   "source": [
    "a * 3"
   ]
  },
  {
   "cell_type": "markdown",
   "metadata": {},
   "source": [
    "To divide by a scalar:"
   ]
  },
  {
   "cell_type": "code",
   "execution_count": 24,
   "metadata": {},
   "outputs": [
    {
     "data": {
      "text/plain": [
       "array([[0.33333333, 0.        , 0.        , 0.        ],\n",
       "       [0.        , 0.33333333, 0.        , 0.        ],\n",
       "       [0.        , 0.        , 0.33333333, 0.        ],\n",
       "       [0.        , 0.        , 0.        , 0.33333333]])"
      ]
     },
     "execution_count": 24,
     "metadata": {},
     "output_type": "execute_result"
    }
   ],
   "source": [
    "a / 3"
   ]
  },
  {
   "cell_type": "markdown",
   "metadata": {},
   "source": [
    "To exponentiate by a value:"
   ]
  },
  {
   "cell_type": "code",
   "execution_count": 25,
   "metadata": {},
   "outputs": [
    {
     "data": {
      "text/plain": [
       "array([[8., 1., 1., 1.],\n",
       "       [1., 8., 1., 1.],\n",
       "       [1., 1., 8., 1.],\n",
       "       [1., 1., 1., 8.]])"
      ]
     },
     "execution_count": 25,
     "metadata": {},
     "output_type": "execute_result"
    }
   ],
   "source": [
    "(a + 1) ** 3"
   ]
  },
  {
   "cell_type": "markdown",
   "metadata": {},
   "source": [
    "We can also do matrix operations like the dot product like this:"
   ]
  },
  {
   "cell_type": "code",
   "execution_count": 26,
   "metadata": {},
   "outputs": [
    {
     "data": {
      "text/plain": [
       "array([13, 20])"
      ]
     },
     "execution_count": 26,
     "metadata": {},
     "output_type": "execute_result"
    }
   ],
   "source": [
    "a1 = np.array([4, 3])\n",
    "a2 = np.array([[1, 2],[3, 4]])\n",
    "\n",
    "a1 @ a2"
   ]
  },
  {
   "cell_type": "markdown",
   "metadata": {},
   "source": [
    "We can transpose a matrix like this:"
   ]
  },
  {
   "cell_type": "code",
   "execution_count": 27,
   "metadata": {},
   "outputs": [
    {
     "data": {
      "text/plain": [
       "array([[1, 3],\n",
       "       [2, 4]])"
      ]
     },
     "execution_count": 27,
     "metadata": {},
     "output_type": "execute_result"
    }
   ],
   "source": [
    "a2.T"
   ]
  },
  {
   "cell_type": "markdown",
   "metadata": {},
   "source": [
    "### Comparison Operators with Arrays\n",
    "\n",
    "We can use the Python comparison operators with arrays. However, this will not return a Boolean value but an array of Boolean values:"
   ]
  },
  {
   "cell_type": "code",
   "execution_count": 28,
   "metadata": {},
   "outputs": [
    {
     "data": {
      "text/plain": [
       "array([False, False,  True, False])"
      ]
     },
     "execution_count": 28,
     "metadata": {},
     "output_type": "execute_result"
    }
   ],
   "source": [
    "a = np.array([1, 2, 3, 4])\n",
    "a == 3"
   ]
  },
  {
   "cell_type": "markdown",
   "metadata": {},
   "source": [
    "Or, greater or equal:"
   ]
  },
  {
   "cell_type": "code",
   "execution_count": 29,
   "metadata": {},
   "outputs": [
    {
     "data": {
      "text/plain": [
       "array([False, False,  True,  True])"
      ]
     },
     "execution_count": 29,
     "metadata": {},
     "output_type": "execute_result"
    }
   ],
   "source": [
    "a >= 3"
   ]
  },
  {
   "cell_type": "markdown",
   "metadata": {},
   "source": [
    "### Extended Datatypes\n",
    "\n",
    "NumPy is implemented in C. This allows us to use C datatypes like this:"
   ]
  },
  {
   "cell_type": "code",
   "execution_count": 30,
   "metadata": {},
   "outputs": [
    {
     "data": {
      "text/plain": [
       "array([1, 2, 3, 4], dtype=int32)"
      ]
     },
     "execution_count": 30,
     "metadata": {},
     "output_type": "execute_result"
    }
   ],
   "source": [
    "a = np.array([1, 2, 3, 4], dtype=np.int32)\n",
    "a"
   ]
  },
  {
   "cell_type": "markdown",
   "metadata": {},
   "source": [
    "We can find details about C datatypes [here](https://docs.scipy.org/doc/numpy/user/basics.types.html)."
   ]
  },
  {
   "cell_type": "markdown",
   "metadata": {},
   "source": [
    "# Exercise 27\n",
    "\n",
    "Compute the following sequence when n is equal to 5:\n",
    "\n",
    "$\n",
    "a_0 = \n",
    "\\begin{bmatrix}\n",
    "1&0\\\\\n",
    "0&1\\\\\n",
    "\\end{bmatrix}\n",
    "$\n",
    "\n",
    "$\n",
    "a_n = \n",
    "\\begin{bmatrix}\n",
    "1\\\\\n",
    "2\\\\\n",
    "\\end{bmatrix} \\cdot \n",
    "\\begin{bmatrix}\n",
    "2&1\\\\\n",
    "\\end{bmatrix} -\n",
    "a_{n-1}$\n",
    "\n",
    "\n",
    "The result should be:\n",
    "\n",
    "$a_5 = \\begin{bmatrix}\n",
    "1&1\\\\\n",
    "4&1\\\\\n",
    "\\end{bmatrix}$"
   ]
  },
  {
   "cell_type": "code",
   "execution_count": 31,
   "metadata": {},
   "outputs": [
    {
     "data": {
      "text/plain": [
       "array([[1., 1.],\n",
       "       [4., 1.]])"
      ]
     },
     "execution_count": 31,
     "metadata": {},
     "output_type": "execute_result"
    }
   ],
   "source": [
    "n = 5\n",
    "\n",
    "a_n = np.eye(2)\n",
    "for _ in range(n):\n",
    "    a_n = np.array([[1], [2]]) @ np.array([[2, 1]]) - a_n\n",
    "\n",
    "a_n"
   ]
  },
  {
   "cell_type": "markdown",
   "metadata": {},
   "source": [
    "## Intro to Pandas\n",
    "\n",
    "Pandas is an open source providing high-performance easy-to-use data structures and data analysis tools for the Python programming language.\n",
    "\n",
    "Pandas is usually imported using the following import statement:"
   ]
  },
  {
   "cell_type": "code",
   "execution_count": 32,
   "metadata": {},
   "outputs": [],
   "source": [
    "import pandas as pd"
   ]
  },
  {
   "cell_type": "markdown",
   "metadata": {},
   "source": [
    "Pandas defines two data structures called DataFrame and Series. \n",
    "\n",
    "### Read a CSV\n",
    "\n",
    "To read a CSV file we can use the read_csv method. This will create a DataFrame. To read a CSV you can pass to this method either a file path to a CSV file stored locally, or an URL to a CSV file which pandas will download and parse automatically. \n",
    "\n",
    "For this tutorial we will work with a famous dataset called IRIS. This dataset describes the features of 3 different species of flowers. Each row is a flower and each column is a different measurement made on the flowers with the exception of the last column which represents the species of the flower:"
   ]
  },
  {
   "cell_type": "code",
   "execution_count": 33,
   "metadata": {},
   "outputs": [
    {
     "data": {
      "text/html": [
       "<div>\n",
       "<style scoped>\n",
       "    .dataframe tbody tr th:only-of-type {\n",
       "        vertical-align: middle;\n",
       "    }\n",
       "\n",
       "    .dataframe tbody tr th {\n",
       "        vertical-align: top;\n",
       "    }\n",
       "\n",
       "    .dataframe thead th {\n",
       "        text-align: right;\n",
       "    }\n",
       "</style>\n",
       "<table border=\"1\" class=\"dataframe\">\n",
       "  <thead>\n",
       "    <tr style=\"text-align: right;\">\n",
       "      <th></th>\n",
       "      <th>sepal_length</th>\n",
       "      <th>sepal_width</th>\n",
       "      <th>petal_length</th>\n",
       "      <th>petal_width</th>\n",
       "      <th>species</th>\n",
       "    </tr>\n",
       "  </thead>\n",
       "  <tbody>\n",
       "    <tr>\n",
       "      <th>0</th>\n",
       "      <td>5.1</td>\n",
       "      <td>3.5</td>\n",
       "      <td>1.4</td>\n",
       "      <td>0.2</td>\n",
       "      <td>setosa</td>\n",
       "    </tr>\n",
       "    <tr>\n",
       "      <th>1</th>\n",
       "      <td>4.9</td>\n",
       "      <td>3.0</td>\n",
       "      <td>1.4</td>\n",
       "      <td>0.2</td>\n",
       "      <td>setosa</td>\n",
       "    </tr>\n",
       "    <tr>\n",
       "      <th>2</th>\n",
       "      <td>4.7</td>\n",
       "      <td>3.2</td>\n",
       "      <td>1.3</td>\n",
       "      <td>0.2</td>\n",
       "      <td>setosa</td>\n",
       "    </tr>\n",
       "    <tr>\n",
       "      <th>3</th>\n",
       "      <td>4.6</td>\n",
       "      <td>3.1</td>\n",
       "      <td>1.5</td>\n",
       "      <td>0.2</td>\n",
       "      <td>setosa</td>\n",
       "    </tr>\n",
       "    <tr>\n",
       "      <th>4</th>\n",
       "      <td>5.0</td>\n",
       "      <td>3.6</td>\n",
       "      <td>1.4</td>\n",
       "      <td>0.2</td>\n",
       "      <td>setosa</td>\n",
       "    </tr>\n",
       "    <tr>\n",
       "      <th>...</th>\n",
       "      <td>...</td>\n",
       "      <td>...</td>\n",
       "      <td>...</td>\n",
       "      <td>...</td>\n",
       "      <td>...</td>\n",
       "    </tr>\n",
       "    <tr>\n",
       "      <th>145</th>\n",
       "      <td>6.7</td>\n",
       "      <td>3.0</td>\n",
       "      <td>5.2</td>\n",
       "      <td>2.3</td>\n",
       "      <td>virginica</td>\n",
       "    </tr>\n",
       "    <tr>\n",
       "      <th>146</th>\n",
       "      <td>6.3</td>\n",
       "      <td>2.5</td>\n",
       "      <td>5.0</td>\n",
       "      <td>1.9</td>\n",
       "      <td>virginica</td>\n",
       "    </tr>\n",
       "    <tr>\n",
       "      <th>147</th>\n",
       "      <td>6.5</td>\n",
       "      <td>3.0</td>\n",
       "      <td>5.2</td>\n",
       "      <td>2.0</td>\n",
       "      <td>virginica</td>\n",
       "    </tr>\n",
       "    <tr>\n",
       "      <th>148</th>\n",
       "      <td>6.2</td>\n",
       "      <td>3.4</td>\n",
       "      <td>5.4</td>\n",
       "      <td>2.3</td>\n",
       "      <td>virginica</td>\n",
       "    </tr>\n",
       "    <tr>\n",
       "      <th>149</th>\n",
       "      <td>5.9</td>\n",
       "      <td>3.0</td>\n",
       "      <td>5.1</td>\n",
       "      <td>1.8</td>\n",
       "      <td>virginica</td>\n",
       "    </tr>\n",
       "  </tbody>\n",
       "</table>\n",
       "<p>150 rows × 5 columns</p>\n",
       "</div>"
      ],
      "text/plain": [
       "     sepal_length  sepal_width  petal_length  petal_width    species\n",
       "0             5.1          3.5           1.4          0.2     setosa\n",
       "1             4.9          3.0           1.4          0.2     setosa\n",
       "2             4.7          3.2           1.3          0.2     setosa\n",
       "3             4.6          3.1           1.5          0.2     setosa\n",
       "4             5.0          3.6           1.4          0.2     setosa\n",
       "..            ...          ...           ...          ...        ...\n",
       "145           6.7          3.0           5.2          2.3  virginica\n",
       "146           6.3          2.5           5.0          1.9  virginica\n",
       "147           6.5          3.0           5.2          2.0  virginica\n",
       "148           6.2          3.4           5.4          2.3  virginica\n",
       "149           5.9          3.0           5.1          1.8  virginica\n",
       "\n",
       "[150 rows x 5 columns]"
      ]
     },
     "execution_count": 33,
     "metadata": {},
     "output_type": "execute_result"
    }
   ],
   "source": [
    "iris = pd.read_csv('https://raw.githubusercontent.com/mwaskom/seaborn-data/master/iris.csv')\n",
    "iris"
   ]
  },
  {
   "cell_type": "markdown",
   "metadata": {},
   "source": [
    "We can check the first 5 rows of the DataFrame by using head:"
   ]
  },
  {
   "cell_type": "code",
   "execution_count": 34,
   "metadata": {},
   "outputs": [
    {
     "data": {
      "text/html": [
       "<div>\n",
       "<style scoped>\n",
       "    .dataframe tbody tr th:only-of-type {\n",
       "        vertical-align: middle;\n",
       "    }\n",
       "\n",
       "    .dataframe tbody tr th {\n",
       "        vertical-align: top;\n",
       "    }\n",
       "\n",
       "    .dataframe thead th {\n",
       "        text-align: right;\n",
       "    }\n",
       "</style>\n",
       "<table border=\"1\" class=\"dataframe\">\n",
       "  <thead>\n",
       "    <tr style=\"text-align: right;\">\n",
       "      <th></th>\n",
       "      <th>sepal_length</th>\n",
       "      <th>sepal_width</th>\n",
       "      <th>petal_length</th>\n",
       "      <th>petal_width</th>\n",
       "      <th>species</th>\n",
       "    </tr>\n",
       "  </thead>\n",
       "  <tbody>\n",
       "    <tr>\n",
       "      <th>0</th>\n",
       "      <td>5.1</td>\n",
       "      <td>3.5</td>\n",
       "      <td>1.4</td>\n",
       "      <td>0.2</td>\n",
       "      <td>setosa</td>\n",
       "    </tr>\n",
       "    <tr>\n",
       "      <th>1</th>\n",
       "      <td>4.9</td>\n",
       "      <td>3.0</td>\n",
       "      <td>1.4</td>\n",
       "      <td>0.2</td>\n",
       "      <td>setosa</td>\n",
       "    </tr>\n",
       "    <tr>\n",
       "      <th>2</th>\n",
       "      <td>4.7</td>\n",
       "      <td>3.2</td>\n",
       "      <td>1.3</td>\n",
       "      <td>0.2</td>\n",
       "      <td>setosa</td>\n",
       "    </tr>\n",
       "    <tr>\n",
       "      <th>3</th>\n",
       "      <td>4.6</td>\n",
       "      <td>3.1</td>\n",
       "      <td>1.5</td>\n",
       "      <td>0.2</td>\n",
       "      <td>setosa</td>\n",
       "    </tr>\n",
       "    <tr>\n",
       "      <th>4</th>\n",
       "      <td>5.0</td>\n",
       "      <td>3.6</td>\n",
       "      <td>1.4</td>\n",
       "      <td>0.2</td>\n",
       "      <td>setosa</td>\n",
       "    </tr>\n",
       "  </tbody>\n",
       "</table>\n",
       "</div>"
      ],
      "text/plain": [
       "   sepal_length  sepal_width  petal_length  petal_width species\n",
       "0           5.1          3.5           1.4          0.2  setosa\n",
       "1           4.9          3.0           1.4          0.2  setosa\n",
       "2           4.7          3.2           1.3          0.2  setosa\n",
       "3           4.6          3.1           1.5          0.2  setosa\n",
       "4           5.0          3.6           1.4          0.2  setosa"
      ]
     },
     "execution_count": 34,
     "metadata": {},
     "output_type": "execute_result"
    }
   ],
   "source": [
    "iris.head(5)"
   ]
  },
  {
   "cell_type": "markdown",
   "metadata": {},
   "source": [
    "Or tail:"
   ]
  },
  {
   "cell_type": "code",
   "execution_count": 35,
   "metadata": {},
   "outputs": [
    {
     "data": {
      "text/html": [
       "<div>\n",
       "<style scoped>\n",
       "    .dataframe tbody tr th:only-of-type {\n",
       "        vertical-align: middle;\n",
       "    }\n",
       "\n",
       "    .dataframe tbody tr th {\n",
       "        vertical-align: top;\n",
       "    }\n",
       "\n",
       "    .dataframe thead th {\n",
       "        text-align: right;\n",
       "    }\n",
       "</style>\n",
       "<table border=\"1\" class=\"dataframe\">\n",
       "  <thead>\n",
       "    <tr style=\"text-align: right;\">\n",
       "      <th></th>\n",
       "      <th>sepal_length</th>\n",
       "      <th>sepal_width</th>\n",
       "      <th>petal_length</th>\n",
       "      <th>petal_width</th>\n",
       "      <th>species</th>\n",
       "    </tr>\n",
       "  </thead>\n",
       "  <tbody>\n",
       "    <tr>\n",
       "      <th>145</th>\n",
       "      <td>6.7</td>\n",
       "      <td>3.0</td>\n",
       "      <td>5.2</td>\n",
       "      <td>2.3</td>\n",
       "      <td>virginica</td>\n",
       "    </tr>\n",
       "    <tr>\n",
       "      <th>146</th>\n",
       "      <td>6.3</td>\n",
       "      <td>2.5</td>\n",
       "      <td>5.0</td>\n",
       "      <td>1.9</td>\n",
       "      <td>virginica</td>\n",
       "    </tr>\n",
       "    <tr>\n",
       "      <th>147</th>\n",
       "      <td>6.5</td>\n",
       "      <td>3.0</td>\n",
       "      <td>5.2</td>\n",
       "      <td>2.0</td>\n",
       "      <td>virginica</td>\n",
       "    </tr>\n",
       "    <tr>\n",
       "      <th>148</th>\n",
       "      <td>6.2</td>\n",
       "      <td>3.4</td>\n",
       "      <td>5.4</td>\n",
       "      <td>2.3</td>\n",
       "      <td>virginica</td>\n",
       "    </tr>\n",
       "    <tr>\n",
       "      <th>149</th>\n",
       "      <td>5.9</td>\n",
       "      <td>3.0</td>\n",
       "      <td>5.1</td>\n",
       "      <td>1.8</td>\n",
       "      <td>virginica</td>\n",
       "    </tr>\n",
       "  </tbody>\n",
       "</table>\n",
       "</div>"
      ],
      "text/plain": [
       "     sepal_length  sepal_width  petal_length  petal_width    species\n",
       "145           6.7          3.0           5.2          2.3  virginica\n",
       "146           6.3          2.5           5.0          1.9  virginica\n",
       "147           6.5          3.0           5.2          2.0  virginica\n",
       "148           6.2          3.4           5.4          2.3  virginica\n",
       "149           5.9          3.0           5.1          1.8  virginica"
      ]
     },
     "execution_count": 35,
     "metadata": {},
     "output_type": "execute_result"
    }
   ],
   "source": [
    "iris.tail(5)"
   ]
  },
  {
   "cell_type": "markdown",
   "metadata": {},
   "source": [
    "Like NumPy, we can get the size of the dimensions of the DataFrame using shape:"
   ]
  },
  {
   "cell_type": "code",
   "execution_count": 36,
   "metadata": {},
   "outputs": [
    {
     "data": {
      "text/plain": [
       "(150, 5)"
      ]
     },
     "execution_count": 36,
     "metadata": {},
     "output_type": "execute_result"
    }
   ],
   "source": [
    "iris.shape"
   ]
  },
  {
   "cell_type": "markdown",
   "metadata": {},
   "source": [
    "We can analyze the content of the DataFrame using describe:"
   ]
  },
  {
   "cell_type": "code",
   "execution_count": 37,
   "metadata": {},
   "outputs": [
    {
     "data": {
      "text/html": [
       "<div>\n",
       "<style scoped>\n",
       "    .dataframe tbody tr th:only-of-type {\n",
       "        vertical-align: middle;\n",
       "    }\n",
       "\n",
       "    .dataframe tbody tr th {\n",
       "        vertical-align: top;\n",
       "    }\n",
       "\n",
       "    .dataframe thead th {\n",
       "        text-align: right;\n",
       "    }\n",
       "</style>\n",
       "<table border=\"1\" class=\"dataframe\">\n",
       "  <thead>\n",
       "    <tr style=\"text-align: right;\">\n",
       "      <th></th>\n",
       "      <th>sepal_length</th>\n",
       "      <th>sepal_width</th>\n",
       "      <th>petal_length</th>\n",
       "      <th>petal_width</th>\n",
       "    </tr>\n",
       "  </thead>\n",
       "  <tbody>\n",
       "    <tr>\n",
       "      <th>count</th>\n",
       "      <td>150.000000</td>\n",
       "      <td>150.000000</td>\n",
       "      <td>150.000000</td>\n",
       "      <td>150.000000</td>\n",
       "    </tr>\n",
       "    <tr>\n",
       "      <th>mean</th>\n",
       "      <td>5.843333</td>\n",
       "      <td>3.057333</td>\n",
       "      <td>3.758000</td>\n",
       "      <td>1.199333</td>\n",
       "    </tr>\n",
       "    <tr>\n",
       "      <th>std</th>\n",
       "      <td>0.828066</td>\n",
       "      <td>0.435866</td>\n",
       "      <td>1.765298</td>\n",
       "      <td>0.762238</td>\n",
       "    </tr>\n",
       "    <tr>\n",
       "      <th>min</th>\n",
       "      <td>4.300000</td>\n",
       "      <td>2.000000</td>\n",
       "      <td>1.000000</td>\n",
       "      <td>0.100000</td>\n",
       "    </tr>\n",
       "    <tr>\n",
       "      <th>25%</th>\n",
       "      <td>5.100000</td>\n",
       "      <td>2.800000</td>\n",
       "      <td>1.600000</td>\n",
       "      <td>0.300000</td>\n",
       "    </tr>\n",
       "    <tr>\n",
       "      <th>50%</th>\n",
       "      <td>5.800000</td>\n",
       "      <td>3.000000</td>\n",
       "      <td>4.350000</td>\n",
       "      <td>1.300000</td>\n",
       "    </tr>\n",
       "    <tr>\n",
       "      <th>75%</th>\n",
       "      <td>6.400000</td>\n",
       "      <td>3.300000</td>\n",
       "      <td>5.100000</td>\n",
       "      <td>1.800000</td>\n",
       "    </tr>\n",
       "    <tr>\n",
       "      <th>max</th>\n",
       "      <td>7.900000</td>\n",
       "      <td>4.400000</td>\n",
       "      <td>6.900000</td>\n",
       "      <td>2.500000</td>\n",
       "    </tr>\n",
       "  </tbody>\n",
       "</table>\n",
       "</div>"
      ],
      "text/plain": [
       "       sepal_length  sepal_width  petal_length  petal_width\n",
       "count    150.000000   150.000000    150.000000   150.000000\n",
       "mean       5.843333     3.057333      3.758000     1.199333\n",
       "std        0.828066     0.435866      1.765298     0.762238\n",
       "min        4.300000     2.000000      1.000000     0.100000\n",
       "25%        5.100000     2.800000      1.600000     0.300000\n",
       "50%        5.800000     3.000000      4.350000     1.300000\n",
       "75%        6.400000     3.300000      5.100000     1.800000\n",
       "max        7.900000     4.400000      6.900000     2.500000"
      ]
     },
     "execution_count": 37,
     "metadata": {},
     "output_type": "execute_result"
    }
   ],
   "source": [
    "iris.describe()"
   ]
  },
  {
   "cell_type": "markdown",
   "metadata": {},
   "source": [
    "To get the type of each column (Series) we can use dtypes:"
   ]
  },
  {
   "cell_type": "code",
   "execution_count": 38,
   "metadata": {},
   "outputs": [
    {
     "data": {
      "text/plain": [
       "sepal_length    float64\n",
       "sepal_width     float64\n",
       "petal_length    float64\n",
       "petal_width     float64\n",
       "species          object\n",
       "dtype: object"
      ]
     },
     "execution_count": 38,
     "metadata": {},
     "output_type": "execute_result"
    }
   ],
   "source": [
    "iris.dtypes"
   ]
  },
  {
   "cell_type": "markdown",
   "metadata": {},
   "source": [
    "### Select Columns (Series)\n",
    "\n",
    "To access a column we can either use the name of the column as a method or use the squared brackets."
   ]
  },
  {
   "cell_type": "code",
   "execution_count": 39,
   "metadata": {},
   "outputs": [
    {
     "data": {
      "text/plain": [
       "0      5.1\n",
       "1      4.9\n",
       "2      4.7\n",
       "3      4.6\n",
       "4      5.0\n",
       "      ... \n",
       "145    6.7\n",
       "146    6.3\n",
       "147    6.5\n",
       "148    6.2\n",
       "149    5.9\n",
       "Name: sepal_length, Length: 150, dtype: float64"
      ]
     },
     "execution_count": 39,
     "metadata": {},
     "output_type": "execute_result"
    }
   ],
   "source": [
    "iris.sepal_length"
   ]
  },
  {
   "cell_type": "code",
   "execution_count": 40,
   "metadata": {},
   "outputs": [
    {
     "data": {
      "text/plain": [
       "0      5.1\n",
       "1      4.9\n",
       "2      4.7\n",
       "3      4.6\n",
       "4      5.0\n",
       "      ... \n",
       "145    6.7\n",
       "146    6.3\n",
       "147    6.5\n",
       "148    6.2\n",
       "149    5.9\n",
       "Name: sepal_length, Length: 150, dtype: float64"
      ]
     },
     "execution_count": 40,
     "metadata": {},
     "output_type": "execute_result"
    }
   ],
   "source": [
    "iris[\"sepal_length\"]"
   ]
  },
  {
   "cell_type": "markdown",
   "metadata": {},
   "source": [
    "To get a DataFrame back we need to put the name of the column in a list:"
   ]
  },
  {
   "cell_type": "code",
   "execution_count": 41,
   "metadata": {},
   "outputs": [
    {
     "data": {
      "text/html": [
       "<div>\n",
       "<style scoped>\n",
       "    .dataframe tbody tr th:only-of-type {\n",
       "        vertical-align: middle;\n",
       "    }\n",
       "\n",
       "    .dataframe tbody tr th {\n",
       "        vertical-align: top;\n",
       "    }\n",
       "\n",
       "    .dataframe thead th {\n",
       "        text-align: right;\n",
       "    }\n",
       "</style>\n",
       "<table border=\"1\" class=\"dataframe\">\n",
       "  <thead>\n",
       "    <tr style=\"text-align: right;\">\n",
       "      <th></th>\n",
       "      <th>sepal_length</th>\n",
       "    </tr>\n",
       "  </thead>\n",
       "  <tbody>\n",
       "    <tr>\n",
       "      <th>0</th>\n",
       "      <td>5.1</td>\n",
       "    </tr>\n",
       "    <tr>\n",
       "      <th>1</th>\n",
       "      <td>4.9</td>\n",
       "    </tr>\n",
       "    <tr>\n",
       "      <th>2</th>\n",
       "      <td>4.7</td>\n",
       "    </tr>\n",
       "    <tr>\n",
       "      <th>3</th>\n",
       "      <td>4.6</td>\n",
       "    </tr>\n",
       "    <tr>\n",
       "      <th>4</th>\n",
       "      <td>5.0</td>\n",
       "    </tr>\n",
       "    <tr>\n",
       "      <th>...</th>\n",
       "      <td>...</td>\n",
       "    </tr>\n",
       "    <tr>\n",
       "      <th>145</th>\n",
       "      <td>6.7</td>\n",
       "    </tr>\n",
       "    <tr>\n",
       "      <th>146</th>\n",
       "      <td>6.3</td>\n",
       "    </tr>\n",
       "    <tr>\n",
       "      <th>147</th>\n",
       "      <td>6.5</td>\n",
       "    </tr>\n",
       "    <tr>\n",
       "      <th>148</th>\n",
       "      <td>6.2</td>\n",
       "    </tr>\n",
       "    <tr>\n",
       "      <th>149</th>\n",
       "      <td>5.9</td>\n",
       "    </tr>\n",
       "  </tbody>\n",
       "</table>\n",
       "<p>150 rows × 1 columns</p>\n",
       "</div>"
      ],
      "text/plain": [
       "     sepal_length\n",
       "0             5.1\n",
       "1             4.9\n",
       "2             4.7\n",
       "3             4.6\n",
       "4             5.0\n",
       "..            ...\n",
       "145           6.7\n",
       "146           6.3\n",
       "147           6.5\n",
       "148           6.2\n",
       "149           5.9\n",
       "\n",
       "[150 rows x 1 columns]"
      ]
     },
     "execution_count": 41,
     "metadata": {},
     "output_type": "execute_result"
    }
   ],
   "source": [
    "iris[[\"sepal_length\"]]"
   ]
  },
  {
   "cell_type": "markdown",
   "metadata": {},
   "source": [
    "We can also select two columns using a list:"
   ]
  },
  {
   "cell_type": "code",
   "execution_count": 42,
   "metadata": {},
   "outputs": [
    {
     "data": {
      "text/html": [
       "<div>\n",
       "<style scoped>\n",
       "    .dataframe tbody tr th:only-of-type {\n",
       "        vertical-align: middle;\n",
       "    }\n",
       "\n",
       "    .dataframe tbody tr th {\n",
       "        vertical-align: top;\n",
       "    }\n",
       "\n",
       "    .dataframe thead th {\n",
       "        text-align: right;\n",
       "    }\n",
       "</style>\n",
       "<table border=\"1\" class=\"dataframe\">\n",
       "  <thead>\n",
       "    <tr style=\"text-align: right;\">\n",
       "      <th></th>\n",
       "      <th>sepal_length</th>\n",
       "      <th>sepal_width</th>\n",
       "    </tr>\n",
       "  </thead>\n",
       "  <tbody>\n",
       "    <tr>\n",
       "      <th>0</th>\n",
       "      <td>5.1</td>\n",
       "      <td>3.5</td>\n",
       "    </tr>\n",
       "    <tr>\n",
       "      <th>1</th>\n",
       "      <td>4.9</td>\n",
       "      <td>3.0</td>\n",
       "    </tr>\n",
       "    <tr>\n",
       "      <th>2</th>\n",
       "      <td>4.7</td>\n",
       "      <td>3.2</td>\n",
       "    </tr>\n",
       "    <tr>\n",
       "      <th>3</th>\n",
       "      <td>4.6</td>\n",
       "      <td>3.1</td>\n",
       "    </tr>\n",
       "    <tr>\n",
       "      <th>4</th>\n",
       "      <td>5.0</td>\n",
       "      <td>3.6</td>\n",
       "    </tr>\n",
       "    <tr>\n",
       "      <th>...</th>\n",
       "      <td>...</td>\n",
       "      <td>...</td>\n",
       "    </tr>\n",
       "    <tr>\n",
       "      <th>145</th>\n",
       "      <td>6.7</td>\n",
       "      <td>3.0</td>\n",
       "    </tr>\n",
       "    <tr>\n",
       "      <th>146</th>\n",
       "      <td>6.3</td>\n",
       "      <td>2.5</td>\n",
       "    </tr>\n",
       "    <tr>\n",
       "      <th>147</th>\n",
       "      <td>6.5</td>\n",
       "      <td>3.0</td>\n",
       "    </tr>\n",
       "    <tr>\n",
       "      <th>148</th>\n",
       "      <td>6.2</td>\n",
       "      <td>3.4</td>\n",
       "    </tr>\n",
       "    <tr>\n",
       "      <th>149</th>\n",
       "      <td>5.9</td>\n",
       "      <td>3.0</td>\n",
       "    </tr>\n",
       "  </tbody>\n",
       "</table>\n",
       "<p>150 rows × 2 columns</p>\n",
       "</div>"
      ],
      "text/plain": [
       "     sepal_length  sepal_width\n",
       "0             5.1          3.5\n",
       "1             4.9          3.0\n",
       "2             4.7          3.2\n",
       "3             4.6          3.1\n",
       "4             5.0          3.6\n",
       "..            ...          ...\n",
       "145           6.7          3.0\n",
       "146           6.3          2.5\n",
       "147           6.5          3.0\n",
       "148           6.2          3.4\n",
       "149           5.9          3.0\n",
       "\n",
       "[150 rows x 2 columns]"
      ]
     },
     "execution_count": 42,
     "metadata": {},
     "output_type": "execute_result"
    }
   ],
   "source": [
    "iris[[\"sepal_length\", \"sepal_width\"]]"
   ]
  },
  {
   "cell_type": "markdown",
   "metadata": {},
   "source": [
    "To select the first row we need to use the iloc like this:"
   ]
  },
  {
   "cell_type": "code",
   "execution_count": 43,
   "metadata": {},
   "outputs": [
    {
     "data": {
      "text/plain": [
       "sepal_length       5.1\n",
       "sepal_width        3.5\n",
       "petal_length       1.4\n",
       "petal_width        0.2\n",
       "species         setosa\n",
       "Name: 0, dtype: object"
      ]
     },
     "execution_count": 43,
     "metadata": {},
     "output_type": "execute_result"
    }
   ],
   "source": [
    "iris.iloc[0]"
   ]
  },
  {
   "cell_type": "markdown",
   "metadata": {},
   "source": [
    "### Select Rows\n",
    "\n",
    "To select rows based on a condition we can use boolean operators. For example, to select all the flowers that have a sepal length greater or equal than 5: "
   ]
  },
  {
   "cell_type": "code",
   "execution_count": 44,
   "metadata": {},
   "outputs": [
    {
     "data": {
      "text/html": [
       "<div>\n",
       "<style scoped>\n",
       "    .dataframe tbody tr th:only-of-type {\n",
       "        vertical-align: middle;\n",
       "    }\n",
       "\n",
       "    .dataframe tbody tr th {\n",
       "        vertical-align: top;\n",
       "    }\n",
       "\n",
       "    .dataframe thead th {\n",
       "        text-align: right;\n",
       "    }\n",
       "</style>\n",
       "<table border=\"1\" class=\"dataframe\">\n",
       "  <thead>\n",
       "    <tr style=\"text-align: right;\">\n",
       "      <th></th>\n",
       "      <th>sepal_length</th>\n",
       "      <th>sepal_width</th>\n",
       "      <th>petal_length</th>\n",
       "      <th>petal_width</th>\n",
       "      <th>species</th>\n",
       "    </tr>\n",
       "  </thead>\n",
       "  <tbody>\n",
       "    <tr>\n",
       "      <th>0</th>\n",
       "      <td>5.1</td>\n",
       "      <td>3.5</td>\n",
       "      <td>1.4</td>\n",
       "      <td>0.2</td>\n",
       "      <td>setosa</td>\n",
       "    </tr>\n",
       "    <tr>\n",
       "      <th>4</th>\n",
       "      <td>5.0</td>\n",
       "      <td>3.6</td>\n",
       "      <td>1.4</td>\n",
       "      <td>0.2</td>\n",
       "      <td>setosa</td>\n",
       "    </tr>\n",
       "    <tr>\n",
       "      <th>5</th>\n",
       "      <td>5.4</td>\n",
       "      <td>3.9</td>\n",
       "      <td>1.7</td>\n",
       "      <td>0.4</td>\n",
       "      <td>setosa</td>\n",
       "    </tr>\n",
       "    <tr>\n",
       "      <th>7</th>\n",
       "      <td>5.0</td>\n",
       "      <td>3.4</td>\n",
       "      <td>1.5</td>\n",
       "      <td>0.2</td>\n",
       "      <td>setosa</td>\n",
       "    </tr>\n",
       "    <tr>\n",
       "      <th>10</th>\n",
       "      <td>5.4</td>\n",
       "      <td>3.7</td>\n",
       "      <td>1.5</td>\n",
       "      <td>0.2</td>\n",
       "      <td>setosa</td>\n",
       "    </tr>\n",
       "    <tr>\n",
       "      <th>...</th>\n",
       "      <td>...</td>\n",
       "      <td>...</td>\n",
       "      <td>...</td>\n",
       "      <td>...</td>\n",
       "      <td>...</td>\n",
       "    </tr>\n",
       "    <tr>\n",
       "      <th>145</th>\n",
       "      <td>6.7</td>\n",
       "      <td>3.0</td>\n",
       "      <td>5.2</td>\n",
       "      <td>2.3</td>\n",
       "      <td>virginica</td>\n",
       "    </tr>\n",
       "    <tr>\n",
       "      <th>146</th>\n",
       "      <td>6.3</td>\n",
       "      <td>2.5</td>\n",
       "      <td>5.0</td>\n",
       "      <td>1.9</td>\n",
       "      <td>virginica</td>\n",
       "    </tr>\n",
       "    <tr>\n",
       "      <th>147</th>\n",
       "      <td>6.5</td>\n",
       "      <td>3.0</td>\n",
       "      <td>5.2</td>\n",
       "      <td>2.0</td>\n",
       "      <td>virginica</td>\n",
       "    </tr>\n",
       "    <tr>\n",
       "      <th>148</th>\n",
       "      <td>6.2</td>\n",
       "      <td>3.4</td>\n",
       "      <td>5.4</td>\n",
       "      <td>2.3</td>\n",
       "      <td>virginica</td>\n",
       "    </tr>\n",
       "    <tr>\n",
       "      <th>149</th>\n",
       "      <td>5.9</td>\n",
       "      <td>3.0</td>\n",
       "      <td>5.1</td>\n",
       "      <td>1.8</td>\n",
       "      <td>virginica</td>\n",
       "    </tr>\n",
       "  </tbody>\n",
       "</table>\n",
       "<p>128 rows × 5 columns</p>\n",
       "</div>"
      ],
      "text/plain": [
       "     sepal_length  sepal_width  petal_length  petal_width    species\n",
       "0             5.1          3.5           1.4          0.2     setosa\n",
       "4             5.0          3.6           1.4          0.2     setosa\n",
       "5             5.4          3.9           1.7          0.4     setosa\n",
       "7             5.0          3.4           1.5          0.2     setosa\n",
       "10            5.4          3.7           1.5          0.2     setosa\n",
       "..            ...          ...           ...          ...        ...\n",
       "145           6.7          3.0           5.2          2.3  virginica\n",
       "146           6.3          2.5           5.0          1.9  virginica\n",
       "147           6.5          3.0           5.2          2.0  virginica\n",
       "148           6.2          3.4           5.4          2.3  virginica\n",
       "149           5.9          3.0           5.1          1.8  virginica\n",
       "\n",
       "[128 rows x 5 columns]"
      ]
     },
     "execution_count": 44,
     "metadata": {},
     "output_type": "execute_result"
    }
   ],
   "source": [
    "iris[iris.sepal_length >= 5.0]"
   ]
  },
  {
   "cell_type": "markdown",
   "metadata": {},
   "source": [
    "### Changing Values\n",
    "\n",
    "We can change the value of a column similarly to the way we access the DataFrame.\n",
    "\n",
    "For example to change all the values of a column:"
   ]
  },
  {
   "cell_type": "code",
   "execution_count": 45,
   "metadata": {},
   "outputs": [
    {
     "data": {
      "text/html": [
       "<div>\n",
       "<style scoped>\n",
       "    .dataframe tbody tr th:only-of-type {\n",
       "        vertical-align: middle;\n",
       "    }\n",
       "\n",
       "    .dataframe tbody tr th {\n",
       "        vertical-align: top;\n",
       "    }\n",
       "\n",
       "    .dataframe thead th {\n",
       "        text-align: right;\n",
       "    }\n",
       "</style>\n",
       "<table border=\"1\" class=\"dataframe\">\n",
       "  <thead>\n",
       "    <tr style=\"text-align: right;\">\n",
       "      <th></th>\n",
       "      <th>sepal_length</th>\n",
       "      <th>sepal_width</th>\n",
       "      <th>petal_length</th>\n",
       "      <th>petal_width</th>\n",
       "      <th>species</th>\n",
       "    </tr>\n",
       "  </thead>\n",
       "  <tbody>\n",
       "    <tr>\n",
       "      <th>0</th>\n",
       "      <td>0</td>\n",
       "      <td>3.5</td>\n",
       "      <td>1.4</td>\n",
       "      <td>0.2</td>\n",
       "      <td>setosa</td>\n",
       "    </tr>\n",
       "    <tr>\n",
       "      <th>1</th>\n",
       "      <td>0</td>\n",
       "      <td>3.0</td>\n",
       "      <td>1.4</td>\n",
       "      <td>0.2</td>\n",
       "      <td>setosa</td>\n",
       "    </tr>\n",
       "    <tr>\n",
       "      <th>2</th>\n",
       "      <td>0</td>\n",
       "      <td>3.2</td>\n",
       "      <td>1.3</td>\n",
       "      <td>0.2</td>\n",
       "      <td>setosa</td>\n",
       "    </tr>\n",
       "    <tr>\n",
       "      <th>3</th>\n",
       "      <td>0</td>\n",
       "      <td>3.1</td>\n",
       "      <td>1.5</td>\n",
       "      <td>0.2</td>\n",
       "      <td>setosa</td>\n",
       "    </tr>\n",
       "    <tr>\n",
       "      <th>4</th>\n",
       "      <td>0</td>\n",
       "      <td>3.6</td>\n",
       "      <td>1.4</td>\n",
       "      <td>0.2</td>\n",
       "      <td>setosa</td>\n",
       "    </tr>\n",
       "    <tr>\n",
       "      <th>...</th>\n",
       "      <td>...</td>\n",
       "      <td>...</td>\n",
       "      <td>...</td>\n",
       "      <td>...</td>\n",
       "      <td>...</td>\n",
       "    </tr>\n",
       "    <tr>\n",
       "      <th>145</th>\n",
       "      <td>0</td>\n",
       "      <td>3.0</td>\n",
       "      <td>5.2</td>\n",
       "      <td>2.3</td>\n",
       "      <td>virginica</td>\n",
       "    </tr>\n",
       "    <tr>\n",
       "      <th>146</th>\n",
       "      <td>0</td>\n",
       "      <td>2.5</td>\n",
       "      <td>5.0</td>\n",
       "      <td>1.9</td>\n",
       "      <td>virginica</td>\n",
       "    </tr>\n",
       "    <tr>\n",
       "      <th>147</th>\n",
       "      <td>0</td>\n",
       "      <td>3.0</td>\n",
       "      <td>5.2</td>\n",
       "      <td>2.0</td>\n",
       "      <td>virginica</td>\n",
       "    </tr>\n",
       "    <tr>\n",
       "      <th>148</th>\n",
       "      <td>0</td>\n",
       "      <td>3.4</td>\n",
       "      <td>5.4</td>\n",
       "      <td>2.3</td>\n",
       "      <td>virginica</td>\n",
       "    </tr>\n",
       "    <tr>\n",
       "      <th>149</th>\n",
       "      <td>0</td>\n",
       "      <td>3.0</td>\n",
       "      <td>5.1</td>\n",
       "      <td>1.8</td>\n",
       "      <td>virginica</td>\n",
       "    </tr>\n",
       "  </tbody>\n",
       "</table>\n",
       "<p>150 rows × 5 columns</p>\n",
       "</div>"
      ],
      "text/plain": [
       "     sepal_length  sepal_width  petal_length  petal_width    species\n",
       "0               0          3.5           1.4          0.2     setosa\n",
       "1               0          3.0           1.4          0.2     setosa\n",
       "2               0          3.2           1.3          0.2     setosa\n",
       "3               0          3.1           1.5          0.2     setosa\n",
       "4               0          3.6           1.4          0.2     setosa\n",
       "..            ...          ...           ...          ...        ...\n",
       "145             0          3.0           5.2          2.3  virginica\n",
       "146             0          2.5           5.0          1.9  virginica\n",
       "147             0          3.0           5.2          2.0  virginica\n",
       "148             0          3.4           5.4          2.3  virginica\n",
       "149             0          3.0           5.1          1.8  virginica\n",
       "\n",
       "[150 rows x 5 columns]"
      ]
     },
     "execution_count": 45,
     "metadata": {},
     "output_type": "execute_result"
    }
   ],
   "source": [
    "iris.sepal_length = 0\n",
    "iris"
   ]
  },
  {
   "cell_type": "markdown",
   "metadata": {},
   "source": [
    "To change the values of a row:"
   ]
  },
  {
   "cell_type": "code",
   "execution_count": 46,
   "metadata": {},
   "outputs": [
    {
     "data": {
      "text/html": [
       "<div>\n",
       "<style scoped>\n",
       "    .dataframe tbody tr th:only-of-type {\n",
       "        vertical-align: middle;\n",
       "    }\n",
       "\n",
       "    .dataframe tbody tr th {\n",
       "        vertical-align: top;\n",
       "    }\n",
       "\n",
       "    .dataframe thead th {\n",
       "        text-align: right;\n",
       "    }\n",
       "</style>\n",
       "<table border=\"1\" class=\"dataframe\">\n",
       "  <thead>\n",
       "    <tr style=\"text-align: right;\">\n",
       "      <th></th>\n",
       "      <th>sepal_length</th>\n",
       "      <th>sepal_width</th>\n",
       "      <th>petal_length</th>\n",
       "      <th>petal_width</th>\n",
       "      <th>species</th>\n",
       "    </tr>\n",
       "  </thead>\n",
       "  <tbody>\n",
       "    <tr>\n",
       "      <th>0</th>\n",
       "      <td>0</td>\n",
       "      <td>0.0</td>\n",
       "      <td>0.0</td>\n",
       "      <td>0.0</td>\n",
       "      <td>ok</td>\n",
       "    </tr>\n",
       "    <tr>\n",
       "      <th>1</th>\n",
       "      <td>0</td>\n",
       "      <td>3.0</td>\n",
       "      <td>1.4</td>\n",
       "      <td>0.2</td>\n",
       "      <td>setosa</td>\n",
       "    </tr>\n",
       "    <tr>\n",
       "      <th>2</th>\n",
       "      <td>0</td>\n",
       "      <td>3.2</td>\n",
       "      <td>1.3</td>\n",
       "      <td>0.2</td>\n",
       "      <td>setosa</td>\n",
       "    </tr>\n",
       "    <tr>\n",
       "      <th>3</th>\n",
       "      <td>0</td>\n",
       "      <td>3.1</td>\n",
       "      <td>1.5</td>\n",
       "      <td>0.2</td>\n",
       "      <td>setosa</td>\n",
       "    </tr>\n",
       "    <tr>\n",
       "      <th>4</th>\n",
       "      <td>0</td>\n",
       "      <td>3.6</td>\n",
       "      <td>1.4</td>\n",
       "      <td>0.2</td>\n",
       "      <td>setosa</td>\n",
       "    </tr>\n",
       "    <tr>\n",
       "      <th>...</th>\n",
       "      <td>...</td>\n",
       "      <td>...</td>\n",
       "      <td>...</td>\n",
       "      <td>...</td>\n",
       "      <td>...</td>\n",
       "    </tr>\n",
       "    <tr>\n",
       "      <th>145</th>\n",
       "      <td>0</td>\n",
       "      <td>3.0</td>\n",
       "      <td>5.2</td>\n",
       "      <td>2.3</td>\n",
       "      <td>virginica</td>\n",
       "    </tr>\n",
       "    <tr>\n",
       "      <th>146</th>\n",
       "      <td>0</td>\n",
       "      <td>2.5</td>\n",
       "      <td>5.0</td>\n",
       "      <td>1.9</td>\n",
       "      <td>virginica</td>\n",
       "    </tr>\n",
       "    <tr>\n",
       "      <th>147</th>\n",
       "      <td>0</td>\n",
       "      <td>3.0</td>\n",
       "      <td>5.2</td>\n",
       "      <td>2.0</td>\n",
       "      <td>virginica</td>\n",
       "    </tr>\n",
       "    <tr>\n",
       "      <th>148</th>\n",
       "      <td>0</td>\n",
       "      <td>3.4</td>\n",
       "      <td>5.4</td>\n",
       "      <td>2.3</td>\n",
       "      <td>virginica</td>\n",
       "    </tr>\n",
       "    <tr>\n",
       "      <th>149</th>\n",
       "      <td>0</td>\n",
       "      <td>3.0</td>\n",
       "      <td>5.1</td>\n",
       "      <td>1.8</td>\n",
       "      <td>virginica</td>\n",
       "    </tr>\n",
       "  </tbody>\n",
       "</table>\n",
       "<p>150 rows × 5 columns</p>\n",
       "</div>"
      ],
      "text/plain": [
       "     sepal_length  sepal_width  petal_length  petal_width    species\n",
       "0               0          0.0           0.0          0.0         ok\n",
       "1               0          3.0           1.4          0.2     setosa\n",
       "2               0          3.2           1.3          0.2     setosa\n",
       "3               0          3.1           1.5          0.2     setosa\n",
       "4               0          3.6           1.4          0.2     setosa\n",
       "..            ...          ...           ...          ...        ...\n",
       "145             0          3.0           5.2          2.3  virginica\n",
       "146             0          2.5           5.0          1.9  virginica\n",
       "147             0          3.0           5.2          2.0  virginica\n",
       "148             0          3.4           5.4          2.3  virginica\n",
       "149             0          3.0           5.1          1.8  virginica\n",
       "\n",
       "[150 rows x 5 columns]"
      ]
     },
     "execution_count": 46,
     "metadata": {},
     "output_type": "execute_result"
    }
   ],
   "source": [
    "iris.iloc[0] = [0, 0, 0, 0, \"ok\"]\n",
    "iris"
   ]
  },
  {
   "cell_type": "markdown",
   "metadata": {},
   "source": [
    "### Statistical Functions\n",
    "\n",
    "We can use the method mean, std, mode, max, min, etc. To compute any basic statistics we need:"
   ]
  },
  {
   "cell_type": "code",
   "execution_count": 47,
   "metadata": {},
   "outputs": [
    {
     "data": {
      "text/plain": [
       "3.0340000000000003"
      ]
     },
     "execution_count": 47,
     "metadata": {},
     "output_type": "execute_result"
    }
   ],
   "source": [
    "iris.sepal_width.mean()"
   ]
  },
  {
   "cell_type": "code",
   "execution_count": 48,
   "metadata": {},
   "outputs": [
    {
     "data": {
      "text/plain": [
       "0    3.0\n",
       "dtype: float64"
      ]
     },
     "execution_count": 48,
     "metadata": {},
     "output_type": "execute_result"
    }
   ],
   "source": [
    "iris.sepal_width.mode()"
   ]
  },
  {
   "cell_type": "code",
   "execution_count": 49,
   "metadata": {},
   "outputs": [
    {
     "data": {
      "text/plain": [
       "0.5008489437240835"
      ]
     },
     "execution_count": 49,
     "metadata": {},
     "output_type": "execute_result"
    }
   ],
   "source": [
    "iris.sepal_width.std()"
   ]
  },
  {
   "cell_type": "markdown",
   "metadata": {},
   "source": [
    "### Plotting with Pandas\n",
    "\n",
    "Pandas uses matplotlib to plot series. For example we can plot a column using the plot method:"
   ]
  },
  {
   "cell_type": "code",
   "execution_count": 50,
   "metadata": {},
   "outputs": [
    {
     "data": {
      "application/javascript": [
       "/* Put everything inside the global mpl namespace */\n",
       "window.mpl = {};\n",
       "\n",
       "\n",
       "mpl.get_websocket_type = function() {\n",
       "    if (typeof(WebSocket) !== 'undefined') {\n",
       "        return WebSocket;\n",
       "    } else if (typeof(MozWebSocket) !== 'undefined') {\n",
       "        return MozWebSocket;\n",
       "    } else {\n",
       "        alert('Your browser does not have WebSocket support. ' +\n",
       "              'Please try Chrome, Safari or Firefox ≥ 6. ' +\n",
       "              'Firefox 4 and 5 are also supported but you ' +\n",
       "              'have to enable WebSockets in about:config.');\n",
       "    };\n",
       "}\n",
       "\n",
       "mpl.figure = function(figure_id, websocket, ondownload, parent_element) {\n",
       "    this.id = figure_id;\n",
       "\n",
       "    this.ws = websocket;\n",
       "\n",
       "    this.supports_binary = (this.ws.binaryType != undefined);\n",
       "\n",
       "    if (!this.supports_binary) {\n",
       "        var warnings = document.getElementById(\"mpl-warnings\");\n",
       "        if (warnings) {\n",
       "            warnings.style.display = 'block';\n",
       "            warnings.textContent = (\n",
       "                \"This browser does not support binary websocket messages. \" +\n",
       "                    \"Performance may be slow.\");\n",
       "        }\n",
       "    }\n",
       "\n",
       "    this.imageObj = new Image();\n",
       "\n",
       "    this.context = undefined;\n",
       "    this.message = undefined;\n",
       "    this.canvas = undefined;\n",
       "    this.rubberband_canvas = undefined;\n",
       "    this.rubberband_context = undefined;\n",
       "    this.format_dropdown = undefined;\n",
       "\n",
       "    this.image_mode = 'full';\n",
       "\n",
       "    this.root = $('<div/>');\n",
       "    this._root_extra_style(this.root)\n",
       "    this.root.attr('style', 'display: inline-block');\n",
       "\n",
       "    $(parent_element).append(this.root);\n",
       "\n",
       "    this._init_header(this);\n",
       "    this._init_canvas(this);\n",
       "    this._init_toolbar(this);\n",
       "\n",
       "    var fig = this;\n",
       "\n",
       "    this.waiting = false;\n",
       "\n",
       "    this.ws.onopen =  function () {\n",
       "            fig.send_message(\"supports_binary\", {value: fig.supports_binary});\n",
       "            fig.send_message(\"send_image_mode\", {});\n",
       "            if (mpl.ratio != 1) {\n",
       "                fig.send_message(\"set_dpi_ratio\", {'dpi_ratio': mpl.ratio});\n",
       "            }\n",
       "            fig.send_message(\"refresh\", {});\n",
       "        }\n",
       "\n",
       "    this.imageObj.onload = function() {\n",
       "            if (fig.image_mode == 'full') {\n",
       "                // Full images could contain transparency (where diff images\n",
       "                // almost always do), so we need to clear the canvas so that\n",
       "                // there is no ghosting.\n",
       "                fig.context.clearRect(0, 0, fig.canvas.width, fig.canvas.height);\n",
       "            }\n",
       "            fig.context.drawImage(fig.imageObj, 0, 0);\n",
       "        };\n",
       "\n",
       "    this.imageObj.onunload = function() {\n",
       "        fig.ws.close();\n",
       "    }\n",
       "\n",
       "    this.ws.onmessage = this._make_on_message_function(this);\n",
       "\n",
       "    this.ondownload = ondownload;\n",
       "}\n",
       "\n",
       "mpl.figure.prototype._init_header = function() {\n",
       "    var titlebar = $(\n",
       "        '<div class=\"ui-dialog-titlebar ui-widget-header ui-corner-all ' +\n",
       "        'ui-helper-clearfix\"/>');\n",
       "    var titletext = $(\n",
       "        '<div class=\"ui-dialog-title\" style=\"width: 100%; ' +\n",
       "        'text-align: center; padding: 3px;\"/>');\n",
       "    titlebar.append(titletext)\n",
       "    this.root.append(titlebar);\n",
       "    this.header = titletext[0];\n",
       "}\n",
       "\n",
       "\n",
       "\n",
       "mpl.figure.prototype._canvas_extra_style = function(canvas_div) {\n",
       "\n",
       "}\n",
       "\n",
       "\n",
       "mpl.figure.prototype._root_extra_style = function(canvas_div) {\n",
       "\n",
       "}\n",
       "\n",
       "mpl.figure.prototype._init_canvas = function() {\n",
       "    var fig = this;\n",
       "\n",
       "    var canvas_div = $('<div/>');\n",
       "\n",
       "    canvas_div.attr('style', 'position: relative; clear: both; outline: 0');\n",
       "\n",
       "    function canvas_keyboard_event(event) {\n",
       "        return fig.key_event(event, event['data']);\n",
       "    }\n",
       "\n",
       "    canvas_div.keydown('key_press', canvas_keyboard_event);\n",
       "    canvas_div.keyup('key_release', canvas_keyboard_event);\n",
       "    this.canvas_div = canvas_div\n",
       "    this._canvas_extra_style(canvas_div)\n",
       "    this.root.append(canvas_div);\n",
       "\n",
       "    var canvas = $('<canvas/>');\n",
       "    canvas.addClass('mpl-canvas');\n",
       "    canvas.attr('style', \"left: 0; top: 0; z-index: 0; outline: 0\")\n",
       "\n",
       "    this.canvas = canvas[0];\n",
       "    this.context = canvas[0].getContext(\"2d\");\n",
       "\n",
       "    var backingStore = this.context.backingStorePixelRatio ||\n",
       "\tthis.context.webkitBackingStorePixelRatio ||\n",
       "\tthis.context.mozBackingStorePixelRatio ||\n",
       "\tthis.context.msBackingStorePixelRatio ||\n",
       "\tthis.context.oBackingStorePixelRatio ||\n",
       "\tthis.context.backingStorePixelRatio || 1;\n",
       "\n",
       "    mpl.ratio = (window.devicePixelRatio || 1) / backingStore;\n",
       "\n",
       "    var rubberband = $('<canvas/>');\n",
       "    rubberband.attr('style', \"position: absolute; left: 0; top: 0; z-index: 1;\")\n",
       "\n",
       "    var pass_mouse_events = true;\n",
       "\n",
       "    canvas_div.resizable({\n",
       "        start: function(event, ui) {\n",
       "            pass_mouse_events = false;\n",
       "        },\n",
       "        resize: function(event, ui) {\n",
       "            fig.request_resize(ui.size.width, ui.size.height);\n",
       "        },\n",
       "        stop: function(event, ui) {\n",
       "            pass_mouse_events = true;\n",
       "            fig.request_resize(ui.size.width, ui.size.height);\n",
       "        },\n",
       "    });\n",
       "\n",
       "    function mouse_event_fn(event) {\n",
       "        if (pass_mouse_events)\n",
       "            return fig.mouse_event(event, event['data']);\n",
       "    }\n",
       "\n",
       "    rubberband.mousedown('button_press', mouse_event_fn);\n",
       "    rubberband.mouseup('button_release', mouse_event_fn);\n",
       "    // Throttle sequential mouse events to 1 every 20ms.\n",
       "    rubberband.mousemove('motion_notify', mouse_event_fn);\n",
       "\n",
       "    rubberband.mouseenter('figure_enter', mouse_event_fn);\n",
       "    rubberband.mouseleave('figure_leave', mouse_event_fn);\n",
       "\n",
       "    canvas_div.on(\"wheel\", function (event) {\n",
       "        event = event.originalEvent;\n",
       "        event['data'] = 'scroll'\n",
       "        if (event.deltaY < 0) {\n",
       "            event.step = 1;\n",
       "        } else {\n",
       "            event.step = -1;\n",
       "        }\n",
       "        mouse_event_fn(event);\n",
       "    });\n",
       "\n",
       "    canvas_div.append(canvas);\n",
       "    canvas_div.append(rubberband);\n",
       "\n",
       "    this.rubberband = rubberband;\n",
       "    this.rubberband_canvas = rubberband[0];\n",
       "    this.rubberband_context = rubberband[0].getContext(\"2d\");\n",
       "    this.rubberband_context.strokeStyle = \"#000000\";\n",
       "\n",
       "    this._resize_canvas = function(width, height) {\n",
       "        // Keep the size of the canvas, canvas container, and rubber band\n",
       "        // canvas in synch.\n",
       "        canvas_div.css('width', width)\n",
       "        canvas_div.css('height', height)\n",
       "\n",
       "        canvas.attr('width', width * mpl.ratio);\n",
       "        canvas.attr('height', height * mpl.ratio);\n",
       "        canvas.attr('style', 'width: ' + width + 'px; height: ' + height + 'px;');\n",
       "\n",
       "        rubberband.attr('width', width);\n",
       "        rubberband.attr('height', height);\n",
       "    }\n",
       "\n",
       "    // Set the figure to an initial 600x600px, this will subsequently be updated\n",
       "    // upon first draw.\n",
       "    this._resize_canvas(600, 600);\n",
       "\n",
       "    // Disable right mouse context menu.\n",
       "    $(this.rubberband_canvas).bind(\"contextmenu\",function(e){\n",
       "        return false;\n",
       "    });\n",
       "\n",
       "    function set_focus () {\n",
       "        canvas.focus();\n",
       "        canvas_div.focus();\n",
       "    }\n",
       "\n",
       "    window.setTimeout(set_focus, 100);\n",
       "}\n",
       "\n",
       "mpl.figure.prototype._init_toolbar = function() {\n",
       "    var fig = this;\n",
       "\n",
       "    var nav_element = $('<div/>');\n",
       "    nav_element.attr('style', 'width: 100%');\n",
       "    this.root.append(nav_element);\n",
       "\n",
       "    // Define a callback function for later on.\n",
       "    function toolbar_event(event) {\n",
       "        return fig.toolbar_button_onclick(event['data']);\n",
       "    }\n",
       "    function toolbar_mouse_event(event) {\n",
       "        return fig.toolbar_button_onmouseover(event['data']);\n",
       "    }\n",
       "\n",
       "    for(var toolbar_ind in mpl.toolbar_items) {\n",
       "        var name = mpl.toolbar_items[toolbar_ind][0];\n",
       "        var tooltip = mpl.toolbar_items[toolbar_ind][1];\n",
       "        var image = mpl.toolbar_items[toolbar_ind][2];\n",
       "        var method_name = mpl.toolbar_items[toolbar_ind][3];\n",
       "\n",
       "        if (!name) {\n",
       "            // put a spacer in here.\n",
       "            continue;\n",
       "        }\n",
       "        var button = $('<button/>');\n",
       "        button.addClass('ui-button ui-widget ui-state-default ui-corner-all ' +\n",
       "                        'ui-button-icon-only');\n",
       "        button.attr('role', 'button');\n",
       "        button.attr('aria-disabled', 'false');\n",
       "        button.click(method_name, toolbar_event);\n",
       "        button.mouseover(tooltip, toolbar_mouse_event);\n",
       "\n",
       "        var icon_img = $('<span/>');\n",
       "        icon_img.addClass('ui-button-icon-primary ui-icon');\n",
       "        icon_img.addClass(image);\n",
       "        icon_img.addClass('ui-corner-all');\n",
       "\n",
       "        var tooltip_span = $('<span/>');\n",
       "        tooltip_span.addClass('ui-button-text');\n",
       "        tooltip_span.html(tooltip);\n",
       "\n",
       "        button.append(icon_img);\n",
       "        button.append(tooltip_span);\n",
       "\n",
       "        nav_element.append(button);\n",
       "    }\n",
       "\n",
       "    var fmt_picker_span = $('<span/>');\n",
       "\n",
       "    var fmt_picker = $('<select/>');\n",
       "    fmt_picker.addClass('mpl-toolbar-option ui-widget ui-widget-content');\n",
       "    fmt_picker_span.append(fmt_picker);\n",
       "    nav_element.append(fmt_picker_span);\n",
       "    this.format_dropdown = fmt_picker[0];\n",
       "\n",
       "    for (var ind in mpl.extensions) {\n",
       "        var fmt = mpl.extensions[ind];\n",
       "        var option = $(\n",
       "            '<option/>', {selected: fmt === mpl.default_extension}).html(fmt);\n",
       "        fmt_picker.append(option);\n",
       "    }\n",
       "\n",
       "    // Add hover states to the ui-buttons\n",
       "    $( \".ui-button\" ).hover(\n",
       "        function() { $(this).addClass(\"ui-state-hover\");},\n",
       "        function() { $(this).removeClass(\"ui-state-hover\");}\n",
       "    );\n",
       "\n",
       "    var status_bar = $('<span class=\"mpl-message\"/>');\n",
       "    nav_element.append(status_bar);\n",
       "    this.message = status_bar[0];\n",
       "}\n",
       "\n",
       "mpl.figure.prototype.request_resize = function(x_pixels, y_pixels) {\n",
       "    // Request matplotlib to resize the figure. Matplotlib will then trigger a resize in the client,\n",
       "    // which will in turn request a refresh of the image.\n",
       "    this.send_message('resize', {'width': x_pixels, 'height': y_pixels});\n",
       "}\n",
       "\n",
       "mpl.figure.prototype.send_message = function(type, properties) {\n",
       "    properties['type'] = type;\n",
       "    properties['figure_id'] = this.id;\n",
       "    this.ws.send(JSON.stringify(properties));\n",
       "}\n",
       "\n",
       "mpl.figure.prototype.send_draw_message = function() {\n",
       "    if (!this.waiting) {\n",
       "        this.waiting = true;\n",
       "        this.ws.send(JSON.stringify({type: \"draw\", figure_id: this.id}));\n",
       "    }\n",
       "}\n",
       "\n",
       "\n",
       "mpl.figure.prototype.handle_save = function(fig, msg) {\n",
       "    var format_dropdown = fig.format_dropdown;\n",
       "    var format = format_dropdown.options[format_dropdown.selectedIndex].value;\n",
       "    fig.ondownload(fig, format);\n",
       "}\n",
       "\n",
       "\n",
       "mpl.figure.prototype.handle_resize = function(fig, msg) {\n",
       "    var size = msg['size'];\n",
       "    if (size[0] != fig.canvas.width || size[1] != fig.canvas.height) {\n",
       "        fig._resize_canvas(size[0], size[1]);\n",
       "        fig.send_message(\"refresh\", {});\n",
       "    };\n",
       "}\n",
       "\n",
       "mpl.figure.prototype.handle_rubberband = function(fig, msg) {\n",
       "    var x0 = msg['x0'] / mpl.ratio;\n",
       "    var y0 = (fig.canvas.height - msg['y0']) / mpl.ratio;\n",
       "    var x1 = msg['x1'] / mpl.ratio;\n",
       "    var y1 = (fig.canvas.height - msg['y1']) / mpl.ratio;\n",
       "    x0 = Math.floor(x0) + 0.5;\n",
       "    y0 = Math.floor(y0) + 0.5;\n",
       "    x1 = Math.floor(x1) + 0.5;\n",
       "    y1 = Math.floor(y1) + 0.5;\n",
       "    var min_x = Math.min(x0, x1);\n",
       "    var min_y = Math.min(y0, y1);\n",
       "    var width = Math.abs(x1 - x0);\n",
       "    var height = Math.abs(y1 - y0);\n",
       "\n",
       "    fig.rubberband_context.clearRect(\n",
       "        0, 0, fig.canvas.width / mpl.ratio, fig.canvas.height / mpl.ratio);\n",
       "\n",
       "    fig.rubberband_context.strokeRect(min_x, min_y, width, height);\n",
       "}\n",
       "\n",
       "mpl.figure.prototype.handle_figure_label = function(fig, msg) {\n",
       "    // Updates the figure title.\n",
       "    fig.header.textContent = msg['label'];\n",
       "}\n",
       "\n",
       "mpl.figure.prototype.handle_cursor = function(fig, msg) {\n",
       "    var cursor = msg['cursor'];\n",
       "    switch(cursor)\n",
       "    {\n",
       "    case 0:\n",
       "        cursor = 'pointer';\n",
       "        break;\n",
       "    case 1:\n",
       "        cursor = 'default';\n",
       "        break;\n",
       "    case 2:\n",
       "        cursor = 'crosshair';\n",
       "        break;\n",
       "    case 3:\n",
       "        cursor = 'move';\n",
       "        break;\n",
       "    }\n",
       "    fig.rubberband_canvas.style.cursor = cursor;\n",
       "}\n",
       "\n",
       "mpl.figure.prototype.handle_message = function(fig, msg) {\n",
       "    fig.message.textContent = msg['message'];\n",
       "}\n",
       "\n",
       "mpl.figure.prototype.handle_draw = function(fig, msg) {\n",
       "    // Request the server to send over a new figure.\n",
       "    fig.send_draw_message();\n",
       "}\n",
       "\n",
       "mpl.figure.prototype.handle_image_mode = function(fig, msg) {\n",
       "    fig.image_mode = msg['mode'];\n",
       "}\n",
       "\n",
       "mpl.figure.prototype.updated_canvas_event = function() {\n",
       "    // Called whenever the canvas gets updated.\n",
       "    this.send_message(\"ack\", {});\n",
       "}\n",
       "\n",
       "// A function to construct a web socket function for onmessage handling.\n",
       "// Called in the figure constructor.\n",
       "mpl.figure.prototype._make_on_message_function = function(fig) {\n",
       "    return function socket_on_message(evt) {\n",
       "        if (evt.data instanceof Blob) {\n",
       "            /* FIXME: We get \"Resource interpreted as Image but\n",
       "             * transferred with MIME type text/plain:\" errors on\n",
       "             * Chrome.  But how to set the MIME type?  It doesn't seem\n",
       "             * to be part of the websocket stream */\n",
       "            evt.data.type = \"image/png\";\n",
       "\n",
       "            /* Free the memory for the previous frames */\n",
       "            if (fig.imageObj.src) {\n",
       "                (window.URL || window.webkitURL).revokeObjectURL(\n",
       "                    fig.imageObj.src);\n",
       "            }\n",
       "\n",
       "            fig.imageObj.src = (window.URL || window.webkitURL).createObjectURL(\n",
       "                evt.data);\n",
       "            fig.updated_canvas_event();\n",
       "            fig.waiting = false;\n",
       "            return;\n",
       "        }\n",
       "        else if (typeof evt.data === 'string' && evt.data.slice(0, 21) == \"data:image/png;base64\") {\n",
       "            fig.imageObj.src = evt.data;\n",
       "            fig.updated_canvas_event();\n",
       "            fig.waiting = false;\n",
       "            return;\n",
       "        }\n",
       "\n",
       "        var msg = JSON.parse(evt.data);\n",
       "        var msg_type = msg['type'];\n",
       "\n",
       "        // Call the  \"handle_{type}\" callback, which takes\n",
       "        // the figure and JSON message as its only arguments.\n",
       "        try {\n",
       "            var callback = fig[\"handle_\" + msg_type];\n",
       "        } catch (e) {\n",
       "            console.log(\"No handler for the '\" + msg_type + \"' message type: \", msg);\n",
       "            return;\n",
       "        }\n",
       "\n",
       "        if (callback) {\n",
       "            try {\n",
       "                // console.log(\"Handling '\" + msg_type + \"' message: \", msg);\n",
       "                callback(fig, msg);\n",
       "            } catch (e) {\n",
       "                console.log(\"Exception inside the 'handler_\" + msg_type + \"' callback:\", e, e.stack, msg);\n",
       "            }\n",
       "        }\n",
       "    };\n",
       "}\n",
       "\n",
       "// from http://stackoverflow.com/questions/1114465/getting-mouse-location-in-canvas\n",
       "mpl.findpos = function(e) {\n",
       "    //this section is from http://www.quirksmode.org/js/events_properties.html\n",
       "    var targ;\n",
       "    if (!e)\n",
       "        e = window.event;\n",
       "    if (e.target)\n",
       "        targ = e.target;\n",
       "    else if (e.srcElement)\n",
       "        targ = e.srcElement;\n",
       "    if (targ.nodeType == 3) // defeat Safari bug\n",
       "        targ = targ.parentNode;\n",
       "\n",
       "    // jQuery normalizes the pageX and pageY\n",
       "    // pageX,Y are the mouse positions relative to the document\n",
       "    // offset() returns the position of the element relative to the document\n",
       "    var x = e.pageX - $(targ).offset().left;\n",
       "    var y = e.pageY - $(targ).offset().top;\n",
       "\n",
       "    return {\"x\": x, \"y\": y};\n",
       "};\n",
       "\n",
       "/*\n",
       " * return a copy of an object with only non-object keys\n",
       " * we need this to avoid circular references\n",
       " * http://stackoverflow.com/a/24161582/3208463\n",
       " */\n",
       "function simpleKeys (original) {\n",
       "  return Object.keys(original).reduce(function (obj, key) {\n",
       "    if (typeof original[key] !== 'object')\n",
       "        obj[key] = original[key]\n",
       "    return obj;\n",
       "  }, {});\n",
       "}\n",
       "\n",
       "mpl.figure.prototype.mouse_event = function(event, name) {\n",
       "    var canvas_pos = mpl.findpos(event)\n",
       "\n",
       "    if (name === 'button_press')\n",
       "    {\n",
       "        this.canvas.focus();\n",
       "        this.canvas_div.focus();\n",
       "    }\n",
       "\n",
       "    var x = canvas_pos.x * mpl.ratio;\n",
       "    var y = canvas_pos.y * mpl.ratio;\n",
       "\n",
       "    this.send_message(name, {x: x, y: y, button: event.button,\n",
       "                             step: event.step,\n",
       "                             guiEvent: simpleKeys(event)});\n",
       "\n",
       "    /* This prevents the web browser from automatically changing to\n",
       "     * the text insertion cursor when the button is pressed.  We want\n",
       "     * to control all of the cursor setting manually through the\n",
       "     * 'cursor' event from matplotlib */\n",
       "    event.preventDefault();\n",
       "    return false;\n",
       "}\n",
       "\n",
       "mpl.figure.prototype._key_event_extra = function(event, name) {\n",
       "    // Handle any extra behaviour associated with a key event\n",
       "}\n",
       "\n",
       "mpl.figure.prototype.key_event = function(event, name) {\n",
       "\n",
       "    // Prevent repeat events\n",
       "    if (name == 'key_press')\n",
       "    {\n",
       "        if (event.which === this._key)\n",
       "            return;\n",
       "        else\n",
       "            this._key = event.which;\n",
       "    }\n",
       "    if (name == 'key_release')\n",
       "        this._key = null;\n",
       "\n",
       "    var value = '';\n",
       "    if (event.ctrlKey && event.which != 17)\n",
       "        value += \"ctrl+\";\n",
       "    if (event.altKey && event.which != 18)\n",
       "        value += \"alt+\";\n",
       "    if (event.shiftKey && event.which != 16)\n",
       "        value += \"shift+\";\n",
       "\n",
       "    value += 'k';\n",
       "    value += event.which.toString();\n",
       "\n",
       "    this._key_event_extra(event, name);\n",
       "\n",
       "    this.send_message(name, {key: value,\n",
       "                             guiEvent: simpleKeys(event)});\n",
       "    return false;\n",
       "}\n",
       "\n",
       "mpl.figure.prototype.toolbar_button_onclick = function(name) {\n",
       "    if (name == 'download') {\n",
       "        this.handle_save(this, null);\n",
       "    } else {\n",
       "        this.send_message(\"toolbar_button\", {name: name});\n",
       "    }\n",
       "};\n",
       "\n",
       "mpl.figure.prototype.toolbar_button_onmouseover = function(tooltip) {\n",
       "    this.message.textContent = tooltip;\n",
       "};\n",
       "mpl.toolbar_items = [[\"Home\", \"Reset original view\", \"fa fa-home icon-home\", \"home\"], [\"Back\", \"Back to previous view\", \"fa fa-arrow-left icon-arrow-left\", \"back\"], [\"Forward\", \"Forward to next view\", \"fa fa-arrow-right icon-arrow-right\", \"forward\"], [\"\", \"\", \"\", \"\"], [\"Pan\", \"Pan axes with left mouse, zoom with right\", \"fa fa-arrows icon-move\", \"pan\"], [\"Zoom\", \"Zoom to rectangle\", \"fa fa-square-o icon-check-empty\", \"zoom\"], [\"\", \"\", \"\", \"\"], [\"Download\", \"Download plot\", \"fa fa-floppy-o icon-save\", \"download\"]];\n",
       "\n",
       "mpl.extensions = [\"eps\", \"jpeg\", \"pdf\", \"png\", \"ps\", \"raw\", \"svg\", \"tif\"];\n",
       "\n",
       "mpl.default_extension = \"png\";var comm_websocket_adapter = function(comm) {\n",
       "    // Create a \"websocket\"-like object which calls the given IPython comm\n",
       "    // object with the appropriate methods. Currently this is a non binary\n",
       "    // socket, so there is still some room for performance tuning.\n",
       "    var ws = {};\n",
       "\n",
       "    ws.close = function() {\n",
       "        comm.close()\n",
       "    };\n",
       "    ws.send = function(m) {\n",
       "        //console.log('sending', m);\n",
       "        comm.send(m);\n",
       "    };\n",
       "    // Register the callback with on_msg.\n",
       "    comm.on_msg(function(msg) {\n",
       "        //console.log('receiving', msg['content']['data'], msg);\n",
       "        // Pass the mpl event to the overridden (by mpl) onmessage function.\n",
       "        ws.onmessage(msg['content']['data'])\n",
       "    });\n",
       "    return ws;\n",
       "}\n",
       "\n",
       "mpl.mpl_figure_comm = function(comm, msg) {\n",
       "    // This is the function which gets called when the mpl process\n",
       "    // starts-up an IPython Comm through the \"matplotlib\" channel.\n",
       "\n",
       "    var id = msg.content.data.id;\n",
       "    // Get hold of the div created by the display call when the Comm\n",
       "    // socket was opened in Python.\n",
       "    var element = $(\"#\" + id);\n",
       "    var ws_proxy = comm_websocket_adapter(comm)\n",
       "\n",
       "    function ondownload(figure, format) {\n",
       "        window.open(figure.imageObj.src);\n",
       "    }\n",
       "\n",
       "    var fig = new mpl.figure(id, ws_proxy,\n",
       "                           ondownload,\n",
       "                           element.get(0));\n",
       "\n",
       "    // Call onopen now - mpl needs it, as it is assuming we've passed it a real\n",
       "    // web socket which is closed, not our websocket->open comm proxy.\n",
       "    ws_proxy.onopen();\n",
       "\n",
       "    fig.parent_element = element.get(0);\n",
       "    fig.cell_info = mpl.find_output_cell(\"<div id='\" + id + \"'></div>\");\n",
       "    if (!fig.cell_info) {\n",
       "        console.error(\"Failed to find cell for figure\", id, fig);\n",
       "        return;\n",
       "    }\n",
       "\n",
       "    var output_index = fig.cell_info[2]\n",
       "    var cell = fig.cell_info[0];\n",
       "\n",
       "};\n",
       "\n",
       "mpl.figure.prototype.handle_close = function(fig, msg) {\n",
       "    var width = fig.canvas.width/mpl.ratio\n",
       "    fig.root.unbind('remove')\n",
       "\n",
       "    // Update the output cell to use the data from the current canvas.\n",
       "    fig.push_to_output();\n",
       "    var dataURL = fig.canvas.toDataURL();\n",
       "    // Re-enable the keyboard manager in IPython - without this line, in FF,\n",
       "    // the notebook keyboard shortcuts fail.\n",
       "    IPython.keyboard_manager.enable()\n",
       "    $(fig.parent_element).html('<img src=\"' + dataURL + '\" width=\"' + width + '\">');\n",
       "    fig.close_ws(fig, msg);\n",
       "}\n",
       "\n",
       "mpl.figure.prototype.close_ws = function(fig, msg){\n",
       "    fig.send_message('closing', msg);\n",
       "    // fig.ws.close()\n",
       "}\n",
       "\n",
       "mpl.figure.prototype.push_to_output = function(remove_interactive) {\n",
       "    // Turn the data on the canvas into data in the output cell.\n",
       "    var width = this.canvas.width/mpl.ratio\n",
       "    var dataURL = this.canvas.toDataURL();\n",
       "    this.cell_info[1]['text/html'] = '<img src=\"' + dataURL + '\" width=\"' + width + '\">';\n",
       "}\n",
       "\n",
       "mpl.figure.prototype.updated_canvas_event = function() {\n",
       "    // Tell IPython that the notebook contents must change.\n",
       "    IPython.notebook.set_dirty(true);\n",
       "    this.send_message(\"ack\", {});\n",
       "    var fig = this;\n",
       "    // Wait a second, then push the new image to the DOM so\n",
       "    // that it is saved nicely (might be nice to debounce this).\n",
       "    setTimeout(function () { fig.push_to_output() }, 1000);\n",
       "}\n",
       "\n",
       "mpl.figure.prototype._init_toolbar = function() {\n",
       "    var fig = this;\n",
       "\n",
       "    var nav_element = $('<div/>');\n",
       "    nav_element.attr('style', 'width: 100%');\n",
       "    this.root.append(nav_element);\n",
       "\n",
       "    // Define a callback function for later on.\n",
       "    function toolbar_event(event) {\n",
       "        return fig.toolbar_button_onclick(event['data']);\n",
       "    }\n",
       "    function toolbar_mouse_event(event) {\n",
       "        return fig.toolbar_button_onmouseover(event['data']);\n",
       "    }\n",
       "\n",
       "    for(var toolbar_ind in mpl.toolbar_items){\n",
       "        var name = mpl.toolbar_items[toolbar_ind][0];\n",
       "        var tooltip = mpl.toolbar_items[toolbar_ind][1];\n",
       "        var image = mpl.toolbar_items[toolbar_ind][2];\n",
       "        var method_name = mpl.toolbar_items[toolbar_ind][3];\n",
       "\n",
       "        if (!name) { continue; };\n",
       "\n",
       "        var button = $('<button class=\"btn btn-default\" href=\"#\" title=\"' + name + '\"><i class=\"fa ' + image + ' fa-lg\"></i></button>');\n",
       "        button.click(method_name, toolbar_event);\n",
       "        button.mouseover(tooltip, toolbar_mouse_event);\n",
       "        nav_element.append(button);\n",
       "    }\n",
       "\n",
       "    // Add the status bar.\n",
       "    var status_bar = $('<span class=\"mpl-message\" style=\"text-align:right; float: right;\"/>');\n",
       "    nav_element.append(status_bar);\n",
       "    this.message = status_bar[0];\n",
       "\n",
       "    // Add the close button to the window.\n",
       "    var buttongrp = $('<div class=\"btn-group inline pull-right\"></div>');\n",
       "    var button = $('<button class=\"btn btn-mini btn-primary\" href=\"#\" title=\"Stop Interaction\"><i class=\"fa fa-power-off icon-remove icon-large\"></i></button>');\n",
       "    button.click(function (evt) { fig.handle_close(fig, {}); } );\n",
       "    button.mouseover('Stop Interaction', toolbar_mouse_event);\n",
       "    buttongrp.append(button);\n",
       "    var titlebar = this.root.find($('.ui-dialog-titlebar'));\n",
       "    titlebar.prepend(buttongrp);\n",
       "}\n",
       "\n",
       "mpl.figure.prototype._root_extra_style = function(el){\n",
       "    var fig = this\n",
       "    el.on(\"remove\", function(){\n",
       "\tfig.close_ws(fig, {});\n",
       "    });\n",
       "}\n",
       "\n",
       "mpl.figure.prototype._canvas_extra_style = function(el){\n",
       "    // this is important to make the div 'focusable\n",
       "    el.attr('tabindex', 0)\n",
       "    // reach out to IPython and tell the keyboard manager to turn it's self\n",
       "    // off when our div gets focus\n",
       "\n",
       "    // location in version 3\n",
       "    if (IPython.notebook.keyboard_manager) {\n",
       "        IPython.notebook.keyboard_manager.register_events(el);\n",
       "    }\n",
       "    else {\n",
       "        // location in version 2\n",
       "        IPython.keyboard_manager.register_events(el);\n",
       "    }\n",
       "\n",
       "}\n",
       "\n",
       "mpl.figure.prototype._key_event_extra = function(event, name) {\n",
       "    var manager = IPython.notebook.keyboard_manager;\n",
       "    if (!manager)\n",
       "        manager = IPython.keyboard_manager;\n",
       "\n",
       "    // Check for shift+enter\n",
       "    if (event.shiftKey && event.which == 13) {\n",
       "        this.canvas_div.blur();\n",
       "        event.shiftKey = false;\n",
       "        // Send a \"J\" for go to next cell\n",
       "        event.which = 74;\n",
       "        event.keyCode = 74;\n",
       "        manager.command_mode();\n",
       "        manager.handle_keydown(event);\n",
       "    }\n",
       "}\n",
       "\n",
       "mpl.figure.prototype.handle_save = function(fig, msg) {\n",
       "    fig.ondownload(fig, null);\n",
       "}\n",
       "\n",
       "\n",
       "mpl.find_output_cell = function(html_output) {\n",
       "    // Return the cell and output element which can be found *uniquely* in the notebook.\n",
       "    // Note - this is a bit hacky, but it is done because the \"notebook_saving.Notebook\"\n",
       "    // IPython event is triggered only after the cells have been serialised, which for\n",
       "    // our purposes (turning an active figure into a static one), is too late.\n",
       "    var cells = IPython.notebook.get_cells();\n",
       "    var ncells = cells.length;\n",
       "    for (var i=0; i<ncells; i++) {\n",
       "        var cell = cells[i];\n",
       "        if (cell.cell_type === 'code'){\n",
       "            for (var j=0; j<cell.output_area.outputs.length; j++) {\n",
       "                var data = cell.output_area.outputs[j];\n",
       "                if (data.data) {\n",
       "                    // IPython >= 3 moved mimebundle to data attribute of output\n",
       "                    data = data.data;\n",
       "                }\n",
       "                if (data['text/html'] == html_output) {\n",
       "                    return [cell, data, j];\n",
       "                }\n",
       "            }\n",
       "        }\n",
       "    }\n",
       "}\n",
       "\n",
       "// Register the function which deals with the matplotlib target/channel.\n",
       "// The kernel may be null if the page has been refreshed.\n",
       "if (IPython.notebook.kernel != null) {\n",
       "    IPython.notebook.kernel.comm_manager.register_target('matplotlib', mpl.mpl_figure_comm);\n",
       "}\n"
      ],
      "text/plain": [
       "<IPython.core.display.Javascript object>"
      ]
     },
     "metadata": {},
     "output_type": "display_data"
    },
    {
     "data": {
      "text/html": [
       "<img src=\"data:image/png;base64,iVBORw0KGgoAAAANSUhEUgAABQAAAAPACAYAAABq3NR5AAAgAElEQVR4Xuy9DfBeVXW+vdGooVBFjU5V4p9IZQxKkSlJAW0UrTUg2ELV2rFTUUABmWpR8bOKYlHBVhyGj9LUYnV0RqDqoIhWQIJjGIilLdXgB2ilfDXQ4mcpRvjPOTOkIjns/TzPOWuvte8rM++8rc9+zl7ruq/XM73fX/Lb7p577rkn8QcCEIAABCAAAQhAAAIQgAAEIAABCEAAAhBoksB2FIBN5spSEIAABCAAAQhAAAIQgAAEIAABCEAAAhDoCVAAIgIEIAABCEAAAhCAAAQgAAEIQAACEIAABBomQAHYcLisBgEIQAACEIAABCAAAQhAAAIQgAAEIAABCkAcgAAEIAABCEAAAhCAAAQgAAEIQAACEIBAwwQoABsOl9UgAAEIQAACEIAABCAAAQhAAAIQgAAEIEABiAMQgAAEIAABCEAAAhCAAAQgAAEIQAACEGiYAAVgw+GyGgQgAAEIQAACEIAABCAAAQhAAAIQgAAEKABxAAIQgAAEIAABCEAAAhCAAAQgAAEIQAACDROgAGw4XFaDAAQgAAEIQAACEIAABCAAAQhAAAIQgAAFIA5AAAIQgAAEIAABCEAAAhCAAAQgAAEIQKBhAhSADYfLahCAAAQgAAEIQAACEIAABCAAAQhAAAIQoADEAQhAAAIQgAAEIAABCEAAAhCAAAQgAAEINEyAArDhcFkNAhCAAAQgAAEIQAACEIAABCAAAQhAAAIUgDgAAQhAAAIQgAAEIAABCEAAAhCAAAQgAIGGCVAANhwuq0EAAhCAAAQgAAEIQAACEIAABCAAAQhAgAIQByAAAQhAAAIQgAAEIAABCEAAAhCAAAQg0DABCsCGw2U1CEAAAhCAAAQgAAEIQAACEIAABCAAAQhQAOIABCAAAQhAAAIQgAAEIAABCEAAAhCAAAQaJkAB2HC4rAYBCEAAAhCAAAQgAAEIQAACEIAABCAAAQpAHIAABCAAAQhAAAIQgAAEIAABCEAAAhCAQMMEKAAbDpfVIAABCEAAAhCAAAQgAAEIQAACEIAABCBAAYgDEIAABCAAAQhAAAIQgAAEIAABCEAAAhBomAAFYMPhshoEIAABCEAAAhCAAAQgAAEIQAACEIAABCgAcQACEIAABCAAAQhAAAIQgAAEIAABCEAAAg0ToABsOFxWgwAEIAABCEAAAhCAAAQgAAEIQAACEIAABSAOQAACEIAABCAAAQhAAAIQgAAEIAABCECgYQIUgA2Hy2oQgAAEIAABCEAAAhCAAAQgAAEIQAACEKAAxAEIQAACEIAABCAAAQhAAAIQgAAEIAABCDRMgAKw4XBZDQIQgAAEIAABCEAAAhCAAAQgAAEIQAACFIA4AAEIQAACEIAABCAAAQhAAAIQgAAEIACBhglQADYcLqtBAAIQgAAEIAABCEAAAhCAAAQgAAEIQIACEAcgAAEIQAACEIAABCAAAQhAAAIQgAAEINAwAQrAhsNlNQhAAAIQgAAEIAABCEAAAhCAAAQgAAEIUADiAAQgAAEIQAACEIAABCAAAQhAAAIQgAAEGiZAAdhwuKwGAQhAAAIQgAAEIAABCEAAAhCAAAQgAAEKQByAAAQgAAEIQAACEIAABCAAAQhAAAIQgEDDBCgAGw6X1SAAAQhAAAIQgAAEIAABCEAAAhCAAAQgQAGIAxCAAAQgAAEIQAACEIAABCAAAQhAAAIQaJgABWDD4bIaBCAAAQhAAAIQgAAEIAABCEAAAhCAAAQoAHEAAhCAAAQgAAEIQAACEIAABCAAAQhAAAINE6AAbDhcVoMABCAAAQhAAAIQgAAEIAABCEAAAhCAAAUgDkAAAhCAAAQgAAEIQAACEIAABCAAAQhAoGECFIANh8tqEIAABCAAAQhAAAIQgAAEIAABCEAAAhCgAMQBCEAAAhCAAAQgAAEIQAACEIAABCAAAQg0TIACsOFwWQ0CEIAABCAAAQhAAAIQgAAEIAABCEAAAhSAOAABCEAAAhCAAAQgAAEIQAACEIAABCAAgYYJUAA2HC6rQQACEIAABCAAAQhAAAIQgAAEIAABCECAAhAHIAABCEAAAhCAAAQgAAEIQAACEIAABCDQMAEKwIbDZTUIQAACEIAABCAAAQhAAAIQgAAEIAABCFAA4gAEIAABCEAAAhCAAAQgAAEIQAACEIAABBomQAHYcLisBgEIQAACEIAABCAAAQhAAAIQgAAEIAABCkAcgAAEIAABCEAAAhCAAAQgAAEIQAACEIBAwwQoABsOl9UgAAEIQAACEIAABCAAAQhAAAIQgAAEIEABiAMQgAAEIAABCEAAAhCAAAQgAAEIQAACEGiYAAVgw+GyGgQgAAEIQAACEIAABCAAAQhAAAIQgAAEKABxAAIQgAAEIAABCEAAAhCAAAQgAAEIQAACDROgAGw4XFaDAAQgAAEIQAACEIAABCAAAQhAAAIQgAAFIA5AAAIQgAAEIAABCEAAAhCAAAQgAAEIQKBhAhSADYfLahCAAAQgAAEIQAACEIAABCAAAQhAAAIQoADEAQhAAAIQgAAEIAABCEAAAhCAAAQgAAEINEyAArDhcFkNAhCAAAQgAAEIQAACEIAABCAAAQhAAAIUgDgAAQhAAAIQgAAEIAABCEAAAhCAAAQgAIGGCVAANhwuq0EAAhCAAAQgAAEIQAACEIAABCAAAQhAgAIQByAAAQhAAAIQgAAEIAABCEAAAhCAAAQg0DABCsCGw2U1CEAAAhCAAAQgAAEIQAACEIAABCAAAQhQAOIABCAAAQhAAAIQgAAEIAABCEAAAhCAAAQaJkAB2HC4rAYBCEAAAhCAAAQgAAEIQAACEIAABCAAAQpAHIAABCAAAQhAAAIQgAAEIAABCEAAAhCAQMMEKAAbDpfVIAABCEAAAhCAAAQgAAEIQAACEIAABCBAAYgDEIAABCAAAQhAAAIQgAAEIAABCEAAAhBomAAFYMPhshoEIAABCEAAAhCAAAQgAAEIQAACEIAABCgAcQACEIAABCAAAQhAAAIQgAAEIAABCEAAAg0ToABsOFxWgwAEIAABCEAAAhCAAAQgAAEIQAACEIAABSAOQAACEIAABCAAAQhAAAIQgAAEIAABCECgYQIUgA2Hy2oQgAAEIAABCEAAAhCAAAQgAAEIQAACEKAAxAEIQAACEIAABCAAAQhAAAIQgAAEIAABCDRMgAKw4XBZDQIQgAAEIAABCEAAAhCAAAQgAAEIQAACFIA4AAEIQAACEIAABCAAAQhAAAIQgAAEIACBhglQADYcLqtBAAIQgAAEIAABCEAAAhCAAAQgAAEIQIACEAcgAAEIQAACEIAABCAAAQhAAAIQgAAEINAwAQrAhsNlNQhAAAIQgAAEIAABCEAAAhCAAAQgAAEIUADiAAQgAAEIQAACEIAABCAAAQhAAAIQgAAEGiZAAdhwuKwGAQhAAAIQgAAEIAABCEAAAhCAAAQgAAEKQByAAAQgAAEIQAACEIAABCAAAQhAAAIQgEDDBCgAGw6X1SAAAQhAAAIQgAAEIAABCEAAAhCAAAQgQAGIAxCAAAQgAAEIQAACEIAABCAAAQhAAAIQaJgABWDD4bIaBCAAAQhAAAIQgAAEIAABCEAAAhCAAAQoAHEAAhCAAAQgAAEIQAACEIAABCAAAQhAAAINE6AAbDhcVoMABCAAAQhAAAIQgAAEIAABCEAAAhCAAAUgDkAAAhCAAAQgAAEIQAACEIAABCAAAQhAoGECFIANh8tqEIAABCAAAQhAAAIQgAAEIAABCEAAAhCgAMQBCEAAAhCAAAQgAAEIQAACEIAABCAAAQg0TIACsOFwWQ0CEIAABCAAAQhAAAIQgAAEIAABCEAAAhSAOAABCEAAAhCAAAQgAAEIQAACEIAABCAAgYYJUAA2HC6rQQACEIAABCAAAQhAAAIQgAAEIAABCECAAhAHIAABCEAAAhCAAAQgAAEIQAACEIAABCDQMAEKwIbDZTUIQAACEIAABCAAAQhAAAIQgAAEIAABCFAA4gAEIAABCEAAAhCAAAQgAAEIQAACEIAABBomQAHYcLisBgEIQAACEIAABCAAAQhAAAIQgAAEIAABCkAcgAAEIAABCEAAAhCAAAQgAAEIQAACEIBAwwQoABsOl9UgAAEIQAACEIAABCAAAQhAAAIQgAAEIEABiAMQgAAEIAABCEAAAhCAAAQgAAEIQAACEGiYAAVgw+GyGgQgAAEIQAACEIAABCAAAQhAAAIQgAAEKABxAAIQgAAEIAABCEAAAhCAAAQgAAEIQAACDROgAGw4XFaDAAQgAAEIQAACEIAABCAAAQhAAAIQgAAFIA5AAAIQgAAEIAABCEAAAhCAAAQgAAEIQKBhAhSADYfLahCAAAQgAAEIQAACEIAABCAAAQhAAAIQoADEAQhAAAIQgAAEIAABCEAAAhCAAAQgAAEINEyAArDhcFkNAhCAAAQgAAEIQAACEIAABCAAAQhAAAIUgDgAAQhAAAIQgAAEIAABCEAAAhCAAAQgAIGGCVAANhwuq0EAAhCAAAQgAAEIQAACEIAABCAAAQhAgAIQByAAAQhAAAIQgAAEIAABCEAAAhCAAAQg0DABCsCGw/W82p133pmuueaafsTHPOYxacmSJZ7HZTYIQAACEIAABCAAAQhAAAIQgEBIAlu2bEmbN2/uZ99jjz3S0qVLQ+7B0IsRoABcjB/fnpPAVVddlVavXj3nt/kaBCAAAQhAAAIQgAAEIAABCEAAArMSuPLKK9OqVatm/RrnGyBAAdhAiBFXoACMmBozQwACEIAABCAAAQhAAAIQgEBkAhSAkdNbbHYKwMX48e05CXzve99LK1as6L+9fv36rf/znI/jaw0Q+J//+Z/ehe7PmjVr0vbbb9/AVqywCAGcWIRem9/FiTZzXXQrvFiUYHvfx4n2Ml10I5xYlGB731dz4uabb976N/C++93vpl122aW9UNkoS4ACMIuIA1MQ+I//+I+0fPny/tHf+ta30pOf/OQpruGZgQh0L+EvfvGL/cS/+7u/SwEYKLupRsWJqcjGfS5OxM1uysnxYkq6MZ+NEzFzm3JqnJiSbsxnqznxi//39w033JB23nnnmMEx9UIEKAAXwseX5yVAATgvuXa/p/YSbjfJ8TbDifFYtvIknGglyXH3wItxebbwNJxoIcVxd8CJcXm28DQ1JygAW7B28R0oABdnyBPmIEABOAe0xr+i9hJuPM5R1sOJUTA29RCcaCrO0ZbBi9FQNvMgnGgmytEWwYnRUDbzIDUnKACbUXehRSgAF8LHl+clQAE4L7l2v6f2Em43yfE2w4nxWLbyJJxoJclx98CLcXm28DScaCHFcXfAiXF5tvA0NScoAFuwdvEdKAAXZ8gT5iBAATgHtMa/ovYSbjzOUdbDiVEwNvUQnGgqztGWwYvRUDbzIJxoJsrRFsGJ0VA28yA1JygAm1F3oUUoABfCx5fnJUABOC+5dr+n9hJuN8nxNsOJ8Vi28iScaCXJcffAi3F5tvA0nGghxXF3wIlxebbwNDUnKABbsHbxHSgAF2fIE+YgQAE4B7TGv6L2Em48zlHWw4lRMDb1EJxoKs7RlsGL0VA28yCcaCbK0RbBidFQNvMgNScoAJtRd6FFKAAXwseX5yVAATgvuXa/p/YSbjfJ8TbDifFYtvIknGglyXH3wItxebbwNJxoIcVxd8CJcXm28DQ1JygAW7B28R0oABdnyBPmIEABOAe0xr+i9hJuPM5R1sOJUTA29RCcaCrO0ZbBi9FQNvMgnGgmytEWwYnRUDbzIDUnKACbUXehRSgAF8LHl+clQAE4L7l2v6f2Em43yfE2w4nxWLbyJJxoJclx98CLcXm28DScaCHFcXfAiXF5tvA0NScoAFuwdvEdKAAXZ8gT5iBAATgHtMa/ovYSbjzOUdbDiVEwNvUQnGgqztGWwYvRUDbzIJxoJsrRFsGJ0VA28yA1JygAm1F3oUUoABfCV/fLt912W/rwhz+cPvOZz6Trrrsu/fd//3d69KMfnZYvX57WrFmTDj300LTvvvs+4JAbNmxIZ5xxRrr88svTLbfckh75yEemPffcMx122GHppS996WQLUgBOhjbsg9VewmGDMhwcJwxhB7kKJ4IEZTwmXhgDD3AdTgQIyXhEnDAGHuA6NScoAANIaTAiBaAB5CmuOPfcc9PRRx+dbr/99sHH/97v/V769Kc/Pfj5u9/97vSud70r3X333ds8c/DBB6dPfvKTaenSpaOvQAE4OtLwD1R7CYcPzGABnDCAHOwKnAgWmNG4eGEEOtA1OBEoLKNRccIIdKBr1JygAAwk54SjUgBOCHeqR//93/99esUrXtEXd4997GP7IvCZz3xmetSjHtX/FF/304AXXHBBesQjHpG6onBbf9atW5eOPPLI/qNdd901vfWtb0177LFHuummm9KHPvShdOmll/afvexlL0sf+9jHRl+FAnB0pOEfqPYSDh+YwQI4YQA52BU4ESwwo3Hxwgh0oGtwIlBYRqPihBHoQNeoOUEBGEjOCUelAJwQ7hSP3rRpU9prr73S//7v/6bf/u3f3lr0beuuu+66Kz30oQ+930d33HFHWrFiRer+30984hPT1772tbRs2bKt537+85+nQw45pH929+eyyy7r/0rxmH8oAMek2caz1F7CbaQ27RY4MS3fiE/HiYipTT8zXkzPONoNOBEtsennxYnpGUe7Qc0JCsBohk4zLwXgNFwne+rv/M7vpIsvvrgv7Loy8BeLu9JLTznllHT88cf3xz/xiU9s89/66/4LYpdddkldGXjQQQdtLQNL78idowDMEdL7XO0lrJfw7BvjxOzMWv8GTrSe8Hz74cV83Fr+Fk60nO58u+HEfNxa/paaExSALdtcvhsFYDmr6ievvfbatHLlyn6OE044Ib3zne+ca6ZnPOMZ6atf/Wp6+MMfnjZv3rzNnxLsHrx27dr0hS98IT3sYQ9L3S8c2XHHHee6b1tfogAcDWUzD1J7CTcT3ISL4MSEcIM+GieCBjfx2HgxMeCAj8eJgKFNPDJOTAw44OPVnKAADCjpBCNTAE4AdapHnnjiiekd73hH//ivf/3raffdd+//5+63/3YFXfdvAHa/BfiB/nR/LXiHHXZIW7ZsSc9//vPTRRddNHj8ve99b/9vA3Z/LrnkkrT//vuPthoF4Ggom3mQ2ku4meAmXAQnJoQb9NE4ETS4icfGi4kBB3w8TgQMbeKRcWJiwAEfr+YEBWBASScYmQJwAqhTPfIFL3hBuvDCC/tf7tGVfh//+MfTySefnP71X/9165Xdv+338pe/PL3+9a/f5k/sdcXh0572tP78a1/72nTqqacOjvupT30qHXroof3np59+ejrmmGNGW40CcDSUzTxI7SXcTHATLoITE8IN+micCBrcxGPjxcSAAz4eJwKGNvHIODEx4ICPV3OCAjCgpBOMTAE4AdSpHtmVe9/73vfSnnvu2f/W366UG/rTlXzdX999/OMff58j3U/8HXDAAf1/1v1bgG94wxsGn7Fx48a0atWq/vM3v/nNqfuJwNI/3X/BPNCfm2++Oa1evbo/cs011/S/iZg/2gTuvPPOtH79+h5C90tnli5dqg2E7RNOIMEvE8AJnNgWAbzAC/67AgdyBPjviRwhvc/VnOj+7/PddtutD/qGG25IO++8s17obJwoAANJ0P3k3w9/+MP+3+TrfgvwTjvtlN73vvf1P6XX/Xt+XZHW/RXhz3/+8/1W++23X7r88svTgx70oK1bnnvuueklL3lJ/7+feeaZ6aijjhok0P2SkXv/mvGxxx6bTjvttGJa2223XfHZdevWzfXLTIov4CAEIAABCEAAAhCAAAQgAAEIQECUQPdPhh1xxBEUgKL537s2BWAgAZYsWdL/Vt7uz4Mf/OD0la98Je2zzz732eDuu+/uf2vvvSVgV/i96EUv2nrmox/9aPqTP/mT/n//27/92/TKV75ykMD111+/9SfzDj/88NQVdaV/KABLSXEOAhCAAAQgAAEIQAACEIAABCAwHQEKwOnYRnoyBWCgtLrfwvuTn/ykn/ilL31p+sQnPrHN6X/x3/nrfjrw/PPP33rO6icA+SvAgcRyMqraj+E7we56DJxwHU+V4XCiCnb3l+KF+4jMB8QJc+TuL8QJ9xGZD6jmBH8F2FwxlxdSALqMZdtDPe5xj0u33HJL/+FHPvKRrT/Jt63T3d/pv/HGG9Py5cvT97///a1HrP4NwBxWfglIjpDe52r/EK9ewrNvjBOzM2v9GzjResLz7YcX83Fr+Vs40XK68+2GE/Nxa/lbak7wS0Batrl8NwrAclbVT3a/NOOqq67q57j44ovTc57znMGZ9t1333TFFVf0/15g9/93494///Zv/5b22GOP/n/ltwBXj5QBfoGA2kuY8PMEcCLPSO0ETqglXrYvXpRxUjqFE0ppl+2KE2WclE6pOUEBqGT38K4UgIE8eMUrXpHOOeecfuIvfvGL6XnPe97g9PeWhTvssEP68Y9/vPXcXXfdlX7lV36l/7cEn//856fuJwKH/nS/9fetb31r//Ell1yS9t9//9Fo8ROAo6Fs5kFqL+FmgptwEZyYEG7QR+NE0OAmHhsvJgYc8PE4ETC0iUfGiYkBB3y8mhMUgAElnWBkCsAJoE71yL/7u7/b+ks7cr/Bd9myZen222/vf9X3N7/5zfuM1P124A0bNvS/OXjz5s3poQ996DZHXrt2bfrCF77Q/xRhd+5Xf/VXR1uNAnA0lM08SO0l3ExwEy6CExPCDfponAga3MRj48XEgAM+HicChjbxyDgxMeCAj1dzggIwoKQTjEwBOAHUqR7ZFXrdvwP4s5/9rP/pv+6nALf157LLLkvPfvaz+4+29dt7Tz755PSmN72p/7z7RSLdLxT55T/df0Hssssu/U8KHnjggelzn/vcqGtRAI6Ks4mHqb2Emwht4iVwYmLAAR+PEwFDMxgZLwwgB7sCJ4IFZjAuThhADnaFmhMUgMEEnWhcCsCJwE712GOOOSZ1P/03VN796Ec/SmvWrEn//M//3J+58sor06pVq+4zzn/913+lJz3pSekHP/hB+n//7/+lr33ta+nRj3701jNd6XfIIYekCy64oP/Pxv7rv90zKQCnMiTuc9VewnGTspscJ+xYR7kJJ6IkZTsnXtjyjnAbTkRIyXZGnLDlHeE2NScoACNYOf2MFIDTMx71hu6v4u699979b/ZdsmRJOuqoo9Khhx7a/3Xea665Jr3//e9P1157bX/n0Ucfnc4444xt3v/Xf/3X/Xe7P7vuumt629ve1v9ykJtuuimdeuqp6dJLL+0/+6M/+qP08Y9/fNQdKABHx9nEA9Vewk2ENvESODEx4ICPx4mAoRmMjBcGkINdgRPBAjMYFycMIAe7Qs0JCsBggk40LgXgRGCnfOymTZvSC1/4wvSd73xn8JpXvvKV6ayzzkoPechDBs+8853vTCeeeGK65557tnmm+6u/559/flq6dOno6/ATgKMjDf9AtZdw+MAMFsAJA8jBrsCJYIEZjYsXRqADXYMTgcIyGhUnjEAHukbNCQrAQHJOOCoF4IRwp3z0T37yk/6vAp933nnp29/+dv+bfh/72MemZzzjGenVr3518W/s/epXv5pOP/30dPnll6dbb7017bTTTmnPPfdM3W8c7n76b6o/FIBTkY37XLWXcNyk7CbHCTvWUW7CiShJ2c6JF7a8I9yGExFSsp0RJ2x5R7hNzQkKwAhWTj8jBeD0jLlhGwQoANHilwmovYQxIE8AJ/KM1E7ghFriZfviRRknpVM4oZR22a44UcZJ6ZSaExSASnYP70oBiAdVCIxeAJ7wiP/b44QfVNmJSxcjoPYSXoyWxrdxQiPnWbbEiVlo6ZzFC52sSzfFiVJSOudwQifr0k3VnKAALDWj7XMUgG3n63Y7CkC30VQbTO0lXA10oItxIlBYRqPihBHoYNfgRbDADMbFCQPIwa7AiWCBGYyr5gQFoIFUAa6gAAwQUosjUgC2mOpiO6m9hBejpfFtnNDIeZYtcWIWWjpn8UIn69JNcaKUlM45nNDJunRTNScoAEvNaPscBWDb+brdjgLQbTTVBlN7CVcDHehinAgUltGoOGEEOtg1eBEsMINxccIAcrArcCJYYAbjqjlBAWggVYArKAADhNTiiBSALaa62E5qL+HFaGl8Gyc0cp5lS5yYhZbOWbzQybp0U5woJaVzDid0si7dVM0JCsBSM9o+RwHYdr5ut6MAdBtNtcHUXsLVQAe6GCcChWU0Kk4YgQ52DV4EC8xgXJwwgBzsCpwIFpjBuGpOUAAaSBXgCgrAACG1OCIFYIupLraT2kt4MVoa38YJjZxn2RInZqGlcxYvdLIu3RQnSknpnMMJnaxLN1VzggKw1Iy2z1EAtp2v2+0oAN1GU20wtZdwNdCBLsaJQGEZjYoTRqCDXYMXwQIzGBcnDCAHuwInggVmMK6aExSABlIFuIICMEBILY5IAdhiqovtpPYSXoyWxrdxQiPnWbbEiVlo6ZzFC52sSzfFiVJSOudwQifr0k3VnKAALDWj7XMUgG3n63Y7CkC30VQbTO0lXA10oItxIlBYRqPihBHoYNfgRbDADMbFCQPIwa7AiWCBGYyr5gQFoIFUAa6gAAwQUosjUgC2mOpiO6m9hBejpfFtnNDIeZYtcWIWWjpn8UIn69JNcaKUlM45nNDJunRTNScoAEvNaPscBWDb+brdjgLQbTTVBlN7CVcDHehinAgUltGoOGEEOtg1eBEsMINxccIAcrArcCJYYAbjqjlBAWggVYArKAADhNTiiBSALaa62E5qL+HFaGl8Gyc0cp5lS5yYhZbOWbzQybp0U5woJaVzDid0si7dVM0JCsBSM9o+RwHYdr5ut6MAdBtNtcHUXsLVQFmn1AQAACAASURBVAe6GCcChWU0Kk4YgQ52DV4EC8xgXJwwgBzsCpwIFpjBuGpOUAAaSBXgCgrAACG1OCIFYIupLraT2kt4MVoa38YJjZxn2RInZqGlcxYvdLIu3RQnSknpnMMJnaxLN1VzggKw1Iy2z1EAtp2v2+0oAN1GU20wtZdwNdCBLsaJQGEZjYoTRqCDXYMXwQIzGBcnDCAHuwInggVmMK6aExSABlIFuIICMEBILY5IAdhiqovtpPYSXoyWxrdxQiPnWbbEiVlo6ZzFC52sSzfFiVJSOudwQifr0k3VnKAALDWj7XMUgG3n63Y7CkC30VQbTO0lXA10oItxIlBYRqPihBHoYNfgRbDADMbFCQPIwa7AiWCBGYyr5gQFoIFUAa6gAAwQUosjUgC2mOpiO6m9hBejpfFtnNDIeZYtcWIWWjpn8UIn69JNcaKUlM45nNDJunRTNScoAEvNaPscBWDb+brdjgLQbTTVBlN7CVcDHehinAgUltGoOGEEOtg1eBEsMINxccIAcrArcCJYYAbjqjlBAWggVYArKAADhNTiiBSALaa62E5qL+HFaGl8Gyc0cp5lS5yYhZbOWbzQybp0U5woJaVzDid0si7dVM0JCsBSM9o+RwHYdr5ut6MAdBtNtcHUXsLVQAe6GCcChWU0Kk4YgQ52DV4EC8xgXJwwgBzsCpwIFpjBuGpOUAAaSBXgCgrAACG1OCIFYIupLraT2kt4MVoa38YJjZxn2RInZqGlcxYvdLIu3RQnSknpnMMJnaxLN1VzggKw1Iy2z1EAtp2v2+0oAN1GU20wtZdwNdCBLsaJQGEZjYoTRqCDXYMXwQIzGBcnDCAHuwInggVmMK6aExSABlIFuIICMEBILY5IAdhiqovtpPYSXoyWxrdxQiPnWbbEiVlo6ZzFC52sSzfFiVJSOudwQifr0k3VnKAALDWj7XMUgG3n63Y7CkC30VQbTO0lXA10oItxIlBYRqPihBHoYNfgRbDADMbFCQPIwa7AiWCBGYyr5gQFoIFUAa6gAAwQUosjUgC2mOpiO6m9hBejpfFtnNDIeZYtcWIWWjpn8UIn69JNcaKUlM45nNDJunRTNScoAEvNaPscBWDb+brdjgLQbTTVBlN7CVcDHehinAgUltGoOGEEOtg1eBEsMINxccIAcrArcCJYYAbjqjlBAWggVYArKAADhNTiiBSALaa62E5qL+HFaGl8Gyc0cp5lS5yYhZbOWbzQybp0U5woJaVzDid0si7dVM0JCsBSM9o+RwHYdr5ut6MAdBtNtcHUXsLVQAe6GCcChWU0Kk4YgQ52DV4EC8xgXJwwgBzsCpwIFpjBuGpOUAAaSBXgCgrAACG1OCIFYIupLraT2kt4MVoa38YJjZxn2RInZqGlcxYvdLIu3RQnSknpnMMJnaxLN1VzggKw1Iy2z1EAtp2v2+0oAN1GU20wtZdwNdCBLsaJQGEZjYoTRqCDXYMXwQIzGBcnDCAHuwInggVmMK6aExSABlIFuIICMEBILY5IAdhiqovtpPYSXoyWxrdxQiPnWbbEiVlo6ZzFC52sSzfFiVJSOudwQifr0k3VnKAALDWj7XMUgG3n63Y7CkC30VQbTO0lXA10oItxIlBYRqPihBHoYNfgRbDADMbFCQPIwa7AiWCBGYyr5gQFoIFUAa6gAAwQUosjUgC2mOpiO6m9hBejpfFtnNDIeZYtcWIWWjpn8UIn69JNcaKUlM45nNDJunRTNScoAEvNaPscBWDb+brdjgLQbTTVBlN7CVcDHehinAgUltGoOGEEOtg1eBEsMINxccIAcrArcCJYYAbjqjlBAWggVYArKAADhNTiiBSALaa62E5qL+HFaGl8Gyc0cp5lS5yYhZbOWbzQybp0U5woJaVzDid0si7dVM0JCsBSM9o+RwHYdr5ut6MAdBtNtcHUXsLVQAe6GCcChWU0Kk4YgQ52DV4EC8xgXJwwgBzsCpwIFpjBuGpOUAAaSBXgCgrAACG1OCIFYIupLraT2kt4MVoa38YJjZxn2RInZqGlcxYvdLIu3RQnSknpnMMJnaxLN1VzggKw1Iy2z1EAtp2v2+0oAN1GU20wtZdwNdCBLsaJQGEZjYoTRqCDXYMXwQIzGBcnDCAHuwInggVmMK6aExSABlIFuIICMEBILY5IAdhiqovtpPYSXoyWxrdxQiPnWbbEiVlo6ZzFC52sSzfFiVJSOudwQifr0k3VnKAALDWj7XMUgG3n63Y7CkC30VQbTO0lXA10oItxIlBYRqPihBHoYNfgRbDADMbFCQPIwa7AiWCBGYyr5gQFoIFUAa6gAAwQUosjUgC2mOpiO6m9hBejpfFtnNDIeZYtcWIWWjpn8UIn69JNcaKUlM45nNDJunRTNScoAEvNaPscBWDb+brdjgLQbTTVBlN7CVcDHehinAgUltGoOGEEOtg1eBEsMINxccIAcrArcCJYYAbjqjlBAWggVYArKAADhNTiiBSALaa62E5qL+HFaGl8Gyc0cp5lS5yYhZbOWbzQybp0U5woJaVzDid0si7dVM0JCsBSM9o+RwHYdr5ut6MAdBtNtcHUXsLVQAe6GCcChWU0Kk4YgQ52DV4EC8xgXJwwgBzsCpwIFpjBuGpOUAAaSBXgCgrAACG1OCIFYIupLraT2kt4MVoa38YJjZxn2RInZqGlcxYvdLIu3RQnSknpnMMJnaxLN1VzggKw1Iy2z1EAtp2v2+0oAN1GU20wtZdwNdCBLsaJQGEZjYoTRqCDXYMXwQIzGBcnDCAHuwInggVmMK6aExSABlIFuIICMEBILY5IAdhiqovtpPYSXoyWxrdxQiPnWbbEiVlo6ZzFC52sSzfFiVJSOudwQifr0k3VnKAALDWj7XMUgG3n63Y7CkC30VQbTO0lXA10oItxIlBYRqPihBHoYNfgRbDADMbFCQPIwa7AiWCBGYyr5gQFoIFUAa6gAAwQUosjUgC2mOpiO6m9hBejpfFtnNDIeZYtcWIWWjpn8UIn69JNcaKUlM45nNDJunRTNScoAEvNaPscBWDb+brdjgLQbTTVBlN7CVcDHehinAgUltGoOGEEOtg1eBEsMINxccIAcrArcCJYYAbjqjlBAWggVYArKAADhNTiiBSALaa62E5qL+HFaGl8Gyc0cp5lS5yYhZbOWbzQybp0U5woJaVzDid0si7dVM0JCsBSM9o+RwHYdr5ut6MAdBtNtcHUXsLVQAe6GCcChWU0Kk4YgQ52DV4EC8xgXJwwgBzsCpwIFpjBuGpOUAAaSBXgCgrAACG1OCIFYIupLraT2kt4MVoa38YJjZxn2RInZqGlcxYvdLIu3RQnSknpnMMJnaxLN1VzggKw1Iy2z1EAtp2v2+0oAN1GU20wtZdwNdCBLsaJQGEZjYoTRqCDXYMXwQIzGBcnDCAHuwInggVmMK6aExSABlIFuIICMEBILY5IAdhiqovtpPYSXoyWxrdxQiPnWbbEiVlo6ZzFC52sSzfFiVJSOudwQifr0k3VnKAALDWj7XMUgG3n63Y7CkC30VQbTO0lXA10oItxIlBYRqPihBHoYNfgRbDADMbFCQPIwa7AiWCBGYyr5gQFoIFUAa6gAAwQUosjUgC2mOpiO6m9hBejpfFtnNDIeZYtcWIWWjpn8UIn69JNcaKUlM45nNDJunRTNScoAEvNaPscBWDb+brdjgLQbTTVBlN7CVcDHehinAgUltGoOGEEOtg1eBEsMINxccIAcrArcCJYYAbjqjlBAWggVYArKAADhNTiiBSALaa62E5qL+HFaGl8Gyc0cp5lS5yYhZbOWbzQybp0U5woJaVzDid0si7dVM0JCsBSM9o+RwHYdr5ut6MAdBtNtcHUXsLVQAe6GCcChWU0Kk4YgQ52DV4EC8xgXJwwgBzsCpwIFpjBuGpOUAAaSBXgCgrAACG1OCIFYIupLraT2kt4MVoa38YJjZxn2RInZqGlcxYvdLIu3RQnSknpnMMJnaxLN1VzggKw1Iy2z1EAtp2v2+0oAN1GU20wtZdwNdCBLsaJQGEZjYoTRqCDXYMXwQIzGBcnDCAHuwInggVmMK6aExSABlIFuIICMEBILY5IAdhiqovtpPYSXoyWxrdxQiPnWbbEiVlo6ZzFC52sSzfFiVJSOudwQifr0k3VnKAALDWj7XMUgG3n63Y7CkC30VQbTO0lXA10oItxIlBYRqPihBHoYNfgRbDADMbFCQPIwa7AiWCBGYyr5gQFoIFUAa6gAAwQUosjUgC2mOpiO6m9hBejpfFtnNDIeZYtcWIWWjpn8UIn69JNcaKUlM45nNDJunRTNScoAEvNaPscBWDb+brdjgLQbTTVBlN7CVcDHehinAgUltGoOGEEOtg1eBEsMINxccIAcrArcCJYYAbjqjlBAWggVYArKAADhNTiiBSALaa62E5qL+HFaGl8Gyc0cp5lS5yYhZbOWbzQybp0U5woJaVzDid0si7dVM0JCsBSM9o+RwHYdr5ut6MAdBtNtcHUXsLVQAe6GCcChWU0Kk4YgQ52DV4EC8xgXJwwgBzsCpwIFpjBuGpOUAAaSBXgCgrAACG1OCIFYIupLraT2kt4MVoa38YJjZxn2RInZqGlcxYvdLIu3RQnSknpnMMJnaxLN1VzggKw1Iy2z1EAtp2v2+0oAN1GU20wtZdwNdCBLsaJQGEZjYoTRqCDXYMXwQIzGBcnDCAHuwInggVmMK6aExSABlIFuIICMEBILY5IAdhiqovtpPYSXoyWxrdxQiPnWbbEiVlo6ZzFC52sSzfFiVJSOudwQifr0k3VnKAALDWj7XMUgG3n63Y7CkC30VQbTO0lXA10oItxIlBYRqPihBHoYNfgRbDADMbFCQPIwa7AiWCBGYyr5gQFoIFUAa6gAAwQUosjUgC2mOpiO6m9hBejpfFtnNDIeZYtcWIWWjpn8UIn69JNcaKUlM45nNDJunRTNScoAEvNaPscBWDb+brdjgLQbTTVBlN7CVcDHehinAgUltGoOGEEOtg1eBEsMINxccIAcrArcCJYYAbjqjlBAWggVYArKAADhNTiiBSALaa62E5qL+HFaGl8Gyc0cp5lS5yYhZbOWbzQybp0U5woJaVzDid0si7dVM0JCsBSM9o+RwHYdr5ut6MAdBtNtcHUXsLVQAe6GCcChWU0Kk4YgQ52DV4EC8xgXJwwgBzsCpwIFpjBuGpOUAAaSBXgCgrAACG1OCIFYIupLraT2kt4MVoa38YJjZxn2RInZqGlcxYvdLIu3RQnSknpnMMJnaxLN1VzggKw1Iy2z1EAtp2v2+0oAN1GU20wtZdwNdCBLsaJQGEZjYoTRqCDXYMXwQIzGBcnDCAHuwInggVmMK6aExSABlIFuIICMEBILY5IAdhiqovtpPYSXoyWxrdxQiPnWbbEiVlo6ZzFC52sSzfFiVJSOudwQifr0k3VnKAALDWj7XMUgG3n63Y7CkC30VQbTO0lXA10oItxIlBYRqPihBHoYNfgRbDADMbFCQPIwa7AiWCBGYyr5gQFoIFUAa6gAAwQUosjUgC2mOpiO6m9hBejpfFtnNDIeZYtcWIWWjpn8UIn69JNcaKUlM45nNDJunRTNScoAEvNaPscBWDb+brdjgLQbTTVBlN7CVcDHehinAgUltGoOGEEOtg1eBEsMINxccIAcrArcCJYYAbjqjlBAWggVYArKAADhNTiiBSALaa62E5qL+HFaGl8Gyc0cp5lS5yYhZbOWbzQybp0U5woJaVzDid0si7dVM0JCsBSM9o+RwHYdr5ut6MAdBtNtcHUXsLVQAe6GCcChWU0Kk4YgQ52DV4EC8xgXJwwgBzsCpwIFpjBuGpOUAAaSBXgCgrAACG1OCIFYIupLraT2kt4MVoa38YJjZxn2RInZqGlcxYvdLIu3RQnSknpnMMJnaxLN1VzggKw1Iy2z1EAtp2v2+0oAN1GU20wtZdwNdCBLsaJQGEZjYoTRqCDXYMXwQIzGBcnDCAHuwInggVmMK6aExSABlIFuIICMEBILY5IAdhiqovtpPYSXoyWxrdxQiPnWbbEiVlo6ZzFC52sSzfFiVJSOudwQifr0k3VnKAALDWj7XMUgG3n63Y7CkC30VQbTO0lXA10oItxIlBYRqPihBHoYNfgRbDADMbFCQPIwa7AiWCBGYyr5gQFoIFUAa6gAAwQUosjUgC2mOpiO6m9hBejpfFtnNDIeZYtcWIWWjpn8UIn69JNcaKUlM45nNDJunRTNScoAEvNaPscBWDb+brdjgLQbTTVBlN7CVcDHehinAgUltGoOGEEOtg1eBEsMINxccIAcrArcCJYYAbjqjlBAWggVYArKAADhNTiiBSALaa62E5qL+HFaGl8Gyc0cp5lS5yYhZbOWbzQybp0U5woJaVzDid0si7dVM0JCsBSM9o+RwHYdr5ut6MAdBtNtcHUXsLVQAe6GCcChWU0Kk4YgQ52DV4EC8xgXJwwgBzsCpwIFpjBuGpOUAAaSBXgCgrAACG1OCIFYIupLraT2kt4MVoa38YJjZxn2RInZqGlcxYvdLIu3RQnSknpnMMJnaxLN1VzggKw1Iy2z1EAtp2v2+0oAN1GU20wtZdwNdCBLsaJQGEZjYoTRqCDXYMXwQIzGBcnDCAHuwInggVmMK6aExSABlIFuIICMEBILY5IAdhiqovtpPYSXoyWxrdxQiPnWbbEiVlo6ZzFC52sSzfFiVJSOudwQifr0k3VnKAALDWj7XMUgG3n63Y7CkC30VQbTO0lXA10oItxIlBYRqPihBHoYNfgRbDADMbFCQPIwa7AiWCBGYyr5gQFoIFUAa6gAAwQ0i+OuN122xVN/KxnPSt9+ctffsCzF110UTr77LPTlVdemTZv3pwe85jHpNWrV6dXvepVae3atUX3zHuIAnBecu1+T+0l3G6S422GE+OxbOVJONFKkuPugRfj8mzhaTjRQorj7oAT4/Js4WlqTlAAtmDt4jtQAC7O0PQJYxSA99xzTzrqqKP68m/oT1cCnnXWWan0vlkhUADOSqz982ov4fYTXXxDnFicYWtPwInWEh1nH7wYh2NLT8GJltIcZxecGIdjS09Rc4ICsCV759+FAnB+dlW+eW8hd/TRR6djjjlmcIYddtghrVixYpufv+1tb0snnXRS/9lee+2Vjj/++LTrrrum6667Lp188snp6quv7j/rzr3nPe+ZZE8KwEmwhn6o2ks4dFhGw+OEEehA1+BEoLAMR8ULQ9hBrsKJIEEZjokThrCDXKXmBAVgEDEnHpMCcGLAYz/+3gLwne98ZzrhhBNmfvx3vvOdtHLlyrRly5a09957p/Xr16ftt99+63N++tOfpu6vD2/cuDEtWbIkXXvttX05OPYfCsCxicZ/ntpLOH5i02+AE9MzjnYDTkRLzGZevLDhHOkWnIiUls2sOGHDOdItak5QAEayc7pZKQCnYzvJkxctAF/zmtekM844o59tw4YNaZ999rnfnFdccUXad999+//82GOPTaeddtrou1AAjo40/APVXsLhAzNYACcMIAe7AieCBWY0Ll4YgQ50DU4ECstoVJwwAh3oGjUnKAADyTnhqBSAE8Kd4tGLFIDdv/23fPnydOONN6anPOUpadOmTYMjdp9/85vfTDvvvHP6/ve/P/q/BUgBOIUdsZ+p9hKOnZbN9DhhwznSLTgRKS27WfHCjnWUm3AiSlJ2c+KEHesoN6k5QQEYxcxp56QAnJbv6E9fpAC8/vrrt/513le/+tX9L/kY+tN9fu8vCem+N/TvCc67IAXgvOTa/Z7aS7jdJMfbDCfGY9nKk3CilSTH3QMvxuXZwtNwooUUx90BJ8bl2cLT1JygAGzB2sV3oABcnKHpE+4tAHfffff+3/Hrfjqv+7f6fu3Xfi3tt99+6bDDDkv777//Nmf63Oc+lw466KD+sw9+8IPpda973eDs3efHHXdc/3n3vQMPPHDUPSkAR8XZxMPUXsJNhDbxEjgxMeCAj8eJgKEZjIwXBpCDXYETwQIzGBcnDCAHu0LNCQrAYIJONC4F4ERgp3rsvQXgAz3/93//99M555yTHvGIR9znWPcTf91vD+7+nHvuuelFL3rR4GPOO++89OIXv7j/vPte9xOBs/zp/gvmgf7cfPPNafXq1f2Ra665ZvFfNPJXK//vuuOG/2rzLDtw1pbAnXfe2f9Smu7PmjVr0tKlS20H4DZ3BHDCXSTVB8KJ6hG4HAAvXMZSdSicqIrf5eU44TKWqkOpOdH93+e77bZbz/yGG27o/6kv/ugRoAAMlvkOO+yQXvjCF6bnPve5/b/jt+OOO6bNmzenyy67rC/qbr/99n6j7jf5/uM//mN6yEMesnXDU045JR1//PH9//75z38+rV27dnD77vN7f+rvAx/4QHr9618/E6mSovLeB65bty4tW7ZspudzGAIQgAAEIAABCEAAAhCAAAQgAIE8gdtuuy0dccQRFIB5VE2foAAMFu8dd9yRdtppp21Ofeutt6YDDjggXX311f3nH/rQh9Kf/umfbj174oknpne84x39/37xxRen5zznOYPbX3LJJX3J2P3pvvf2t799JlIUgDPh4jAEIAABCEAAAhCAAAQgAAEIQGASAhSAk2AN91AKwHCRPfDA3S/sWLlyZbrrrrvSr//6r6dvf/vbW79g+ROA/BXgxsQyWEftx/ANkIa/AifCRzj6AjgxOtImHogXTcQ46hI4MSrOJh6GE03EOOoSak7wV4BH1SfswygAw0Y3PHj3iz66X9zR/bnxxhvT4x//+P5/tvw3AHNY+SUgOUJ6n6v9Q7x6Cc++MU7Mzqz1b+BE6wnPtx9ezMet5W/hRMvpzrcbTszHreVvqTnBLwFp2eby3SgAy1mFOdn9O3/dT/t1f6688sq0atWq/n/+7Gc/mw4++OD+f+a3AIeJU2ZQtZewTLALLIoTC8Br9Ks40WiwC66FFwsCbPDrONFgqAuuhBMLAmzw62pOUAA2KPEcK1EAzgHN+1fe+MY3pu4Xd/xyAdj99eBdd921/8+73+rb/UTg0J/u87PPPrv/uPveihUrRl2bnwAcFWcTD1N7CTcR2sRL4MTEgAM+HicChmYwMl4YQA52BU4EC8xgXJwwgBzsCjUnKACDCTrRuBSAE4Gt+dgXvOAF6cILL+xH6P4/9Cc84Qn9/3zPPff0v+77pptu6n+D8KZNmwbH7P4dwWuvvbb/bvdrwmf5pR4lu1MAllDSOqP2EtZKd75tcWI+bi1/CydaTnf+3fBifnatfhMnWk12/r1wYn52rX5TzQkKwFZNnm0vCsDZeLk/3f20Xlfu/exnP0tPetKT0nXXXXefmY855ph05pln9v/Zhg0b0j777HO/na644oq077779v95d/70008ffW8KwNGRhn+g2ks4fGAGC+CEAeRgV+BEsMCMxsULI9CBrsGJQGEZjYoTRqADXaPmBAVgIDknHJUCcEK4Yz/6ggsuSAcccEBasmTJNh9966239p9fffXV/ed/+Zd/mY477rj7nP3Wt76VnvrUp6YtW7akvffeO61fvz5tv/32W890/0W4Zs2atHHjxv6eb3zjG+nJT37y2Kv0P5m4fPny/rndTAvfccIj/m/GE34w+rw8cHoCai/h6YnGvwEn4mc49gY4MTbRNp6HF23kOOYWODEmzTaehRNt5DjmFmpOUACOaU/cZ1EABspul1126X+y7w/+4A/6n9Dr/veuvLvtttvSl7/85f7f9Lv99tv7jZ75zGemL33pS+lhD3vY/TZ8y1vekt73vvf1//lee+2V3vSmN/X/NmD304Lvf//7txaI3bmTTjppEkIUgJNgDf1QtZdw6LCMhscJI9CBrsGJQGEZjooXhrCDXIUTQYIyHBMnDGEHuUrNCQrAIGJOPCYF4MSAx3x8V/j9+7//e/aRXUG4bt26tNNOO23z7N13352OPPLI9OEPf3jwWYcffnj/S0Ae9KAHZe+b5wAF4DzU2v6O2ku47TTH2Q4nxuHY0lNwoqU0x9sFL8Zj2cqTcKKVJMfbAyfGY9nKk9ScoABsxdzF9qAAXIyf6bcvu+yy1P0/3b/d1/1bf91P/v3whz9MO+64Y//Xaffbb7/08pe/fOu/35cbrvtFIV3Jd9VVV/XPWrZsWVq1alX/G4K7v0o85R8KwCnpxny22ks4Zkq2U+OELe8It+FEhJTsZ8QLe+beb8QJ7wnZz4cT9sy936jmBAWgdyNt5qMAtOHMLb9EgAIQJX6ZgNpLGAPyBHAiz0jtBE6oJV62L16UcVI6hRNKaZftihNlnJROqTlBAahk9/CuFIB4UIUABWAV7K4vVXsJuw7DyXA44SQIR2PghKMwHI2CF47CcDIKTjgJwtEYOOEoDCejqDlBAehEvMpjUABWDkD1egpA1eSH91Z7CWNAngBO5BmpncAJtcTL9sWLMk5Kp3BCKe2yXXGijJPSKTUnKACV7B7elQIQD6oQoACsgt31pWovYddhOBkOJ5wE4WgMnHAUhqNR8MJRGE5GwQknQTgaAyccheFkFDUnKACdiFd5DArAygGoXk8BqJr88N5qL2EMyBPAiTwjtRM4oZZ42b54UcZJ6RROKKVdtitOlHFSOqXmBAWgkt3Du1IA4kEVAhSAVbC7vlTtJew6DCfD4YSTIByNgROOwnA0Cl44CsPJKDjhJAhHY+CEozCcjKLmBAWgE/Eqj0EBWDkA1espAFWTH95b7SWMAXkCOJFnpHYCJ9QSL9sXL8o4KZ3CCaW0y3bFiTJOSqfUnKAAVLJ7eFcKQDyoQoACsAp215eqvYRdh+FkOJxwEoSjMXDCURiORsELR2E4GQUnnAThaAyccBSGk1HUnKAAdCJe5TEoACsHoHo9BaBq8sN7q72EMSBPACfyjNRO4IRa4mX74kUZJ6VTOKGUdtmuOFHGSemUdBwvbAAAIABJREFUmhMUgEp2D+9KAYgHVQhQAFbB7vpStZew6zCcDIcTToJwNAZOOArD0Sh44SgMJ6PghJMgHI2BE47CcDKKmhMUgE7EqzwGBWDlAFSvpwBUTX54b7WXMAbkCeBEnpHaCZxQS7xsX7wo46R0CieU0i7bFSfKOCmdUnOCAlDJ7uFdKQDxoAoBCsAq2F1fqvYSdh2Gk+FwwkkQjsbACUdhOBoFLxyF4WQUnHAShKMxcMJRGE5GUXOCAtCJeJXHoACsHIDq9RSAqskP7632EsaAPAGcyDNSO4ETaomX7YsXZZyUTuGEUtplu+JEGSelU2pOUAAq2T28KwUgHlQhQAFYBbvrS9Vewq7DcDIcTjgJwtEYOOEoDEej4IWjMJyMghNOgnA0Bk44CsPJKGpOUAA6Ea/yGBSAlQNQvZ4CUDX54b3VXsIYkCeAE3lGaidwQi3xsn3xooyT0imcUEq7bFecKOOkdErNCQpAJbuHd6UAxIMqBCgAq2B3fanaS9h1GE6GwwknQTgaAyccheFoFLxwFIaTUXDCSRCOxsAJR2E4GUXNCQpAJ+JVHoMCsHIAqtdTAKomP7y32ksYA/IEcCLPSO0ETqglXrYvXpRxUjqFE0ppl+2KE2WclE6pOUEBqGT38K4UgHhQhQAFYBXsri9Vewm7DsPJcDjhJAhHY+CEozAcjYIXjsJwMgpOOAnC0Rg44SgMJ6OoOUEB6ES8ymNQAFYOQPV6CkDV5If3VnsJY0CeAE7kGamdwAm1xMv2xYsyTkqncEIp7bJdcaKMk9IpNScoAJXsHt6VAhAPqhCgAKyC3fWlai9h12E4GQ4nnAThaAyccBSGo1HwwlEYTkbBCSdBOBoDJxyF4WQUNScoAJ2IV3kMCsDKAaheTwGomvzw3movYQzIE8CJPCO1EzihlnjZvnhRxknpFE4opV22K06UcVI6peYEBaCS3cO7UgDiQRUCFIBVsLu+VO0l7DoMJ8PhhJMgHI2BE47CcDQKXjgKw8koOOEkCEdj4ISjMJyMouYEBaAT8SqPQQFYOQDV6ykAVZMf3lvtJYwBeQI4kWekdgIn1BIv2xcvyjgpncIJpbTLdsWJMk5Kp9ScoABUsnt4VwpAPKhCgAKwCnbXl6q9hF2H4WQ4nHAShKMxcMJRGI5GwQtHYTgZBSecBOFoDJxwFIaTUdScoAB0Il7lMSgAKwegej0FoGryw3urvYQxIE8AJ/KM1E7ghFriZfviRRknpVM4oZR22a44UcZJ6ZSaExSASnYP70oBiAdVCExaAN670Qk/qLIbl85HQO0lPB8lrW/hhFbeJdviRAklvTN4oZd5bmOcyBHS+xwn9DLPbazmBAVgzgiNzykANXJ2tyUFoLtIqg+k9hKuDjzAADgRICTjEXHCGHiQ6/AiSFCGY+KEIewgV+FEkKAMx1RzggLQUC7HV1EAOg6n5dEoAFtOd77d1F7C81HS+hZOaOVdsi1OlFDSO4MXepnnNsaJHCG9z3FCL/PcxmpOUADmjND4nAJQI2d3W1IAuouk+kBqL+HqwAMMgBMBQjIeESeMgQe5Di+CBGU4Jk4Ywg5yFU4ECcpwTDUnKAAN5XJ8FQWg43BaHo0CsOV059tN7SU8HyWtb+GEVt4l2+JECSW9M3ihl3luY5zIEdL7HCf0Ms9trOYEBWDOCI3PKQA1cna3JQWgu0iqD6T2Eq4OPMAAOBEgJOMRccIYeJDr8CJIUIZj4oQh7CBX4USQoAzHVHOCAtBQLsdXUQA6Dqfl0SgAW053vt3UXsLzUdL6Fk5o5V2yLU6UUNI7gxd6mec2xokcIb3PcUIv89zGak5QAOaM0PicAlAjZ3dbUgC6i6T6QGov4erAAwyAEwFCMh4RJ4yBB7kOL4IEZTgmThjCDnIVTgQJynBMNScoAA3lcnwVBaDjcFoejQKw5XTn203tJTwfJa1v4YRW3iXb4kQJJb0zeKGXeW5jnMgR0vscJ/Qyz22s5gQFYM4Ijc8pADVydrclBaC7SKoPpPYSrg48wAA4ESAk4xFxwhh4kOvwIkhQhmPihCHsIFfhRJCgDMdUc4IC0FAux1dRADoOp+XRKABbTne+3dRewvNR0voWTmjlXbItTpRQ0juDF3qZ5zbGiRwhvc9xQi/z3MZqTlAA5ozQ+JwCUCNnd1tSALqLpPpAai/h6sADDIATAUIyHhEnjIEHuQ4vggRlOCZOGMIOchVOBAnKcEw1JygADeVyfBUFoONwWh6NArDldOfbTe0lPB8lrW/hhFbeJdviRAklvTN4oZd5bmOcyBHS+xwn9DLPbazmBAVgzgiNzykANXJ2tyUFoLtIqg+k9hKuDjzAADgRICTjEXHCGHiQ6/AiSFCGY+KEIewgV+FEkKAMx1RzggLQUC7HV1EAOg6n5dEoAFtOd77d1F7C81HS+hZOaOVdsi1OlFDSO4MXepnnNsaJHCG9z3FCL/PcxmpOUADmjND4nAJQI2d3W1IAuouk+kBqL+HqwAMMgBMBQjIeESeMgQe5Di+CBGU4Jk4Ywg5yFU4ECcpwTDUnKAAN5XJ8FQWg43BaHo0CsOV059tN7SU8HyWtb+GEVt4l2+JECSW9M3ihl3luY5zIEdL7HCf0Ms9trOYEBWDOCI3PKQA1cna3JQWgu0iqD6T2Eq4OPMAAOBEgJOMRccIYeJDr8CJIUIZj4oQh7CBX4USQoAzHVHOCAtBQLsdXUQA6Dqfl0SgAW053vt3UXsLzUdL6Fk5o5V2yLU6UUNI7gxd6mec2xokcIb3PcUIv89zGak5QAOaM0PicAlAjZ3dbUgC6i6T6QGov4erAAwyAEwFCMh4RJ4yBB7kOL4IEZTgmThjCDnIVTgQJynBMNScoAA3lcnwVBaDjcFoejQKw5XTn203tJTwfJa1v4YRW3iXb4kQJJb0zeKGXeW5jnMgR0vscJ/Qyz22s5gQFYM4Ijc8pADVydrclBaC7SKoPpPYSrg48wAA4ESAk4xFxwhh4kOvwIkhQhmPihCHsIFfhRJCgDMdUc4IC0FAux1dRADoOp+XRKABbTne+3dRewvNR0voWTmjlXbItTpRQ0juDF3qZ5zbGiRwhvc9xQi/z3MZqTlAA5ozQ+JwCUCNnd1tSALqLpPpAai/h6sADDIATAUIyHhEnjIEHuQ4vggRlOCZOGMIOchVOBAnKcEw1JygADeVyfBUFoONwWh6NArDldOfbTe0lPB8lrW/hhFbeJdviRAklvTN4oZd5bmOcyBHS+xwn9DLPbazmBAVgzgiNzykANXJ2tyUFoLtIqg+k9hKuDjzAADgRICTjEXHCGHiQ6/AiSFCGY+KEIewgV+FEkKAMx1RzggLQUC7HV1EAOg6n5dEoAFtOd77d1F7C81HS+hZOaOVdsi1OlFDSO4MXepnnNsaJHCG9z3FCL/PcxmpOUADmjND4nAJQI2d3W1IAuouk+kBqL+HqwAMMgBMBQjIeESeMgQe5Di+CBGU4Jk4Ywg5yFU4ECcpwTDUnKAAN5XJ8FQWg43BaHo0CsOV059tN7SU8HyWtb+GEVt4l2+JECSW9M3ihl3luY5zIEdL7HCf0Ms9trOYEBWDOCI3PKQA1cna3JQWgu0iqD6T2Eq4OPMAAOBEgJOMRccIYeJDr8CJIUIZj4oQh7CBX4USQoAzHVHOCAtBQLsdXUQA6Dqfl0SgAW053vt3UXsLzUdL6Fk5o5V2yLU6UUNI7gxd6mec2xokcIb3PcUIv89zGak5QAOaM0PicAlAjZ3dbUgC6i6T6QGov4erAAwyAEwFCMh4RJ4yBB7kOL4IEZTgmThjCDnIVTgQJynBMNScoAA3lcnwVBaDjcFoejQKw5XTn203tJTwfJa1v4YRW3iXb4kQJJb0zeKGXeW5jnMgR0vscJ/Qyz22s5gQFYM4Ijc8pADVydrclBaC7SKoPpPYSrg48wAA4ESAk4xFxwhh4kOvwIkhQhmPihCHsIFfhRJCgDMdUc4IC0FAux1dRADoOp+XRKABbTne+3dRewvNR0voWTmjlXbItTpRQ0juDF3qZ5zbGiRwhvc9xQi/z3MZqTlAA5ozQ+JwCUCNnd1tSALqLpPpAai/h6sADDIATAUIyHhEnjIEHuQ4vggRlOCZOGMIOchVOBAnKcEw1JygADeVyfBUFoONwWh6NArDldOfbTe0lPB8lrW/hhFbeJdviRAklvTN4oZd5bmOcyBHS+xwn9DLPbazmBAVgzgiNzykANXJ2tyUFoLtIqg+k9hKuDjzAADgRICTjEXHCGHiQ6/AiSFCGY+KEIewgV+FEkKAMx1RzggLQUC7HV1EAOg6n5dEoAFtOd77d1F7C81HS+hZOaOVdsi1OlFDSO4MXepnnNsaJHCG9z3FCL/PcxmpOUADmjND4nAJQI2d3W1IAuouk+kBqL+HqwAMMgBMBQjIeESeMgQe5Di+CBGU4Jk4Ywg5yFU4ECcpwTDUnKAAN5XJ8FQWg43BaHo0CsOV059tN7SU8HyWtb+GEVt4l2+JECSW9M3ihl3luY5zIEdL7HCf0Ms9trOYEBWDOCI3PKQA1cna3JQWgu0iqD6T2Eq4OPMAAOBEgJOMRccIYeJDr8CJIUIZj4oQh7CBX4USQoAzHVHOCAtBQLsdXUQA6Dqfl0SgAW053vt3UXsLzUdL6Fk5o5V2yLU6UUNI7gxd6mec2xokcIb3PcUIv89zGak5QAOaM0PicAlAjZ3dbUgC6i6T6QGov4erAAwyAEwFCMh4RJ4yBB7kOL4IEZTgmThjCDnIVTgQJynBMNScoAA3lcnwVBaDjcFoejQKw5XTn203tJTwfJa1v4YRW3iXb4kQJJb0zeKGXeW5jnMgR0vscJ/Qyz22s5gQFYM4Ijc8pADVydrclBaC7SKoPpPYSrg48wAA4ESAk4xFxwhh4kOvwIkhQhmPihCHsIFfhRJCgDMdUc4IC0FAux1dRADoOp+XRKABbTne+3dRewvNR0voWTmjlXbItTpRQ0juDF3qZ5zbGiRwhvc9xQi/z3MZqTlAA5ozQ+JwCUCNnd1tSALqLpPpAai/h6sADDIATAUIyHhEnjIEHuQ4vggRlOCZOGMIOchVOBAnKcEw1JygADeVyfBUFoONwWh6NArDldOfbTe0lPB8lrW/hhFbeJdviRAklvTN4oZd5bmOcyBHS+xwn9DLPbazmBAVgzgiNzykANXJ2tyUFoLtIqg+k9hKuDjzAADgRICTjEXHCGHiQ6/AiSFCGY+KEIewgV+FEkKAMx1RzggLQUC7HV1EAOg6n5dEoAFtOd77d1F7C81HS+hZOaOVdsi1OlFDSO4MXepnnNsaJHCG9z3FCL/PcxmpOUADmjND4nAJQI2d3W1IAuouk+kBqL+HqwAMMgBMBQjIeESeMgQe5Di+CBGU4Jk4Ywg5yFU4ECcpwTDUnKAAN5XJ8FQWg43BaHo0CsOV059tN7SU8HyWtb+GEVt4l2+JECSW9M3ihl3luY5zIEdL7HCf0Ms9trOYEBWDOCI3PKQA1cna3JQWgu0iqD6T2Eq4OPMAAOBEgJOMRccIYeJDr8CJIUIZj4oQh7CBX4USQoAzHVHOCAtBQLsdXUQA6Dqfl0SgAW053vt3UXsLzUdL6Fk5o5V2yLU6UUNI7gxd6mec2xokcIb3PcUIv89zGak5QAOaM0PicAlAjZ3dbUgC6i6T6QGov4erAAwyAEwFCMh4RJ4yBB7kOL4IEZTgmThjCDnIVTgQJynBMNScoAA3lcnwVBaDjcFoejQKw5XTn203tJTwfJa1v4YRW3iXb4kQJJb0zeKGXeW5jnMgR0vscJ/Qyz22s5gQFYM4Ijc8pADVydrclBaC7SKoPpPYSrg48wAA4ESAk4xFxwhh4kOvwIkhQhmPihCHsIFfhRJCgDMdUc4IC0FAux1dRADoOp+XRKABbTne+3dRewvNR0voWTmjlXbItTpRQ0juDF3qZ5zbGiRwhvc9xQi/z3MZqTlAA5ozQ+JwCUCNnd1tSALqLpPpAai/h6sADDIATAUIyHhEnjIEHuQ4vggRlOCZOGMIOchVOBAnKcEw1JygADeVyfBUFoONwWh6NArDldOfbTe0lPB8lrW/hhFbeJdviRAklvTN4oZd5bmOcyBHS+xwn9DLPbazmBAVgzgiNzykANXJ2tyUFoLtIqg+k9hKuDjzAADgRICTjEXHCGHiQ6/AiSFCGY+KEIewgV+FEkKAMx1RzggLQUC7HV1EAOg6n5dEoAFtOd77d1F7C81HS+hZOaOVdsi1OlFDSO4MXepnnNsaJHCG9z3FCL/PcxmpOUADmjND4nAJQI2d3W1IAuouk+kBqL+HqwAMMgBMBQjIeESeMgQe5Di+CBGU4Jk4Ywg5yFU4ECcpwTDUnKAAN5XJ8FQWg43BaHo0CsOV059tN7SU8HyWtb+GEVt4l2+JECSW9M3ihl3luY5zIEdL7HCf0Ms9trOYEBWDOCI3PKQA1cna3JQWgu0iqD6T2Eq4OPMAAOBEgJOMRccIYeJDr8CJIUIZj4oQh7CBX4USQoAzHVHOCAtBQLsdXUQA6Dqfl0SgAW053vt3UXsLzUdL6Fk5o5V2yLU6UUNI7gxd6mec2xokcIb3PcUIv89zGak5QAOaM0PicAlAjZ3dbUgC6i6T6QGov4erAAwyAEwFCMh4RJ4yBB7kOL4IEZTgmThjCDnIVTgQJynBMNScoAA3lcnwVBaDjcFoejQKw5XTn203tJTwfJa1v4YRW3iXb4kQJJb0zeKGXeW5jnMgR0vscJ/Qyz22s5gQFYM4Ijc8pADVydrclBaC7SKoPpPYSrg48wAA4ESAk4xFxwhh4kOvwIkhQhmPihCHsIFfhRJCgDMdUc4IC0FAux1dRADoOp+XRKABbTne+3dRewvNR0voWTmjlXbItTpRQ0juDF3qZ5zbGiRwhvc9xQi/z3MZqTlAA5ozQ+JwCUCNnd1tSALqLpPpAai/h6sADDIATAUIyHhEnjIEHuQ4vggRlOCZOGMIOchVOBAnKcEw1JygADeVyfBUFoONwWh6NArDldOfbTe0lPB8lrW/hhFbeJdviRAklvTN4oZd5bmOcyBHS+xwn9DLPbazmBAVgzgiNzykAG8r5+OOPT6eccsrWjS699NL07Gc/+wE3vOiii9LZZ5+drrzyyrR58+b0mMc8Jq1evTq96lWvSmvXrp2MDgXgZGjDPljtJRw2KMPBccIQdpCrcCJIUMZj4oUx8ADX4USAkIxHxAlj4AGuU3OCAjCAlAYjUgAaQLa44l/+5V/S3nvvnbZs2VJUAN5zzz3pqKOO6su/oT9dCXjWWWel7bbbbvQVKABHRxr+gWov4fCBGSyAEwaQg12BE8ECMxoXL4xAB7oGJwKFZTQqThiBDnSNmhMUgIHknHBUCsAJ4Vo9+u6770777LNPuuqqq9JjH/vY9J//+Z/91Q/0E4Bve9vb0kknndSf22uvvVL304O77rpruu6669LJJ5+crr766v6z7tx73vOe0VehABwdafgHqr2EwwdmsABOGEAOdgVOBAvMaFy8MAId6BqcCBSW0ag4YQQ60DVqTlAABpJzwlEpACeEa/XoU089Nf3Zn/1ZespTnpIOOeSQ9N73vvcBC8DvfOc7aeXKlf1PC3Y/Nbh+/fq0/fbbbx33pz/9aXrWs56VNm7cmJYsWZKuvfbavhwc8w8F4Jg023iW2ku4jdSm3QInpuUb8ek4ETG16WfGi+kZR7sBJ6IlNv28ODE942g3qDlBARjN0GnmpQCchqvZU2+44Ya0++67px//+Mf9T/x9+ctfTu9617sesAB8zWtek84444z+zIYNG/qfHvzlP1dccUXad999+//42GOPTaeddtqoO1EAjoqziYepvYSbCG3iJXBiYsABH48TAUMzGBkvDCAHuwInggVmMC5OGEAOdoWaExSAwQSdaFwKwInAWj324IMPTp/97GfTy1/+8nTOOeekE0444QELwO7f/lu+fHm68cYb+58Y3LRp0+Co3eff/OY3084775y+//3vj/pvAVIAWhkS5x61l3CcZOpNihP12Hu9GSe8JlN3Lryoy9/j7TjhMZW6M+FEXf4eb1dzggLQo4X2M1EA2jMf7cZPfvKT6Q//8A/Tox71qP6v6Xa/wTdXAF5//fVb/zrvq1/96v6XfAz96T6/95eEdN9bsWLFaLNTAI6GspkHqb2EmwluwkVwYkK4QR+NE0GDm3hsvJgYcMDH40TA0CYeGScmBhzw8WpOUAAGlHSCkSkAJ4Bq8cg77rij/3f8brnllvQ3f/M36YgjjuivzRWAn/vc59JBBx3Un/3gBz+YXve61w2O231+3HHH9Z933zvwwANHW40CcDSUzTxI7SXcTHATLoITE8IN+micCBrcxGPjxcSAAz4eJwKGNvHIODEx4ICPV3OCAjCgpBOMTAE4AVSLR77qVa/qi7/99tsvfeUrX9n613NzBWD3E39HH310P+K5556bXvSiFw2Oe95556UXv/jF/efd97qfCCz90/0XzAP9ufnmm9Pq1av7I9dcc83iv2Tkr1be/7rjhv96c+kenLMjcOedd/a/kKb7s2bNmrR06VK7y7nJJQGccBlL1aFwoip+t5fjhdtoqg2GE9XQu70YJ9xGU20wNSe6//t8t91263l3v0eg+2e++KNHgAIwYOZd4dcVJA9+8IPTP/3TP6U99thj6xa5AvCUU05Jxx9/fH/+85//fFq7du0gge7ze3/q7wMf+EB6/etfX0xru+22Kz67bt26tGzZsuLzHIQABCAAAQhAAAIQgAAEIAABCECgjMBtt9229W8NUgCWMWvxFAVgsFTvuuuu9PSnP73/5R1vfOMb08knn3yfDXIF4Iknnpje8Y539N+5+OKL03Oe85xBApdcckl67nOf23/efe/tb397MS0KwGJUHIQABCAAAQhAAAIQgAAEIAABCExGgAJwMrShHkwBGCqu//s3/p74xCemb3zjG2mHHXaYqQC0+glA/gpwMLEcjKv2Y/gOkLsfASfcR2Q+IE6YIw9xIV6EiMl0SJwwxR3iMpwIEZPpkGpO8FeATfVyexkFoNto7j9Y95t+99xzz9T9FOBnPvOZ9MIXvvB+h3I/AWj1bwDmsPJLQHKE9D5X+4d49RKefWOcmJ1Z69/AidYTnm8/vJiPW8vfwomW051vN5yYj1vL31Jzgl8C0rLN5btRAJazqn6y+yUcZ599dnrSk56U/uIv/mKb83S/uOP888/vP/vzP//ztPvuu/f/88EHH9z/tOBnP/vZ/n/u/vBbgKtHygC/QEDtJUz4eQI4kWekdgIn1BIv2xcvyjgpncIJpbTLdsWJMk5Kp9ScoABUsnt4VwrAQB4cdthh6SMf+chcE3/3u99Nu+yyS7r++uu3/sbdrlDsfiJw6M+9hWP3efe9FStWzHX3tr7ETwCOhrKZB6m9hJsJbsJFcGJCuEEfjRNBg5t4bLyYGHDAx+NEwNAmHhknJgYc8PFqTlAABpR0gpEpACeAOtUjxygA77nnnv5Xft90003pKU95Sv/LRIb+rFy5MnV/7fgJT3hC/6vCZ/nFHjkGFIA5Qnqfq72E9RKefWOcmJ1Z69/AidYTnm8/vJiPW8vfwomW051vN5yYj1vL31JzggKwZZvLd6MALGcV4mTu3wDsljjmmGPSmWee2e+zYcOGtM8++9xvtyuuuCLtu+++/X/enT/99NNH3Z8CcFScTTxM7SXcRGgTL4ETEwMO+HicCBiawch4YQA52BU4ESwwg3FxwgBysCvUnKAADCboRONSAE4EttZjSwrAb33rW+mpT31q2rJlS9p7773T+vXr0/bbb7915O6/DNesWZM2btyYlixZ0v+24Sc/+cmjrkQBOCrOJh6m9hJuIrSJl8CJiQEHfDxOBAzNYGS8MIAc7AqcCBaYwbg4YQA52BVqTlAABhN0onEpACcCW+uxJQVgN9tb3vKW9L73va8fc6+99kpvetOb+n8b8Lrrrkvvf//709VXX91/1p076aSTRl+HAnB0pOEfqPYSDh+YwQI4YQA52BU4ESwwo3Hxwgh0oGtwIlBYRqPihBHoQNeoOUEBGEjOCUelAJwQbo1HlxaAd999dzryyCPThz/84cExDz/88P63Dj/oQQ8afRUKwNGRhn+g2ks4fGAGC+CEAeRgV+BEsMCMxsULI9CBrsGJQGEZjYoTRqADXaPmBAVgIDknHJUCcEK4NR5dWgDeO9uFF17Yl3xXXXVVuu2229KyZcvSqlWrUvcbgA844IDJVqAAnAxt2AervYTDBmU4OE4Ywg5yFU4ECcp4TLwwBh7gOpwIEJLxiDhhDDzAdWpOUAAGkNJgRApAA8hccX8CFIBY8csE1F7CGJAngBN5RmoncEIt8bJ98aKMk9IpnFBKu2xXnCjjpHRKzQkKQCW7h3elAMSDKgQoAKtgd32p2kvYdRhOhsMJJ0E4GgMnHIXhaBS8cBSGk1FwwkkQjsbACUdhOBlFzQkKQCfiVR6DArByAKrXUwCqJj+8t9pLGAPyBHAiz0jtBE6oJV62L16UcVI6hRNKaZftihNlnJROqTlBAahk9/CuFIB4UIUABWAV7K4vVXsJuw7DyXA44SQIR2PghKMwHI2CF47CcDIKTjgJwtEYOOEoDCejqDlBAehEvMpjUABWDkD1egpA1eSH91Z7CWNAngBO5BmpncAJtcTL9sWLMk5Kp3BCKe2yXXGijJPSKTUnKACV7B7elQIQD6oQoACsgt31pWovYddhOBkOJ5wE4WgMnHAUhqNR8MJRGE5GwQknQTgaAyccheFkFDUnKACdiFd5DArAygGoXk8BqJr88N5qL2EMyBPAiTwjtRM4oZZ42b54UcZJ6RROKKVdtitOlHFSOqXmBAWgkt3Du1IA4kEVAhSAVbC7vlTtJew6DCfD4YSTIByNgROOwnA0Cl5Pqz2sAAAgAElEQVQ4CsPJKDjhJAhHY+CEozCcjKLmBAWgE/Eqj0EBWDkA1espAFWTH95b7SWMAXkCOJFnpHYCJ9QSL9sXL8o4KZ3CCaW0y3bFiTJOSqfUnKAAVLJ7eFcKQDyoQoACsAp215eqvYRdh+FkOJxwEoSjMXDCURiORsELR2E4GQUnnAThaAyccBSGk1HUnKAAdCJe5TEoACsHoHo9BaBq8sN7q72EMSBPACfyjNRO4IRa4mX74kUZJ6VTOKGUdtmuOFHGSemUmhMUgEp2D+9KAYgHVQhQAFbB7vpStZew6zCcDIcTToJwNAZOOArD0Sh44SgMJ6PghJMgHI2BE47CcDKKmhMUgE7EqzwGBWDlAFSvpwBUTX54b7WXMAbkCeBEnpHaCZxQS7xsX7wo46R0CieU0i7bFSfKOCmdUnOCAlDJ7uFdKQDxoAoBCsAq2F1fqvYSdh2Gk+FwwkkQjsbACUdhOBoFLxyF4WQUnHAShKMxcMJRGE5GUXOCAtCJeJXHoACsHIDq9RSAqskP7632EsaAPAGcyDNSO4ETaomX7YsXZZyUTuGEUtplu+JEGSelU2pOUAAq2T28KwUgHlQhQAFYBbvrS9Vewq7DcDIcTjgJwtEYOOEoDEej4IWjMJyMghNOgnA0Bk44CsPJKGpOUAA6Ea/yGBSAlQNQvZ4CUDX54b3VXsIYkCeAE3lGaidwQi3xsn3xooyT0imcUEq7bFecKOOkdErNCQpAJbuHd6UAxIMqBCgAq2B3fanaS9h1GE6GwwknQTgaAyccheFoFLxwFIaTUXDCSRCOxsAJR2E4GUXNCQpAJ+JVHoMCsHIAqtdTAKomP7y32ksYA/IEcCLPSO0ETqglXrYvXpRxUjqFE0ppl+2KE2WclE6pOUEBqGT38K4UgHhQhQAFYBXsri9Vewm7DsPJcDjhJAhHY+CEozAcjYIXjsJwMgpOOAnC0Rg44SgMJ6OoOUEB6ES8ymNQAFYOQPV6CkDV5If3VnsJY0CeAE7kGamdwAm1xMv2xYsyTkqncEIp7bJdcaKMk9IpNScoAJXsHt6VAhAPqhCgAKyC3fWlai9h12E4GQ4nnAThaAyccBSGo1HwwlEYTkbBCSdBOBoDJxyF4WQUNScoAJ2IV3kMCsDKAaheTwGomvzw3movYQzIE8CJPCO1EzihlnjZvnhRxknpFE4opV22K06UcVI6peYEBaCS3cO7UgDiQRUCFIBVsLu+VO0l7DoMJ8PhhJMgHI2BE47CcDQKXjgKw8koOOEkCEdj4ISjMJyMouYEBaAT8SqPQQFYOQDV6ykAVZMf3lvtJYwBeQI4kWekdgIn1BIv2xcvyjgpncIJpbTLdsWJMk5Kp9ScoABUsnt4VwpAPKhCgAKwCnbXl6q9hF2H4WQ4nHAShKMxcMJRGI5GwQtHYTgZBSecBOFoDJxwFIaTUdScoAB0Il7lMSgAKwegej0FoGryw3urvYQxIE8AJ/KM1E7ghFriZfviRRknpVM4oZR22a44UcZJ6ZSaExSASnYP70oBiAdVCFAAVsHu+lK1l7DrMJwMhxNOgnA0Bk44CsPRKHjhKAwno+CEkyAcjYETjsJwMoqaExSATsSrPAYFYOUAVK+nAFRNfnhvtZcwBuQJ4ESekdoJnFBLvGxfvCjjpHQKJ5TSLtsVJ8o4KZ1Sc4ICUMnu4V0pAPGgCgEKwCrYXV+q9hJ2HYaT4XDCSRCOxsAJR2E4GgUvHIXhZBSccBKEozFwwlEYTkZRc4IC0Il4lcegAKwcgOr1FICqyQ/vrfYSxoA8AZzIM1I7gRNqiZftixdlnJRO4YRS2mW74kQZJ6VTak5QACrZPbwrBSAeVCFAAVgFu+tL1V7CrsNwMhxOOAnC0Rg44SgMR6PghaMwnIyCE06CcDQGTjgKw8koak5QADoRr/IYFICVA1C9ngJQNfnhvdVewhiQJ4ATeUZqJ3BCLfGyffGijJPSKZxQSrtsV5wo46R0Ss0JCkAlu4d3pQDEgyoEKACrYHd9qdpL2HUYTobDCSdBOBoDJxyF4WgUvHAUhpNRcMJJEI7GwAlHYTgZRc0JCkAn4lUegwKwcgCq11MAqiY/vLfaSxgD8gRwIs9I7QROqCVeti9elHFSOoUTSmmX7YoTZZyUTqk5QQGoZPfwrhSAeFCFAAVgFeyuL1V7CbsOw8lwOOEkCEdj4ISjMByNgheOwnAyCk44CcLRGDjhKAwno6g5QQHoRLzKY1AAVg5A9XoKQNXkh/dWewljQJ4ATuQZqZ3ACbXEy/bFizJOSqdwQintsl1xooyT0ik1JygAlewe3pUCEA+qEKAArILd9aVqL2HXYTgZDiecBOFoDJxwFIajUfDCURhORsEJJ0E4GgMnHIXhZBQ1JygAnYhXeQwKwMoBqF5PAaia/PDeai9hDMgTwIk8I7UTOKGWeNm+eFHGSekUTiilXbYrTpRxUjql5gQFoJLdw7tSAOJBFQIUgFWwu75U7SXsOgwnw+GEkyAcjYETjsJwNApeOArDySg44SQIR2PghKMwnIyi5gQFoBPxKo9BAVg5ANXrKQBVkx/eW+0ljAF5AjiRZ6R2AifUEi/bFy/KOCmdwgmltMt2xYkyTkqn1JygAFSye3hXCkA8qEKAArAKdteXqr2EXYfhZDiccBKEozFwwlEYjkbBC0dhOBkFJ5wE4WgMnHAUhpNR1JygAHQiXuUxKAArB6B6PQWgavLDe6u9hDEgTwAn8ozUTuCEWuJl++JFGSelUzihlHbZrjhRxknplJoTFIBKdg/vSgGIB1UIUABWwe76UrWXsOswnAyHE06CcDQGTjgKw9EoeOEoDCej4ISTIByNgROOwnAyipoTFIBOxKs8BgVg5QBUr6cAVE1+eG+1lzAG5AngRJ6R2gmcUEu8bF+8KOOkdAonlNIu2xUnyjgpnVJzggJQye7hXSkA8aAKAQrAKthdX6r2EnYdhpPhcMJJEI7GwAlHYTgaBS8cheFkFJxwEoSjMXDCURhORlFzggLQiXiVx6AArByA6vUUgKrJD++t9hLGgDwBnMgzUjuBE2qJl+2LF2WclE7hhFLaZbviRBknpVNqTlAAKtk9vCsFIB5UIUABWAW760vVXsKuw3AyHE44CcLRGDjhKAxHo+CFozCcjIITToJwNAZOOArDyShqTlAAOhGv8hgUgJUDUL2eAlA1+eG91V7CGJAngBN5RmoncEIt8bJ98aKMk9IpnFBKu2xXnCjjpHRKzQkKQCW7h3elAMSDKgQoAKtgd32p2kvYdRhOhsMJJ0E4GgMnHIXhaBS8cBSGk1FwwkkQjsbACUdhOBlFzQkKQCfiVR6DArByAKrXUwCqJj+8t9pLGAPyBHAiz0jtBE6oJV62L16UcVI6hRNKaZftihNlnJROqTlBAahk9/CuFIB4UIUABWAV7K4vVXsJuw7DyXA44SQIR2PghKMwHI2CF47CcDIKTjgJwtEYOOEoDCejqDlBAehEvMpjUABWDkD1egpA1eSH91Z7CWNAngBO5BmpncAJtcTL9sWLMk5Kp3BCKe2yXXGijJPSKTUnKACV7B7elQIQD6oQoACsgt31pWovYddhOBkOJ5wE4WgMnHAUhqNR8MJRGE5GwQknQTgaAyccheFkFDUnKACdiFd5DArAygGoXk8BqJr88N5qL2EMyBPAiTwjtRM4oZZ42b54UcZJ6RROKKVdtitOlHFSOqXmBAWgkt3Du1IA4kEVAhSAVbC7vlTtJew6DCfD4YSTIByNgROOwnA0Cl44CsPJKDjhJAhHY+CEozCcjKLmBAWgE/Eqj0EBWDkA1espAFWTH95b7SWMAXkCOJFnpHYCJ9QSL9sXL8o4KZ3CCaW0y3bFiTJOSqfUnKAAVLJ7eFcKQDyoQoACsAp215eqvYRdh+FkOJxwEoSjMXDCURiORsELR2E4GQUnnAThaAyccBSGk1HUnKAAdCJe5TEoACsHoHo9BaBq8sN7q72EMSBPACfyjNRO4IRa4mX74kUZJ6VTOKGUdtmuOFHGSemUmhMUgEp2D+9KAYgHVQhQAFbB7vpStZew6zCcDIcTToJwNAZOOArD0Sh44SgMJ6PghJMgHI2BE47CcDKKmhMUgE7EqzwGBWDlAFSvpwBUTX54b7WXMAbkCeBEnpHaCZxQS7xsX7wo46R0CieU0i7bFSfKOCmdUnOCAlDJ7uFdKQDxoAoBCsAq2F1fqvYSdh2Gk+FwwkkQjsbACUdhOBoFLxyF4WQUnHAShKMxcMJRGE5GUXOCAtCJeJXHoACsHIDq9RSAqskP7632EsaAPAGcyDNSO4ETaomX7YsXZZyUTuGEUtplu+JEGSelU2pOUAAq2T28KwUgHlQhQAFYBbvrS9Vewq7DcDIcTjgJwtEYOOEoDEej4IWjMJyMghNOgnA0Bk44CsPJKGpOUAA6Ea/yGBSAlQNQvZ4CUDX54b3VXsIYkCeAE3lGaidwQi3xsn3xooyT0imcUEq7bFecKOOkdErNCQpAJbuHd6UAxIMqBCgAq2B3fanaS9h1GE6GwwknQTgaAyccheFoFLxwFIaTUXDCSRCOxsAJR2E4GUXNCQpAJ+JVHoMCsHIAqtdTAKomP7y32ksYA/IEcCLPSO0ETqglXrYvXpRxUjqFE0ppl+2KE2WclE6pOUEBqGT38K4UgHhQhQAFYBXsri9Vewm7DsPJcDjhJAhHY+CEozAcjYIXjsJwMgpOOAnC0Rg44SgMJ6OoOUEB6ES8ymNQAFYOQPV6CkDV5If3VnsJY0CeAE7kGamdwAm1xMv2xYsyTkqncEIp7bJdcaKMk9IpNScoAJXsHt6VAhAPqhCgAKyC3fWlai9h12E4GQ4nnAThaAyccBSGo1HwwlEYTkbBCSdBOBoDJxyF4WQUNScoAJ2IV3kMCsDKAaheTwGomvzw3movYQzIE8CJPCO1EzihlnjZvnhRxknpFE4opV22K06UcVI6peYEBaCS3cO7UgDiQRUCFIBVsLu+VO0l7DoMJ8PhhJMgHI2BE47CcDQKXjgKw8koOOEkCEdj4ISjMJyMouYEBaAT8SqPQQFYOQDV6ykAVZMf3lvtJYwBeQI4kWekdgIn1BIv2xcvyjgpncIJpbTLdsWJMk5Kp9ScoABUsnt4VwpAPKhCgAKwCnbXl6q9hF2H4WQ4nHAShKMxcMJRGI5GwQtHYTgZBSecBOFoDJxwFIaTUdScoAB0Il7lMSgAKwegej0FoGryw3urvYQxIE8AJ/KM1E7ghFriZfviRRknpVM4oZR22a44UcZJ6ZSaExSASnYP70oBiAdVCFAAVsHu+lK1l7DrMJwMhxNOgnA0Bk44CsPRKHjhKAwno+CEkyAcjYETjsJwMoqaExSATsSrPAYFYOUAVK+nAFRNfnhvtZcwBuQJ4ESekdoJnFBLvGxfvCjjpHQKJ5TSLtsVJ8o4KZ1Sc4ICUMnu4V0pAPGgCgEKwCrYXV+q9hJ2HYaT4XDCSRCOxsAJR2E4GgUvHIXhZBSccBKEozFwwlEYTkZRc4IC0Il4lcegAKwcgOr1FICqyQ/vrfYSxoA8AZzIM1I7gRNqiZftixdlnJRO4YRS2mW74kQZJ6VTak5QACrZPbwrBSAeVCFAAVgFu+tL1V7CrsNwMhxOOAnC0Rg44SgMR6PghaMwnIyCE06CcDQGTjgKw8koak5QADoRr/IYFICVA1C9ngJQNfnhvdVewhiQJ4ATeUZqJ3BCLfGyffGijJPSKZxQSrtsV5wo46R0Ss0JCkAlu4d3pQDEgyoEKACrYHd9qdpL2HUYTobDCSdBOBoDJxyF4WgUvHAUhpNRcMJJEI7GwAlHYTgZRc0JCkAn4lUegwKwcgCq11MAqiY/vLfaSxgD8gRwIs9I7QROqCVeti9elHFSOoUTSmmX7YoTZZyUTqk5QQGoZPfwrhSAeFCFAAVgFeyuL1V7CbsOw8lwOOEkCEdj4ISjMByNgheOwnAyCk44CcLRGDjhKAwno6g5QQHoRLzKY1AAVg5A9XoKQNXkh/dWewljQJ4ATuQZqZ3ACbXEy/bFizJOSqdwQintsl1xooyT0ik1JygAlewe3pUCEA+qEKAArILd9aVqL2HXYTgZDiecBOFoDJxwFIajUfDCURhORsEJJ0E4GgMnHIXhZBQ1JygAnYhXeQwKwMoBqF5PAaia/PDeai9hDMgTwIk8I7UTOKGWeNm+eFHGSekUTiilXbYrTpRxUjql5gQFoJLdw7tSAOJBFQIUgFWwu75U7SXsOgwnw+GEkyAcjYETjsJwNApeOArDySg44SQIR2PghKMwnIyi5gQFoBPxKo9BAVg5ANXrKQBVkx/eW+0ljAF5AjiRZ6R2AifUEi/bFy/KOCmdwgmltMt2xYkyTkqn1JygAFSye3hXCkA8qEKAArAKdteXqr2EXYfhZDiccBKEozFwwlEYjkbBC0dhOBkFJ5wE4WgMnHAUhpNR1JygAHQiXuUxKAArB6B6PQWgavLDe6u9hDEgTwAn8ozUTuCEWuJl++JFGSelUzihlHbZrjhRxknplJoTFIBKdg/vSgGIB1UIUABWwe76UrWXsOswnAyHE06CcDQGTjgKw9EoeOEoDCej4ISTIByNgROOwnAyipoTFIBOxKs8BgVg5QBUr6cAVE1+eG+1lzAG5AngRJ6R2gmcUEu8bF+8KOOkdAonlNIu2xUnyjgpnVJzggJQye7hXSkA8aAKAQrAKthdX6r2EnYdhpPhcMJJEI7GwAlHYTgaBS8cheFkFJxwEoSjMXDCURhORlFzggLQiXiVx6AArByA6vUUgKrJD++t9hLGgDwBnMgzUjuBE2qJl+2LF2WclE7hhFLaZbviRBknpVNqTlAAKtk9vCsFIB5UIUABWAW760vVXsKuw3AyHE44CcLRGDjhKAxHo+CFozCcjIITToJwNAZOOArDyShqTlAAOhGv8hgUgJUDUL2eAlA1+eG91V7CGJAngBN5RmoncEIt8bJ98aKMk9IpnFBKu2xXnCjjpHRKzQkKQCW7h3elAMSDKgQoAKtgd32p2kvYdRhOhsMJJ0E4GgMnHIXhaBS8cBSGk1FwwkkQjsbACUdhOBlFzQkKQCfiVR6DArByALNc/8Mf/jBdeOGF6aqrrkobN25MN954Y9q8eXPq/strp512Srvvvns68MAD0+GHH54e/ehHZx+9YcOGdMYZZ6TLL7883XLLLemRj3xk2nPPPdNhhx2WXvrSl2a/v8gBCsBF6LX5XbWXcJspjrsVTozLs4Wn4UQLKY6/A16MzzT6E3EieoLjz48T4zON/kQ1JygAoxs7zvwUgONwNHnKl770pfS85z0ve9eyZcvSxz72sfT85z9/8Oy73/3u9K53vSvdfffd2zxz8MEHp09+8pNp6dKl2fvmOUABOA+1tr+j9hJuO81xtsOJcTi29BScaCnN8XbBi/FYtvIknGglyfH2wInxWLbyJDUnKABbMXexPSgAF+Nn+u2uAHzlK1+Z9t9///Sbv/mbafny5elxj3tcX+J1/x/0eeedl/7hH/4h/fznP08PfehD+58U/I3f+I37zbhu3bp05JFH9v/5rrvumt761remPfbYI910003pQx/6ULr00kv7z172spf1ReIUfygAp6Aa+5lqL+HYadlMjxM2nCPdghOR0rKbFS/sWEe5CSeiJGU3J07YsY5yk5oTFIBRzJx2TgrAafmO+vSu2Hvwgx/8gM/89Kc/nQ455JD+zKGHHprOP//8+5y/44470ooVK1L3/37iE5+Yvva1r6XuJwbv/dPd0X3/ggsu6P+jyy67LK1Zs2bUPbqHUQCOjjT8A9VewuEDM1gAJwwgB7sCJ4IFZjQuXhiBDnQNTgQKy2hUnDACHegaNScoAAPJOeGoFIATwq316JUrV6Zrr722L/a6fyPwF/+ccsop6fjjj+//o0984hPb/Lf+uv9y2GWXXfqfJDzooIO2loFj7kMBOCbNNp6l9hJuI7Vpt8CJaflGfDpORExt+pnxYnrG0W7AiWiJTT8vTkzPONoNak5QAEYzdJp5KQCn4Vr1qXvvvXf/k3077rhj+tGPfnSfWZ7xjGekr371q+nhD394Xw52f1V4W3/Wrl2bvvCFL6SHPexh6bbbbuufNeYfCsAxabbxLLWXcBupTbsFTkzLN+LTcSJiatPPjBfTM452A05ES2z6eXFiesbRblBzggIwmqHTzEsBOA3Xak/dtGlT/+/5dT+91xWB3b8DeO+fu+66K+2www5py5Yt/S8IueiiiwbnfO9739v/24Ddn0suuaT/dwfH/EMBOCbNNp6l9hJuI7Vpt8CJaflGfDpORExt+pnxYnrG0W7AiWiJTT8vTkzPONoNak5QAEYzdJp5KQCn4Wr61J/+9Kfpxhtv7P+q7sknn5xuvfXW/v6PfvSj6Y//+I+3zvL1r389Pe1pT+v/99e+9rXp1FNPHZzzU5/6VP9vCHZ/Tj/99HTMMceMuhMF4Kg4m3iY2ku4idAmXgInJgYc8PE4ETA0g5HxwgBysCtwIlhgBuPihAHkYFeoOUEBGEzQicalAJwI7NSPPeecc9IrXvGKwWve8IY39GXgdtttt/VM9xN/BxxwQP+/d/8WYHdm6M/GjRvTqlWr+o/f/OY3p+4nAmf50/0XzAP9ufnmm9Pq1av7I9dcc03/24gX+vNXK+//9eM2LfRIvmxL4M4770zr16/vL+1+8czSpUttB+A2dwRwwl0k1QfCieoRuBwAL1zGUnUonKiK3+XlOOEylqpDqTnR/d/nu+22W8/8hhtuSDvvvHNV/lxehwAFYB3uC986VAA+/elPT2eddVb6rd/6rfvdce6556aXvOQl/X9+5plnpqOOOmpwju6vEu++++7958cee2w67bTTZpr5F4vH3BfXrVt3n99EnDvP5xCAAAQgAAEIQAACEIAABCAAAQiUEej+Xf8jjvj/7J0H2BXVuf1figgqlohiwYog2IlIVBRrFFsSo8aYYmyxJzEaNUZvzD96vdZoYiwh1iSmqNHE2GPFggEUFaUJWAhiARXsSvk/7+CHXznzzT7nO2f2mllrnuc+917PPrPfd60f3z5nnT0zRygADJOrtKMUABbU2nfeeceadtn59uVp06bZjTfeaH7pru+m88t7/Qm+zQ+/JPjggw9O/tPVV19thx12WGr306dPX7Ir7/DDDzcP6ao5FABWo5bGSgEpIAWkgBSQAlJACkgBKSAFpIAUaIwCCgAbo2vRzqoAsGiOZdTrId/3vve95NJfD/kOOeSQJe/IcwegLgEuGVg5tMO2DT8HSQs/hZgovIV1b0BM1F3SUpxQXJTCxro2ISbqKmcpTiYmSmFjXZtgY0KXANcVn8KeTAFgYa1LL/zAAw9MdgP6E3/9+v6VVlopGZznPQCzZNVDQLIU4nud7Ua8fA5X37GYqF6zsr9DTJTd4dr6Exe16Vbmd4mJMrtbW29iojbdyvwuNib0EJAy0xzemwLAcK0KM/LPf/6zffvb307qveGGG+xb3/pW8n8/99xztummmyb/t54CXBg7aQplW4RpjO1Ao2KiA+KV9K1ioqTGdrAtcdFBAUv4djFRQlM72JKY6KCAJXw7GxMKAEsIcQ0tKQCsQTT0t/z73/+23XbbLSnznHPOsdNOOy35vz/55BNbZpllbMGCBbb77rsnOwLTDn/q789+9rPk5QceeMB22mmnuratHYB1lbMUJ2NbhEthWoObEBMNFriApxcTBTQth5LFRQ4iF2wKMVEww3IoV0zkIHLBpmBjQgFgwQBtULkKABskbMzTNn9C8G9+8xv7wQ9+sKScbbfd1kaNGmXLL7+8vfnmm9atW7eKpQ4fPtzuueceW3rppZNxPXv2rGtLCgDrKmcpTsa2CJfCtAY3ISYaLHABTy8mCmhaDiWLixxELtgUYqJghuVQrpjIQeSCTcHGhALAggHaoHIVADZI2Jin3WuvvezOO+9MSnjwwQdtxx13XFLO+eefb6eeemry///lL3+xb37zm21K9T8O6667brJTcM8997Q77rij7u0oAKy7pIU/IdsiXHjDcmhATOQgcsGmEBMFMyyncsVFTkIXaBoxUSCzcipVTOQkdIGmYWNCAWCB4GxgqQoAGyhuvU/tO/s8sOvevXvqqS+++GI78cQTk9c9xHvhhResa9euS8a/9dZbtv7669vcuXNtnXXWsSeffNJWXnnlJa976Lfvvvvav/71r+S/NeLyXz+vAsB601H887EtwsV3rPEdiInGa1y0GcRE0RzLp15xkY/ORZpFTBTJrXxqFRP56FykWdiYUABYJDobV6sCwMZpW/cze6D37rvv2n777Wfbbbed9e3b15Zbbrnkv40fPz554Mdjjz2WzOuX9vrOvV133bVNHb/73e/s6KOPTv67n+P0009PHg7y6quv2iWXXJLsGvTjoIMOMn+gSCMOBYCNULXY52RbhIvtVj7Vi4l8dC7SLGKiSG7lV6u4yE/roswkJoriVH51ion8tC7KTGxMKAAsCpmNrVMBYGP1revZPQB8+eWXM8/Zp08fu+aaa+zLX/5y6tgzzzzTzjrrLFu0aFHFMX7p79///vd2dxtmFtLOAAWAHVGvnO9lW4TL6WJ9uxIT9dWzDGcTE2Vwsf49iIv6a1r0M4qJojtY//rFRP01LfoZ2ZhQAFh0YutTvwLA+uiYy1mmTZtm9913X7JDb+LEifb666/bnDlzkpCud+/etsUWW9jee+9t3/jGN5Kn/WYdjz/+uF122WX2yCOPJOdaccUVbfPNN7dDDz002f3XyEMBYCPVLea52RbhYrqUb9ViIl+9izCbmCiCS/nXKC7y1xx9RjGB7lD+9YmJ/DVHn5GNCQWA6ETmU58CwHx01iytFFAAKCRaK8C2CIuAbAXERLZGbCPEBJvjYf2KizCdmEaJCSa3w3oVE2E6MerZPj4AACAASURBVI1iY0IBIBPd6b0qABQHURRQABhFduhJ2RZhaDNAihMTIEYAlSEmgMwAKkVcAJkBUoqYADECqAwxAWQGSClsTCgABAEvchkKACMbwDq9AkBW59P7ZluERUC2AmIiWyO2EWKCzfGwfsVFmE5Mo8QEk9thvYqJMJ2YRrExoQCQie70XhUAioMoCigAjCI79KRsizC0GSDFiQkQI4DKEBNAZgCVIi6AzAApRUyAGAFUhpgAMgOkFDYmFACCgBe5DAWAkQ1gnV4BIKvz6X2zLcIiIFsBMZGtEdsIMcHmeFi/4iJMJ6ZRYoLJ7bBexUSYTkyj2JhQAMhEd3qvCgDFQRQFFABGkR16UrZFGNoMkOLEBIgRQGWICSAzgEoRF0BmgJQiJkCMACpDTACZAVIKGxMKAEHAi1yGAsDIBrBOrwCQ1fn0vtkWYRGQrYCYyNaIbYSYYHM8rF9xEaYT0ygxweR2WK9iIkwnplFsTCgAZKI7vVcFgOIgigIKAKPIDj0p2yIMbQZIcWICxAigMsQEkBlApYgLIDNAShETIEYAlSEmgMwAKYWNCQWAIOBFLkMBYGQDWKdXAMjqfHrfbIuwCMhWQExka8Q2QkywOR7Wr7gI04lplJhgcjusVzERphPTKDYmFAAy0Z3eqwJAcRBFAQWAUWSHnpRtEYY2A6Q4MQFiBFAZYgLIDKBSxAWQGSCliAkQI4DKEBNAZoCUwsaEAkAQ8CKXoQAwsgGs0ysAZHU+vW+2RVgEZCsgJrI1YhshJtgcD+tXXITpxDRKTDC5HdarmAjTiWkUGxMKAJnoTu9VAaA4iKKAAsAoskNPyrYIQ5sBUpyYADECqAwxAWQGUCniAsgMkFLEBIgRQGWICSAzQEphY0IBIAh4kctQABjZANbpFQCyOp/eN9siLAKyFRAT2RqxjRATbI6H9SsuwnRiGiUmmNwO61VMhOnENIqNCQWATHSn96oAUBxEUUABYBTZoSdlW4ShzQApTkyAGAFUhpgAMgOoFHEBZAZIKWICxAigMsQEkBkgpbAxoQAQBLzIZSgAjGwA6/QKAFmdT++bbREWAdkKiIlsjdhGiAk2x8P6FRdhOjGNEhNMbof1KibCdGIaxcaEAkAmutN7VQAoDqIooAAwiuzQk7ItwtBmgBQnJkCMACpDTACZAVSKuAAyA6QUMQFiBFAZYgLIDJBS2JhQAAgCXuQyFABGNoB1egWArM6n9822CIuAbAXERLZGbCPEBJvjYf2KizCdmEaJCSa3w3oVE2E6MY1iY0IBIBPd6b0qABQHURRQABhFduhJ2RZhaDNAihMTIEYAlSEmgMwAKkVcAJkBUoqYADECqAwxAWQGSClsTCgABAEvchkKACMbwDq9AkBW59P7ZluERUC2AmIiWyO2EWKCzfGwfsVFmE5Mo8QEk9thvYqJMJ2YRrExoQCQie70XhUAioMoCigAjCI79KRsizC0GSDFiQkQI4DKEBNAZgCVIi6AzAApRUyAGAFUhpgAMgOkFDYmFACCgBe5DAWAkQ1gnV4BIKvz6X2zLcIiIFsBMZGtEdsIMcHmeFi/4iJMJ6ZRYoLJ7bBexUSYTkyj2JhQAMhEd3qvCgDFQRQFFABGkR16UrZFGNoMkOLEBIgRQGWICSAzgEoRF0BmgJQiJkCMACpDTACZAVIKGxMKAEHAi1yGAsDIBrBOrwCQ1fn0vtkWYRGQrYCYyNaIbYSYYHM8rF9xEaYT0ygxweR2WK9iIkwnplFsTCgAZKI7vVcFgOIgigIKAKPIDj0p2yIMbQZIcWICxAigMsQEkBlApYgLIDNAShETIEYAlSEmgMwAKYWNCQWAIOBFLkMBYGQDWKdXAMjqfHrfbIuwCMhWQExka8Q2QkywOR7Wr7gI04lplJhgcjusVzERphPTKDYmFAAy0Z3eqwJAcRBFAQWAUWSHnpRtEYY2A6Q4MQFiBFAZYgLIDKBSxAWQGSCliAkQI4DKEBNAZoCUwsaEAkAQ8CKXoQAwsgGs0ysAZHU+vW+2RVgEZCsgJrI1YhshJtgcD+tXXITpxDRKTDC5HdarmAjTiWkUGxMKAJnoTu9VAaA4iKKAAsAoskNPyrYIQ5sBUpyYADECqAwxAWQGUCniAsgMkFLEBIgRQGWICSAzQEphY0IBIAh4kctQABjZANbpFQCyOp/eN9siLAKyFRAT2RqxjRATbI6H9SsuwnRiGiUmmNwO61VMhOnENIqNCQWATHSn96oAUBxEUUABYBTZoSdlW4ShzQApTkyAGAFUhpgAMgOoFHEBZAZIKWICxAigMsQEkBkgpbAxoQAQBLzIZSgAjGwA6/QKAFmdT++bbREWAdkKiIlsjdhGiAk2x8P6FRdhOjGNEhNMbof1KibCdGIaxcaEAkAmutN7VQAoDqIooAAwiuzQk7ItwtBmgBQnJkCMACpDTACZAVSKuAAyA6QUMQFiBFAZYgLIDJBS2JhQAAgCXuQyFABGNoB1egWArM6n9822CIuAbAXERLZGbCPEBJvjYf2KizCdmEaJCSa3w3oVE2E6MY1iY0IBIBPd6b0qABQHURRQABhFduhJ2RZhaDNAihMTIEYAlSEmgMwAKkVcAJkBUoqYADECqAwxAWQGSClsTCgABAEvchkKACMbwDq9AkBW59P7ZluERUC2AmIiWyO2EWKCzfGwfsVFmE5Mo8QEk9thvYqJMJ2YRrExoQCQie70XhUAioMoCigAjCI79KRsizC0GSDFiQkQI4DKEBNAZgCVIi6AzAApRUyAGAFUhpgAMgOkFDYmFACCgBe5DAWAkQ1gnV4BIKvz6X2zLcIiIFsBMZGtEdsIMcHmeFi/4iJMJ6ZRYoLJ7bBexUSYTkyj2JhQAMhEd3qvCgDFQRQFFABGkR16UrZFGNoMkOLEBIgRQGWICSAzgEoRF0BmgJQiJkCMACpDTACZAVIKGxMKAEHAi1yGAsDIBrBOrwCQ1fn0vtkWYRGQrYCYyNaIbYSYYHM8rF9xEaYT0ygxweR2WK9iIkwnplFsTCgAZKI7vVcFgOIgigIKAKPIDj0p2yIMbQZIcWICxAigMsQEkBlApYgLIDNAShETIEYAlSEmgMwAKYWNCQWAIOBFLkMBYGQDWKdXAMjqfHrfbIuwCMhWQExka8Q2QkywOR7Wr7gI04lplJhgcjusVzERphPTKDYmFAAy0Z3eqwJAcRBFAQWAUWSHnpRtEYY2A6Q4MQFiBFAZYgLIDKBSxAWQGSCliAkQI4DKEBNAZoCUwsaEAkAQ8CKXoQAwsgGs0ysAZHU+vW+2RVgEZCsgJrI1YhshJtgcD+tXXITpxDRKTDC5HdarmAjTiWkUGxMKAJnoTu9VAaA4iKKAAsAoskNPyrYIQ5sBUpyYADECqAwxAWQGUCniAsgMkFLEBIgRQGWICSAzQEphY0IBIAh4kctQABjZANbpFQCyOp/eN9siLAKyFRAT2RqxjRATbI6H9SsuwnRiGiUmmNwO61VMhOnENIqNCQWATHSn96oAUBxEUUABYBTZoSdlW4ShzQApTkyAGAFUhpgAMgOoFHEBZAZIKWICxAigMsQEkBkgpbAxoQAQBLzIZSgAjGwA6/QKAFmdT++bbREWAdkKiIlsjdhGiAk2x8P6FRdhOjGNEhNMbof1KibCdGIaxcaEAkAmutN7VQAoDqIooAAwiuzQk7ItwtBmgBQnJkCMACpDTACZAVSKuAAyA6QUMQFiBFAZYgLIDJBS2JhQAAgCXuQyFABGNoB1egWArM6n9822CIuAbAXERLZGbCPEBJvjYf2KizCdmEaJCSa3w3oVE2E6MY1iY0IBIBPd6b0qABQHURRQABhFduhJ2RZhaDNAihMTIEYAlSEmgMwAKkVcAJkBUoqYADECqAwxAWQGSClsTCgABAEvchkKACMbwDq9AkBW59P7ZluERUC2AmIiWyO2EWKCzfGwfsVFmE5Mo8QEk9thvYqJMJ2YRrExoQCQie70XhUAioMoCigAjCI79KRsizC0GSDFiQkQI4DKEBNAZgCVIi6AzAApRUyAGAFUhpgAMgOkFDYmFACCgBe5DAWAkQ1gnV4BIKvz6X2zLcIiIFsBMZGtEdsIMcHmeFi/4iJMJ6ZRYoLJ7bBexUSYTkyj2JhQAMhEd3qvCgDFQRQFFABGkR16UrZFGNoMkOLEBIgRQGWICSAzgEoRF0BmgJQiJkCMACpDTACZAVIKGxMKAEHAi1yGAsDIBrBOrwCQ1fn0vtkWYRGQrYCYyNaIbYSYYHM8rF9xEaYT0ygxweR2WK9iIkwnplFsTCgAZKI7vVcFgOIgigIKAKPIDj0p2yIMbQZIcWICxAigMsQEkBlApYgLIDNAShETIEYAlSEmgMwAKYWNCQWAIOBFLkMBYGQDWKdXAMjqfHrfbIuwCMhWQExka8Q2QkywOR7Wr7gI04lplJhgcjusVzERphPTKDYmFAAy0Z3eqwJAcRBFAQWAUWSHnpRtEYY2A6Q4MQFiBFAZYgLIDKBSxAWQGSCliAkQI4DKEBNAZoCUwsaEAkAQ8CKXoQAwsgGs0ysAZHU+vW+2RVgEZCsgJrI1YhshJtgcD+tXXITpxDRKTDC5HdarmAjTiWkUGxMKAJnoTu9VAaA4iKKAAsAoskNPyrYIQ5sBUpyYADECqAwxAWQGUCniAsgMkFLEBIgRQGWICSAzQEphY0IBIAh4kctQABjZANbpFQCyOp/eN9siLAKyFRAT2RqxjRATbI6H9SsuwnRiGiUmmNwO61VMhOnENIqNCQWATHSn96oAUBxEUUABYBTZoSdlW4ShzQApTkyAGAFUhpgAMgOoFHEBZAZIKWICxAigMsQEkBkgpbAxoQAQBLzIZSgAjGwA6/QKAFmdT++bbREWAdkKiIlsjdhGiAk2x8P6FRdhOjGNEhNMbof1KibCdGIaxcaEAkAmutN7VQAoDqIooAAwiuzQk7ItwtBmgBQnJkCMACpDTACZAVSKuAAyA6QUMQFiBFAZYgLIDJBS2JhQAAgCXuQyFABGNoB1egWArM6n9822CIuAbAXERLZGbCPEBJvjYf2KizCdmEaJCSa3w3oVE2E6MY1iY0IBIBPd6b0qABQHURRQABhFduhJ2RZhaDNAihMTIEYAlSEmgMwAKkVcAJkBUoqYADECqAwxAWQGSClsTCgABAEvchkKACMbwDq9AkBW59P7ZluERUC2AmIiWyO2EWKCzfGwfsVFmE5Mo8QEk9thvYqJMJ2YRrExoQCQie70XhUAioMoCigAjCI79KRsizC0GSDFiQkQI4DKEBNAZgCVIi6AzAApRUyAGAFUhpgAMgOkFDYmFACCgBe5DAWAkQ1gnV4BIKvz6X2zLcIiIFsBMZGtEdsIMcHmeFi/4iJMJ6ZRYoLJ7bBexUSYTkyj2JhQAMhEd3qvCgDFQRQFFABGkR16UrZFGNoMkOLEBIgRQGWICSAzgEoRF0BmgJQiJkCMACpDTACZAVIKGxMKAEHAi1yGAsDIBrBOrwCQ1fn0vtkWYRGQrYCYyNaIbYSYYHM8rF9xEaYT0ygxweR2WK9iIkwnplFsTCgAZKI7vVcFgOIgigIKAKPIDj0p2yIMbQZIcWICxAigMsQEkBlApYgLIDNAShETIEYAlSEmgMwAKYWNCQWAIOBFLkMBYGQDWKdXAMjqfHrfbIuwCMhWQExka8Q2QkywOR7Wr7gI04lplJhgcjusVzERphPTKDYmFAAy0Z3eqwJAcRBFgboEgL9Yof3afzE3Sm+atDYF2Bbh2lTiepeY4PI7pFsxEaIS3xhxwed5VsdiIkshvtfFBJ/nWR2zMaEAMIsIjtcVAHL4DNelAkA4S6IXxLYIRxe8AAWIiQKYlHOJYiJnwQsynbgoiFE5likmchS7IFOJiYIYlWOZbEwoAMwRLuCpFAACm1Pm0hQAltnd2npjW4RrU4nrXWKCy++QbsVEiEp8Y8QFn+dZHYuJLIX4XhcTfJ5ndczGhALALCI4XlcAyOEzXJcKAOEsiV4Q2yIcXfACFCAmCmBSziWKiZwFL8h04qIgRuVYppjIUeyCTCUmCmJUjmWyMaEAMEe4gKdSAAhsTplLUwBYZndr641tEa5NJa53iQkuv0O6FRMhKvGNERd8nmd1LCayFOJ7XUzweZ7VMRsTCgCziOB4XQEgh89wXSoAhLMkekFsi3B0wQtQgJgogEk5lygmcha8INOJi4IYlWOZYiJHsQsylZgoiFE5lsnGhALAHOECnkoBILA5ZS5NAWCZ3a2tN7ZFuDaVuN4lJrj8DulWTISoxDdGXPB5ntWxmMhSiO91McHneVbHbEwoAMwiguN1BYAcPsN1qQAQzpLoBbEtwtEFL0ABYqIAJuVcopjIWfCCTCcuCmJUjmWKiRzFLshUYqIgRuVYJhsTCgBzhAt4KgWAwOaUuTQFgGV2t7be2Bbh2lTiepeY4PI7pFsxEaIS3xhxwed5VsdiIkshvtfFBJ/nWR2zMaEAMIsIjtcVAHL4DNelAkA4S6IXxLYIRxe8AAWIiQKYlHOJYiJnwQsynbgoiFE5likmchS7IFOJiYIYlWOZbEwoAMwRLuCpFAACm1Pm0hQAltnd2npjW4RrU4nrXWKCy++QbsVEiEp8Y8QFn+dZHYuJLIX4XhcTfJ5ndczGhALALCI4XlcAyOEzXJcKAOEsiV4Q2yIcXfACFCAmCmBSziWKiZwFL8h04qIgRuVYppjIUeyCTCUmCmJUjmWyMaEAMEe4gKdSAAhsTplLUwBYZndr641tEa5NJa53iQkuv0O6FRMhKvGNERd8nmd1LCayFOJ7XUzweZ7VMRsTCgCziOB4XQEgh89wXSoAhLMkekFsi3B0wQtQgJgogEk5lygmcha8INOJi4IYlWOZYiJHsQsylZgoiFE5lsnGhALAHOECnkoBILA5ZS5NAWCZ3a2tN7ZFuDaVuN4lJrj8DulWTISoxDdGXPB5ntWxmMhSiO91McHneVbHbEwoAMwiguN1BYAcPsN1qQAQzpLoBbEtwtEFL0ABYqIAJuVcopjIWfCCTCcuCmJUjmWKiRzFLshUYqIgRuVYJhsTCgBzhAt4KgWAwOaUuTQFgGV2t7be2Bbh2lTiepeY4PI7pFsxEaIS3xhxwed5VsdiIkshvtfFBJ/nWR2zMaEAMIsIjtcVAHL4DNelAkA4S6IXxLYIRxe8AAWIiQKYlHOJYiJnwQsynbgoiFE5likmchS7IFOJiYIYlWOZbEwoAMwRLuCpFAACm1Pm0hQAltnd2npjW4RrU4nrXWKCy++QbsVEiEp8Y8QFn+dZHYuJLIX4XhcTfJ5ndczGhALALCI4XlcAyOEzXJcKAOEsiV4Q2yIcXfACFCAmCmBSziWKiZwFL8h04qIgRuVYppjIUeyCTCUmCmJUjmWyMaEAMEe4gKdSAAhsTplLUwBYZndr641tEa5NJa53iQkuv0O6FRMhKvGNERd8nmd1LCayFOJ7XUzweZ7VMRsTCgCziOB4XQEgh89wXSoAhLMkekFsi3B0wQtQgJgogEk5lygmcha8INOJi4IYlWOZYiJHsQsylZgoiFE5lsnGhALAHOECnkoBILA5ZS5NAWCZ3a2tN7ZFuDaVuN4lJrj8DulWTISoxDdGXPB5ntWxmMhSiO91McHneVbHbEwoAMwiguN1BYAcPsN1qQAQzpLoBbEtwtEFL0ABYqIAJuVcopjIWfCCTCcuCmJUjmWKiRzFLshUYqIgRuVYJhsTCgBzhAt4KgWAwOaUuTQFgGV2t7be2Bbh2lTiepeY4PI7pFsxEaIS3xhxwed5VsdiIkshvtfFBJ/nWR2zMaEAMIsIjtcVAHL4DNelAkA4S6IXxLYIRxe8AAWIiQKYlHOJYiJnwQsynbgoiFE5likmchS7IFOJiYIYlWOZbEwoAMwRLuCpFAACm1OptKeeesruvvtue+SRR+y5556zN954w5ZaailbY401bNttt7XDDz/ctt9+++Cu/FwjRoyw0aNH25tvvmmrrLKKDRkyxI488kgbPnx48HmqHagAsFrFyj+ebREuv6Md71BMdFzDsp1BTJTN0fr0Iy7qo2OZziImyuRmfXoRE/XRsUxnYWNCAWCZ6K29FwWAtWuX+zt32GEHGzlyZOa83/3ud+2qq66ybt26pY5dtGiRHX300Un4l3Z4CHjllVdap06dMuesdoACwGoVK/94tkW4/I52vEMx0XENy3YGMVE2R+vTj7ioj45lOouYKJOb9elFTNRHxzKdhY0JBYBlorf2XhQA1q5d7u/cYIMNbNq0acluvwMOOCDZ6bf22mvbggULbNSoUXbRRRfZzJkzk7oOOugg+/Of/5xa4+mnn27nnHNO8vqgQYPslFNOsb59+ybnP//8823cuHHJaz7u7LPPrnuvCgDrLmnhT8i2CBfesBwaEBM5iFywKcREwQzLqVxxkZPQBZpGTBTIrJxKFRM5CV2gadiYUABYIDgbWKoCwAaKW+9T77333nbwwQfbfvvtZ126dGlz+tmzZ9vQoUNtypQpyWu+W7DS5cBTp061gQMH2vz5823w4MHJuB49eiw53wcffGC+23Ds2LHWtWtXmzRpUhIO1vNQAFhPNctxLrZFuByuNbYLMdFYfYt4djFRRNcaX7O4aLzGRZtBTBTNscbXKyYar3HRZmBjQgFg0QhtTL0KABuja7Sz3n777bbPPvsk8//whz+0X//6121qOe644+zyyy9P/rvvHNx6663bjHniiSdsm222Sf778ccfb5deemlde1IAWFc5S3EytkW4FKY1uAkx0WCBC3h6MVFA03IoWVzkIHLBphATBTMsh3LFRA4iF2wKNiYUABYM0AaVqwCwQcLGOu17771nPXv2TKbfa6+9zAPB5off+2+ttdZKLhUeMGCATZw4MbVUf33y5MnWp08fe+WVV+p6L0AFgLEIwZ2XbRHGdQKnMjGB4wVKJWICxQmsOsQFlh8I1YgJBBewahATWH4gVMPGhAJABOri16AAML4Hda3grbfespVXXjk5p+8EvO2221qcf/r06Usu5z3qqKOSh3ykHf5600NC/H3rrbde3WpVAFg3KUtzIrZFuDTGNbARMdFAcQt6ajFRUOMaXLa4aLDABTy9mCigaQ0uWUw0WOACnp6NCQWABYS0ASUrAGyAqDFPeeutt9rXv/71pISTTz45eaBH8+OOO+4wv5egHxdffLGdcMIJqeX66yeeeGLyur9vzz33rFtrCgDrJmVpTsS2CJfGuAY2IiYaKG5BTy0mCmpcg8sWFw0WuICnFxMFNK3BJYuJBgtcwNOzMaEAsICQNqBkBYANEDXWKRcuXJjct2/06NFJCWPGjEke8tH88B1/xxxzTPKfbrrpJtt///1Ty7355puTpw374e/zHYGhh/+Bae+YNWuWDRkyJBkyfvz42h4y8quB7ZdzYvrlzaF9aFx+Cnz00UfJA2n8GDZsmHXv3j2/yTUTpAJiAtKWqEWJiajyw04uLmCtiVaYmIgmPezEYgLWmmiFsTHh38/79++f6D1jxozkNl86+BRQAFgizy+66CL7yU9+knS077772i233NKmuwsuuMBOOeWU5L/fddddNnz48FQF/PWmXX8XXnihnXTSScFqderUKXjsVVddZb169Qoer4FSQApIASkgBaSAFJACUkAKSAEpIAWkQJgCs2fPtiOOOEIBYJhcpR2lALAk1j788MO266672vz5823VVVe1Z5991nr37t2mu7POOst+/vOfJ//9/vvvt5133jlVgQceeMB22WWX5HV/3xlnnBGslgLAYKk0UApIASkgBaSAFJACUkAKSAEpIAWkQMMUUADYMGkLdWIFgIWyq3Kxzz//vG2//fb29ttv29JLL2333HOP7bDDDhUH57UDUJcAlwCsnFtg24afs7yFnE5MFNK2hhYtJhoqb2FPLi4Ka13DChcTDZO2sCcWE4W1rmGFszGhS4AbhlKhTqwAsFB2tS32xRdftO22285effVV69KlS3JfP7/8N+3I6x6AWbLqISBZCvG9znYjXj6Hq+9YTFSvWdnfISbK7nBt/YmL2nQr87vERJndra03MVGbbmV+FxsTeghImWkO700BYLhWcCM99POdf9OnTze/5Pa6666zgw8+uN06b7/9dttnn32SMXoKMJyl1AWxLcLUZgc2LyYChSIaJiaIzK6iVXFRhVgkQ8UEidFVtCkmqhCLZCgbEwoAScDOaFMBYEE58Gv4/TLfCRMmJB389re/teOOOy6zGw8L+/btm4zzp/r6jsC0w18fMWJE8rK/b7311ss8f+gA7QAMVYpnHNsizONs7Z2Kidq1K+s7xURZne1YX+KiY/qV8d1iooyudqwnMdEx/cr4bjYmFACWkeLqe1IAWL1m0d8xd+7c5OEdTz31VFLLueeea6eeempQXYsWLUoe+e27BwcMGGATJ05Mfd/AgQNt0qRJtuaaayaPCq/mwR5ZxSgAzFKI73W2RZjP4eo7FhPVa1b2d4iJsjtcW3/iojbdyvwuMVFmd2vrTUzUpluZ38XGhALAMtMc3psCwHCtIEZ+8MEHtttuu9ljjz2W1HP66afb2WefXVVtxx57rF1xxRXJe0aNGmVbb711m/c/8cQTts022yT/3cdfdtllVc2RNVgBYJZCfK+zLcJ8DlffsZioXrOyv0NMlN3h2voTF7XpVuZ3iYkyu1tbb2KiNt3K/C42JhQAlpnm8N4UAIZrFX3kJ598kty/7957701q+dGPfmSXXHJJ1XVNmTLFNt54Y5s/f74NHjzYRo4caT169FhyHv9jOGzYMBs7dqx17do1ucy4X79+Vc/T3hsUANZVzlKcjG0RLoVpDW5CTDRY4AKeXkwU0LQcShYXOYhcsCnERMEMy6FcMZGDyAWbgo0JBYAFA7RB5SoAbJCwjTjtfvvtZ7fccktyar8E2MO/4Y/kFQAAIABJREFU9i7L7datm/Xv379iKaeddlpy6bAfgwYNSi4h9nsDTps2zc477zwbN25c8pqPO+ecc+rejgLAukta+BOyLcKFNyyHBsREDiIXbAoxUTDDcipXXOQkdIGmERMFMiunUsVETkIXaBo2JhQAFgjOBpaqALCB4tb71NXeg2+dddaxl156qWIZCxcutO9///t2zTXXpJZ5+OGHJw8B6dy5c71bMQWAdZe08CdkW4QLb1gODYiJHEQu2BRiomCG5VSuuMhJ6AJNIyYKZFZOpYqJnIQu0DRsTCgALBCcDSxVAWADxa33qesZADbVdueddyYh35gxY8yfLNyrVy/baqutkicE77HHHvVuYcn5FAA2TNrCnphtES6sUTkWLiZyFLsgU4mJghiVc5niImfBCzCdmCiASTmXKCZyFrwA07ExoQCwAFDmUKICwBxE1hRtFVAAKCpaK8C2CIuAbAXERLZGbCPEBJvjYf2KizCdmEaJCSa3w3oVE2E6MY1iY0IBIBPd6b0qABQHURRQABhFduhJ2RZhaDNAihMTIEYAlSEmgMwAKkVcAJkBUoqYADECqAwxAWQGSClsTCgABAEvchkKACMbwDq9AkBW59P7ZluERUC2AmIiWyO2EWKCzfGwfsVFmE5Mo8QEk9thvYqJMJ2YRrExoQCQie70XhUAioMoCigAjCI79KRsizC0GSDFiQkQI4DKEBNAZgCVIi6AzAApRUyAGAFUhpgAMgOkFDYmFACCgBe5DAWAkQ1gnV4BIKvz6X2zLcIiIFsBMZGtEdsIMcHmeFi/4iJMJ6ZRYoLJ7bBexUSYTkyj2JhQAMhEd3qvCgDFQRQFFABGkR16UrZFGNoMkOLEBIgRQGWICSAzgEoRF0BmgJQiJkCMACpDTACZAVIKGxMKAEHAi1yGAsDIBrBOrwCQ1fn0vtkWYRGQrYCYyNaIbYSYYHM8rF9xEaYT0ygxweR2WK9iIkwnplFsTCgAZKI7vVcFgOIgigIKAKPIDj0p2yIMbQZIcWICxAigMsQEkBlApYgLIDNAShETIEYAlSEmgMwAKYWNCQWAIOBFLkMBYGQDWKdXAMjqfHrfbIuwCMhWQExka8Q2QkywOR7Wr7gI04lplJhgcjusVzERphPTKDYmFAAy0Z3eqwJAcRBFAQWAUWSHnpRtEYY2A6Q4MQFiBFAZYgLIDKBSxAWQGSCliAkQI4DKEBNAZoCUwsaEAkAQ8CKXoQAwsgGs0ysAZHU+vW+2RVgEZCsgJrI1YhshJtgcD+tXXITpxDRKTDC5HdarmAjTiWkUGxMKAJnoTu9VAaA4iKKAAsAoskNPyrYIQ5sBUpyYADECqAwxAWQGUCniAsgMkFLEBIgRQGWICSAzQEphY0IBIAh4kctQABjZANbpFQCyOp/eN9siLAKyFRAT2RqxjRATbI6H9SsuwnRiGiUmmNwO61VMhOnENIqNCQWATHSn96oAUBxEUUABYBTZoSdlW4ShzQApTkyAGAFUhpgAMgOoFHEBZAZIKWICxAigMsQEkBkgpbAxoQAQBLzIZSgAjGwA6/QKAFmdT++bbREWAdkKiIlsjdhGiAk2x8P6FRdhOjGNEhNMbof1KibCdGIaxcaEAkAmutN7VQAoDqIooAAwiuzQk7ItwtBmgBQnJkCMACpDTACZAVSKuAAyA6QUMQFiBFAZYgLIDJBS2JhQAAgCXuQyFABGNoB1egWArM6n9822CIuAbAXERLZGbCPEBJvjYf2KizCdmEaJCSa3w3oVE2E6MY1iY0IBIBPd6b0qABQHURRQABhFduhJ2RZhaDNAihMTIEYAlSEmgMwAKkVcAJkBUoqYADECqAwxAWQGSClsTCgABAEvchkKACMbwDq9AkBW59P7ZluERUC2AmIiWyO2EWKCzfGwfsVFmE5Mo8QEk9thvYqJMJ2YRrExoQCQie70XhUAioMoCigAjCI79KRsizC0GSDFiQkQI4DKEBNAZgCVIi6AzAApRUyAGAFUhpgAMgOkFDYmFACCgBe5DAWAkQ1gnV4BIKvz6X2zLcIiIFsBMZGtEdsIMcHmeFi/4iJMJ6ZRYoLJ7bBexUSYTkyj2JhQAMhEd3qvCgDFQRQFFABGkR16UrZFGNoMkOLEBIgRQGWICSAzgEoRF0BmgJQiJkCMACpDTACZAVIKGxMKAEHAi1yGAsDIBrBOrwCQ1fn0vtkWYRGQrYCYyNaIbYSYYHM8rF9xEaYT0ygxweR2WK9iIkwnplFsTCgAZKI7vVcFgOIgigIKAKPIDj0p2yIMbQZIcWICxAigMsQEkBlApYgLIDNAShETIEYAlSEmgMwAKYWNCQWAIOBFLkMBYGQDWKdXAMjqfHrfbIuwCMhWQExka8Q2QkywOR7Wr7gI04lplJhgcjusVzERphPTKDYmFAAy0Z3eqwJAcRBFAQWAUWSHnpRtEYY2A6Q4MQFiBFAZYgLIDKBSxAWQGSCliAkQI4DKEBNAZoCUwsaEAkAQ8CKXoQAwsgGs0ysAZHU+vW+2RVgEZCsgJrI1YhshJtgcD+tXXITpxDRKTDC5HdarmAjTiWkUGxMKAJnoTu9VAaA4iKKAAsAoskNPyrYIQ5sBUpyYADECqAwxAWQGUCniAsgMkFLEBIgRQGWICSAzQEphY0IBIAh4kctQABjZANbpFQCyOp/eN9siLAKyFRAT2RqxjRATbI6H9SsuwnRiGiUmmNwO61VMhOnENIqNCQWATHSn96oAUBxEUUABYBTZoSdlW4ShzQApTkyAGAFUhpgAMgOoFHEBZAZIKWICxAigMsQEkBkgpbAxoQAQBLzIZSgAjGwA6/QKAFmdT++bbREWAdkKiIlsjdhGiAk2x8P6FRdhOjGNEhNMbof1KibCdGIaxcaEAkAmutN7VQAoDqIooAAwiuzQk7ItwtBmgBQnJkCMACpDTACZAVSKuAAyA6QUMQFiBFAZYgLIDJBS2JhQAAgCXuQyFABGNoB1egWArM6n9822CIuAbAXERLZGbCPEBJvjYf2KizCdmEaJCSa3w3oVE2E6MY1iY0IBIBPd6b0qABQHURRQABhFduhJ2RZhaDNAihMTIEYAlSEmgMwAKkVcAJkBUoqYADECqAwxAWQGSClsTCgABAEvchkKACMbwDq9AkBW59P7ZluERUC2AmIiWyO2EWKCzfGwfsVFmE5Mo8QEk9thvYqJMJ2YRrExoQCQie70XhUAioMoCigAjCI79KRsizC0GSDFiQkQI4DKEBNAZgCVIi6AzAApRUyAGAFUhpgAMgOkFDYmFACCgBe5DAWAkQ1gnV4BIKvz6X2zLcIiIFsBMZGtEdsIMcHmeFi/4iJMJ6ZRYoLJ7bBexUSYTkyj2JhQAMhEd3qvCgDFQRQFFABGkR16UrZFGNoMkOLEBIgRQGWICSAzgEoRF0BmgJQiJkCMACpDTACZAVIKGxMKAEHAi1yGAsDIBrBOrwCQ1fn0vtkWYRGQrYCYyNaIbYSYYHM8rF9xEaYT0ygxweR2WK9iIkwnplFsTCgAZKI7vVcFgOIgigIKAKPIDj0p2yIMbQZIcWICxAigMsQEkBlApYgLIDNAShETIEYAlSEmgMwAKYWNCQWAIOBFLkMBYGQDWKdXAMjqfHrfbIuwCMhWQExka8Q2QkywOR7Wr7gI04lplJhgcjusVzERphPTKDYmFAAy0Z3eqwJAcRBFAQWAUWSHnpRtEYY2A6Q4MQFiBFAZYgLIDKBSxAWQGSCliAkQI4DKEBNAZoCUwsaEAkAQ8CKXoQAwsgGs0ysAZHU+vW+2RVgEZCsgJrI1YhshJtgcD+tXXITpxDRKTDC5HdarmAjTiWkUGxMKAJnoTu9VAaA4iKKAAsAoskNPyrYIQ5sBUpyYADECqAwxAWQGUCniAsgMkFLEBIgRQGWICSAzQEphY0IBIAh4kctQABjZANbpFQCyOp/eN9siLAKyFRAT2RqxjRATbI6H9SsuwnRiGiUmmNwO61VMhOnENIqNCQWATHSn96oAUBxEUUABYBTZoSdlW4ShzQApTkyAGAFUhpgAMgOoFHEBZAZIKWICxAigMsQEkBkgpbAxoQAQBLzIZSgAjGwA6/QKAFmdT++bbREWAdkKiIlsjdhGiAk2x8P6FRdhOjGNEhNMbof1KibCdGIaxcaEAkAmutN7VQAoDqIooAAwiuzQk7ItwtBmgBQnJkCMACpDTACZAVSKuAAyA6QUMQFiBFAZYgLIDJBS2JhQAAgCXuQyFABGNoB1+lwCwObi/mIuq9SF6ZttES6MMRELFRMRxQedWkyAGhO5LHER2QDA6cUEoCmRSxITkQ0AnJ6NCQWAgBBGKEkBYATRNaWZAkBR0FoBtkVYBGQrICayNWIbISbYHA/rV1yE6cQ0SkwwuR3Wq5gI04lpFBsTCgCZ6E7vVQGgOIiigALAKLJDT8q2CEObAVKcmAAxAqgMMQFkBlAp4gLIDJBSxASIEUBliAkgM0BKYWNCASAIeJHLUAAY2QDW6RUAsjqf3jfbIiwCshUQE9kasY0QE2yOh/UrLsJ0YholJpjcDutVTITpxDSKjQkFgEx0p/eqAFAcRFFAAWAU2aEnZVuEoc0AKU5MgBgBVIaYADIDqBRxAWQGSCliAsQIoDLEBJAZIKWwMaEAEAS8yGUoAIxsAOv0CgBZnU/vm20RFgHZCoiJbI3YRogJNsfD+hUXYToxjRITTG6H9SomwnRiGsXGhAJAJrrTe1UAKA6iKKAAMIrs0JOyLcLQZoAUJyZAjAAqQ0wAmQFUirgAMgOkFDEBYgRQGWICyAyQUtiYUAAIAl7kMhQARjaAdXoFgKzOp/fNtgiLgGwFxES2RmwjxASb42H9ioswnZhGiQkmt8N6FRNhOjGNYmNCASAT3em9KgAUB1EUUAAYRXboSdkWYWgzQIoTEyBGAJUhJoDMACpFXACZAVKKmAAxAqgMMQFkBkgpbEwoAAQBL3IZCgAjG8A6vQJAVufT+2ZbhEVAtgJiIlsjthFigs3xsH7FRZhOTKPEBJPbYb2KiTCdmEaxMaEAkInu9F4VAIqDKAooAIwiO/SkbIswtBkgxYkJECOAyhATQGYAlSIugMwAKUVMgBgBVIaYADIDpBQ2JhQAgoAXuQwFgJENYJ1eASCr8+l9sy3CIiBbATGRrRHbCDHB5nhYv+IiTCemUWKCye2wXsVEmE5Mo9iYUADIRHd6rwoAxUEUBRQARpEdelK2RRjaDJDixASIEUBliAkgM4BKERdAZoCUIiZAjAAqQ0wAmQFSChsTCgBBwItchgLAyAawTq8AkNX59L7ZFmERkK2AmMjWiG2EmGBzPKxfcRGmE9MoMcHkdlivYiJMJ6ZRbEwoAGSiO71XBYDiIIoCCgCjyA49KdsiDG0GSHFiAsQIoDLEBJAZQKWICyAzQEoREyBGAJUhJoDMACmFjQkFgCDgRS5DAWBkA1inVwDI6nx632yLsAjIVkBMZGvENkJMsDke1q+4CNOJaZSYYHI7rFcxEaYT0yg2JhQAMtGd3qsCQHEQRQEFgFFkh56UbRGGNgOkODEBYgRQGWICyAygUsQFkBkgpYgJECOAyhATQGaAlMLGhAJAEPAil6EAMLIBrNMrAGR1Pr1vtkVYBGQrICayNWIbISbYHA/rV1yE6cQ0SkwwuR3Wq5gI04lpFBsTCgCZ6E7vVQGgOIiigALAKLJDT8q2CEObAVKcmAAxAqgMMQFkBlAp4gLIDJBSxASIEUBliAkgM0BKYWNCASAIeJHLUAAY2QDW6RUAsjqf3jfbIiwCshUQE9kasY0QE2yOh/UrLsJ0YholJpjcDutVTITpxDSKjQkFgEx0p/eqAFAcRFFAAWAU2aEnZVuEoc0AKU5MgBgBVIaYADIDqBRxAWQGSCliAsQIoDLEBJAZIKWwMaEAEAS8yGUoAIxsAOv0CgBZnU/vm20RFgHZCoiJbI3YRogJNsfD+hUXYToxjRITTG6H9SomwnRiGsXGhAJAJrrTe1UAKA6iKKAAMIrs0JOyLcLQZoAUJyZAjAAqQ0wAmQFUirgAMgOkFDEBYgRQGWICyAyQUtiYUAAIAl7kMhQARjaAdXoFgKzOp/fNtgiLgGwFxES2RmwjxASb42H9ioswnZhGiQkmt8N6FRNhOjGNYmNCASAT3em9KgAUB1EUUAAYRXboSdkWYWgzQIoTEyBGAJUhJoDMACpFXACZAVKKmAAxAqgMMQFkBkgpbEwoAAQBL3IZCgAjG8A6vQJAVufT+2ZbhEVAtgJiIlsjthFigs3xsH7FRZhOTKPEBJPbYb2KiTCdmEaxMaEAkInu9F4VAIqDKAooAIwiO/SkbIswtBkgxYkJECOAyhATQGYAlSIugMwAKUVMgBgBVIaYADIDpBQ2JhQAgoAXuQwFgJENYJ1eASCr8+l9sy3CIiBbATGRrRHbCDHB5nhYv+IiTCemUWKCye2wXsVEmE5Mo9iYUADIRHd6rwoAxUEUBRQARpEdelK2RRjaDJDixASIEUBliAkgM4BKERdAZoCUIiZAjAAqQ0wAmQFSChsTCgBBwItchgLAyAawTq8AkNX59L7ZFmERkK2AmMjWiG2EmGBzPKxfcRGmE9MoMcHkdlivYiJMJ6ZRbEwoAGSiO71XBYDiIIoCCgCjyA49KdsiDG0GSHFiAsQIoDLEBJAZQKWICyAzQEoREyBGAJUhJoDMACmFjQkFgCDgRS5DAWBkA1inVwDI6nx632yLsAjIVkBMZGvENkJMsDke1q+4CNOJaZSYYHI7rFcxEaYT0yg2JhQAMtGd3qsCQHEQRQEFgFFkh56UbRGGNgOkODEBYgRQGWICyAygUsQFkBkgpYgJECOAyhATQGaAlMLGhAJAEPAil6EAMLIBrNMrAGR1Pr1vtkVYBGQrICayNWIbISbYHA/rV1yE6cQ0SkwwuR3Wq5gI04lpFBsTCgCZ6E7vVQGgOIiigALAKLJDT8q2CEObAVKcmAAxAqgMMQFkBlAp4gLIDJBSxASIEUBliAkgM0BKYWNCASAIeJHLUAAY2QDW6RUAsjqf3jfbIiwCshUQE9kasY0QE2yOh/UrLsJ0YholJpjcDutVTITpxDSKjQkFgEx0p/eqAFAcRFFAAWAU2aEnZVuEoc0AKU5MgBgBVIaYADIDqBRxAWQGSCliAsQIoDLEBJAZIKWwMaEAEAS8yGUoAIxsAOv0CgBZnU/vm20RFgHZCoiJbI3YRogJNsfD+hUXYToxjRITTG6H9SomwnRiGsXGhAJAJrrTe1UAKA6iKKAAMIrs0JOyLcLQZoAUJyZAjAAqQ0wAmQFUirgAMgOkFDEBYgRQGWICyAyQUtiYUAAIAl7kMhQARjaAdXoFgKzOp/fNtgiLgGwFxES2RmwjxASb42H9ioswnZhGiQkmt8N6FRNhOjGNYmNCASAT3em9KgAUB1EUUAAYRXboSdkWYWgzQIoTEyBGAJUhJoDMACpFXACZAVKKmAAxAqgMMQFkBkgpbEwoAAQBL3IZCgAjG8A6vQJAVufT+2ZbhEVAtgJiIlsjthFigs3xsH7FRZhOTKPEBJPbYb2KiTCdmEaxMaEAkInu9F4VAIqDKAooAIwiO/SkbIswtBkgxYkJECOAyhATQGYAlSIugMwAKUVMgBgBVIaYADIDpBQ2JhQAgoAXuQwFgJENYJ1eASCr8+l9sy3CIiBbATGRrRHbCDHB5nhYv+IiTCemUWKCye2wXsVEmE5Mo9iYUADIRHd6rwoAxUEUBRQARpEdelK2RRjaDJDixASIEUBliAkgM4BKERdAZoCUIiZAjAAqQ0wAmQFSChsTCgBBwItchgLAyAawTq8AkNX59L7ZFmERkK2AmMjWiG2EmGBzPKxfcRGmE9MoMcHkdlivYiJMJ6ZRbEwoAGSiO71XBYDiIIoCCgCjyA49KdsiDG0GSHFiAsQIoDLEBJAZQKWICyAzQEoREyBGAJUhJoDMACmFjQkFgCDgRS5DAWBkA1inVwDI6nx632yLsAjIVkBMZGvENkJMsDke1q+4CNOJaZSYYHI7rFcxEaYT0yg2JhQAMtGd3qsCQHEQRQEFgFFkh56UbRGGNgOkODEBYgRQGWICyAygUsQFkBkgpYgJECOAyhATQGaAlMLGhAJAEPAil6EAMLIBrNMrAGR1Pr1vtkVYBGQrICayNWIbISbYHA/rV1yE6cQ0SkwwuR3Wq5gI04lpFBsTCgCZ6E7vVQFgwTh44403bPTo0cn/jBkzJvmfOXPmJF1873vfs+uuu66qju6++24bMWJEcr4333zTVlllFRsyZIgdeeSRNnz48KrOVc1gBYDVqMUxlm0R5nC1Y12KiY7pV8Z3i4kyutrxnsRFxzUs2xnERNkc7Xg/YqLjGpbtDGxMKAAsG8G19aMAsDbdor2rU6dOqXNXEwAuWrTIjj766CT8Szs8BLzyyiutvTlrFUIBYK3Klfd9bItweZ2sX2dion5aluVMYqIsTta3D3FRXz3LcDYxUQYX69uDmKivnmU4GxsTCgDLQG3He1AA2HENcz1D8zBurbXWsoEDB9q9996b1FBNAHj66afbOeeck7xv0KBBdsopp1jfvn1t2rRpdv7559u4ceOS13zc2WefXfceFQDWXdLCn5BtES68YTk0ICZyELlgU4iJghmWU7niIiehCzSNmCiQWTmVKiZyErpA07AxoQCwQHA2sFQFgA0UtxGnPvPMM22rrbZK/qd379720ksv2XrrrVdVADh16tQkOJw/f74NHjzYRo4caT169FhS7gcffGA77LCDjR071rp27WqTJk1KwsF6HgoA66lmOc7FtgiXw7XGdiEmGqtvEc8uJoroWuNrFheN17hoM4iJojnW+HrFROM1LtoMbEwoACwaoY2pVwFgY3TN7ay1BIDHHXecXX755UmNo0aNsq233rpNvU888YRts802yX8//vjj7dJLL61rTwoA6ypnKU7GtgiXwrQGNyEmGixwAU8vJgpoWg4li4scRC7YFGKiYIblUK6YyEHkgk3BxoQCwIIB2qByFQA2SNi8TlttAOj3/vNLh2fOnGkDBgywiRMnppbqr0+ePNn69Oljr7zySl3vBagAMC9CijMP2yJcHGfiVSom4mmPOrOYQHUmbl3iIq7+iLOLCURX4tYkJuLqjzg7GxMKABEpzL8mBYD5a17XGasNAKdPn77kct6jjjoqechH2uGvNz0kxN/XdKlxPRpQAFgPFct1DrZFuFzuNaYbMdEYXYt8VjFRZPcaV7u4aJy2RT2zmCiqc42rW0w0TtuinpmNCQWARSW1vnUrAKyvnrmfrdoA8I477rC99947qfPiiy+2E044IbVmf/3EE09MXvf37bnnnnXrTwFg3aQszYnYFuHSGNfARsREA8Ut6KnFREGNa3DZ4qLBAhfw9GKigKY1uGQx0WCBC3h6NiYUABYQ0gaUrACwAaLmecpqA0Df8XfMMcckJd500022//77p5Z788032wEHHJC87u/zHYGhh/+Bae+YNWuWDRkyJBkyfvz42h4y8quBoeWYnZh+qXP4STSykQp89NFHyQNp/Bg2bJh17969kdPp3AVQQEwUwKScSxQTOQtekOnERUGMyrFMMZGj2AWZSkwUxKgcy2Rjwr+f9+/fP1F4xowZyW2+dPApoACw4J5XGwBecMEFdsoppyRd33XXXTZ8+PBUBfz1pl1/F154oZ100knBanXq1Cl47FVXXWW9evUKHq+BUkAKSAEpIAWkgBSQAlJACkgBKSAFpECYArNnz7YjjjhCAWCYXKUdpQCw4NZWGwCeddZZ9vOf/zzp+v7777edd945VYEHHnjAdtlll+R1f98ZZ5wRrJYCwGCpNFAKSAEpIAWkgBSQAlJACkgBKSAFpEDDFFAA2DBpC3ViBYCFsqttsdUGgHntANQlwAUHK0L5bNvwI0hcuCnFROEsa3jBYqLhEhdyAnFRSNsaWrSYaKi8hTy5mCikbQ0tmo0JXQLcUJwKc3IFgIWxqnKh1QaAed0DMEtWPQQkSyG+19luxMvncPUdi4nqNSv7O8RE2R2urT9xUZtuZX6XmCizu7X1JiZq063M72JjQg8BKTPN4b0pAAzXCnJktQHg7bffbvvss0/Si54CDGkpbVFsizCt0VU0LiaqEItkqJggMbrKNsVFlYIRDBcTBCZX2aKYqFIwguFsTCgAJIA6oEUFgAEiIQ+pNgCcPn36kifu+lN9fUdg2uGvjxgxInnZ37feeuvVTQrtAKyblKU5EdsiXBrjGtiImGiguAU9tZgoqHENLltcNFjgAp5eTBTQtAaXLCYaLHABT8/GhALAAkLagJIVADZA1DxPWW0AuGjRouSR36+++qoNGDDAJk6cmFruwIEDbdKkSbbmmmsmjwqv5sEeWRooAMxSiO91tkWYz+HqOxYT1WtW9neIibI7XFt/4qI23cr8LjFRZndr601M1KZbmd/FxoQCwDLTHN6bAsBwrSBHVhsAehPHHnusXXHFFUk/o0aNsq233rpNb0888YRts802yX/38Zdddlld+1cAWFc5S3EytkW4FKY1uAkx0WCBC3h6MVFA03IoWVzkIHLBphATBTMsh3LFRA4iF2wKNiYUABYM0AaVqwCwQcLmddpaAsApU6bYxhtvbPPnz7fBgwfbyJEjrUePHktK9j+Gw4YNs7Fjx1rXrl1twoQJ1q9fv7q2pACwrnKW4mRsi3ApTGtwE2KiwQIX8PRiooCm5VCyuMhB5IJNISYKZlgO5YqJHEQu2BRsTCgALBigDSpXAWCDhG3UaR999FGbOnXqktPPnj3bTj755OT/Hzp0qB1xxBEtpj7kkEMqlnLaaafZueeem7w2aNAgO/XUU5N7A06bNs3OO+88GzduXPKajzvnnHPq3o4CwLpLWvgTsi3ChTcshwbERA4iF2wKMVEww3IqV1zkJHRPpHFjAAAgAElEQVSBphETBTIrp1LFRE5CF2gaNiYUABYIzgaWqgCwgeI24tQe6F1//fXBp/Z7/lU6Fi5caN///vftmmuuST3X4YcfnjwEpHPnzsHzhQ5UABiqFM84tkWYx9naOxUTtWtX1neKibI627G+xEXH9Cvju8VEGV3tWE9iomP6lfHdbEwoACwjxdX3pACwes2ivqNeAWBTE3feeWcS8o0ZM8Z8N2GvXr1sq622Mn8C8B577NGwXhUANkzawp6YbREurFE5Fi4mchS7IFOJiYIYlXOZ4iJnwQswnZgogEk5lygmcha8ANOxMaEAsABQ5lCiAsAcRNYUbRVQACgqWivAtgiLgGwFxES2RmwjxASb42H9ioswnZhGiQkmt8N6FRNhOjGNYmNCASAT3em9KgAUB1EUUAAYRXboSdkWYWgzQIoTEyBGAJUhJoDMACpFXACZAVKKmAAxAqgMMQFkBkgpbEwoAAQBL3IZCgAjG8A6vQJAVufT+2ZbhEVAtgJiIlsjthFigs3xsH7FRZhOTKPEBJPbYb2KiTCdmEaxMaEAkInu9F4VAIqDKAooAIwiO/SkbIswtBkgxYkJECOAyhATQGYAlSIugMwAKUVMgBgBVIaYADIDpBQ2JhQAgoAXuQwFgJENYJ1eASCr8+l9sy3CIiBbATGRrRHbCDHB5nhYv+IiTCemUWKCye2wXsVEmE5Mo9iYUADIRHd6rwoAxUEUBRQARpEdelK2RRjaDJDixASIEUBliAkgM4BKERdAZoCUIiZAjAAqQ0wAmQFSChsTCgBBwItchgLAyAawTq8AkNX59L7ZFmERkK2AmMjWiG2EmGBzPKxfcRGmE9MoMcHkdlivYiJMJ6ZRbEwoAGSiO71XBYDiIIoCCgCjyA49KdsiDG0GSHFiAsQIoDLEBJAZQKWICyAzQEoREyBGAJUhJoDMACmFjQkFgCDgRS5DAWBkA1inVwDI6nx632yLsAjIVkBMZGvENkJMsDke1q+4CNOJaZSYYHI7rFcxEaYT0yg2JhQAMtGd3qsCQHEQRQEFgFFkh56UbRGGNgOkODEBYgRQGWICyAygUsQFkBkgpYgJECOAyhATQGaAlMLGhAJAEPAil6EAMLIBrNMrAGR1Pr1vtkVYBGQrICayNWIbISbYHA/rV1yE6cQ0SkwwuR3Wq5gI04lpFBsTCgCZ6E7vVQGgOIiigALAKLJDT8q2CEObAVKcmAAxAqgMMQFkBlAp4gLIDJBSxASIEUBliAkgM0BKYWNCASAIeJHLUAAY2QDW6RUAsjqf3jfbIiwCshUQE9kasY0QE2yOh/UrLsJ0YholJpjcDutVTITpxDSKjQkFgEx0p/eqAFAcRFFAAWAU2aEnZVuEoc0AKU5MgBgBVIaYADIDqBRxAWQGSCliAsQIoDLEBJAZIKWwMaEAEAS8yGUoAIxsAOv0CgBZnU/vm20RFgHZCoiJbI3YRogJNsfD+hUXYToxjRITTG6H9SomwnRiGsXGhAJAJrrTe1UAKA6iKKAAMIrs0JOyLcLQZoAUJyZAjAAqQ0wAmQFUirgAMgOkFDEBYgRQGWICyAyQUtiYUAAIAl7kMhQARjaAdXoFgKzOp/fNtgiLgGwFxES2RmwjxASb42H9ioswnZhGiQkmt8N6FRNhOjGNYmNCASAT3em9KgAUB1EUUAAYRXboSdkWYWgzQIoTEyBGAJUhJoDMACpFXACZAVKKmAAxAqgMMQFkBkgpbEwoAAQBL3IZCgAjG8A6vQJAVufT+2ZbhEVAtgJiIlsjthFigs3xsH7FRZhOTKPEBJPbYb2KiTCdmEaxMaEAkInu9F4VAIqDKAooAIwiO/SkbIswtBkgxYkJECOAyhATQGYAlSIugMwAKUVMgBgBVIaYADIDpBQ2JhQAgoAXuQwFgJENYJ1eASCr8+l9sy3CIiBbATGRrRHbCDHB5nhYv+IiTCemUWKCye2wXsVEmE5Mo9iYUADIRHd6rwoAxUEUBRQARpEdelK2RRjaDJDixASIEUBliAkgM4BKERdAZoCUIiZAjAAqQ0wAmQFSChsTCgBBwItchgLAyAawTq8AkNX59L7ZFmERkK2AmMjWiG2EmGBzPKxfcRGmE9MoMcHkdlivYiJMJ6ZRbEwoAGSiO71XBYDiIIoCCgCjyA49KdsiDG0GSHFiAsQIoDLEBJAZQKWICyAzQEoREyBGAJUhJoDMACmFjQkFgCDgRS5DAWBkA1inVwDI6nx632yLsAjIVkBMZGvENkJMsDke1q+4CNOJaZSYYHI7rFcxEaYT0yg2JhQAMtGd3qsCQHEQRQEFgFFkh56UbRGGNgOkODEBYgRQGWICyAygUsQFkBkgpYgJECOAyhATQGaAlMLGhAJAEPAil6EAMLIBrNMrAGR1Pr1vtkVYBGQrICayNWIbISbYHA/rV1yE6cQ0SkwwuR3Wq5gI04lpFBsTCgCZ6E7vVQGgOIiigALAKLJDT8q2CEObAVKcmAAxAqgMMQFkBlAp4gLIDJBSxASIEUBliAkgM0BKYWNCASAIeJHLUAAY2QDW6RUAsjqf3jfbIiwCshUQE9kasY0QE2yOh/UrLsJ0YholJpjcDutVTITpxDSKjQkFgEx0p/eqAFAcRFFAAWAU2aEnZVuEoc0AKU5MgBgBVIaYADIDqBRxAWQGSCliAsQIoDLEBJAZIKWwMaEAEAS8yGUoAIxsAOv0CgBZnU/vm20RFgHZCoiJbI3YRogJNsfD+hUXYToxjRITTG6H9SomwnRiGsXGhAJAJrrTe1UAKA6iKKAAMIrs0JOyLcLQZoAUJyZAjAAqQ0wAmQFUirgAMgOkFDEBYgRQGWICyAyQUtiYUAAIAl7kMhQARjaAdXoFgKzOp/fNtgiLgGwFxES2RmwjxASb42H9ioswnZhGiQkmt8N6FRNhOjGNYmNCASAT3em9KgAUB1EUUAAYRXboSdkWYWgzQIoTEyBGAJUhJoDMACpFXACZAVKKmAAxAqgMMQFkBkgpbEwoAAQBL3IZCgAjG8A6vQJAVufT+2ZbhEVAtgJiIlsjthFigs3xsH7FRZhOTKPEBJPbYb2KiTCdmEaxMaEAkInu9F4VAIqDKAooAIwiO/SkbIswtBkgxYkJECOAyhATQGYAlSIugMwAKUVMgBgBVIaYADIDpBQ2JhQAgoAXuQwFgJENYJ1eASCr8+l9sy3CIiBbATGRrRHbCDHB5nhYv+IiTCemUWKCye2wXsVEmE5Mo9iYUADIRHd6rwoAxUEUBRQARpEdelK2RRjaDJDixASIEUBliAkgM4BKERdAZoCUIiZAjAAqQ0wAmQFSChsTCgBBwItchgLAyAawTq8AkNX59L7ZFmERkK2AmMjWiG2EmGBzPKxfcRGmE9MoMcHkdlivYiJMJ6ZRbEwoAGSiO71XBYDiIIoCCgCjyA49KdsiDG0GSHFiAsQIoDLEBJAZQKWICyAzQEoREyBGAJUhJoDMACmFjQkFgCDgRS5DAWBkA1inVwDI6nx632yLsAjIVkBMZGvENkJMsDke1q+4CNOJaZSYYHI7rFcxEaYT0yg2JhQAMtGd3qsCQHEQRQEFgFFkh56UbRGGNgOkODEBYgRQGWICyAygUsQFkBkgpYgJECOAyhATQGaAlMLGhAJAEPAil6EAMLIBrNMrAGR1Pr1vtkVYBGQrICayNWIbISbYHA/rV1yE6cQ0SkwwuR3Wq5gI04lpFBsTCgCZ6E7vVQGgOIiigALAKLJDT8q2CEObAVKcmAAxAqgMMQFkBlAp4gLIDJBSxASIEUBliAkgM0BKYWNCASAIeJHLUAAY2QDW6RUAsjqf3jfbIiwCshUQE9kasY0QE2yOh/UrLsJ0YholJpjcDutVTITpxDSKjQkFgEx0p/eqAFAcRFFAAWAU2aEnZVuEoc0AKU5MgBgBVIaYADIDqBRxAWQGSCliAsQIoDLEBJAZIKWwMaEAEAS8yGUoAIxsAOv0CgBZnU/vm20RFgHZCoiJbI3YRogJNsfD+hUXYToxjRITTG6H9SomwnRiGsXGhAJAJrrTe1UAKA6iKKAAMIrs0JOyLcLQZoAUJyZAjAAqQ0wAmQFUirgAMgOkFDEBYgRQGWICyAyQUtiYUAAIAl7kMhQARjaAdXoFgKzOp/fNtgiLgGwFxES2RmwjxASb42H9ioswnZhGiQkmt8N6FRNhOjGNYmNCASAT3em9KgAUB1EUUAAYRXboSdkWYWgzQIoTEyBGAJUhJoDMACpFXACZAVKKmAAxAqgMMQFkBkgpbEwoAAQBL3IZCgAjG8A6vQJAVufT+2ZbhEVAtgJiIlsjthFigs3xsH7FRZhOTKPEBJPbYb2KiTCdmEaxMaEAkInu9F4VAIqDKAooAIwiO/SkbIswtBkgxYkJECOAyhATQGYAlSIugMwAKUVMgBgBVIaYADIDpBQ2JhQAgoAXuQwFgJENYJ1eASCr8+l9sy3CIiBbATGRrRHbCDHB5nhYv+IiTCemUWKCye2wXsVEmE5Mo9iYUADIRHd6rwoAxUEUBRQARpG93Ulfn/eRdV+qi63QY6koxbEtwlFELtikYqJghuVQrpjIQeQCTiEuCmhag0sWEw0WuICnFxMFNK3BJbMxoQCwwUAV5PQKAAtiVNnKVACI4+hb739iZ/xjvN05/jVbumtnO22PAXbI0PVyL5BtEc5d4AJOKCYKaFqDSxYTDRa4oKcXFwU1roFli4kGilvQU4uJghrXwLLZmFAA2ECYCnRqBYAFMqtMpSoAxHDzsamz7cd/e9reePfjFgUdNWx9O3X4AOvcuVNuhbItwrkJW+CJxESBzWtQ6WKiQcIW/LTiouAGNqB8MdEAUQt+SjFRcAMbUD4bEwoAGwBRAU+pALCAppWhZAWAcV38ZP5Cu+jeyTbikem2aFHlWr62xRp2/v6bW7eunXMplm0RbrSoc9772Ca99q5NnDXPJr/2rr027yMbsFpPO3n3Abl52tEexURHFSzf+8VE+TytR0fioh4qluscYqJcftajGzFRDxXLdQ42JhQAlovfWrtRAFircnpfhxRQANgh+Tr05mlvvmcn/PVpGz9zbuZ5tu/Xy674zpa23NJdM8d2dADbItxRvVq/f+6Hn9o1j75oT73ydhL8vdlqV2fT+G8M7pMEu0U4xEQRXMq3RjGRr95FmU1cFMWp/OoUE/lpXZSZxERRnMqvTjYmFADmxxbyTAoAkd0pcW0KAPM3d9GiRXbj2Bn2i9sm2IefLmhTwOZrrWjPzZxrCxa23BK4yZrL27WHDLFVei7d0KLZFuF6ivnhJwvsgN89bs/NnJd52k6dzP7942G2wao9M8fGHiAmYjuAN7+YwPMEoSJxgeACVg1iAssPhGrEBIILWDWwMaEAEIu/WNUoAIylPPm8KAHgx/MX2BvzPra1vrBM6R0ZMXKanXPnpDZ9duvS2U7dY4Aduu269vCUN+3YG55qExCu/YVl7PrDhth6vZZtmE5si3C9hPRg1+/j+I+nXw0+5d6brW6//dYXg8fHGigmYimPO6+YwPUmZmXiIqb6mHOLCUxfYlYlJmKqjzk3GxMKADE5zLsqBYB5K675EgViB4DvfPCJXf7QNLv+8Zfs4/kL7UvrfSEJRBq9yy2W/TPf+dB2uvAh83v/NT82WHU5+/U3t7CN11hhyX9+esY7dth1Y8yfDtz8+MKy3eyiAza3nQasGtTGwoWL7NOFLedremOXTp2sa5eW9xZkW4SDRAwY5Jf9/vL2CRVH+lOd+/fuaV27dLJxr7yzZIzvArz7R8Nsw9WwdwHmzYSHqX50coF0QCqQNxOQIqioNgqIC0HRWgExUR4mfG2ux7osJsKZqJfm4TPGGcnGhALAOJyhzaoAEM0RknpyDwA/0/XDRd3s2p1G2RUPTbN3P5rfQu08drnFsveEv45rs0Ps219a287YayPr0a1Lm7JenP2+HXzNf2zGWx+2ee2Qbde1n+4xwLov1fZ9PviNeR/Zbx54wW57+lWb10rjppP5rsNh/VexM/fZaMnuS7ZFuB4sjJo2x75z9X9aXLbt92s8+2ub2KZ9VrB1V17WunTuZHM/+NS2O+8Be/fjz5nfc9PV7PJvb1mPMhp2jryY8B8E/G/CTU/+1zw0PXe/zWyH/qtk9jX9zffsR3992l6e8759b9t17ce79s/1ydmZBZZwQF5MlFC6UrckLkptb03NiYmaZIN60z+fnmln3T4xWZfP+fqmQetyew2IiWx7x/93rv3ob+OSTQA/3LmfHbbdetlvKvAINiYUABYY1jqWrgCwjmLqVOEK5B0Azl/U2W5eMMwunr+/vW5fSC3Ud7lde8hW5vfDy+PwXXI3jH7F7nx2lg1Yvacdsf36tuaKPeo69TMz3rGvXvZYi3MevM069suvbtLuPP4QiUOvG13xvnL+NNnfHDQo2V3WdMz76FMb8fB0u/rRFyveY7DSZE1h1dcGrWlpi/CnCxbaX8fMsIcnv2Hvf7wg2bU2cPWeNmC15ZP5KwWYdRUQ9GS+q/Mrlz5qc1rt1Bzx3S1tt41Xa1P1JfdNsUvue6HFf7/zh9vbRmssD9qhpTJRr4I/+nSBXff4S3b5g1NbhNXLdOtirs267Vzy/v7H822v3zxiL835YEk5/u/q/31l43Z3Kvg9Nq98eJr9e8Lr9sW1V7ITvtzPlu++VL1aKv152D6sl97QOjUoLuokZIlOIyaKbea4V962/a8cteQHzuW7d7XHfrqz9ezAeikm2mfCPxPtfOFD9urcj5YMvPGobWzIeunfm4pNWeM/Z6LpowAQzZE49SgAjKM7/ax5BoAPLdjMzpr/XZu2aM0g3Xss1cUu/84XbacNwy51DTpphUG+vf4Xtz1v1496ecmr3bp2Nt9hd+yOfW3FZbrVeuol7/M5DvzdEzb6pbeW/Lee3bvawyfvZB52Zh3vfTw/eWLwfRNfbzPUf5E9fa+B9o3Ba9mfnnjZLntwqr39wadZp6z4+r6D1rSf7d7XHn/4geT13XbbzZZeurvdMX6WXXTv5BYhS/MT+JWa6628bBKe7r7xarb3ZmskO97KfviHtAOuHNXmSc4/3KWfnfjl/hXb94B2u3MfaBF07bZRbxtx8OAOy+Uhre8a9acPT5o1zz74ZIF9ZYs1koCrI0ejPqzPX7DQ/v7Uf+3if79gr837/INu81q/uPaK5h98W1+q3jTmZ7eOtz//55U27f1w5w3sxN02rNi2+/bDv4yzeyd8/u+pz0o9ksvwt1ynvB+wO8JA6/c2iol61qhz5a+AuMhfc/QZ2Zh49r/v2D+fftX6rbqcff2Lfcw/Txb1+OCT+bbnr1v+wOa9nLbHADtqh741t8XGRLVC+ef4C+6Z3OJtm/dZwW49dmhpr25gY0IBYLX/Kso5XgFgOX2F7yqvAPD38/e0/53/nVQ99tl8DXtx9nttdrl5iHTefpvZ/lv2aZiWv/r3FPvN/S13ZDVN5iHdMTv2tUO3Xa9DO9zufu41O/pPT7boodoPUB4iesB39h0Tk/sltj58F58HhR09+qzY3fbv856t19Os5waD7eIHXmwTcGXNsWHvnnbqHhsm4W097heTNZ+/7pdJeOj14pz3zbUYuPryycNSlmp1j8OQc4WMcT9+ctOzSYDV/NhlwKr2+4MHt/sh7bcPvGAX3julxfv+dfx2yeXC1Ry++/Cu8bNswqx5NmnWuzb1jffskwUt2fAc9vJvf9GGb7J6NadeMtZDusmvvmU33fu4WSezI76yg/XpVV2drSd27Tx88w+4XnPWcdKX+9sPdunXZtj9E1+3w68fm/r2M/YamOzmbX74ZcZHXD/Wxr78dpv3uVY/2Lmf/WDnDVIDx6xaWV5n+7DO4mtH+xQXHVWwfO9nYuKF199NrvTwH9/82HiN5ZOrNPquslwhjU37gW3VnkvbI6fuZEt3rXwLmqxmmZjI0qL1637Vz44XPGjvf8ZQ89f9R8qvbhG2iaLaeWOPZ2NCAWBs4jDmVwCI4QNdFY0OABcu6mTnzP+WXbVgr4rabt+vl506fIBtsuYKSXh1zJ+etEdemN1mrO+o2nr9tjtz/CEWfgnqCsvUdumeXyZ7VsqDG5oX0Xv5pe2EXfvbAVv2qToY8Ad+7Hbxwy12z/luo/tO3CH1/n3tgTjl9XeT3Uu+yyvr8EDjwK3WSu6L1r3VB7UFixYl91u7+cmWAZafs7MtsrWWM3v5vY7t4huy7heSJxtvuU7lHWi+G+6l2e/bast3t1WX757VzpLXZ7z1gY19+a0k9Jr42W63N979uM37/R6H/oAV35nol0s7K4PXXcmW6dY1eK60gX8Y9ZL9/J/Pt3jZA8d/HDfUVujRPo/Out8L8J1mOzU9OLz6kK2C6prz3sf22wen2g1PvNIm8Kt0Atfh2kO3sqEb9Gr3/B72jXnp7c8CxXkJY85b88B57S/0sFuOHWq9lls6qNbWg0a/+Jade9dEe6rZw1Baj/Hgvfm9Qbt27mS3HLutbdbn81sCzH7vYxt+yUib/V7Lh+S0Ptf5+2+W7I71wwPT710zOjN0dF4vOXALiqeS12Si8V2uU6tObO9D+RLn68oyS3exVXuGrytsXuXVLwoTefR79B+ftLuff63FVH41i99n2T+L5fWDaD16fWDS63bYdek/sJ2336Z24FZr1zQVExPVCpQWuvp5/NZE959U23eHautoGv/x/AU27Y33k8/SjdzNWlYm/IqTV976INkR3PzfvwLAWoks1/sUAJbLz8J008gA8ONFXe3kT4+y2xYObaPHpp2m26mHHWTb9WsZSHhYdsrNz7R5UEZ7gnpY4L+K7Tygd1W6e/D1k5ueafEev5TVQ8X5Cxc/hbT14b/m/vqbg5KFMPSo9HRY/0X4K5uvEXqKNuN8QTnv7kl27WMvpZ5j+Mar2U923zCz1tueedVOv3V8m4expJ3Y78u4Y/9V7IU3/DLTd5Mdd589tDW1Fr/E1W9g7L9sTnpt8W41D5c8kPHDAx6/3NqD3rRLPX3ch58ssP+9c4Ld8J9XMudMK8bvK+eXKfv9Dof2XbnqQNdDy989PM1+9/D0Fpws261LEv71a3Y/xvYMvvyhqXb+3S0v8fD3b9HOfS/9cpyrH3nRfjdyetW7Pb3vG474kg1KuRzY7/Nz4o3PJJcQZx1HDlvffrbnwKxhLV6f/Nq7dv7dk+z+SW+kvm/oBivbT4cPtPkLF7a455C/Yf1VlrU7frB9shPXdxAe+ccnk/v3NT9237i33fN8y/+2eAfklrZur2XskGvGtLnU2P/NV+K3pz/EZd9NCvlru9/TtHODL8Ev64f1qqDW4DYKxObCH351yt+ftYcmv5nU5n8TTt59QOY6KCsbp4Azcc8995r/rfXbivToUd/7Kzeu8urO/NzMubb3pY+2+5ns3P02rcttZaqrrPrR/iPj7pc8Yv5DW9rha/J9P96hprUm778TviY6f+gBrO8g3f2SkZbyFSSx4pThG9qxO25Qvak1vMO/H/z8n88lP1b77YqO32kD+/bWa9e887O9EmIw0cjPSf459Y9PvGzn3TUp2c3Zd5Vl7aJvbLHkM74CwBqALOFbFACW0NQitNSoAPDdRT3sqE9/bI8vbPuAi1O7/sWO6nK7df5/71SUyBfqc++eZCNGTg+W0C8V/r+vb7pkp0/WG+95/jU79oanWjy11d/zv/tuYttt0MsuuneK+cJX6ei+VGc7c5+N7ZsBv+b6U193uPDBFju9POC59dht6/JB5MHJb9jJNz3TYheU3yTYnw5czX3f/vv2B/bjvz2d7P5q78PeKbtvmIRnzT9EeSjnu8Sef3We+a64kJ2JaXP4/d48YF3rC8u0GfL8q3OTJ72GXDKa5X/T676LbZ/NV7evbbGmbdZnhXY98dD1j6NetssemtrCz6ZzXfmd6i6z9YdXbH/+g8mly02HP/H2+sOGtCm/6QEsv77vhXY/kDe9cfUVuttKy3RLdvI1P1ZcZqnkfnrNHxrjD8O44qGpdvF9L7T595Cmo19i7TcBz9rp6O/3kPfif09JLpVOC4o9WHdmt+/3+RN/K12a3/TQnL+NecVO/fv4FuXtOnDxpdcejp5716QWr/kOyKWX6twm5Padp9ccspX5Toe0/n23rl9OPtB3kK6+fPLwm6anOodyltc499K1vuaxF23l5brZpQd9sd1AuSN15f1hvSO16r35KRCTi/smvJ6Ef83/pnrnnoX7LmDfxb/aCtoRmB8NZr52/fK28fbn0TNspaXNLv32YNumX9uHY+VZU6Pm8ltLVLpPc/P5fM25+MAtbJu+KzeqjA6fN+0Htq9usUZyb8Pmx5Xf2dKGb1K9n3n9nZj74ad20o1PJz88+ueVpitBUB9gd+i1o+3Bz368cJ39+4Z/Xnv2v3OXyO6fvx46ecear8IIAcSvUjnzn8+3ucWNv9c/E520W3/76uZr1hT+ps3fKCb8ypaX5rxvE5ONB59vQHh93kfJD8tHbLe+ff2La1a9GaA9HT1AP+XmZ9v84O2bHU7crb8dNayvzXp1pq211uKrU2bMmGF9+jTuVlchnmtMHAUUAMbRnX7WagNA34Hku25uf3aWvfrOh7bGij1s4OQrbMPOM2xAp1ds3U6v2RxbwQ755BSbsGjdFvp2tfl2/lIj7OtdPvuF9BefL2iVjLjqkenJ/e6qOU7e3X8Z69tukPP41Nl2yLVj2lw62fpXNf8113fZVbok2WvynQXnfn0zW6mdh3j87x0T7PePvNiihb8fs01dHzTgu+que/xFe2Pex7bnpqvbjhuuUlO46Ivk5Q9NMw+Z/PLgpqOay589gPjn0zOTALVpd181/vnY5k8k9v/fA2EPNHy3XOv727U+t1+e4Pfa8fu8zWr29LSQGtZZeRnbvM+KyeXCA1dbPvnf/mHdf4m9JXlQxZQWT2Rrfs7jdvLE4bsAACAASURBVOqb7DKp9hgxcpqdc2fLsOrvx2xra39hmSUfVCa+Ns/8stn/vr14t2Sbnrt0tr03Wz0JMD2g8g+4/uAa9+KHfx1ndzw7q8Vb3M+bj942CVn93/AJf3s6OX+1h/9bO26n9F+h/UvElQ9Pt4vvm2K+s7fS4X36LtW9N129zQdJ/+K4/xWP2zPNPvj6Oc766sb2f3dNWnKPJf9vKy/bze4+YZit0nPxZckeAPoTfts7fBevh61NT/t+6pW3kwft+KUaWYd/KPfw2HcUtD46d+pka620zOIvGp/54XN1X6q2eyVl1dL0ugfUXn/zy89cD79cqBFPN27Uh/XQfpHGTXh1nv3fXRMTzo/aYf2qd6Mj9dLRWmJw4eyfc+dE+0OzB3lV6sMfmHXo0PXsmB361nzbkI7qw/T+Srd1WW7pLvbXI7dJbvtSpsMf/PGV3z7WoiX/4Whiqx/hfICvG76T6se79q9rgBKip/+N8isYfJ3wdcrvv73LwFVbrE83jpmRBOnNj6Yf2Pb8zaMteqr1B+1HJ8+y//f3sbZUZ7PT9x1sQzes7R7F7fXsP05/9+r/VLzfb9P73Au/NNNvk/OtIWvX9Nk5RPeQMY++MNu+c/V/Wgz1h5l9eaPVbJ/fttxZ+t2t17GzvtZ2g0XIPFljnp7xjv3or+Ps5TntfxZyvv17k18RVI+dlfVeO56Z8U5yn2l/+GLaZ9AmLZwB/0z75Y16d7iXkVPetJNueia54int8FtanbxdLxu88eKHBSoAzKKyvK8rACyvt9CdhQSAHgw9Pm2O/WPczORDQ9PNjSs11t0+tm423+bZsi1eXsY+siuXutiGdWm2aycjAPQT+MMzPHipdBmCX6brv+61Pnxh/MVXNm7zFFoPFPyhASfd+Eybm+seNWz9ZAdSpUXMF+Vf/Ov5ijvPPCD61YGb27Z9295b7ZU5H9iuv3q4RWi156arJZcjIh+PT3nNfvn3Mfbe/E72ja372vd36F/1A1D8C1k9nkjsD2P4xb8mmC+orQ+/r45fMur39Vt8j7/lbd2Vl1nyK57vvkx+7fN7BL42zybMetfG//eddi+taD2H/2LsgWRamOk7T4/Ybj07ZfiAmp567B9QfRdgc779F8K0S9Cb1+cfXPfdYk378Zf7p96rzj/0fP8PY+3hVvp58OYPt/m/Oye2eBpx0/n9V9HB66y0WNvVeto6Ky5lx1870sbN+fxphh6APXrqTqnBVqUvEU3n98DOL/c+aMja7d5TZtqb79lev3nEPvq0coDYdD7f+ecf3JoODx/9Pjp/GT2j4j817+2q7w1ucynWux99mvzqfcu4mXX9J+qc+P0hN11zBTt8u/Xq/uXXWT/iD2Mq7uBt2jVZ14ZA7gHou2jvnfCajX3p7eQ2Ak07NP0hRMsu3fH7fIZo5n/n/ctZ87XoO1uvbafvuVHVfzdD5kMfU+8vcVn9esDiX1anvJ79MKGmc/nfdX9Ku//bqMcX16waGV/3L7+HXTem4gPE/O//TUdvY+sX9MEYlfxsvXPLL5ccecpO5j84n/r3Z+3tZvf7bXq/3wbmwgM2b+h91ZrXOv3N95KrKMbPbPnju9/uYo9NF98WZY0VeiRrbvMHUDT/gc1/4PVzND/+euTWtvX64TsaX5v7ke180UNLvkv4Dt3jd+5nHna1dwuYav4d+WefI/84dsmtAELeu9OGq9gFB2ze0J11aXX4D7aue/MraPwz1sMn75isZSf+7ekWn0v8M8U9J2xvG6zaM6S1oDFeg/9w6t+5Qj6DNp3Urzrye1j7+utXSvgPj63/rjbdR7DpM7lfddT6ipAFCxbY668vvoVL7969rUuXlj+a+o+rfg9vv5dm1n28733+NfvBX8ZVfGBie2L4/Z/9AY2D1217z/ksEb3HC+6ebFc92nLTR9r7enzyjk26ePHDMRUAZqlb3tcVAJbXW+jO2gsAfXfQVY+8mFwK2959QLIa7GVz7dpu59umnVv9UQwIANs7t+8MO++eScm92Foffv+7S765hfkv/v6wAf/Q4rsWW18a5O87cPBa5vdlae+LQNO95/70xCtt5vIgxoOMNVpdWjRyyuzkl6emY6kunZIHf6yzcstwNEu/vF+v5xc4v1/eiIen219Gv2Jz3v8k2VHXFNYt3iHV0/xLvN97LuvXxuY6bLLm4nsxVvtkvTfe/chuf2aW/ePpmS0uqahF4z02WXyPxWpraD1X6INomr/PP6h66Oi/wGYdvmv3u1ePticrPPW29Xv9g7gHc747ofkHcWfi6lvutQvHtwxV/JL5b39pnTYl+OUPu/zq4TaXSvt9Er8/bP3kybwerIYcfxz1kv1Pq4etNH+fX4p/7n6btTlVsgPyL+PsjvEtd0D6/Sj9Hpzt7cjzvxe++7i9X3BDaq80xu/FePsPtqvbl1//O33ItaNTAxD/+/SPY4ea37uznkd7fyc8gPV7sHko5l8sa31SZKV6/QepR6fOTn6Q8vs9fvjp4qdttj58R6//jfF/I74zuvll7/XSwf9tff3yxyve9sB3FDhnIf9GO1qP/+Dit0bw+2y6Hr4rxy+rzwq33CcPA3yXrf/b9MC/76rLdsiveq4f7eni/779lhO+G7jS7g7/d96v93Lmf1/TfkDwH/2O3qFvpvzus++k9uBw14G9O7xry/9d+I+R/gV/2xruQ5tZcLMBfuuM8f+da8t175r46z9EeHjQyMMfwPK9a0e3u6b7zmsPAf0qkkqHM/3Y1NnJrvv1ey2b3HqhvQdPOQPTZ7+X3F/Yf7BztisdKy+3tPmlrFkBQjX6+O5x/zvQ/GjOll9qeOKNT9tjU+e0Oa3/iOmX0fbsnv7gsJfnvG9PTJ+T/C1p/iCs0BpdixvHzrBf3DYh9e9l07mcDf+31fxo/gOb//3d8cKHWlyR4FedXHdo21uXpNXn996u9PC59m4BE9qrj/P6/UcB/8xf7dFruW5JKLvjhqtWfKt/7xjz0lvJ3033w4PPkH9P/kPRQ1MWX4a884BV2/hd6QdTv62Rf7fww9f5nS58qEWgVc2D47J08PP7bYD+U+FqEP+s5j/G++Xt7d0mqGmOlZbxS62Xt/69l7N3Pvw0+TfpP+ZWEyq2V6//PfDP/5v2qbyL+Ib/vGz/84/nqvqxv/V8/nfe/w2H3u/d11//vNn6tjt+Xmdqt41Xs7+OfqVFTfPnzbaZVxySTK0AMIvQ8r6uALC83kJ3lhYAeuC384UPVdwdVE1D63R6zf6w1Lm2TucKN/7vYADYVIc/ZOOsOya0+TXJvwD5JSjtBUu+I8/vkxWygPt8fvmzP6Sk0q+5Wbr4TrEz9t4oa1j01xv1Bc4/0KeFLu3db6S1IL5b86TdNuzwr+b+geSf42barU/PtBlvVb68tpIZX/rsHotpD9Oo1kDXZdj5D1qlpxi3PpeHOD8dPqDq+wf5DrEDR4xq9/6M/oXMH6ZT6ZfPJiYum9DZpsz9fBeghywPnLRjm38/vsvW7/nX/PCduR4uNl2mG6qTf3nxS/Zb72L09/v8d/5w+9TdXv6l0D+UNV0W+71t1rGf79N2d3ClWnzHsN/bcvEDaxbvJPV7yHTkx5CmeTbvs4LdfMy2tlSXz7UM1aP5OA98/KnGr837qN23+9/Cfx43tN3dFf5kbQ8m/It2SF3t/Z04+/YJS34F90vTfYdIyBduv3T/uZnz7NOFbXd8LliwyB6bNtv+lfwg1f6Tn1uL4SGo3+fTd31Vur9oLdo7l74TJu1esX5Ov/ekf4k4dOi6mWFcSA0+p9/awHlcfD8j53OeTZ/9fpsv7f7FZd9BayYPm2rds38Z9ZDb//ZNf7PlQ398J6X/qNH0Q81Ga/iX3C8Eh4KNWj+a9EnC5SlvJjdWr3S/Wb88/+d7b2wHDVn8xFV/KMiv73/B/jpmRhuN/Ee5W48d2u6OXP8R64ArRtnk199NSti+Xy+74jtbBv+A0drXhya/kTx8rInhRj1xPO2hS/6jqP8bb7oXmv8NrXQjfI8IPWzynWzVHH4p7KHXjkl+8Ms6/Kb4fk9aD+WaDg9v0m654QHg4nu39UwetvX2+5989nd5XhIwfLqgcujXuo7Wt39or07/gdLPvfEaK6R+Tjz4mtEtrlLwHXOPnLpTi795Hhz9/pHpySWJrYOQjVZf3q47dCtbdfmW96f0nXK/vn+K3Tj2v0vY9R3kp+85MDiE9rX/tFuftTvHt3wycZY3Ta9X+oHt+sdfsjNve77FKe760fZBP3Z4IO0PSkm7H3BHH77lfx/O+MdzyYPimh8evP18742SIC1Zy1+bZx5Upz1s47ChfmXHhks+s/pngVvHzUw+M3oo3XSs2nNxoOy7J93H5j+6+IaDO559NXmfb0RoOvzf4K4b9U6u4BjWf5XkPpke7jX/DOi72O/80fYtmLvwnsn22wentujrz0d8ybbdoO0VSKH++ri7xs+yn94yvuIVVYP8vtwHDrK1V14mCdUfmPRGcmukanZcV1NL6Fj/2/2T3Ta072+//pJ/C16f7178zQMtNWo6p9/+pumKIb/Nj/tw6QNTK4Z2/h5fS3570BcTr9o7/Cqxo//0ZMUH83k4fsH+myefe/1WOx6yNl1RpAAw1O1yj1MAWG5/YbtLCwDb25XkPx4P3aCX7bThqjZr7oc26bF/2qSFa9mbtlKLPjfrNM2u6XaB9erU8kEESwbVKQD0893+7Kt24t+eybxHXPMCfeH9/cFbBn+xaXqv/5rrAYfvQgk9/MPHyJN3KsR9hxr9Ba49zdp7IrF/0PrVN7Zo8+ToUA/SxvmHBr/B8rMz5yZfpv3DoX958lCy+eFfOk7dY0Dd7nfS/Nx3jp9lx//5qRYfRv0S5/6+g+mzL2ubrbWiDVprxZqDBN/9eMCVoyoG4n4foLO/tknqQz2amJj8Tie7fGLLyzJ++61Btvdmnz/RetS0OXbQ759ood1em61ul33rizVb5V/id7tkZIsdhf536KajtzX/At3e4f76A2r86cEd3a3p8/iuQH9SX9qtEHwH1gtv+E6UxSyl3VPwR7v0Sy7fzjo8FKt070tn9LgbnmrzI43/O9llYO9k123z43/23ii5/Lj14fr4PTuveHha8iXTv/Dvs9nqyRca30mWtoss7e+EP01631a7YfyS2LO/tmm7rfr7POitdFuHLI1CX/cvDd/Zep1kh2vz0CH0/c3HVXOPWn+4j+8qqSb89l1niwO+zwNoZ2reRy3/LoXUPmTdLyR++r1dfedkyG7g5uf1ndsn7NrP9t+yT+Yleo1cP5wRv79npV0qXq9/Af/NQVtUvCzOL390zlvvCPadmv/6wXYVf5zy0MZvodD6yeW+A/3aQ4ZU5af/0OP3sfX72bY+PPT4369vmoS1HT38y+Wv7p1it4xLf+hS6Bz+N9aDkJOHbxj0OcnDTX+4Wuu/jWuu2N0OWus9+9v0Ljbj/Za7D/22CH/+/peSQDXPcMHDAL8HrAcClQ7/u3jd4y8lYYfvIPUrPPzfcOuwZexLbyVPrG9+nLHXwGSXe6XDf8g65k9PttHIH6zwh8OGJDvD/W+gX4p57WOVd686JxccsFmmJ/+ZPicJHJoHVk01+W0+/N/1qOlzUsM4v1WIB3utb6fgV8QMPe+BFlfUfG2LNeySbw7KXIu/fdV/klsKZR3+44VfYeF/s1sfvqM87QFkF9wzyS57sOX9f33X/Z+O+FKbB+N5H4+88Kb97NbnKv6w55/5/LOR7/6ttLOrdV3+t8T/zrqX/kOV74LP2vXmu+Xc89Z/k51NXzeaH/6ZdMcL/JYxn4frTeGxtZLJf3xyjdrbBe5rzC//NSH5caT1kVyWvdMG9oNd+rX5QbC9kD7L13q/7jto/XuBh+6n3/qc/W1s216+MbiP/XSPgRV/zPC/8f969lW78N7JFTcCuA7n7LupffOznZit6/cf0vwHndY/Prj+p+05wA7ZtuWPf/5v229P40wpAKw3DcU8nwLAYvpW+KrTAsDW95vwRv2Dmi9u/tTUVXs2+6XyF4u3Yc9etLxNXriWvbBoTVu+0we2d+dR1q1T5cuzkjfUMQD00z0+bbYd9Ycn7d1WwU1rkzww8C8y/lTA0J1/rc/hi8ZVjy7+NTfkV2cPV/yLZxGORn6BC+nf7w3iDzMY2+ySVd+Of/7+m1W9GyFkvkpj/MO/P3TDv4B7yL1+r+WSXXe18hJSh19G5A+e8QDHv5T4h+9KOzNCzpU2xnd57X/l4/b6vMU3J/bL/n751U2SJ6C1ewn8hx/avffem3xRGPHySsn9FJsO/zL8r+O3S97v90DZ49ePtNhV5F9u7ztpB+vdandDtX3c/dwsO+aGp5Z8WQkN0Kqdp97j/UO7h3X+tG7fqdV0OEs3H72Npe0k9S/yHvD5DblDD99R418cXGu/n1DzX+nda/dh9RU+v+TOdx74/aluearyPQ99d5DvnPO/+37pYPOj0t8J/3fjX4YrBUzXHrKV7TSg8mVVHvD6rpCQXbCttXAd/cntfomjB2QvtrOro+m9HjYcOWz9JBCt5V6Bfl8vv1l7890jPbt3tUsO3ML86dUeOLc+/AvKCV/unzw9vr0dln75vO9K8AD345SH54TyUO9xzpffesAvr602GO5ILb4Dy3e/3PVc+i4m32EfElRVCgh8h+aZ+2zcpsRKTyJvGuR/nz2wWbfVv4tKffoPBn4/qko7FpuP97/D/vc49PYIzd/ru+Euf2iqXT/q5cwb3lfrxeJgdVDq5XB+79QRI6fbFQ9NaxN4+O7jKw7a1MY9/rC996nZ1S8tb9Nnt3y4gN+T1XfphlxeWG3t7Y33f7N+eWvr+9f5Lm//e938aax+Hq/Rn97pO4n9gWN+fPuqJ1pc2ushv//Y6z84pR2+S9Lvj9h6J7OHQd/60trmt5rJ+iGkvUuH/ce+S++fan/6z8sVwz2f43/2WnyPUv98c9vTi3epNefTA4y/HPml1AfW+cPi/AFfzdezh36yY7s7rP2y98OvH9tCliGrLLTX5i9rr6Q85CxNQ9e56RYPTbtZR77wZvIDQfPD+7jmkK3a/eHY/fYntv7/9s4F7qop///LqHTBkGsuoZKQIioVpahcBn+Xcr+LQWbMIFNmkGv4MWQi13GfhNzKkFsTkopKyCUiCbklFOP2f31Wsx/7Oc/e5+xznn3OXvvs93q9vGZ49l77u97f79l7r+/+XuSAdmEoOEH3lqCh9FY5uqIM1cTeN+T5rXdNZUf430m8OZUNok7Vqu2Xb+ijhtKs9e6qZ6/ec/y1I4PO3bh5E/t+axujNaj9G/nhxx/MO/NWRO+1btPGNGxQOy3+6TcXGzX2yB363Siqeeq7dZvZKXVZv9dC5TCULXL3i+/bZ29Q9LIa9vxh1za15rlx8rvmokfrNqosVP5D70lKgR925yQz7+oj7XJIAY5i0dV5DA7A6tSr86sKcwDuftXkWi8DeWvl/M8BWPRiY3YA6voqCK6UuNyNpGpGaBOrUP04a/ApFWvs9IXmgy+Du2XpJVGRknI4pmUk7QAUJ9WZ0QupHAn6Crp7+/ULPsDTwjdpOZVWdP3kFV/Ij+m+mU3tKDT8NvHThh3Nn++rnf5z53Fd7Qv2NU+9ba544tdNgeYdvs/WtsNeHEOpFo+/9rHteKzfVKGXujiuGdccenHd/7optdIQ9YI+ISCFWfeVo2+ZXjC11y+b6ifdfFTnmq7kqlOkiE//UG3U0UesaEKk1DY5VIMa7AStuVurtawT3ksnDbpPKJJVEUBBQ+l7KlqeG3mnF29FjBYblaZ0+P223cD8ruMGtWqDefXw9CyQI+7+lxaGfhSSTPo4o/tL1KEPFHtf81ytMhByDNx81A62+6+c4HJW5XZ/9+aXI/X0fm3NXtu0qGW/0oci7+VIyY0+jiqbNldKlQ6K+Mk3h9cJO2rndtmaIiqCNojFPj+k/zHTF9gNke5NQUMbsty6ZN5xSpVTdKvuP1GGrrf/dc/bVHP/8O5h3n9TEfkT7ngp75Ry6sq5EFZfUxu9O19cYJQSH9WZK6e76lsp+jbK0DWUkqnoxrCPn9ogy+lcioPdkyE3tVr/XbZ+19QFNi0xqL6yHPPXHd7JNPjlR/sBSaPDjj3N4f+cGdpYK3fNcrQq6yIqP0XqtVlvNZvelzt0X80t9yEHkZwdilLXyE3RDtKBnj/SkeQ6+Iba0e7n7r2V7TRdaKiun1KHi6l9nDtnbuqwHLFySqgJQVCE+hpNG5oR+3cIvd+Jj1KF5UxWo4V8nZp1TPcRT9eqKahoJzXgCxp6p+t/1WTzjq/kwBqNfjFnb/uT6d2nj7lk4rt1yoYUYljo74reuvawTmb39oU7DOt3dMfU923t30IdY3VdPTuKLQeiiDzd5/NFBUpmpf6GRaaKoz6yKsugmOE9L/fqsIF5YObC0OAF/Q4U8RYWYZnvmgqM0IdzpVfLGaioa6/2qFL3VYc3X63LQs8OfbCU43nUpHmhUauefOKojynFBl7kK0ekeowX7Lu1UTMSdZ0Pavah5/oVAzvmrTHtyTjllbdMj45b2H/FAViMNVfXsTgAq0ufqVlNkANQL3Vbn/N4rYeU6rSEfg1yyAEo8NrEqLupUu8U7acIFr2wpclZkKQBFXoIJykb106GgN8mdt2tr9nr2hdrbVy00ZMjRWm6/pdn/e5UY6uckZPJECntqrlRE5pF0Rh64faGir0r7fDrIlI9FSF7zSHb1Yk6Oeu+V+qkxMhRpdpeYR06861MzomHT9nJljLIvU/8pmEj0/fKyaEpz5pXkWPXH7F9rXvxXx+cYyNe/MPrvp0rizawSm9WulnUDqJyTIx6Zp65Q5FRP9WtLSjnnaJhjg1Ij869vpyLB1w3pU6EnyIMVN/SP5RapuZGYY1k9NtQPU/V3JQDbORT8yJvKBVV69XoU+SDf3OlTZiip9XoSGlGYZFEcgpps6dUu04tFYG1klG9u7dsfawVtQVnL1xSx1HmX6OK2R/RbROzc5u1a1KDoz4/JKfScZV6VYoTRE5LcdeHvWLvL4rIU8Sp36mkdMjHTtvZdgZXQff/N+r5Wo5YXUPR2arB6B8q1SAnl9c0QBGc2vyKoZxJz75dt1SInFNn7d7ORnwHdRzXtf7QZ3NzYq9WeTeSsi2lnwXVR5WMuU2X/LJ5JQqCHHc6V1FkQdkN/bdez1yyfwfzn7cWW6ejNvxBQx9bVftKH0FzbeKjb34yA69/IW8tT0V16cOzPgAq0lYOM6/mpdgq0lcRfHKUrKgLuLqRM1j3prChcgrH3zajVnaBjtU9QHX1Fi35LjBFO2g+pZUq0lpyeENpxf85s3ekzb/OkQNJ92GVIAkbsgVFDev9e+i4OYGpw+por9Ibil4K06c+4MjRuX5Os7rSnmQrzhr+yGvmn8+/VzOFnMRT/rJrYKaGnGtqzOAfh7f5yXRe5xfTr18/06RJE1tP9exxcwpm8USV+bIDOpiBnTeOerg9Tr9dRcZ5NT/9J0u/NqJu2w2tzek+ofvsgzMXhTq09VtXAwg9sxTZp+e67nuqJejPcvGuE9bUzC/HM28utnU24xyyZ32sTfLDatRnh96RlNqeey/2eIi5Ipb7bx39w56fpVcWJbfeoo7Ru5ZYBdX+lQNcdSajZu749984AOO05nTNhQMwXfqqGmmDHIAq0rvXyOdqrfGV8/qZ1cO6lDnmAKwa5SS0kKgP4YTE47IJEMi1iftnL7aFtv1Dmy//S7O+wD48eKe8UQQJLCXRS+rrvVJkc9N65ZSTY0sRdEp/D3JUBQmuzeFR3TY1w/ZsF1ibTVEa6sbs3xTKcdJg5ZXqOF20eVOdvg+/XG43Nf6Nrf/aKmqtSMP/fv9dTVSPNnB3zfjIRk/4h6J3cmsgKopQ5Rc07pm+wJx1/5xa59j6SYN3qolkjEthitxTSqcii4MK0Ku5kJwyYS/v2hSo9muuw6avnJqHbx94nhwuqvejbsVhQ07NJct+CPyzfkNydK5IcVvh5JDjTzqM8kFLH/P+8+anVp9PzV1sHR3awGgDq82ol8aYj7EcmaqDlhsx5z9HXQ5VB1TOuLZrNTJPPPGE/bO3sc+dX5G8Ix6bm3fOfLxUm0qRHfk6eReyG9VXG/7I67UOU72vi/drb/Yd9Xyd5iiKMlT5E228c1O89TtUcyhF5RTqHK77pDanctxqqIbUXx94NdDp0eK3jY1Sz5Qa7O/KrvOeeWOxOfO+X5uJ+Beiumnqzj64T5u8nXPzMVIErRwhQZFGmj+s9IlsVp2VVaDf+y0FvVPoPfPg66fWWbd+/4qQ3bfjhpE30oV07f+7nPha18TXw3+TtW17Feu8ue2F9wqWezl/363Nkd2Ki3bPF4mtJnXi6H3sCEsdzrd+OUNO262tLXlQrKO8EFd9bO912TO1ggXUGfeanDqcikzc5fJJtVIrt26xmjl+ky+N7MV/n1CZkvMefs06tQvVz8snnxy6g3oG12EstC7ZiKK4lUKtCFE5kvShpGtIx1/vo4ueLf9+9SOzdPkPpnvrte39UA7zsKg3rxnTQ7MXWWeinLTXH7l9+F7rf4LrWaTGRqoTGdbhvNAa/X/3Ilpzy3wUM0ccxxaz95AzX8/W3OY2+nio96mgZnbFyqgu82p2E9awxj+fPlboHSLKc9k7DwdgsRqpzuNxAFanXp1fVZAD8N4ZH5gz73ulRnalFT07pE/4WnAAOq/nYgQs5iFczLwcm14CuTaxUoNGZqdLn84bwRFWVyu9FOKRXI61Pa9+tlbqlBwoShtTNFTuy6aimNWduVmjBnUEUA2nQk4QpcCefu/svMIrGkypjF49Qm0wZi/8yjaM0Jfu3KgSOWBO6dmyxgHYZefeZvdrptaKNpPcioza/apna52vqKTHTutpN4MDR79Qy9kpJ+T9J3W3HTfLNZTmpg6yufW9F2+5GwAAIABJREFUdD1t9C/7X9SS//qKrhnx2Bt16g+pkL66K+dLa9I8YeeHrVGOOm04FeG20ZqFU/SjsFL6lOrE5zqSopyrDe54Res9/mbeCE/NtUnzJmbLpt+YDZoa03HbjmaVRr92kZXTaOyMDwKj4grJIdtQzcYTe7UuuEEuNJf+rjUd9c9pdWRRbSptxv1DdqHoKW3u5Mw46c6Xi2oC5s2lCBFtFHN/s3J6nHbPrNA0eMk0pP8WRs5mRS2qzpkaVAQNRd6d3neLSKUdCnGSI0Spbre/8H6hQ+3fFeGrzqlt1l3h3PRG2DuFGmgMvnumLXWge9CpfTY3h+3YsmBzi0jC5DlI6eTnPFS3U2zuKYpw1QcLpXvammljZtZxDHvnyFk76cxdSpJdv81zHnrNRgLr/q+u20qxD0oDj5o6LMfagO03Nqf13dz4677Wl13u+UH1wvVblcP80C4t7W9GHxBUH9I/bjtqO7PkrRVRbEEfCtSg4vsf6kZs63g9OxSp53VDf/OTX1O7tW45zdW8or5DelFX9GKcOrqvqIu9GpUUM5Q5EeWDjH9OfeBZ9n1wnfX3Pv/WPDRrkW1GEtaRW88ZOevFq9hrF7O2qMcWu/fQe4qeJ2pkotqDylC46cgdbIfwuIY6JP/xnlmhaeGyD90j9u9UfJknHIBxaSnd8+AATLf+Uit9kAMwN6xfX7CuP2KH8DXiAEyt/oMEL/YhXFWLZzGBBIJsQmmVaoITNJROp4YTpRSzz4IK7n5xgf16XWhoQ61ooUJOvnzz6CVZNfaCCmTrPH/3yaB5VJdN6ZK59Y6uHtjemA9m2VNe+nkzc/uLtbvvjTu5u00tVc3GE3NqqWljq3m18fcPOTqVYlXuISbqeqyurLlj581Vt2x7a7uvL1pqLnv8DdvNMXfo7w+e0iO0MULu8brmY69+bH8zQYXXvePldDiz/xZGkTSuDa9e38in3s7r/C9F7u1armFO2LlVoDNVEatqJlHI0VrsdWWDqkuWr+GC6qzJKe1v6iAOir7TBjvKUK1AdW1VjciwoehgpXBe8/TbtZrL+I+XU10RY0HNRJSerNpTO29eu3NoFPkKHfPk65+YIfe/Eppe2nnTNa1jc/tNgpsG5HunkJNRUcKbrtWsok4I/R7/8fS8OjVrxULOEHXyPWLHTWo5f+SUumD83Dod1nXORfu1t1GX9RlyBCtKT87EfE6nQqnDchTLYRynIyRsXYpi2/sfzwX+hvT8UmkE1b71lwaRfCMHbF0rglwpwPUZcszr45q62Mf10aQ+8rhyrpyYz837zH7M07PYixjUO9qVB3W0kYqujFL3Hipd8e6n39q07GIdr1HWPm3+F+b426abpTllWZQKrHeF3G7NUebUMTgAo5Kq7uNwAFa3fp1dXZAD8OAbXqi1WdTXoT/uludrGg5AZ/VbimClPoRLuRbnpINAkE18tewH033EU4Fd30Yr8itC4e10rD5+KbX5VC2qp/J0HVRtwAv2bR9L2pYimva4enKdFDZbRP7YzrW7ugcsVy/Ah944tVZKVtOGK5s/bPW9abCSMZe+0tD84GuJ+7sOLcw/Du1UM9OQ+2absTMW5gWp6C5FjVRyqPGEuiDnNpiQs0kFy5U6G5T+o8gJpf2qtlOxQxuye2cstB00/emicorKiZLbkbTY+StxvAqlK7JUKW/FdKkOkk1RlEP6t7OpcsVE2sS1zvGvLLJRaEFDUWkqY+A1vvEfo0gfRYWqaUvuUNqlUnyVtr3Nhr81Si1WbcEoY87Cr8wl/55rprzzeZTD7TG7bbmuufSADnUa7ESeIMKB6tStSGJ/TcO2661q0+bltI7SRV6XCUsLjyBCWQ5RGYJhD7xacw/ITdEOuqgc+X8Z90pN6r7OeeTUnSrqwAxKHVY35aF7hjtiywLQGBuJp7Rqf9d571q6V/rvoYqYevxPPc0Gq64cqwOwXGurpnllMyrp8O33P5l+eVKTk1qzy3sPRZyqwaT30VJZG8qaUD3lUgcOwFLJVdd5OACrS5+pWU2uA7BNmzam4/CJtb503HBEgY0ODsDU6DuKoC4/hKPIzzHxEwiziYsmvF6n26k2g6rBksRmPv6Vl29GOX8UfRRUtF2pn6f2aRMrQ9W/U+SWN3q0WcuMPnz7yFFV6jSqejj+sU7jX8zajX8xc5f82nFTNZOeOr1XLaeJHEZKe86tB+jN1b31Wub2Y7uUlJ5aXw2poPrJd75cKyU735zq3HzuPlvb7u71GYomkiPw7cVfm15t17VOnDT+ZhR1ozp2ijB57/NlkZGooL4+LqrofClpyZEvFOHA08bMNA/mRPMplfCO47qaHm3yR8goqkbNPpQm6tVoVDRbfeqt6QOBHG1K9X39o9rdiv3LkaPxr7/byhzedUWqZbmHlwo+ff4XpvNmzW0n6yjrdP2dYuaCL20HWuktam1JdQBWJPfPv/xiIwXXXb1xufHXmV8fE/S7U0SoumDv0nadithB0EKjposf1W0TM3zf9nUaw9Q3ArDi8Llg7ARcv0/one3WKfONeompnEN9G+rgAIzdhFI5IQ7AVKot/ULnOgCbrrOR6THi6VoLe+6s3vlD6nEApt8QfCtw/SFcVbBTspgwm1AKXc/Lnqmp46baP0/8qbbzJyVLTETMia99bE7wpcfK6aCOwAd3aRm7PNq8q3C40oGUsqLaP8XU/ZFT4ox7X7Eb5XxDxeaH7bllnUNU70udP32BgvYYNbR4eHCPskYvFYI5+4MlthtnWK0knS8HjyLh1aWx4cq/OjwLzZ2Vv8s+FA143/QF5pnXPjA//mxM02bNzG9yHFOrN2lodm+/vm1e40+rTZKTUoD3uGqyWeTr8FufJgJxrUW/2UdeWWRrg37wRe1uu4ouVHkARaq6PnincF1D8cmXL11cXZvVJVlputhEfMyrZaas2QQOwGqx3PqtAwdg/fhxdokEch2A7/2wuhl0+4ya2VZv3MDMPrdf/q+KOABLpO/maVl7CLupBbekymcTiv65YPzrNhLkkv23yVvnyq1VuSHNrc/PN39/8m1bBP/cvbc2vdvVL7KsnKtSlMeA0S+YOR9+FXgZrWHSmb2NOvEFjcsff8OMeubXYvCKYFJ9tfYblq/pR1Qe7332rTnylml1ohRV60/d/Y7daTPTbJW6jViizp+V49L6/FCK1x/HzDTqbKpahOqgW4mouih2ofpp/5q2wKhzsSKGD+nS0vypb9t61QaNct24jkmrTcS1/qzNE5QuLgZD1Sm1V2uLA5vImlUUXm/WbAIHYGGbyMIROACzoGUH15jrAHz0fWNrE3mj62bNzT0ndssvOQ5ABzVbukhZewiXTio7ZxayCUWq/Ebha4ySCSiCyhWHQ75FyEGy9zXPBaYun7f3VuboHpuFni5Hxmn3zDSPzvnYrLZKA9sYwaVakUrxGXz3y+bF+V8YpTIrHVCOIEWsMKIRKHSviDYLR4URSOO9FpvInj3LTm95fr65YuJbtrxCz7brmBuP3L6mSQM2kT2bKLTirNkEDsBCFpGNv+MAzIaenVtlrgPwiqlLzWOvfVwj5zE9NrVRKXkHDkDn9FofgbL2EK4Pq6yci01kRdPR1jnlnc/METdNMz/5qru3WruZLe5eKD1Wjs6FXy43SgeL2hghmlTxHaVowPVWb+xMimp8Kyv/TNwrys84bVfAJtKmsfjkVeOJxV9/b1Q71f+BC5uIj3G1zJQ1m8ABWC2WW7914ACsHz/OLpFArgPwuAcW1kqBuuzADmbgDhvjACyRbxpPy9pDOI06qrTM2ESlibt/vRsmvWUufmxFUxF1drz56M62tiAj2wS4V2Rb/0GrxyawiVwC2AQ2kXWbwAHIb0AEcABiB4kQ8N+AZr061+x7x6/1mSTQ+FN3KlyfiQjARHRXrovyYlYusumdF5tIr+7KJblsYuTYJ8w7S1cyh+22vem15QbluhTzpogA94oUKatComITFQKdostgEylSVoVEzZpN4ACskGE5fhkcgI4rqFrF89+A7p80w/z537+m/yqq47Xz+9fU7AhlgAOwqswjaw/hqlJemRaDTZQJbIqnxSZSrLwyio5dlBFuSqfGJlKquDKKjU2UEW5Kp86aTeAATKmhxiw2DsCYgTJdNAL+G9ClYyeba19aWnNiu/VXM4+d1rPwRDgACzNK0RFZewinSDWJiYpNJIbe2QtjE86qJlHBsItE8Tt5cWzCSbUkKhQ2kSh+Jy+eNZvAAeikGVZcKByAFUfOBUXAfwM6YdSj5vEFP9eA2X+7Dc2VB21bGBQOwMKMUnRE1h7CKVJNYqJiE4mhd/bC2ISzqklUMOwiUfxOXhybcFItiQqFTSSK38mLZ80mcAA6aYYVFwoHYMWRc8FcB2Cf4fead5Y1qQFz9p5bmkE9WxUGhQOwMKMUHZG1h3CKVJOYqNhEYuidvTA24axqEhUMu0gUv5MXxyacVEuiQmETieJ38uJZswkcgE6aYcWFwgFYceRcMNcBuNmpt5ufmzavAXPX8V1NjzZrFwaFA7AwoxQdkbWHcIpUk5io2ERi6J29MDbhrGoSFQy7SBS/kxfHJpxUS6JCYROJ4nfy4lmzCRyATpphxYXCAVhx5Fww1wG44Um3mgar/+rwe/lvfU3zZo0Kg8IBWJhRio7I2kM4RapJTFRsIjH0zl4Ym3BWNYkKhl0kit/Ji2MTTqolUaGwiUTxO3nxrNkEDkAnzbDiQuEArDhyLpjPAbj+6o3N1GG7RoOEAzAap5QclbWHcErUkqiY2ESi+J28ODbhpFoSFwq7SFwFzgmATTinksQFwiYSV4FzAmTNJnAAOmeCiQiEAzAR7FzUfwPyRwD2abeuueXoztEA4QCMxiklR2XtIZwStSQqJjaRKH4nL45NOKmWxIXCLhJXgXMCYBPOqSRxgbCJxFXgnABZswkcgM6ZYCIC4QBMBDsXDXMAntK7tTmzf7togHAARuOUkqOy9hBOiVoSFRObSBS/kxfHJpxUS+JCYReJq8A5AbAJ51SSuEDYROIqcE6ArNkEDkDnTDARgXAAJoKdi4Y5AEcd2sns1aFFOKBSnX7+Gc/7CgU4SCBrD2EHVeCcSNiEcypJXCBsInEVOCkAduGkWhIVCptIFL+TF8cmnFRLokJlzSZwACZqbs5cHAegM6rIliBhDsCnT+9lWq2zKg7AbJmDXW3WHsIZVHHRS8YmikZW9SdgE1Wv4pIWiF2UhK2qT8Imqlq9JS0OmygJW1WflDWbwAFY1eYceXE4ACOjqt4DFyxYYEaOHGkmTJhg9P9XWWUV06ZNGzNw4EBz8sknm6ZNm8a++CAHYNNGK5s55/U3K/9mJRyAsRN3f8KsPYTd10jyEmITyevANQmwCdc04oY82IUbenBJCmzCJW24IQs24YYeXJIiazaBA9Al60tOFhyAybF34spy+h122GHmq6+C02K32GIL8+ijj5pWrVrFKm+QA7BTyzXMuJN75L8OKcCx6sGlybL2EHaJvauyYBOuaiY5ubCJ5Ni7fGXswmXtJCMbNpEMd5evik24rJ1kZMuaTeAATMbOXLsqDkDXNFJBeWbPnm26d+9uli1bZlZddVUzdOhQ07t3b5uKOWbMGHPjjTdaadq1a2emT59uj4lrBDkAD+va0ly03zY4AOOCnLJ5svYQTpl6EhEXm0gEu9MXxSacVk9iwmEXiaF39sLYhLOqSUwwbCIx9M5eOGs2gQPQWVOsqGA4ACuK262Lydk3adIk06BBAzN58mTTrVu3WgJefvnlZsiQIfa/DR8+3JxzzjmxLSDIAXjRfu3NYV03wQEYG+V0TZS1h3C6tJOMtNhEMtxdvio24bJ2kpMNu0iOvatXxiZc1UxycmETybF39cpZswkcgK5aYmXlwgFYWd7OXE0RfV26dLHynHjiiWb06NF1ZPv5559N+/btzdy5c82aa65pPvnkE9OwYcNY1hDkABx3cnfTqeWaOABjIZy+SbL2EE6fhiovMTZReeauXxGbcF1DyciHXSTD3eWrYhMuaycZ2bCJZLi7fNWs2QQOQJetsXKy4QCsHGunrnT22Webiy++2Mo0depU07Vr10D5RowYYVODNSZOnGj69u0byzpyHYANV29uXjt/D9O0UQMcgLEQTt8kWXsIp09DlZcYm6g8c9eviE24rqFk5MMukuHu8lWxCZe1k4xs2EQy3F2+atZsAgegy9ZYOdlwAFaOtVNX6tmzp3n22WdNs2bNzJIlS2wacNB44YUXbJ1ADaUAKxU4jpHrAGz72/+apy8ZVHhqmoAUZpTSI7L2EE6pmioqNjZRUdypuBg2kQo1VVxI7KLiyJ2/IDbhvIoqLiA2UXHkzl8wazaBA9B5k6yIgDgAK4LZvYuss8465rPPPjMdO3Y0s2bNChXwyy+/NM2bN7d/HzBggBk7dmwsi8l1AO67xttm1MUXFp4bB2BhRik9ImsP4ZSqqaJiYxMVxZ2Ki2ETqVBTxYXELiqO3PkLYhPOq6jiAmITFUfu/AWzZhM4AJ03yYoIiAOwIpjdush3331nmjRpYoXaa6+9zPjx4/MKqO6/3377rdlxxx2NIgKjDN1g8o0PPvigJrJw/SOuNL9vPt0cekqE6MIbe0e5fP5jBj1T/zmYIXYC33//vXnxxRftvEpJX2WVVWK/BhOmiwA2kS59VUJabKISlNN3DewifTort8TYRLkJp29+bCJ9Oiu3xFmziY8//tgoC1Bj/vz5ZtNNNy03YuZ3kAAOQAeVUm6RPv30U7Puuuvayxx00EFmzJgxeS+53nrrmcWLF9uGIHPmzIkk3korrRTpOA6CAAQgAAEIQAACEIAABCAAAQhAoDIEpk2bZjp37lyZi3EVpwjgAHRKHZURRtF3LVu2tBc74ogjzO233573wjpW57Ru3drMmzcvkpA4ACNh4iAIQAACEIAABCAAAQhAAAIQgEDFCOAArBhq5y6EA9A5lZRfoEpEABZKAVbYsReCPGXKFLPxxhuXf+FcwWkCH330kenSpYuVUQ+lFi1aOC0vwpWfADZRfsZpuwI2kTaNVUZe7KIynNN0FWwiTdqqjKzYRGU4p+kqWbOJH3/80cgPoLHNNtuYxo0bp0ldyBoTARyAMYFM0zSVqAFYiAdFSAsRyt7fsYns6bzQirGJQoSy93dsIns6j7Ji7CIKpWwdg01kS99RVotNRKGUrWOwiWzpm9WuIIADMKOW4FIXYKUXb7TRRhnVBMv2CPAQxhZyCWAT2AQ2gQ1EIcC9IgqlbB2DTWRL31FWi01EoZStY7CJbOmb1eIAzLQNKP322WefNc2aNTNLliwxDRo0COShrr/du3e3fzvnnHPM8OEROvVGIMsNNwKkjB2CTWRM4RGWi01EgJSxQ7CJjCk84nKxi4igMnQYNpEhZUdcKjYREVSGDsMmMqRsllpDgAjAjBrDsGHDzCWXXGJXP3XqVNO1a9dAEiNGjDBDhw61f3v88cdNv379YiHGDTcWjFU1CTZRVeqMZTHYRCwYq2oSbKKq1BnbYrCL2FBWzUTYRNWoMraFYBOxoayaibCJqlElCymCAA7AImBV06FqsuA5/U488UQzevToOsv7+eefTfv27c3cuXPNGmusYRYvXmwaNmwYCwZuuLFgrKpJsImqUmcsi8EmYsFYVZNgE1WlztgWg13EhrJqJsImqkaVsS0Em4gNZdVMhE1UjSpZSBEEcAAWAavaDvXSgJX+O3nyZNOtW7daS7z88svNkCFD7H8799xzzXnnnRcbAm64saGsmomwiapRZWwLwSZiQ1k1E2ETVaPKWBeCXcSKsyomwyaqQo2xLgKbiBVnVUyGTVSFGllEkQRwABYJrJoOnzlzpunRo4dZvny5WXXVVY3Sgnv37m3/fcyYMeaGG26wy23btq2ZMWOGWW211WJbPjfc2FBWzUTYRNWoMraFYBOxoayaibCJqlFlrAvBLmLFWRWTYRNVocZYF4FNxIqzKibDJqpCjSyiSAI4AIsEVm2HP/LII+bwww83S5cuDVyanH8TJkwwbdq0iXXp3HBjxVkVk2ETVaHGWBeBTcSKsyomwyaqQo2xLwK7iB1p6ifEJlKvwtgXgE3EjjT1E2ITqVchCyiBAA7AEqBV2ynvv/++ufrqq62jTzfCRo0aWYffgAEDzODBg03Tpk2rbcmsBwIQgAAEIAABCEAAAhCAAAQgAAEIZIYADsDMqJqFQgACEIAABCAAAQhAAAIQgAAEIAABCGSRAA7ALGqdNUMAAhCAAAQgAAEIQAACEIAABCAAAQhkhgAOwMyomoVCAAIQgAAEIAABCEAAAhCAAAQgAAEIZJEADsAsap01QwACEIAABCAAAQhAAAIQgAAEIAABCGSGAA7AzKiahUIAAhCAAAQgAAEIQAACEIAABCAAAQhkkQAOwCxqnTVDAAIQgAAEIAABCEAAAhCAAAQgAAEIZIYADsDMqJqFQgACEIAABCAAAQhAAAIQgAAEIAABCGSRAA7ALGqdNUMAAhCAAAQgAAEIQAACEIAABCAAAQhkhgAOwMyomoVCAAIQgAAEIAABCEAAAhCAAAQgAAEIZJEADsAsap01QwACEIAABCAAAQhAAAIQgAAEIAABCGSGAA7AzKjanYUuWLDAjBw50kyYMMHo/6+yyiqmTZs2ZuDAgebkk082TZs2dUdYJCmJwMsvv2wee+wx8+yzz5pXX33VLF682DRs2NBssMEGpnv37ua4444zO++8c+S5NdcNN9xgpk2bZj799FOzzjrrmC5dupgTTjjB7L777pHn4UA3CQwZMsRcfvnlNcI988wzZpdddskrLDbhpi7rI9Vnn31mbrnlFvPQQw+Zd955x3z55ZdmrbXWMhtvvLHp2bOn2X///U23bt3yXuKFF14w1157rb33fPzxx2bNNdc0HTt2NEcffbQ5+OCD6yMe51aYwH//+19zxx13mHvvvdfMnj3bfPHFF/Y5suGGG5oePXrY+/+OO+5YUCruFQURJXqA3g/0bNc/06dPt/98/vnnVqajjjrK3HrrrUXJF4e+f/zxR3PzzTebu+66y8ydO9d888031u52220384c//MFstdVWRcnEwcURiMMmvvvuO/P444+bJ5980trW22+/bb7++muz2mqrmS222ML079/fnHjiiaZFixaRhFu2bJkZNWqUvR/NmzfP6P6kZ9Nee+1lbaJly5aR5uGg0gnEYRdhV5d+27dvb+bPn28P2WSTTcx7771XUFjsoiAiDnCQAA5AB5VSzSLJ6XfYYYeZr776KnCZeig/+uijplWrVtWMoarX1qtXLzN58uSCazziiCPMTTfdZBo1ahR67C+//GJ+//vfW+df2NAmcPTo0WallVYqeE0OcI+ANvY77LCD0YbLG/kcgNiEezqMQyJtqk466aSajX/QnPvuu6958MEHQy93/vnnm+HDh5uff/458Ji9997bjB071jRu3DgOkZmjjAQ++OADu7GeM2dO3qv86U9/MldccUXg/Z97RRkVFOPU+Z7dxTgA49K3nI+yvRdffDFwlfporY8Mxx57bIwUmMpPoL428corr5iddtrJOvzyDTkD9R6qAIR8Qx+kZBNvvvlm4GG//e1vzd1332323HNPFFlGAvW1i3yinXHGGfZZ4o0oDkDsoozKZuqyEsABWFa8TO4noI2+or/0tWTVVVc1Q4cONb179zbLly83Y8aMMTfeeKM9vF27dvYLsI5hpI+Aojn1UFS034ABA2ykn76M/vTTT0bROXrAfvjhh3ZhhxxyiH1pChtnn322ufjii+2ft9tuO6NIsdatW9v5L7vsMjNz5kz7Nx134YUXpg9WxiWWo0YRPPq9r7vuujZSVCOfAxCbqD6juf32280xxxxjHXeyAzkCtXlr3ry5jeLT7/2RRx4x2mTJURg0tIkbNGiQ/ZPuEcOGDTPbbLONWbRokbn66qutTWnoA9Sdd95ZfRCraEX6GNCpU6ca51+HDh3Mn//8Zxu1ow39c889Z58j3377rV21ngVnnnlmHQLcK9JhFP5NvSKqttxySzNx4kQrfDEOwDj0rfeUPn361HzEVNSx7iu6F8khqPcMPadWXnllm8WiKDJG/ATqaxO6R3hZJooW/t3vfmc/NCqiXFkk48aNs44/6Vu61PNljz32CFyIoj87d+5s3njjDft32YOiyZs0aWKfK5dccomNEFX2kt5xdb9ilIdAfe0iTCrtJaRjRZjrHz1nCjkAsYvy6JhZK0MAB2BlOHMVY6yzb9KkSaZBgwb25So3lUspgHLwaCiK45xzzoFbCgnoRevII480BxxwgH2xyh1K89ML2VtvvWX/JFsISgdWioU2AtoM6sVNx+mFyxtyJCvacMaMGdam9HKmjT8jPQSuuuoqowgeOf33228/+yKtEeYAxCbSo9uokiq9Ts7977//3t4HPEdf0PlKuQqKGF6yZInZbLPNjP5XHxteeukls/baa9dMoU2e7Etza/znP/+xKcUMNwncf//95sADD7TC6T1B6dy5zxLpWH/74YcfbJq3nDJ6DniDe4Wbug2S6txzz7Wbb/2z3nrr2bQ7/Z41ojoA49K30o31MUJDJWmU8ukfus72229vli5dajbffHPz+uuv17K79FB3W9L62sSUKVPshx/NE5aurVITei4oclTvjkoRDoowO++88+yeRCPoY4Ocfnqe6F1V+5ynn37abbgplq6+dhG0dL0fdO3a1b43KItAqf/vv/9+QQcgdpFiQ0J0gwMQI6gIAUX4qGabhmpuKGUzdyj6Q/UXtCHUC/0nn3xiv8Qwqo/A+PHjjdLxNFQ7RS9queOUU06xaTYaesEKqvU0derUGkfy4MGDzTXXXFN9sKp0RUrx04u5vqLK4aePA95LdpgDEJuoPmNQTa2nnnrKOux07/c77qKu1v/x6F//+ldgrb+FCxeaTTfvD36XAAAZmUlEQVTd1EZ86COF5wyMeg2OqxwBRfv9/e9/txd8+OGHa54VuRIoOuuBBx6w/1mpwnp/8Ab3isrpK+4rleIAjEvfW2+9tXXq6R1U94ygmtQjRoywGSwa9913n/3YySgvgVJsIopE+tCgDw4aql2tj1H+oQ8MikrXxyV9kFZN69/85jd1plapmuuvv97+d32UlpOYUX4CcdjFlVdeaU4//XQbYa7U8bZt2xZ0AGIX5dctVygvARyA5eXL7P8j4E/NkNNGX1uChv/FSikgffv2hWEVEpDTR7VXNFRXRQ5B/9AXWaUCKVVY0WFyDIQN/V11WTbaaCPbVIZagOkwGDmApXcvwsP/NTXIAYhNpEOvxUipqF1tqjSkf33dL2UoolgRH6uvvrpN7wqrK6qGQSoKrxpeikSmzEQptMt/jj7meJFX2nDLKRM0lPb7f//3f3U23dwryq+jcl6h2E19XPpWBJg2/xpy6Fx33XWBy1RZAq9xxKGHHmobhTDKS6BYm4gqje4zut9oqLyEF3nsnf/EE0+Yfv362X/V/uSss84KnNr/MVrlJy666KKoInBcPQjU1y4U6afni8pJKHJTEZz6UFgoAhC7qIfSONUJAjgAnVBD9Quh8Hil8TRr1sx+SfOn6vhXr0gv1QnUUAqwFxFU/YSytUJ1c1QtFg05ghTl4R/vvvtuTTpvWMSod7z+7jUJ0Xle6lC2iKZrtWrEcNBBB9m6SnICqatzIQcgNpEuHUeR9oILLqgp9fDaa6/VpGqp+68cdLIP7z4RNp/SgvVcUfqV6nGpA2jYUIq5Nmca3st+FDk5prIERo4caf74xz/ai0aJANRHH71XyAGswb2isvqK+2rFburj0rc6kB933HF2OWGRxN5aFS2kMiYqOSBnAaO8BIq1iajSeNFfOl6RgIoq9g/tQ/Sc0gjLRNHf9PxZY401rCNJ+x2VmWCUn0B97UIBCGo8qaaEqkWsEcUBiF2UX7dcobwEcACWly+z/4+ANvja0HXs2NHMmjUrlIs2ftr0aaiBhBwFjOojoLQt70VLURyqq+IfKq6tND0NpYKddtppoRD0d6WMaeg8urC5bS9eKo2iKNT45/jjj7cCF3IAYhNu67UU6byXbzX30L1fDYF0L1Aajjfk0FeUqFJ0giL25Dj0Uj/lNFJdybDhv+8o8kM1vhjuEVAUp5pJqc6aoju1mc6tAaii7SoLIQdwbjMp7hXu6bQYiYrd1Melb39Eqexr2223DRVbHcnlnJbzWQ0D9BGCUT4CxdpEVEk8Pep4/0co73ztQ5TmraFnlJx8YUP7Gz27tN/xGppFlYPjSiNQH7tQ80k9O5Turw/RSvXWiOIAxC5K0xdnuUMAB6A7uqhaSb777rua5g1B6Z65C9cmT1/R9HKvL26M6iKgWo8q3j5t2jS7MNWHVJMP/1CNSHUC1QhKy/Afq5czPYw1dJ4iAhnuEjjhhBOs40+RvurU56VsF3IAYhPu6rRUyeTc0wu8Nk7q+ptbcN8/r5x8St9Vd3H/UMSf171RtQDPOOOMUHFUm0mNBjT+8pe/1DSdKVV+zisfATlr1bF5+fLlti6XPgIpPVPlI55//nnbBViOFzlp/v3vf5v111+/RhjuFeXTSyVmLnZTH5e+1dn1nnvusUuUEzpfPVJ/mrqcB4oIZJSPQLE2EUWS2bNn21p9qgurNFCVG8gd2oeo+7McvLr35Bv6aC1ntIb2PSo1wSgvgVLtQs5clR9RrXnVbtR7qTeiOACxi/LqldnLTwAHYPkZZ/4KepHyvqwo7U9fXfINdYHT1zNt+FTYm1FdBLRx8zbp6sA2bty4Ogv0F/XX5k61u8KG/u5F/akelCKFGG4SkMNP6TGK5lHB7W222aZG0EIOQGzCTZ3WRypF/inKSxsldQFWdIXqLCk6WOmcuv8r1Ua/cQ05jVVKwl+EXR8IBg4caP+uml2q3RU2VEvU6whJ06D6aK4y56oZg1L0lJqpOm/+ofcE1ePSxi03+op7RWX0U66rFLupj0vfXkSy1iXHc+PGjUOXKNvzMhdo+lAuS/h13mJtopBEet7oo5N0p6GOwPvss0+d07ymMLrfKGsh39D+xstaUsZTofIVhWTk74UJlGoXyjxRt18FI+iDkr92eBQHIHZRWDcc4TYBHIBu66cqpFO3T9VJ0fDXWQhbnI7VOa1btzbz5s2rCgYsYgUBpXKp66fqpcgprHQJvVjlDn9tMHUI7dOnTyhC1fLadddd7d913l//+ldwO0hAqXqK1pETJijtu5ADEJtwUKn1FEm1YBV9oSGnsBzEud2+FTGsyArPCZgbEXzHHXeYI4880s6hF/pjjz02VCp/rTDV+rrpppvquQJOLxcBdVlUDWBFC4el0ymaU41j5LjxD+4V5dJKZeYtdlMfl771HqH3CQ3dl4K6vXoE/DXA9FFCziRG+QgUaxOFJBk0aFDN/d9rRBZ0jvYhem6oKZ2azOUbeg7peaShPYwa0zHKS6AUu5g8ebLZZZdd7DvHSy+9ZDp06FBLyCgOQOyivHpl9vITwAFYfsaZvwIRgJk3AQtA9VV23nlnW0dFET9K5+vVq1cgnLi+6EPeHQKeg08OfkX25EbtFHIAYhPu6DIuSbxyD5pP6XcqvB80/HX+FB2oYu3eIAIwLm24M49KgCiqWxs1bdIU1X3MMceYVq1a2dQ6peSdf/75NSUEVAfWaxqiVXCvcEeXpUhS7KY+Ln0TAViKtipzTrE2kU8qfzMopQDrw3RYDUcivSqj31KvUqxdKPJTJUfefPNN+1zxusj7rx/FAYhdlKoxznOFAA5AVzRRxXJQA7CKlRtxafPnz7dfyBctWmQ3dNq0K/03bMRV0yeieBxWZgKqkaSXLkUBhqXaFHIAYhNlVlIC07do0aImreq2226rieQLEkXRFB9++GGdSAxqACaguDJfUiUiVCpC49Zbb7VNYHKHosj79etnnnnmGRuppaYNXiQH94oyK6jM0xe7qY9L39QALLNi6zF9sTYRdinVe/PKRKhuo6I31bQjbFDrrR5Kq8CpxdqFF7mriE59iA5qLBbFAYhdVEC5XKKsBHAAlhUvk3sE6AKcXVuQ00+Rf0qjUJ0Nbei8lL0wKuPHjzd77723/TNdgNNvO2rMcsMNN9gInosuuihwQWrm4kV2/e1vf6up1SY70Nd5bCL9dpC7gi5dutgmQBqFUv1Vq2fq1Kk2elgflbyhwu1eLUm6AKffRlTrT80XvvjiC9v0Q5EaYUO1m7zUSzUJ0bNCg3tFuu2g2E19XPr2O57pAuyWDRVrE0HSK8L88MMPNyorsckmm9gI4kJpugceeGDNewldgN2yCUlTrF3o/UEfohVRrg9IQePUU081quGo59A111xjD1HJIn8pIuzCPVtAouII4AAsjhdHl0hAhf/1pU0b+SVLlhjVfgoa6vqrQu8a+lKjGkCM9BLQQ1RpvvrSpvGPf/zDnHLKKQUX5K/VJeeRvvCHDc+5pL/rPHUWZbhF4OijjzaK8CplKHpUX2SxiVLouX2OXsL1QUBj4sSJpm/fvqECe87C3G6Meplv2rSprdnVv39/o4jAsOFP/VKtr969e7sNKIPSqdC+IkM1CjUN82cXqFGUVyeSe0W6DafYTX1c+lazGdUG1ZCzSBGBYUPRY2+99Zatb/3++++nG3gKpC/WJnKX9PDDD5sDDjjA1p/W/UX7EdVxKzT8tR61P8mtUeudr3nVxErlC7TfUVoxo/wEirULf7OPYqTTPmbSpEk1p2AXxdDjWBcJ4AB0UStVKNOwYcOMNl8aiuLo2rVr4CrVAXLo0KH2b6oRF/aFpgoRVd2SvvrqK/vFTN1eNaRbdc6LMhQFoi+zih5s166dbRwRNrbcckujFNMNN9zQFl4u9QEfRS6OKY1AHA5AbKI09i6f9c9//rOmaUehDr76Gv/5558HRoXpo5E2Z+ocrJqzjRo1Cly2nER6rigKQMetttpqLuPJpGz6aOSl5GnDrsjgsPH1119bnWuoUcwjjzxi/z/3inSbTrGb+rj0LYeeHHsaShPVPSlo+J3UhxxyiLn77rvTDTwF0hdrE/4lKbpc9R1V/02deeWcUw23KEMfpvRhqdA7rPY1ilLX0B7m4osvjjI9x9STQLF2Uer+INcBiF3UU3GcnjgBHICJqyAbAkybNq3G6RcW0aWw/Pbt21tnj76kqfNfw4YNswGoyla5bNky67xVipbG2WefbS688MKiVnnyySfXvICHfXn1v3Tp+FGjRhV1DQ52h0ChGoCSFJtwR19xSCKHnqIx1PFV0X96qQ4a2rCpa59GUPfeyy67rObjQljkzsKFC20kqSIF1WBiwoQJcSyBOWImoPeANddc0yxdutRssMEGNroqLGPAn/qptK2RI0fWSMO9ImbFVHC6Yjf1cT4bttpqK/sO2rx5c/tBUdHFucP/oXrs2LFmwIABFaSTzUuVYhMiNWXKFPsuqsg8fSxQ5Lcaf0QdijBX+qc+aOtjsxpSBTmR5DBWfUEN7XfUoZxRfgKl2kU+yaLUAMQuyq9brlBeAjgAy8uX2X0EvDRgvcyru5/3tcw7xN/J7dxzzzVyCDDSR0APRtVt8zbzhepyha1QX+P1lVapFTvssIO1mSZNmtQcvnz5cptqMWPGDLtBVJrx5ptvnj5gSGwJRHEAYhPVZyx+R02Q805RXvqdz5o1K3RzpXpxqi+pTZpqO7300ks20sMbcvqp6ZAXIUb6r9t2dOihh9Z0hNZ9Qe8DuUP1uFT/zysvkZsxwL3CbR3nk66UTX1c+vanAatcicqW+Mc777xjOnXqZB3USiFV9kGYgzq9GnBP8lJsQs8MlXlQ2SGVjtA9okePHkUvzp/uqY9NZ555Zq059IFazyi9q+ZGihV9MU4oikApdlHoAlEcgJoDuyhEkr+7TAAHoMvaqTLZVFRZD185btR5SWnBejjr38eMGWObBGio8LecOqRnpdMAlLY1btw4K7xSgK+66qq8ablK15POg4ZSKfS1XWO77bazUT566dZL+KWXXmo7P2qQcpFOW/FLHcUB6Okam0i/vr0VKBVXDv4FCxbYjbQiKfbff38brTFnzhz7O9cmW+Okk04y1157beDi/d0ddY9Q1LGag6iMgO5B6harQcqe+7YjfStKR5HkGvqgpE7AcvKq7p8iv6VT2YzGrrvuap588sk6C+P54b6uJaGaMcybN69GWKWBe04WvTMef/zxtRaikhLlel/QxwI5cbzsBb3PDBo0yEalKrLrggsusNkp6jytCNQ99tgjHZBTJmV9bULviCoNIV1pqEHQbrvtlpeCIv30T+7QRyg9o+Rk1jjhhBNsfUh9kNZzRem+33zzjf13RRxuu+22KaOdHnHraxdRVhrVAYhdRKHJMa4SwAHoqmaqVC5FYKgLl76eBg05gpSa1aZNmyolUP3LKrbGhiJ29BUvaCgdTC/f+iofNpQSKOexXsgZ6SUQ1QGITaRXx2GSK+Vun332qeUEyD322GOPtc2A8pWFUKSYNuiqCRY0lPqrTtONGzeuPohVtiI59OSslTMo39BHJtUJlIMmd3CvSIdRFFsjNuz3HZe+ZXO6V3gdynMp6qOlIgP1bsIoD4H62oSaS6nJVDEjX+aRHNSyibfffjtwSn2wuuuuu2wtUkb5CNTXLqJIFtUBqLmwiyhEOcZFAjgAXdRKlcukmj5XX321dfSpLpNepuTwUx2VwYMHB9ZcqXIkVbW8OB2AHphHH33UOvn0Qq6XczUEUI0V1ZPkC3x1mE9UByA2UR36zl2FajSp6L6cOdpkKaJC0RiKANLvPGrHXkVgqBaoujx+8skntp5sx44d7WZQDiVGegioRuTNN99su/uq9pZS+RQluv7669v7v1KF5Tgu9Mzh+eG2zuPe1Mehb6Vz3njjjbbBhz5Q6P6kmpSKNlVZk6hNJNwm76509bWJuB2AIiUb0LPl3nvvtY4flbvZeOONrWNQNqGP2YzyEqivXUSRrhgHIHYRhSjHuEgAB6CLWkEmCEAAAhCAAAQgAAEIQAACEIAABCAAAQjERAAHYEwgmQYCEIAABCAAAQhAAAIQgAAEIAABCEAAAi4SwAHoolaQCQIQgAAEIAABCEAAAhCAAAQgAAEIQAACMRHAARgTSKaBAAQgAAEIQAACEIAABCAAAQhAAAIQgICLBHAAuqgVZIIABCAAAQhAAAIQgAAEIAABCEAAAhCAQEwEcADGBJJpIAABCEAAAhCAAAQgAAEIQAACEIAABCDgIgEcgC5qBZkgAAEIQAACEIAABCAAAQhAAAIQgAAEIBATARyAMYFkGghAAAIQgAAEIAABCEAAAhCAAAQgAAEIuEgAB6CLWkEmCEAAAhCAAAQgAAEIQAACEIAABCAAAQjERAAHYEwgmQYCEIAABCAAAQhAAAIQgAAEIAABCEAAAi4SwAHoolaQCQIQgAAEIAABCEAAAhCAAAQgAAEIQAACMRHAARgTSKaBAAQgAAEIQAACEIAABCAAAQhAAAIQgICLBHAAuqgVZIIABCAAAQhAAAIQgAAEIAABCEAAAhCAQEwEcADGBJJpIAABCEAAAhCAAAQgAAEIQAACEIAABCDgIgEcgC5qBZkgAAEIQAACEIAABCAAAQhAAAIQgAAEIBATARyAMYFkGghAAAIQgAAEIAABCEAAAhCAAAQgAAEIuEgAB6CLWkEmCEAAAhCAAAQgAAEIQAACEIAABCAAAQjERAAHYEwgmQYCEIAABCAAAQhAAAIQgAAEIAABCEAAAi4SwAHoolaQCQIQgAAEIAABCEAAAhCAAAQgAAEIQAACMRHAARgTSKaBAAQgAAEIQAACEIAABCAAAQhAAAIQgICLBHAAuqgVZIIABCAAAQhAAAIQgAAEIAABCEAAAhCAQEwEcADGBJJpIAABCEAAAhCAAAQgAAEIQAACEIAABCDgIgEcgC5qBZkgAAEIQAACEIAABCAAAQhAAAIQgAAEIBATARyAMYFkGghAAAIQgAAEIAABCEAAAhCAAAQgAAEIuEgAB6CLWkEmCEAAAhCAAAQgAAEIQAACEIAABCAAAQjERAAHYEwgmQYCEIAABCAAAQhAAAIQgAAEIAABCEAAAi4SwAHoolaQCQIQgAAEIAABCEAAAhCAAAQgAAEIQAACMRHAARgTSKaBAAQgAAEIQAACEIAABCAAAQhAAAIQgICLBHAAuqgVZIIABCAAAQhAAAIQgAAEIAABCEAAAhCAQEwEcADGBJJpIAABCEAAAhCAAAQgAAEIQAACEIAABCDgIgEcgC5qBZkgAAEIQAACEIAABCAAAQhAAAIQgAAEIBATARyAMYFkGghAAAIQgAAEIAABCEAAAhCAAAQgAAEIuEgAB6CLWkEmCEAAAhCAAAQgAAEIQAACEIAABCAAAQjERAAHYEwgmQYCEIAABCAAAQhAAAIQgAAEIAABCEAAAi4SwAHoolaQCQIQgAAEIAABCEAAAhCAAAQgAAEIQAACMRHAARgTSKaBAAQgAAEIQAACEIAABCAAAQhAAAIQgICLBHAAuqgVZIIABCAAAQhAAAIQgAAEIAABCEAAAhCAQEwEcADGBJJpIAABCEAAAhCAAAQgAAEIQAACEIAABCDgIgEcgC5qBZkgAAEIQAACEIAABCAAAQhAAAIQgAAEIBATARyAMYFkGghAAAIQgAAEIAABCEAAAhCAAAQgAAEIuEgAB6CLWkEmCEAAAhCAAAQgAAEIQAACEIAABCAAAQjERAAHYEwgmQYCEIAABCAAAQhAAAIQgAAEIAABCEAAAi4SwAHoolaQCQIQgAAEIAABCEAAAhCAAAQgAAEIQAACMRHAARgTSKaBAAQgAAEIQAACEIAABCAAAQhAAAIQgICLBHAAuqgVZIIABCAAAQhAAAIQgAAEIAABCEAAAhCAQEwEcADGBJJpIAABCEAAAhCAAAQgAAEIQAACEIAABCDgIgEcgC5qBZkgAAEIQAACEIAABCAAAQhAAAIQgAAEIBATARyAMYFkGghAAAIQgAAEIAABCEAAAhCAAAQgAAEIuEgAB6CLWkEmCEAAAhCAAAQgAAEIQAACEIAABCAAAQjERAAHYEwgmQYCEIAABCAAAQhAAAIQgAAEIAABCEAAAi4SwAHoolaQCQIQgAAEIAABCEAAAhCAAAQgAAEIQAACMRHAARgTSKaBAAQgAAEIQAACEIAABCAAAQhAAAIQgICLBHAAuqgVZIIABCAAAQhAAAIQgAAEIAABCEAAAhCAQEwEcADGBJJpIAABCEAAAhCAAAQgAAEIQAACEIAABCDgIgEcgC5qBZkgAAEIQAACEIAABCAAAQhAAAIQgAAEIBATARyAMYFkGghAAAIQgAAEIAABCEAAAhCAAAQgAAEIuEgAB6CLWkEmCEAAAhCAAAQgAAEIQAACEIAABCAAAQjERAAHYEwgmQYCEIAABCAAAQhAAAIQgAAEIAABCEAAAi4SwAHoolaQCQIQgAAEIAABCEAAAhCAAAQgAAEIQAACMRHAARgTSKaBAAQgAAEIQAACEIAABCAAAQhAAAIQgICLBHAAuqgVZIIABCAAAQhAAAIQgAAEIAABCEAAAhCAQEwEcADGBJJpIAABCEAAAhCAAAQgAAEIQAACEIAABCDgIgEcgC5qBZkgAAEIQAACEIAABCAAAQhAAAIQgAAEIBATARyAMYFkGghAAAIQgAAEIAABCEAAAhCAAAQgAAEIuEjg/wOX6Yv/nqIeHQAAAABJRU5ErkJggg==\" width=\"640\">"
      ],
      "text/plain": [
       "<IPython.core.display.HTML object>"
      ]
     },
     "metadata": {},
     "output_type": "display_data"
    },
    {
     "data": {
      "text/plain": [
       "<matplotlib.axes._subplots.AxesSubplot at 0x1220754e0>"
      ]
     },
     "execution_count": 50,
     "metadata": {},
     "output_type": "execute_result"
    }
   ],
   "source": [
    "%matplotlib notebook\n",
    "\n",
    "iris.sepal_width.plot()"
   ]
  },
  {
   "cell_type": "markdown",
   "metadata": {},
   "source": [
    "We can also plot the histogram of the column like this:"
   ]
  },
  {
   "cell_type": "code",
   "execution_count": 51,
   "metadata": {},
   "outputs": [
    {
     "data": {
      "text/plain": [
       "<matplotlib.axes._subplots.AxesSubplot at 0x1220754e0>"
      ]
     },
     "execution_count": 51,
     "metadata": {},
     "output_type": "execute_result"
    }
   ],
   "source": [
    "iris.sepal_width.hist()"
   ]
  },
  {
   "cell_type": "markdown",
   "metadata": {},
   "source": [
    "# Exercise 28\n",
    "\n",
    "Reload the IRIS dataset and compute the standard error of each numerical column per flower species, and store them into the DataFrame.\n",
    "\n",
    "The standard error for a normal distribution is computed like this:\n",
    "\n",
    "$$\\mu \\pm 1.96 \\sqrt{\\frac{\\sigma^2}{n}}$$\n",
    "\n",
    "where, $\\mu$ is the mean, $\\sigma^2$ is the variance, 1.96 is the approximate value of the 97.5 percentile point of the normal distribution, and $n$ is the sample size."
   ]
  },
  {
   "cell_type": "code",
   "execution_count": 52,
   "metadata": {},
   "outputs": [
    {
     "data": {
      "text/html": [
       "<div>\n",
       "<style scoped>\n",
       "    .dataframe tbody tr th:only-of-type {\n",
       "        vertical-align: middle;\n",
       "    }\n",
       "\n",
       "    .dataframe tbody tr th {\n",
       "        vertical-align: top;\n",
       "    }\n",
       "\n",
       "    .dataframe thead th {\n",
       "        text-align: right;\n",
       "    }\n",
       "</style>\n",
       "<table border=\"1\" class=\"dataframe\">\n",
       "  <thead>\n",
       "    <tr style=\"text-align: right;\">\n",
       "      <th></th>\n",
       "      <th>sepal_length</th>\n",
       "      <th>sepal_width</th>\n",
       "      <th>petal_length</th>\n",
       "      <th>petal_width</th>\n",
       "      <th>species</th>\n",
       "      <th>sepal_length_ste</th>\n",
       "      <th>sepal_width_ste</th>\n",
       "      <th>petal_length_ste</th>\n",
       "      <th>petal_width_ste</th>\n",
       "    </tr>\n",
       "  </thead>\n",
       "  <tbody>\n",
       "    <tr>\n",
       "      <th>0</th>\n",
       "      <td>5.1</td>\n",
       "      <td>3.5</td>\n",
       "      <td>1.4</td>\n",
       "      <td>0.2</td>\n",
       "      <td>setosa</td>\n",
       "      <td>0.249547</td>\n",
       "      <td>0.183768</td>\n",
       "      <td>0.035906</td>\n",
       "      <td>0.003666</td>\n",
       "    </tr>\n",
       "    <tr>\n",
       "      <th>1</th>\n",
       "      <td>4.9</td>\n",
       "      <td>3.0</td>\n",
       "      <td>1.4</td>\n",
       "      <td>0.2</td>\n",
       "      <td>setosa</td>\n",
       "      <td>0.249547</td>\n",
       "      <td>0.183768</td>\n",
       "      <td>0.035906</td>\n",
       "      <td>0.003666</td>\n",
       "    </tr>\n",
       "    <tr>\n",
       "      <th>2</th>\n",
       "      <td>4.7</td>\n",
       "      <td>3.2</td>\n",
       "      <td>1.3</td>\n",
       "      <td>0.2</td>\n",
       "      <td>setosa</td>\n",
       "      <td>0.249547</td>\n",
       "      <td>0.183768</td>\n",
       "      <td>0.035906</td>\n",
       "      <td>0.003666</td>\n",
       "    </tr>\n",
       "    <tr>\n",
       "      <th>3</th>\n",
       "      <td>4.6</td>\n",
       "      <td>3.1</td>\n",
       "      <td>1.5</td>\n",
       "      <td>0.2</td>\n",
       "      <td>setosa</td>\n",
       "      <td>0.249547</td>\n",
       "      <td>0.183768</td>\n",
       "      <td>0.035906</td>\n",
       "      <td>0.003666</td>\n",
       "    </tr>\n",
       "    <tr>\n",
       "      <th>4</th>\n",
       "      <td>5.0</td>\n",
       "      <td>3.6</td>\n",
       "      <td>1.4</td>\n",
       "      <td>0.2</td>\n",
       "      <td>setosa</td>\n",
       "      <td>0.249547</td>\n",
       "      <td>0.183768</td>\n",
       "      <td>0.035906</td>\n",
       "      <td>0.003666</td>\n",
       "    </tr>\n",
       "    <tr>\n",
       "      <th>...</th>\n",
       "      <td>...</td>\n",
       "      <td>...</td>\n",
       "      <td>...</td>\n",
       "      <td>...</td>\n",
       "      <td>...</td>\n",
       "      <td>...</td>\n",
       "      <td>...</td>\n",
       "      <td>...</td>\n",
       "      <td>...</td>\n",
       "    </tr>\n",
       "    <tr>\n",
       "      <th>145</th>\n",
       "      <td>6.7</td>\n",
       "      <td>3.0</td>\n",
       "      <td>5.2</td>\n",
       "      <td>2.3</td>\n",
       "      <td>virginica</td>\n",
       "      <td>0.592439</td>\n",
       "      <td>0.135638</td>\n",
       "      <td>0.433332</td>\n",
       "      <td>0.078693</td>\n",
       "    </tr>\n",
       "    <tr>\n",
       "      <th>146</th>\n",
       "      <td>6.3</td>\n",
       "      <td>2.5</td>\n",
       "      <td>5.0</td>\n",
       "      <td>1.9</td>\n",
       "      <td>virginica</td>\n",
       "      <td>0.592439</td>\n",
       "      <td>0.135638</td>\n",
       "      <td>0.433332</td>\n",
       "      <td>0.078693</td>\n",
       "    </tr>\n",
       "    <tr>\n",
       "      <th>147</th>\n",
       "      <td>6.5</td>\n",
       "      <td>3.0</td>\n",
       "      <td>5.2</td>\n",
       "      <td>2.0</td>\n",
       "      <td>virginica</td>\n",
       "      <td>0.592439</td>\n",
       "      <td>0.135638</td>\n",
       "      <td>0.433332</td>\n",
       "      <td>0.078693</td>\n",
       "    </tr>\n",
       "    <tr>\n",
       "      <th>148</th>\n",
       "      <td>6.2</td>\n",
       "      <td>3.4</td>\n",
       "      <td>5.4</td>\n",
       "      <td>2.3</td>\n",
       "      <td>virginica</td>\n",
       "      <td>0.592439</td>\n",
       "      <td>0.135638</td>\n",
       "      <td>0.433332</td>\n",
       "      <td>0.078693</td>\n",
       "    </tr>\n",
       "    <tr>\n",
       "      <th>149</th>\n",
       "      <td>5.9</td>\n",
       "      <td>3.0</td>\n",
       "      <td>5.1</td>\n",
       "      <td>1.8</td>\n",
       "      <td>virginica</td>\n",
       "      <td>0.592439</td>\n",
       "      <td>0.135638</td>\n",
       "      <td>0.433332</td>\n",
       "      <td>0.078693</td>\n",
       "    </tr>\n",
       "  </tbody>\n",
       "</table>\n",
       "<p>150 rows × 9 columns</p>\n",
       "</div>"
      ],
      "text/plain": [
       "     sepal_length  sepal_width  petal_length  petal_width    species  \\\n",
       "0             5.1          3.5           1.4          0.2     setosa   \n",
       "1             4.9          3.0           1.4          0.2     setosa   \n",
       "2             4.7          3.2           1.3          0.2     setosa   \n",
       "3             4.6          3.1           1.5          0.2     setosa   \n",
       "4             5.0          3.6           1.4          0.2     setosa   \n",
       "..            ...          ...           ...          ...        ...   \n",
       "145           6.7          3.0           5.2          2.3  virginica   \n",
       "146           6.3          2.5           5.0          1.9  virginica   \n",
       "147           6.5          3.0           5.2          2.0  virginica   \n",
       "148           6.2          3.4           5.4          2.3  virginica   \n",
       "149           5.9          3.0           5.1          1.8  virginica   \n",
       "\n",
       "     sepal_length_ste  sepal_width_ste  petal_length_ste  petal_width_ste  \n",
       "0            0.249547         0.183768          0.035906         0.003666  \n",
       "1            0.249547         0.183768          0.035906         0.003666  \n",
       "2            0.249547         0.183768          0.035906         0.003666  \n",
       "3            0.249547         0.183768          0.035906         0.003666  \n",
       "4            0.249547         0.183768          0.035906         0.003666  \n",
       "..                ...              ...               ...              ...  \n",
       "145          0.592439         0.135638          0.433332         0.078693  \n",
       "146          0.592439         0.135638          0.433332         0.078693  \n",
       "147          0.592439         0.135638          0.433332         0.078693  \n",
       "148          0.592439         0.135638          0.433332         0.078693  \n",
       "149          0.592439         0.135638          0.433332         0.078693  \n",
       "\n",
       "[150 rows x 9 columns]"
      ]
     },
     "execution_count": 52,
     "metadata": {},
     "output_type": "execute_result"
    }
   ],
   "source": [
    "iris = pd.read_csv('https://raw.githubusercontent.com/mwaskom/seaborn-data/master/iris.csv')\n",
    "\n",
    "numerical_columns = []\n",
    "for column in iris.columns:\n",
    "    if iris[column].dtypes == \"float64\":\n",
    "        numerical_columns.append(column)\n",
    "        \n",
    "for column in numerical_columns:\n",
    "    iris[column + \"_ste\"] = 0\n",
    "        \n",
    "for species in iris.species.unique():\n",
    "    species_iris = iris[iris.species == species]\n",
    "    for column in numerical_columns:\n",
    "        mean = species_iris[column].mean()\n",
    "        var = species_iris[column].var()\n",
    "        n = species_iris[column].count()\n",
    "        ste = mean * (var/n) ** (1/2)\n",
    "        iris.loc[iris.species == species, column + \"_ste\"] = ste\n",
    "\n",
    "iris"
   ]
  },
  {
   "cell_type": "markdown",
   "metadata": {},
   "source": [
    "# Exercise 29\n",
    "\n",
    "Imagine you are given a NumPy matrix and you want to transform this matrix into a pandas DataFrame, how can you do this? (Use the Internet to answer this question).\n",
    "\n",
    "What about when you have a pandas DataFrame and you need a NumPy matrix?"
   ]
  },
  {
   "cell_type": "code",
   "execution_count": 53,
   "metadata": {},
   "outputs": [
    {
     "data": {
      "text/html": [
       "<div>\n",
       "<style scoped>\n",
       "    .dataframe tbody tr th:only-of-type {\n",
       "        vertical-align: middle;\n",
       "    }\n",
       "\n",
       "    .dataframe tbody tr th {\n",
       "        vertical-align: top;\n",
       "    }\n",
       "\n",
       "    .dataframe thead th {\n",
       "        text-align: right;\n",
       "    }\n",
       "</style>\n",
       "<table border=\"1\" class=\"dataframe\">\n",
       "  <thead>\n",
       "    <tr style=\"text-align: right;\">\n",
       "      <th></th>\n",
       "      <th>0</th>\n",
       "      <th>1</th>\n",
       "      <th>2</th>\n",
       "      <th>3</th>\n",
       "      <th>4</th>\n",
       "      <th>5</th>\n",
       "      <th>6</th>\n",
       "      <th>7</th>\n",
       "      <th>8</th>\n",
       "      <th>9</th>\n",
       "    </tr>\n",
       "  </thead>\n",
       "  <tbody>\n",
       "    <tr>\n",
       "      <th>0</th>\n",
       "      <td>0.245712</td>\n",
       "      <td>0.037203</td>\n",
       "      <td>0.580942</td>\n",
       "      <td>0.868591</td>\n",
       "      <td>0.450839</td>\n",
       "      <td>0.019332</td>\n",
       "      <td>0.474156</td>\n",
       "      <td>0.522755</td>\n",
       "      <td>0.310662</td>\n",
       "      <td>0.497705</td>\n",
       "    </tr>\n",
       "    <tr>\n",
       "      <th>1</th>\n",
       "      <td>0.458620</td>\n",
       "      <td>0.673569</td>\n",
       "      <td>0.702974</td>\n",
       "      <td>0.574135</td>\n",
       "      <td>0.413590</td>\n",
       "      <td>0.535259</td>\n",
       "      <td>0.749459</td>\n",
       "      <td>0.312665</td>\n",
       "      <td>0.668747</td>\n",
       "      <td>0.880950</td>\n",
       "    </tr>\n",
       "    <tr>\n",
       "      <th>2</th>\n",
       "      <td>0.956952</td>\n",
       "      <td>0.046424</td>\n",
       "      <td>0.246616</td>\n",
       "      <td>0.904610</td>\n",
       "      <td>0.093465</td>\n",
       "      <td>0.372178</td>\n",
       "      <td>0.705437</td>\n",
       "      <td>0.836618</td>\n",
       "      <td>0.254034</td>\n",
       "      <td>0.171453</td>\n",
       "    </tr>\n",
       "    <tr>\n",
       "      <th>3</th>\n",
       "      <td>0.283044</td>\n",
       "      <td>0.216251</td>\n",
       "      <td>0.093299</td>\n",
       "      <td>0.720375</td>\n",
       "      <td>0.713038</td>\n",
       "      <td>0.380102</td>\n",
       "      <td>0.253251</td>\n",
       "      <td>0.694433</td>\n",
       "      <td>0.542765</td>\n",
       "      <td>0.395390</td>\n",
       "    </tr>\n",
       "    <tr>\n",
       "      <th>4</th>\n",
       "      <td>0.336100</td>\n",
       "      <td>0.091247</td>\n",
       "      <td>0.403522</td>\n",
       "      <td>0.290011</td>\n",
       "      <td>0.474667</td>\n",
       "      <td>0.781729</td>\n",
       "      <td>0.276244</td>\n",
       "      <td>0.800076</td>\n",
       "      <td>0.025960</td>\n",
       "      <td>0.533593</td>\n",
       "    </tr>\n",
       "    <tr>\n",
       "      <th>5</th>\n",
       "      <td>0.757662</td>\n",
       "      <td>0.867170</td>\n",
       "      <td>0.419666</td>\n",
       "      <td>0.446900</td>\n",
       "      <td>0.162172</td>\n",
       "      <td>0.698573</td>\n",
       "      <td>0.055458</td>\n",
       "      <td>0.425394</td>\n",
       "      <td>0.957270</td>\n",
       "      <td>0.072171</td>\n",
       "    </tr>\n",
       "    <tr>\n",
       "      <th>6</th>\n",
       "      <td>0.039678</td>\n",
       "      <td>0.102826</td>\n",
       "      <td>0.327672</td>\n",
       "      <td>0.513742</td>\n",
       "      <td>0.227006</td>\n",
       "      <td>0.769327</td>\n",
       "      <td>0.521846</td>\n",
       "      <td>0.446913</td>\n",
       "      <td>0.468475</td>\n",
       "      <td>0.054660</td>\n",
       "    </tr>\n",
       "    <tr>\n",
       "      <th>7</th>\n",
       "      <td>0.505711</td>\n",
       "      <td>0.146879</td>\n",
       "      <td>0.132481</td>\n",
       "      <td>0.087413</td>\n",
       "      <td>0.468893</td>\n",
       "      <td>0.841021</td>\n",
       "      <td>0.008547</td>\n",
       "      <td>0.766000</td>\n",
       "      <td>0.520554</td>\n",
       "      <td>0.153011</td>\n",
       "    </tr>\n",
       "    <tr>\n",
       "      <th>8</th>\n",
       "      <td>0.188063</td>\n",
       "      <td>0.730680</td>\n",
       "      <td>0.820042</td>\n",
       "      <td>0.001094</td>\n",
       "      <td>0.734928</td>\n",
       "      <td>0.525328</td>\n",
       "      <td>0.414754</td>\n",
       "      <td>0.895966</td>\n",
       "      <td>0.134007</td>\n",
       "      <td>0.707739</td>\n",
       "    </tr>\n",
       "    <tr>\n",
       "      <th>9</th>\n",
       "      <td>0.197008</td>\n",
       "      <td>0.470113</td>\n",
       "      <td>0.459806</td>\n",
       "      <td>0.784453</td>\n",
       "      <td>0.798315</td>\n",
       "      <td>0.270920</td>\n",
       "      <td>0.777536</td>\n",
       "      <td>0.864515</td>\n",
       "      <td>0.034132</td>\n",
       "      <td>0.478453</td>\n",
       "    </tr>\n",
       "  </tbody>\n",
       "</table>\n",
       "</div>"
      ],
      "text/plain": [
       "          0         1         2         3         4         5         6  \\\n",
       "0  0.245712  0.037203  0.580942  0.868591  0.450839  0.019332  0.474156   \n",
       "1  0.458620  0.673569  0.702974  0.574135  0.413590  0.535259  0.749459   \n",
       "2  0.956952  0.046424  0.246616  0.904610  0.093465  0.372178  0.705437   \n",
       "3  0.283044  0.216251  0.093299  0.720375  0.713038  0.380102  0.253251   \n",
       "4  0.336100  0.091247  0.403522  0.290011  0.474667  0.781729  0.276244   \n",
       "5  0.757662  0.867170  0.419666  0.446900  0.162172  0.698573  0.055458   \n",
       "6  0.039678  0.102826  0.327672  0.513742  0.227006  0.769327  0.521846   \n",
       "7  0.505711  0.146879  0.132481  0.087413  0.468893  0.841021  0.008547   \n",
       "8  0.188063  0.730680  0.820042  0.001094  0.734928  0.525328  0.414754   \n",
       "9  0.197008  0.470113  0.459806  0.784453  0.798315  0.270920  0.777536   \n",
       "\n",
       "          7         8         9  \n",
       "0  0.522755  0.310662  0.497705  \n",
       "1  0.312665  0.668747  0.880950  \n",
       "2  0.836618  0.254034  0.171453  \n",
       "3  0.694433  0.542765  0.395390  \n",
       "4  0.800076  0.025960  0.533593  \n",
       "5  0.425394  0.957270  0.072171  \n",
       "6  0.446913  0.468475  0.054660  \n",
       "7  0.766000  0.520554  0.153011  \n",
       "8  0.895966  0.134007  0.707739  \n",
       "9  0.864515  0.034132  0.478453  "
      ]
     },
     "execution_count": 53,
     "metadata": {},
     "output_type": "execute_result"
    }
   ],
   "source": [
    "import numpy as np\n",
    "\n",
    "matrix = np.random.random((10, 10))\n",
    "\n",
    "pd_matrix = pd.DataFrame(data=matrix)\n",
    "\n",
    "pd_matrix"
   ]
  },
  {
   "cell_type": "code",
   "execution_count": 54,
   "metadata": {},
   "outputs": [
    {
     "data": {
      "text/plain": [
       "array([[0.245712  , 0.03720307, 0.58094173, 0.86859062, 0.45083903,\n",
       "        0.01933194, 0.47415631, 0.52275535, 0.3106624 , 0.49770454],\n",
       "       [0.45862033, 0.67356859, 0.70297385, 0.57413517, 0.4135902 ,\n",
       "        0.53525875, 0.7494592 , 0.3126648 , 0.66874673, 0.88094981],\n",
       "       [0.95695184, 0.04642446, 0.24661616, 0.90460992, 0.09346467,\n",
       "        0.37217777, 0.70543722, 0.83661843, 0.25403395, 0.17145323],\n",
       "       [0.28304352, 0.21625119, 0.0932993 , 0.72037532, 0.71303837,\n",
       "        0.38010158, 0.25325118, 0.69443276, 0.54276483, 0.39538971],\n",
       "       [0.33610045, 0.09124732, 0.4035224 , 0.2900107 , 0.47466655,\n",
       "        0.78172935, 0.27624375, 0.80007631, 0.02596011, 0.53359339],\n",
       "       [0.75766246, 0.86717023, 0.41966579, 0.44690011, 0.16217153,\n",
       "        0.69857319, 0.0554579 , 0.42539397, 0.95727034, 0.07217068],\n",
       "       [0.03967793, 0.1028258 , 0.32767173, 0.51374152, 0.22700639,\n",
       "        0.76932675, 0.52184564, 0.44691333, 0.46847474, 0.05465985],\n",
       "       [0.50571125, 0.14687948, 0.13248093, 0.0874133 , 0.46889317,\n",
       "        0.84102053, 0.00854676, 0.76600005, 0.52055427, 0.15301115],\n",
       "       [0.1880627 , 0.73067979, 0.82004169, 0.00109428, 0.73492844,\n",
       "        0.52532814, 0.41475426, 0.895966  , 0.13400683, 0.70773893],\n",
       "       [0.19700838, 0.47011266, 0.45980608, 0.78445299, 0.79831453,\n",
       "        0.27091996, 0.77753583, 0.86451471, 0.03413154, 0.47845337]])"
      ]
     },
     "execution_count": 54,
     "metadata": {},
     "output_type": "execute_result"
    }
   ],
   "source": [
    "matrix = pd_matrix.values\n",
    "\n",
    "matrix"
   ]
  }
 ],
 "metadata": {
  "kernelspec": {
   "display_name": "Python 3",
   "language": "python",
   "name": "python3"
  },
  "language_info": {
   "codemirror_mode": {
    "name": "ipython",
    "version": 3
   },
   "file_extension": ".py",
   "mimetype": "text/x-python",
   "name": "python",
   "nbconvert_exporter": "python",
   "pygments_lexer": "ipython3",
   "version": "3.6.9"
  }
 },
 "nbformat": 4,
 "nbformat_minor": 2
}
